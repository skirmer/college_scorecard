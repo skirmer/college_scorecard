{
 "cells": [
  {
   "cell_type": "code",
   "execution_count": 1,
   "id": "floppy-basement",
   "metadata": {
    "execution": {
     "iopub.execute_input": "2021-05-20T15:28:26.698945Z",
     "iopub.status.busy": "2021-05-20T15:28:26.698761Z",
     "iopub.status.idle": "2021-05-20T15:28:28.002662Z",
     "shell.execute_reply": "2021-05-20T15:28:28.002145Z",
     "shell.execute_reply.started": "2021-05-20T15:28:26.698897Z"
    }
   },
   "outputs": [],
   "source": [
    "\n",
    "import ipywidgets as widgets\n",
    "import matplotlib as mpl\n",
    "import pandas as pd\n",
    "import random\n",
    "import itertools\n",
    "from matplotlib import colors\n",
    "\n",
    "import os\n",
    "import pandas as pd\n",
    "import numpy as np\n",
    "import dask.dataframe as dd\n",
    "from dask.distributed import wait \n",
    "import dask\n",
    "from dask_saturn import SaturnCluster\n",
    "from dask.distributed import Client\n",
    "\n",
    "import matplotlib.pyplot as plt\n",
    "import json\n",
    "import datetime\n",
    "import re\n",
    "\n",
    "import bokeh as bk\n",
    "from bokeh.io import show, output_notebook\n",
    "from bokeh.plotting import figure\n",
    "\n",
    "from sklearn.preprocessing import OneHotEncoder\n",
    "from sklearn import linear_model\n"
   ]
  },
  {
   "cell_type": "code",
   "execution_count": 2,
   "id": "injured-smooth",
   "metadata": {
    "execution": {
     "iopub.execute_input": "2021-05-20T15:28:28.003720Z",
     "iopub.status.busy": "2021-05-20T15:28:28.003550Z",
     "iopub.status.idle": "2021-05-20T15:28:28.022081Z",
     "shell.execute_reply": "2021-05-20T15:28:28.021641Z",
     "shell.execute_reply.started": "2021-05-20T15:28:28.003701Z"
    }
   },
   "outputs": [],
   "source": [
    "from sklearn.model_selection import train_test_split\n",
    "from sklearn.experimental import enable_iterative_imputer\n",
    "from sklearn.impute import SimpleImputer, IterativeImputer\n",
    "from sklearn.preprocessing import KBinsDiscretizer\n",
    "from sklearn.pipeline import Pipeline\n",
    "from sklearn.compose import ColumnTransformer\n",
    "\n",
    "def split_data(df):\n",
    "    \n",
    "    X = df[['SAT_AVG_ALL','cip_cat','CREDDESC',\n",
    "            'CONTROL', 'REGION', 'tuition', 'LOCALE', 'ADM_RATE_ALL']]\n",
    "    y = df[['EARN_MDN_HI_2YR']]\n",
    "    \n",
    "    return [X, y]\n",
    "\n",
    "def trainmodel(X, y):\n",
    "    enc = OneHotEncoder(handle_unknown='ignore', sparse = False)\n",
    "    imp = IterativeImputer(max_iter=10, random_state=0, initial_strategy='mean', add_indicator = True)\n",
    "    est = KBinsDiscretizer(n_bins=3, encode='ordinal', strategy='quantile')\n",
    "\n",
    "    X_train, X_test, y_train, y_test = train_test_split(X, y, test_size=0.15, random_state=42)\n",
    "\n",
    "    ct = ColumnTransformer(\n",
    "        [('onehot', enc, ['CONTROL','cip_cat','CREDDESC','REGION', 'LOCALE']),\n",
    "        ('impute', imp, ['SAT_AVG_ALL', 'ADM_RATE_ALL'])], \n",
    "        remainder='passthrough' \n",
    "    )\n",
    "\n",
    "    pipe = Pipeline(steps=[('coltrans', ct), ('linear', linear_model.LinearRegression())])\n",
    "    pipe = pipe.fit(X_train, y_train) \n",
    "    \n",
    "    return(pipe, pipe.score(X_test,y_test))"
   ]
  },
  {
   "cell_type": "code",
   "execution_count": 3,
   "id": "quality-planet",
   "metadata": {
    "execution": {
     "iopub.execute_input": "2021-05-20T15:28:28.023220Z",
     "iopub.status.busy": "2021-05-20T15:28:28.023063Z",
     "iopub.status.idle": "2021-05-20T15:28:29.909570Z",
     "shell.execute_reply": "2021-05-20T15:28:29.908989Z",
     "shell.execute_reply.started": "2021-05-20T15:28:28.023201Z"
    }
   },
   "outputs": [],
   "source": [
    "# Load data to get feature values\n",
    "import s3fs\n",
    "s3 = s3fs.S3FileSystem(anon=True)\n",
    "s3fpath = 's3://saturn-public-data/college-scorecard/cleaned_merged.csv'\n",
    "\n",
    "major = pd.read_csv(\n",
    "    s3fpath,\n",
    "    storage_options={'anon': True},\n",
    "    dtype = 'object',\n",
    "    na_values = ['PrivacySuppressed']\n",
    ")\n",
    "\n",
    "creds = sorted(list(major['CREDDESC'].unique()))"
   ]
  },
  {
   "cell_type": "code",
   "execution_count": 4,
   "id": "opposite-conflict",
   "metadata": {
    "execution": {
     "iopub.execute_input": "2021-05-20T15:28:29.910794Z",
     "iopub.status.busy": "2021-05-20T15:28:29.910547Z",
     "iopub.status.idle": "2021-05-20T15:28:29.913954Z",
     "shell.execute_reply": "2021-05-20T15:28:29.913491Z",
     "shell.execute_reply.started": "2021-05-20T15:28:29.910773Z"
    }
   },
   "outputs": [],
   "source": [
    "reg = [('U.S. Service Schools', '0'),\n",
    "('New England (CT, ME, MA, NH, RI, VT)','1'),\n",
    "('Mid East (DE, DC, MD, NJ, NY, PA)', '2'),\n",
    "('Great Lakes (IL, IN, MI, OH, WI)', '3'),\n",
    "('Plains (IA, KS, MN, MO, NE, ND, SD)', '4'),\n",
    "('Southeast (AL, AR, FL, GA, KY, LA, MS, NC, SC, TN, VA, WV)', '5'),\n",
    "('Southwest (AZ, NM, OK, TX)', '6'),\n",
    "('Rocky Mountains (CO, ID, MT, UT, WY)', '7'),\n",
    "('Far West (AK, CA, HI, NV, OR, WA)', '8'),\n",
    "('Outlying Areas (AS, FM, GU, MH, MP, PR, PW, VI)', '9')]\n",
    "\n",
    "coltype = ['Public',\n",
    "'Private nonprofit',\n",
    "'Private for-profit']\n"
   ]
  },
  {
   "cell_type": "code",
   "execution_count": 5,
   "id": "waiting-tracker",
   "metadata": {
    "execution": {
     "iopub.execute_input": "2021-05-20T15:28:29.914807Z",
     "iopub.status.busy": "2021-05-20T15:28:29.914651Z",
     "iopub.status.idle": "2021-05-20T15:28:29.919970Z",
     "shell.execute_reply": "2021-05-20T15:28:29.919538Z",
     "shell.execute_reply.started": "2021-05-20T15:28:29.914788Z"
    }
   },
   "outputs": [],
   "source": [
    "locs = [\n",
    "('City: Large (population of 250,000 or more)', '11')\n",
    ",('City: Midsize (population of at least 100,000 but less than 250,000)', '12')\n",
    ",('City: Small (population less than 100,000)', '13')\n",
    ",('Suburb: Large (outside principal city, in urbanized area with population of 250,000 or more)', '21')\n",
    ",('Suburb: Midsize (outside principal city, in urbanized area with population of at least 100,000 but less than 250,000)', '22')\n",
    ",('Suburb: Small (outside principal city, in urbanized area with population less than 100,000)', '23')\n",
    ",('Town: Fringe (in urban cluster up to 10 miles from an urbanized area)', '31')\n",
    ",('Town: Distant (in urban cluster more than 10 miles and up to 35 miles from an urbanized area)', '32')\n",
    ",('Town: Remote (in urban cluster more than 35 miles from an urbanized area)', '33')\n",
    ",('Rural: Fringe (rural territory up to 5 miles from an urbanized area or up to 2.5 miles from an urban cluster)', '41')\n",
    ",('Rural: Distant (rural territory more than 5 miles but up to 25 miles from an urbanized area or more than 2.5 and up to 10 miles from an urban cluster)', '42')\n",
    ",('Rural: Remote (rural territory more than 25 miles from an urbanized area and more than 10 miles from an urban cluster)', '43')\n",
    "]"
   ]
  },
  {
   "cell_type": "code",
   "execution_count": 6,
   "id": "through-gardening",
   "metadata": {
    "execution": {
     "iopub.execute_input": "2021-05-20T15:28:29.920782Z",
     "iopub.status.busy": "2021-05-20T15:28:29.920629Z",
     "iopub.status.idle": "2021-05-20T15:28:29.926583Z",
     "shell.execute_reply": "2021-05-20T15:28:29.926132Z",
     "shell.execute_reply.started": "2021-05-20T15:28:29.920764Z"
    }
   },
   "outputs": [],
   "source": [
    "cipcats = [\n",
    "('AGRICULTURE, AGRICULTURE OPERATIONS, AND RELATED SCIENCES', '01'),\n",
    " ('NATURAL RESOURCES AND CONSERVATION', '03'),\n",
    " ('ARCHITECTURE AND RELATED SERVICES', '04'),\n",
    " ('AREA, ETHNIC, CULTURAL, AND GENDER STUDIES', '05'),\n",
    " ('COMMUNICATION, JOURNALISM, AND RELATED PROGRAMS', '09'),\n",
    " ('COMMUNICATIONS TECHNOLOGIES/TECHNICIANS AND SUPPORT SERVICES', '10'),\n",
    " ('COMPUTER AND INFORMATION SCIENCES AND SUPPORT SERVICES', '11'),\n",
    " ('PERSONAL AND CULINARY SERVICES', '12'),\n",
    " ('EDUCATION', '13'),\n",
    " ('ENGINEERING', '14'),\n",
    " ('ENGINEERING TECHNOLOGIES/TECHNICIANS', '15'),\n",
    " ('FOREIGN LANGUAGES, LITERATURES, AND LINGUISTICS', '16'),\n",
    " ('FAMILY AND CONSUMER SCIENCES/HUMAN SCIENCES', '19'),\n",
    " ('LEGAL PROFESSIONS AND STUDIES', '22'),\n",
    " ('ENGLISH LANGUAGE AND LITERATURE/LETTERS', '23'),\n",
    " ('LIBERAL ARTS AND SCIENCES, GENERAL STUDIES AND HUMANITIES', '24'),\n",
    " ('LIBRARY SCIENCE', '25'),\n",
    " ('BIOLOGICAL AND BIOMEDICAL SCIENCES', '26'),\n",
    " ('MATHEMATICS AND STATISTICS', '27'),\n",
    " ('RESERVE OFFICER TRAINING CORPS (JROTC, ROTC', '28'),\n",
    " ('MILITARY TECHNOLOGIES', '29'),\n",
    " ('MULTI/INTERDISCIPLINARY STUDIES', '30'),\n",
    " ('PARKS, RECREATION, LEISURE, AND FITNESS STUDIES', '31'),\n",
    " ('BASIC SKILLS', '32'),\n",
    " ('CITIZENSHIP ACTIVITIES', '33'),\n",
    " ('HEALTH-RELATED KNOWLEDGE AND SKILLS', '34'),\n",
    " ('INTERPERSONAL AND SOCIAL SKILLS', '35'),\n",
    " ('LEISURE AND RECREATIONAL ACTIVITIES', '36'),\n",
    " ('PERSONAL AWARENESS AND SELF-IMPROVEMENT', '37'),\n",
    " ('PHILOSOPHY AND RELIGIOUS STUDIES', '38'),\n",
    " ('THEOLOGY AND RELIGIOUS VOCATIONS', '39'),\n",
    " ('PHYSICAL SCIENCES', '40'),\n",
    " ('SCIENCE TECHNOLOGIES/TECHNICIANS', '41'),\n",
    " ('PSYCHOLOGY', '42'),\n",
    " ('SECURITY AND PROTECTIVE SERVICES', '43'),\n",
    " ('PUBLIC ADMINISTRATION AND SOCIAL SERVICE PROFESSIONS', '44'),\n",
    " ('SOCIAL SCIENCES', '45'),\n",
    " ('CONSTRUCTION TRADES', '46'),\n",
    " ('MECHANIC AND REPAIR TECHNOLOGIES/TECHNICIANS', '47'),\n",
    " ('PRECISION PRODUCTION', '48'),\n",
    " ('TRANSPORTATION AND MATERIALS MOVING', '49'),\n",
    " ('VISUAL AND PERFORMING ARTS', '50'),\n",
    " ('HEALTH PROFESSIONS AND RELATED CLINICAL SCIENCES', '51'),\n",
    " ('BUSINESS, MANAGEMENT, MARKETING, AND RELATED SUPPORT SERVICES', '52'),\n",
    " ('HIGH SCHOOL/SECONDARY DIPLOMAS AND CERTIFICATES', '53'),\n",
    " ('HISTORY', '54'),\n",
    " ('Residency Programs', '60')]"
   ]
  },
  {
   "cell_type": "code",
   "execution_count": 7,
   "id": "rental-triumph",
   "metadata": {
    "execution": {
     "iopub.execute_input": "2021-05-20T15:28:29.927366Z",
     "iopub.status.busy": "2021-05-20T15:28:29.927213Z",
     "iopub.status.idle": "2021-05-20T15:28:30.565151Z",
     "shell.execute_reply": "2021-05-20T15:28:30.564585Z",
     "shell.execute_reply.started": "2021-05-20T15:28:29.927348Z"
    }
   },
   "outputs": [],
   "source": [
    "X, y = split_data(major)\n",
    "modobj, modscore = trainmodel(X, y)\n"
   ]
  },
  {
   "cell_type": "code",
   "execution_count": 15,
   "id": "artificial-borough",
   "metadata": {
    "execution": {
     "iopub.execute_input": "2021-05-20T15:48:40.558051Z",
     "iopub.status.busy": "2021-05-20T15:48:40.557825Z",
     "iopub.status.idle": "2021-05-20T15:48:40.640239Z",
     "shell.execute_reply": "2021-05-20T15:48:40.639767Z",
     "shell.execute_reply.started": "2021-05-20T15:48:40.558028Z"
    }
   },
   "outputs": [],
   "source": [
    "sat= widgets.BoundedIntText(\n",
    "    value=800,\n",
    "    min=0,\n",
    "    max=1600,\n",
    "    step=1,\n",
    "    description='SAT Score:',\n",
    "    disabled=False\n",
    ")\n",
    "\n",
    "tuit = widgets.BoundedIntText(\n",
    "    value=15000,\n",
    "    min=min(round(major['tuition'].astype(float), 0)),\n",
    "    max=max(round(major['tuition'].astype(float), 0)),\n",
    "    step=1,\n",
    "    description='Cost of attendance, USD:',\n",
    "    disabled=False,\n",
    "    style = {'description_width': 'initial'}\n",
    ")\n",
    "\n",
    "adm = widgets.BoundedFloatText(\n",
    "    value=.3,\n",
    "    min=min(major['ADM_RATE_ALL'].astype(float)),\n",
    "    max=max(major['ADM_RATE_ALL'].astype(float)),\n",
    "    step=.01,\n",
    "    description='Admission rate:',\n",
    "    disabled=False,\n",
    "    style = {'description_width': 'initial'}\n",
    ")\n",
    "\n",
    "cipfields = widgets.Dropdown(\n",
    "    options=cipcats,\n",
    "    value='01',\n",
    "    description='Major:',\n",
    "    disabled=False\n",
    ")\n",
    "\n",
    "coltype = widgets.Dropdown(\n",
    "    options=['Public','Private nonprofit','Private for-profit'],\n",
    "    value='Public',\n",
    "    description='College Type:',\n",
    "    disabled=False,\n",
    "    style = {'description_width': 'initial'}\n",
    ")\n",
    "\n",
    "credential = widgets.Dropdown(\n",
    "    options=creds,\n",
    "    value='Bachelors Degree',\n",
    "    description='Credential:',\n",
    "    disabled=False,\n",
    ")\n",
    "\n",
    "region = widgets.Dropdown(\n",
    "    options=reg,\n",
    "    value='1',\n",
    "    description='Region:',\n",
    "    disabled=False,\n",
    ")\n",
    "\n",
    "locale = widgets.Dropdown(\n",
    "    options=locs,\n",
    "    value='11',\n",
    "    description='Locale:',\n",
    "    disabled=False,\n",
    ")\n"
   ]
  },
  {
   "cell_type": "code",
   "execution_count": 10,
   "id": "surrounded-judges",
   "metadata": {
    "execution": {
     "iopub.execute_input": "2021-05-20T15:28:30.659197Z",
     "iopub.status.busy": "2021-05-20T15:28:30.658968Z",
     "iopub.status.idle": "2021-05-20T15:28:30.681894Z",
     "shell.execute_reply": "2021-05-20T15:28:30.681421Z",
     "shell.execute_reply.started": "2021-05-20T15:28:30.659177Z"
    }
   },
   "outputs": [],
   "source": [
    "\n",
    "def tester(sat, cipfields, credpick, coltype,\n",
    "           region, tuit, modscore, locale, adm):\n",
    "    \n",
    "    print(f\"Model Rating: {modscore}\")\n",
    "    \n",
    "    print(f'Selected SAT Score: {sat}')\n",
    "    print(f'Selected Major Field: {cipfields}')\n",
    "    print(f'Region: {region}')\n",
    "    print(f'Selected Credential: {credpick}')\n",
    "    print(f'Cost: {tuit}')\n",
    "    print(f'Locale: {locale}')\n",
    "    print(f'Admit Rate:{adm}')\n",
    "    print(f'College Type: {coltype}')\n",
    "    \n",
    "    newdf = pd.DataFrame( \n",
    "                 [[sat, cipfields,\n",
    "                  credpick, coltype, \n",
    "                  region, tuit, locale, adm]],\n",
    "        \n",
    "    columns = ['SAT_AVG_ALL','cip_cat',\n",
    "                 'CREDDESC', 'CONTROL',\n",
    "                 'REGION', 'tuition', 'LOCALE','ADM_RATE_ALL'])\n",
    "\n",
    "    [[prediction]] = modobj.predict(newdf)\n",
    "    print(f'Predicted Median Earnings 2 years after grad: ${round(prediction, 3)}')\n",
    "    \n",
    "sat_view = widgets.interactive(\n",
    "    tester, \n",
    "    sat=sat, \n",
    "    region=region,\n",
    "    cipfields = cipfields,\n",
    "    coltype=coltype,\n",
    "    credpick=credential,\n",
    "    locale=locale,\n",
    "    tuit=tuit,\n",
    "    adm=adm,\n",
    "    modscore=modscore)\n",
    "\n",
    "grid = widgets.GridspecLayout(1, 1,\n",
    "    layout=widgets.Layout(justify_content='center'))\n",
    "grid[0, 0] = sat_view"
   ]
  },
  {
   "cell_type": "code",
   "execution_count": 11,
   "id": "virtual-archive",
   "metadata": {
    "execution": {
     "iopub.execute_input": "2021-05-20T15:28:30.682662Z",
     "iopub.status.busy": "2021-05-20T15:28:30.682515Z",
     "iopub.status.idle": "2021-05-20T15:28:30.685198Z",
     "shell.execute_reply": "2021-05-20T15:28:30.684698Z",
     "shell.execute_reply.started": "2021-05-20T15:28:30.682644Z"
    }
   },
   "outputs": [],
   "source": [
    "\n",
    "title_html = \"\"\"\n",
    "<h2>Predict Earnings by College Choices</h2>\n",
    "In this model, several characteristics are used to predict median earnings two years after degree completion.\n",
    "\n",
    "<ul style=\"line-height: 1.5\">\n",
    "    <li>Geographic location of college</li>\n",
    "    <li>Type of college (public/private/for-profit, size)</li>\n",
    "    <li>Major field of study (CIP code)</li>\n",
    "    <li>Credential (Bachelor, Master, etc)</li>\n",
    "    <li>Admission rate</li>\n",
    "    <li>Average SAT score for admitted students (proxy for college prestige)</li>\n",
    "</ul>\n",
    "\n",
    "Using these features, a linear regression is able to very closely predict the median earnings for a graduate. Try it and see!\n",
    "\"\"\""
   ]
  },
  {
   "cell_type": "code",
   "execution_count": 12,
   "id": "younger-administration",
   "metadata": {
    "execution": {
     "iopub.execute_input": "2021-05-20T15:28:30.685927Z",
     "iopub.status.busy": "2021-05-20T15:28:30.685783Z",
     "iopub.status.idle": "2021-05-20T15:28:30.697124Z",
     "shell.execute_reply": "2021-05-20T15:28:30.696655Z",
     "shell.execute_reply.started": "2021-05-20T15:28:30.685911Z"
    }
   },
   "outputs": [],
   "source": [
    "app_contents = [widgets.HTML(title_html, layout=widgets.Layout(margin='0 0 3em 0', max_width='1000px')), grid]\n",
    "app = widgets.VBox(app_contents, layout=widgets.Layout(max_width='1024px', margin='0 auto 0 auto'))"
   ]
  },
  {
   "cell_type": "code",
   "execution_count": 13,
   "id": "therapeutic-truck",
   "metadata": {
    "execution": {
     "iopub.execute_input": "2021-05-20T15:28:30.697874Z",
     "iopub.status.busy": "2021-05-20T15:28:30.697727Z",
     "iopub.status.idle": "2021-05-20T15:28:30.718893Z",
     "shell.execute_reply": "2021-05-20T15:28:30.718401Z",
     "shell.execute_reply.started": "2021-05-20T15:28:30.697857Z"
    }
   },
   "outputs": [
    {
     "data": {
      "application/vnd.jupyter.widget-view+json": {
       "model_id": "7540a6b571bc42b5ba268d8176379a6c",
       "version_major": 2,
       "version_minor": 0
      },
      "text/plain": [
       "VBox(children=(HTML(value='\\n<h2>Predict Earnings by College Choices</h2>\\nIn this model, several characterist…"
      ]
     },
     "metadata": {},
     "output_type": "display_data"
    }
   ],
   "source": [
    "display(app)"
   ]
  }
 ],
 "metadata": {
  "kernelspec": {
   "display_name": "saturn (Python 3)",
   "language": "python",
   "name": "python3"
  },
  "language_info": {
   "codemirror_mode": {
    "name": "ipython",
    "version": 3
   },
   "file_extension": ".py",
   "mimetype": "text/x-python",
   "name": "python",
   "nbconvert_exporter": "python",
   "pygments_lexer": "ipython3",
   "version": "3.7.10"
  }
 },
 "nbformat": 4,
 "nbformat_minor": 5
}
