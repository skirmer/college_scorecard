{
 "cells": [
  {
   "cell_type": "code",
   "execution_count": 1,
   "id": "communist-circuit",
   "metadata": {
    "execution": {
     "iopub.execute_input": "2021-05-20T19:05:13.009516Z",
     "iopub.status.busy": "2021-05-20T19:05:13.009262Z",
     "iopub.status.idle": "2021-05-20T19:05:14.247276Z",
     "shell.execute_reply": "2021-05-20T19:05:14.246704Z",
     "shell.execute_reply.started": "2021-05-20T19:05:13.009475Z"
    }
   },
   "outputs": [],
   "source": [
    "import os\n",
    "import pandas as pd\n",
    "import numpy as np\n",
    "import dask.dataframe as dd\n",
    "from dask.distributed import wait \n",
    "import dask\n",
    "from dask_saturn import SaturnCluster\n",
    "from dask.distributed import Client\n",
    "\n",
    "import matplotlib.pyplot as plt\n",
    "import json\n",
    "import datetime\n",
    "import re\n",
    "\n",
    "import bokeh as bk\n",
    "from bokeh.io import show, output_notebook\n",
    "from bokeh.plotting import figure\n",
    "\n",
    "from sklearn.preprocessing import OneHotEncoder\n",
    "from sklearn import linear_model\n"
   ]
  },
  {
   "cell_type": "code",
   "execution_count": 2,
   "id": "ethical-termination",
   "metadata": {
    "execution": {
     "iopub.execute_input": "2021-05-20T19:05:14.248417Z",
     "iopub.status.busy": "2021-05-20T19:05:14.248244Z",
     "iopub.status.idle": "2021-05-20T19:05:15.560838Z",
     "shell.execute_reply": "2021-05-20T19:05:15.560315Z",
     "shell.execute_reply.started": "2021-05-20T19:05:14.248397Z"
    }
   },
   "outputs": [
    {
     "name": "stderr",
     "output_type": "stream",
     "text": [
      "INFO:dask-saturn:Cluster is ready\n",
      "INFO:dask-saturn:Registering default plugins\n",
      "INFO:dask-saturn:{'tcp://192.168.111.195:45089': {'status': 'repeat'}, 'tcp://192.168.157.131:40977': {'status': 'repeat'}, 'tcp://192.168.164.3:34661': {'status': 'repeat'}, 'tcp://192.168.253.131:34157': {'status': 'repeat'}, 'tcp://192.168.72.67:43023': {'status': 'repeat'}}\n"
     ]
    },
    {
     "data": {
      "text/html": [
       "<table style=\"border: 2px solid white;\">\n",
       "<tr>\n",
       "<td style=\"vertical-align: top; border: 0px solid white\">\n",
       "<h3 style=\"text-align: left;\">Client</h3>\n",
       "<ul style=\"text-align: left; list-style: none; margin: 0; padding: 0;\">\n",
       "  <li><b>Scheduler: </b>tcp://d-steph-college-scorecard-proj-f647d66a9d5341e1bf4679ed4dc68db3.main-namespace:8786</li>\n",
       "  <li><b>Dashboard: </b><a href='https://d-steph-college-scorecard-proj-f647d66a9d5341e1bf4679ed4dc68db3.internal.saturnenterprise.io' target='_blank'>https://d-steph-college-scorecard-proj-f647d66a9d5341e1bf4679ed4dc68db3.internal.saturnenterprise.io</a></li>\n",
       "</ul>\n",
       "</td>\n",
       "<td style=\"vertical-align: top; border: 0px solid white\">\n",
       "<h3 style=\"text-align: left;\">Cluster</h3>\n",
       "<ul style=\"text-align: left; list-style:none; margin: 0; padding: 0;\">\n",
       "  <li><b>Workers: </b>5</li>\n",
       "  <li><b>Cores: </b>80</li>\n",
       "  <li><b>Memory: </b>637.50 GB</li>\n",
       "</ul>\n",
       "</td>\n",
       "</tr>\n",
       "</table>"
      ],
      "text/plain": [
       "<Client: 'tcp://192.168.50.67:8786' processes=5 threads=80, memory=637.50 GB>"
      ]
     },
     "execution_count": 2,
     "metadata": {},
     "output_type": "execute_result"
    }
   ],
   "source": [
    "cluster = SaturnCluster()\n",
    "client = Client(cluster)\n",
    "client.restart()"
   ]
  },
  {
   "cell_type": "code",
   "execution_count": 3,
   "id": "lonely-tennis",
   "metadata": {
    "execution": {
     "iopub.execute_input": "2021-05-20T19:05:15.563917Z",
     "iopub.status.busy": "2021-05-20T19:05:15.563745Z",
     "iopub.status.idle": "2021-05-20T19:05:17.273087Z",
     "shell.execute_reply": "2021-05-20T19:05:17.272540Z",
     "shell.execute_reply.started": "2021-05-20T19:05:15.563897Z"
    }
   },
   "outputs": [
    {
     "name": "stdout",
     "output_type": "stream",
     "text": [
      "CPU times: user 390 ms, sys: 73.9 ms, total: 464 ms\n",
      "Wall time: 1.7 s\n"
     ]
    }
   ],
   "source": [
    "%%time\n",
    "\n",
    "import s3fs\n",
    "s3 = s3fs.S3FileSystem(anon=True)\n",
    "s3fpath = 's3://saturn-public-data/college-scorecard/Most-Recent-Cohorts-Field-of-Study.csv'\n",
    "\n",
    "major = dd.read_csv(\n",
    "    s3fpath,\n",
    "    usecols = ['UNITID','OPEID6','INSTNM','CONTROL','MAIN','CIPCODE',\n",
    "               'CIPDESC','CREDLEV','CREDDESC','EARN_MDN_HI_2YR'],\n",
    "    storage_options={'anon': True},\n",
    "    dtype = 'object',\n",
    "    na_values = ['PrivacySuppressed'],\n",
    "    assume_missing=False\n",
    ")\n",
    "\n",
    "s3fpath2 = 's3://saturn-public-data/college-scorecard/Most-Recent-Cohorts-All-Data-Elements.csv'\n",
    "\n",
    "inst = dd.read_csv(\n",
    "    s3fpath2,\n",
    "    storage_options={'anon': True},\n",
    "    dtype = 'object',\n",
    "    na_values = ['PrivacySuppressed', -2],\n",
    "    assume_missing=False\n",
    ")\n",
    "\n",
    "# target: MD_EARN_WNE_P8"
   ]
  },
  {
   "cell_type": "markdown",
   "id": "saved-deployment",
   "metadata": {},
   "source": [
    "# Model concept\n",
    "\n",
    "Predict income x years in future for graduates?\n",
    "Median Earnings 10 Years after Matriculation\n",
    "\n",
    "given: x features of college, choose a major, then return median 10 years out.\n",
    "\n",
    "Feature ideas:\n",
    "* incoming sat/act\n",
    "* admission rate\n",
    "* college type (private/public/nonprofit)\n",
    "* annual tuition\n",
    "\n",
    "\n",
    "Deploy model, then give an interpretability dashboard?\n"
   ]
  },
  {
   "cell_type": "markdown",
   "id": "southwest-biodiversity",
   "metadata": {},
   "source": [
    "## Minimal MVP Model"
   ]
  },
  {
   "cell_type": "code",
   "execution_count": 4,
   "id": "wound-postcard",
   "metadata": {
    "execution": {
     "iopub.execute_input": "2021-05-20T19:05:17.273996Z",
     "iopub.status.busy": "2021-05-20T19:05:17.273826Z",
     "iopub.status.idle": "2021-05-20T19:05:17.278016Z",
     "shell.execute_reply": "2021-05-20T19:05:17.277551Z",
     "shell.execute_reply.started": "2021-05-20T19:05:17.273976Z"
    }
   },
   "outputs": [],
   "source": [
    "inst2 = inst[['STABBR','HIGHDEG','REGION','LOCALE','CCSIZSET','ADM_RATE',\n",
    "      'ADM_RATE_ALL','SAT_AVG','SAT_AVG_ALL','UGDS','NPT4_PUB','NPT4_PRIV',\n",
    "      'TUITIONFEE_IN','TUITIONFEE_OUT','PFTFAC','MEDIAN_HH_INC',\n",
    "     'UNITID','OPEID','OPEID6','INSTNM','CITY','ZIP']]"
   ]
  },
  {
   "cell_type": "code",
   "execution_count": 5,
   "id": "earned-mailman",
   "metadata": {
    "execution": {
     "iopub.execute_input": "2021-05-20T19:05:17.278824Z",
     "iopub.status.busy": "2021-05-20T19:05:17.278668Z",
     "iopub.status.idle": "2021-05-20T19:05:17.310392Z",
     "shell.execute_reply": "2021-05-20T19:05:17.309916Z",
     "shell.execute_reply.started": "2021-05-20T19:05:17.278804Z"
    }
   },
   "outputs": [],
   "source": [
    "newdf2 = dd.merge(\n",
    "    major,\n",
    "    inst2,\n",
    "    how=\"left\",\n",
    "    on=['UNITID', 'OPEID6', 'INSTNM'],\n",
    "    suffixes=(\"_maj\", \"_inst\")\n",
    ")"
   ]
  },
  {
   "cell_type": "code",
   "execution_count": 6,
   "id": "sophisticated-familiar",
   "metadata": {
    "execution": {
     "iopub.execute_input": "2021-05-20T19:05:17.311332Z",
     "iopub.status.busy": "2021-05-20T19:05:17.311103Z",
     "iopub.status.idle": "2021-05-20T19:05:17.316076Z",
     "shell.execute_reply": "2021-05-20T19:05:17.315616Z",
     "shell.execute_reply.started": "2021-05-20T19:05:17.311308Z"
    }
   },
   "outputs": [],
   "source": [
    "newdf2 = newdf2.repartition(30)"
   ]
  },
  {
   "cell_type": "code",
   "execution_count": 7,
   "id": "hybrid-approach",
   "metadata": {
    "execution": {
     "iopub.execute_input": "2021-05-20T19:05:17.316862Z",
     "iopub.status.busy": "2021-05-20T19:05:17.316708Z",
     "iopub.status.idle": "2021-05-20T19:05:17.321991Z",
     "shell.execute_reply": "2021-05-20T19:05:17.321561Z",
     "shell.execute_reply.started": "2021-05-20T19:05:17.316843Z"
    }
   },
   "outputs": [
    {
     "data": {
      "text/plain": [
       "Index(['UNITID', 'OPEID6', 'INSTNM', 'CONTROL', 'MAIN', 'CIPCODE', 'CIPDESC',\n",
       "       'CREDLEV', 'CREDDESC', 'EARN_MDN_HI_2YR', 'STABBR', 'HIGHDEG', 'REGION',\n",
       "       'LOCALE', 'CCSIZSET', 'ADM_RATE', 'ADM_RATE_ALL', 'SAT_AVG',\n",
       "       'SAT_AVG_ALL', 'UGDS', 'NPT4_PUB', 'NPT4_PRIV', 'TUITIONFEE_IN',\n",
       "       'TUITIONFEE_OUT', 'PFTFAC', 'MEDIAN_HH_INC', 'OPEID', 'CITY', 'ZIP'],\n",
       "      dtype='object')"
      ]
     },
     "execution_count": 7,
     "metadata": {},
     "output_type": "execute_result"
    }
   ],
   "source": [
    "newdf2.columns"
   ]
  },
  {
   "cell_type": "code",
   "execution_count": 8,
   "id": "extensive-static",
   "metadata": {
    "execution": {
     "iopub.execute_input": "2021-05-20T19:05:17.323325Z",
     "iopub.status.busy": "2021-05-20T19:05:17.323167Z",
     "iopub.status.idle": "2021-05-20T19:05:17.331578Z",
     "shell.execute_reply": "2021-05-20T19:05:17.331071Z",
     "shell.execute_reply.started": "2021-05-20T19:05:17.323307Z"
    }
   },
   "outputs": [],
   "source": [
    "def killna(df):\n",
    "    return df[df.EARN_MDN_HI_2YR.notna()]\n",
    "\n",
    "def make_feat(df):\n",
    "    df['deg_level'] = ['ug' if x in [\"Bachelor's Degree\",\n",
    "      \"Associate's Degree\",\n",
    "      'Undergraduate Certificate or Diploma',\n",
    "      'Post-baccalaureate Certificate'] else 'grad' for x in df['CREDLEV']]\n",
    "\n",
    "    df['tuition'] = df['NPT4_PUB'].fillna(0).astype('float64') + df['NPT4_PRIV'].fillna(0).astype('float64')\n",
    "    df['UGDS'] = df['UGDS'].fillna(0).astype(int)\n",
    "    df['TUITIONFEE_IN'] = df['TUITIONFEE_IN'].fillna(0).astype('float64')\n",
    "    df['TUITIONFEE_OUT'] = df['TUITIONFEE_OUT'].fillna(0).astype('float64')\n",
    "    df['PFTFAC'] = df['PFTFAC'].fillna(0).astype('float64')\n",
    "    df['ADM_RATE_ALL'] = df['ADM_RATE_ALL'].fillna(0).astype('float64')\n",
    "    df['MEDIAN_HH_INC'] = df['MEDIAN_HH_INC'].fillna(0).astype('float64')\n",
    "    df['SAT_AVG_ALL'] = df['SAT_AVG_ALL'].fillna(0).astype(int)\n",
    "    df['cip_cat'] = df['CIPCODE'].astype(str).str[0:3]\n",
    "\n",
    "    return df\n",
    "\n",
    "def clean_cipcode(df):\n",
    "    valcounts = df['CIPDESC'].value_counts().reset_index()\n",
    "    valcounts.columns = ['CIPDESC', 'COUNT']\n",
    "\n",
    "    valcounts['CIPDESC_new'] = [series['CIPDESC'] if series['COUNT'] > 5 else \"TooSmall\" for (index, series) in valcounts.iterrows()]\n",
    "\n",
    "    df = dd.merge(\n",
    "        df,\n",
    "        valcounts,\n",
    "        how=\"left\",\n",
    "        on=['CIPDESC'],\n",
    "        suffixes=(\"_orig\", \"_new\")\n",
    "    )\n",
    "    return(df)\n",
    "\n",
    "@dask.delayed\n",
    "def process_data(df):\n",
    "    df = killna(df)\n",
    "    df = make_feat(df)\n",
    "    df = clean_cipcode(df)\n",
    "    return(df)\n",
    "\n",
    "@dask.delayed\n",
    "def split_data(df):\n",
    "    \n",
    "    X = df[['CONTROL', 'STABBR','CIPDESC_new',\n",
    "   'CREDLEV', 'HIGHDEG', 'REGION',\n",
    "   'LOCALE', 'CCSIZSET', 'ADM_RATE_ALL',\n",
    "   'SAT_AVG_ALL', 'UGDS', 'tuition', 'TUITIONFEE_IN',\n",
    "   'TUITIONFEE_OUT', 'PFTFAC', 'MEDIAN_HH_INC', 'deg_level']]\n",
    "    y = df[['EARN_MDN_HI_2YR']]\n",
    "    \n",
    "    return [X, y]"
   ]
  },
  {
   "cell_type": "code",
   "execution_count": 9,
   "id": "senior-receptor",
   "metadata": {
    "execution": {
     "iopub.execute_input": "2021-05-20T19:05:17.332376Z",
     "iopub.status.busy": "2021-05-20T19:05:17.332226Z",
     "iopub.status.idle": "2021-05-20T19:05:17.337809Z",
     "shell.execute_reply": "2021-05-20T19:05:17.337368Z",
     "shell.execute_reply.started": "2021-05-20T19:05:17.332358Z"
    }
   },
   "outputs": [],
   "source": [
    "data = process_data(newdf2)"
   ]
  },
  {
   "cell_type": "code",
   "execution_count": 10,
   "id": "virgin-habitat",
   "metadata": {
    "execution": {
     "iopub.execute_input": "2021-05-20T19:05:17.500524Z",
     "iopub.status.busy": "2021-05-20T19:05:17.500318Z",
     "iopub.status.idle": "2021-05-20T19:05:25.548521Z",
     "shell.execute_reply": "2021-05-20T19:05:25.547889Z",
     "shell.execute_reply.started": "2021-05-20T19:05:17.500503Z"
    }
   },
   "outputs": [],
   "source": [
    "outdata = data.compute()"
   ]
  },
  {
   "cell_type": "code",
   "execution_count": 19,
   "id": "ruled-differential",
   "metadata": {
    "execution": {
     "iopub.execute_input": "2021-05-20T19:07:27.528092Z",
     "iopub.status.busy": "2021-05-20T19:07:27.527856Z",
     "iopub.status.idle": "2021-05-20T19:07:30.067853Z",
     "shell.execute_reply": "2021-05-20T19:07:30.067202Z",
     "shell.execute_reply.started": "2021-05-20T19:07:27.528068Z"
    }
   },
   "outputs": [],
   "source": [
    "s3fpath = 's3://saturn-public-data/college-scorecard/cleaned_merged.csv'\n",
    "\n",
    "outdata.to_csv(s3fpath)"
   ]
  },
  {
   "cell_type": "code",
   "execution_count": 11,
   "id": "cooperative-cartridge",
   "metadata": {
    "execution": {
     "iopub.execute_input": "2021-05-20T19:06:34.443290Z",
     "iopub.status.busy": "2021-05-20T19:06:34.442990Z",
     "iopub.status.idle": "2021-05-20T19:06:41.936895Z",
     "shell.execute_reply": "2021-05-20T19:06:41.936335Z",
     "shell.execute_reply.started": "2021-05-20T19:06:34.443262Z"
    }
   },
   "outputs": [],
   "source": [
    "X, y = split_data(data).compute()"
   ]
  },
  {
   "cell_type": "code",
   "execution_count": 12,
   "id": "reverse-beverage",
   "metadata": {
    "execution": {
     "iopub.execute_input": "2021-05-20T19:06:41.937977Z",
     "iopub.status.busy": "2021-05-20T19:06:41.937790Z",
     "iopub.status.idle": "2021-05-20T19:06:41.957692Z",
     "shell.execute_reply": "2021-05-20T19:06:41.957190Z",
     "shell.execute_reply.started": "2021-05-20T19:06:41.937956Z"
    }
   },
   "outputs": [],
   "source": [
    "from sklearn.model_selection import train_test_split\n",
    "X_train, X_test, y_train, y_test = train_test_split(X, y, test_size=0.15, random_state=42)"
   ]
  },
  {
   "cell_type": "code",
   "execution_count": 13,
   "id": "negative-facial",
   "metadata": {
    "execution": {
     "iopub.execute_input": "2021-05-20T19:06:41.958773Z",
     "iopub.status.busy": "2021-05-20T19:06:41.958610Z",
     "iopub.status.idle": "2021-05-20T19:06:42.001346Z",
     "shell.execute_reply": "2021-05-20T19:06:42.000887Z",
     "shell.execute_reply.started": "2021-05-20T19:06:41.958753Z"
    }
   },
   "outputs": [
    {
     "data": {
      "text/html": [
       "<div>\n",
       "<style scoped>\n",
       "    .dataframe tbody tr th:only-of-type {\n",
       "        vertical-align: middle;\n",
       "    }\n",
       "\n",
       "    .dataframe tbody tr th {\n",
       "        vertical-align: top;\n",
       "    }\n",
       "\n",
       "    .dataframe thead th {\n",
       "        text-align: right;\n",
       "    }\n",
       "</style>\n",
       "<table border=\"1\" class=\"dataframe\">\n",
       "  <thead>\n",
       "    <tr style=\"text-align: right;\">\n",
       "      <th></th>\n",
       "      <th>ADM_RATE_ALL</th>\n",
       "      <th>SAT_AVG_ALL</th>\n",
       "      <th>UGDS</th>\n",
       "      <th>tuition</th>\n",
       "      <th>TUITIONFEE_IN</th>\n",
       "      <th>TUITIONFEE_OUT</th>\n",
       "      <th>PFTFAC</th>\n",
       "      <th>MEDIAN_HH_INC</th>\n",
       "    </tr>\n",
       "  </thead>\n",
       "  <tbody>\n",
       "    <tr>\n",
       "      <th>count</th>\n",
       "      <td>52512.000000</td>\n",
       "      <td>52512.000000</td>\n",
       "      <td>52512.000000</td>\n",
       "      <td>52512.000000</td>\n",
       "      <td>52512.000000</td>\n",
       "      <td>52512.000000</td>\n",
       "      <td>52512.000000</td>\n",
       "      <td>52512.000000</td>\n",
       "    </tr>\n",
       "    <tr>\n",
       "      <th>mean</th>\n",
       "      <td>0.422231</td>\n",
       "      <td>649.064043</td>\n",
       "      <td>8711.082648</td>\n",
       "      <td>15607.103176</td>\n",
       "      <td>14656.551226</td>\n",
       "      <td>20349.645224</td>\n",
       "      <td>0.536675</td>\n",
       "      <td>53445.489796</td>\n",
       "    </tr>\n",
       "    <tr>\n",
       "      <th>std</th>\n",
       "      <td>0.359603</td>\n",
       "      <td>597.391428</td>\n",
       "      <td>11060.944191</td>\n",
       "      <td>9445.210970</td>\n",
       "      <td>14886.373097</td>\n",
       "      <td>14946.466572</td>\n",
       "      <td>0.331575</td>\n",
       "      <td>24938.989210</td>\n",
       "    </tr>\n",
       "    <tr>\n",
       "      <th>min</th>\n",
       "      <td>0.000000</td>\n",
       "      <td>0.000000</td>\n",
       "      <td>0.000000</td>\n",
       "      <td>-467.000000</td>\n",
       "      <td>0.000000</td>\n",
       "      <td>0.000000</td>\n",
       "      <td>0.000000</td>\n",
       "      <td>0.000000</td>\n",
       "    </tr>\n",
       "    <tr>\n",
       "      <th>25%</th>\n",
       "      <td>0.000000</td>\n",
       "      <td>0.000000</td>\n",
       "      <td>991.000000</td>\n",
       "      <td>8967.000000</td>\n",
       "      <td>4534.500000</td>\n",
       "      <td>8666.000000</td>\n",
       "      <td>0.284600</td>\n",
       "      <td>49038.115000</td>\n",
       "    </tr>\n",
       "    <tr>\n",
       "      <th>50%</th>\n",
       "      <td>0.520800</td>\n",
       "      <td>1031.000000</td>\n",
       "      <td>4162.000000</td>\n",
       "      <td>15564.500000</td>\n",
       "      <td>9796.000000</td>\n",
       "      <td>18490.000000</td>\n",
       "      <td>0.582600</td>\n",
       "      <td>60120.160000</td>\n",
       "    </tr>\n",
       "    <tr>\n",
       "      <th>75%</th>\n",
       "      <td>0.750700</td>\n",
       "      <td>1182.000000</td>\n",
       "      <td>12230.000000</td>\n",
       "      <td>21406.000000</td>\n",
       "      <td>17545.000000</td>\n",
       "      <td>30404.000000</td>\n",
       "      <td>0.806900</td>\n",
       "      <td>69416.150000</td>\n",
       "    </tr>\n",
       "    <tr>\n",
       "      <th>max</th>\n",
       "      <td>1.000000</td>\n",
       "      <td>1566.000000</td>\n",
       "      <td>88921.000000</td>\n",
       "      <td>111408.000000</td>\n",
       "      <td>59430.000000</td>\n",
       "      <td>59430.000000</td>\n",
       "      <td>1.000000</td>\n",
       "      <td>99537.140000</td>\n",
       "    </tr>\n",
       "  </tbody>\n",
       "</table>\n",
       "</div>"
      ],
      "text/plain": [
       "       ADM_RATE_ALL   SAT_AVG_ALL          UGDS        tuition  TUITIONFEE_IN  \\\n",
       "count  52512.000000  52512.000000  52512.000000   52512.000000   52512.000000   \n",
       "mean       0.422231    649.064043   8711.082648   15607.103176   14656.551226   \n",
       "std        0.359603    597.391428  11060.944191    9445.210970   14886.373097   \n",
       "min        0.000000      0.000000      0.000000    -467.000000       0.000000   \n",
       "25%        0.000000      0.000000    991.000000    8967.000000    4534.500000   \n",
       "50%        0.520800   1031.000000   4162.000000   15564.500000    9796.000000   \n",
       "75%        0.750700   1182.000000  12230.000000   21406.000000   17545.000000   \n",
       "max        1.000000   1566.000000  88921.000000  111408.000000   59430.000000   \n",
       "\n",
       "       TUITIONFEE_OUT        PFTFAC  MEDIAN_HH_INC  \n",
       "count    52512.000000  52512.000000   52512.000000  \n",
       "mean     20349.645224      0.536675   53445.489796  \n",
       "std      14946.466572      0.331575   24938.989210  \n",
       "min          0.000000      0.000000       0.000000  \n",
       "25%       8666.000000      0.284600   49038.115000  \n",
       "50%      18490.000000      0.582600   60120.160000  \n",
       "75%      30404.000000      0.806900   69416.150000  \n",
       "max      59430.000000      1.000000   99537.140000  "
      ]
     },
     "execution_count": 13,
     "metadata": {},
     "output_type": "execute_result"
    }
   ],
   "source": [
    "X_train.describe()"
   ]
  },
  {
   "cell_type": "code",
   "execution_count": 14,
   "id": "optimum-austria",
   "metadata": {
    "execution": {
     "iopub.execute_input": "2021-05-20T19:06:54.079831Z",
     "iopub.status.busy": "2021-05-20T19:06:54.079566Z",
     "iopub.status.idle": "2021-05-20T19:06:54.096825Z",
     "shell.execute_reply": "2021-05-20T19:06:54.096249Z",
     "shell.execute_reply.started": "2021-05-20T19:06:54.079805Z"
    }
   },
   "outputs": [],
   "source": [
    "from sklearn.experimental import enable_iterative_imputer\n",
    "from sklearn.impute import SimpleImputer, IterativeImputer\n",
    "from sklearn.preprocessing import KBinsDiscretizer\n",
    "\n",
    "enc = OneHotEncoder(handle_unknown='ignore', sparse = False)\n",
    "#imp = SimpleImputer(missing_values=np.nan, strategy='mean')\n",
    "imp = IterativeImputer(max_iter=10, random_state=0, initial_strategy='mean', add_indicator = True)\n",
    "est = KBinsDiscretizer(n_bins=3, encode='ordinal', strategy='quantile')\n"
   ]
  },
  {
   "cell_type": "code",
   "execution_count": 15,
   "id": "british-usage",
   "metadata": {
    "execution": {
     "iopub.execute_input": "2021-05-20T19:06:54.504921Z",
     "iopub.status.busy": "2021-05-20T19:06:54.504716Z",
     "iopub.status.idle": "2021-05-20T19:06:59.977358Z",
     "shell.execute_reply": "2021-05-20T19:06:59.976748Z",
     "shell.execute_reply.started": "2021-05-20T19:06:54.504900Z"
    }
   },
   "outputs": [
    {
     "name": "stderr",
     "output_type": "stream",
     "text": [
      "/srv/conda/envs/saturn/lib/python3.7/site-packages/sklearn/preprocessing/_discretization.py:222: UserWarning: Bins whose width are too small (i.e., <= 1e-8) in feature 2 are removed. Consider decreasing the number of bins.\n",
      "  'decreasing the number of bins.' % jj)\n",
      "/srv/conda/envs/saturn/lib/python3.7/site-packages/sklearn/preprocessing/_discretization.py:222: UserWarning: Bins whose width are too small (i.e., <= 1e-8) in feature 3 are removed. Consider decreasing the number of bins.\n",
      "  'decreasing the number of bins.' % jj)\n"
     ]
    }
   ],
   "source": [
    "from sklearn.pipeline import Pipeline\n",
    "from sklearn.compose import ColumnTransformer\n",
    "\n",
    "ct = ColumnTransformer(\n",
    "    [('onehot', enc, ['CONTROL','CIPDESC_new','CREDLEV','deg_level',\n",
    "                      'HIGHDEG','REGION','LOCALE', 'CCSIZSET', 'STABBR']),\n",
    "    ('impute', imp, ['TUITIONFEE_IN','TUITIONFEE_OUT','PFTFAC','MEDIAN_HH_INC',\n",
    "                      'UGDS','SAT_AVG_ALL','ADM_RATE_ALL']), \n",
    "    ('bins', est, ['UGDS', 'tuition', 'ADM_RATE_ALL', 'SAT_AVG_ALL', 'PFTFAC', 'MEDIAN_HH_INC'])], \n",
    "    remainder='passthrough' \n",
    ")\n",
    "\n",
    "pipe = Pipeline(steps=[('coltrans', ct), ('linear', linear_model.LinearRegression())])\n",
    "pipe = pipe.fit(X_train, y_train)"
   ]
  },
  {
   "cell_type": "code",
   "execution_count": 16,
   "id": "diagnostic-enlargement",
   "metadata": {
    "execution": {
     "iopub.execute_input": "2021-05-20T19:06:59.978481Z",
     "iopub.status.busy": "2021-05-20T19:06:59.978294Z",
     "iopub.status.idle": "2021-05-20T19:07:00.200330Z",
     "shell.execute_reply": "2021-05-20T19:07:00.199492Z",
     "shell.execute_reply.started": "2021-05-20T19:06:59.978460Z"
    }
   },
   "outputs": [
    {
     "name": "stdout",
     "output_type": "stream",
     "text": [
      "[[29487.30670166]\n",
      " [48199.1078186 ]\n",
      " [30470.40982056]\n",
      " ...\n",
      " [41321.94744873]\n",
      " [26689.16433716]\n",
      " [63468.13827515]]\n"
     ]
    }
   ],
   "source": [
    "predictions = pipe.predict(X_test)\n",
    "print(predictions)"
   ]
  },
  {
   "cell_type": "code",
   "execution_count": 17,
   "id": "steady-course",
   "metadata": {
    "execution": {
     "iopub.execute_input": "2021-05-20T19:07:00.202129Z",
     "iopub.status.busy": "2021-05-20T19:07:00.201868Z",
     "iopub.status.idle": "2021-05-20T19:07:02.851329Z",
     "shell.execute_reply": "2021-05-20T19:07:02.850768Z",
     "shell.execute_reply.started": "2021-05-20T19:07:00.202097Z"
    }
   },
   "outputs": [
    {
     "data": {
      "text/plain": [
       "0.7411869765190529"
      ]
     },
     "execution_count": 17,
     "metadata": {},
     "output_type": "execute_result"
    }
   ],
   "source": [
    "pipe.score(X_train,y_train)"
   ]
  },
  {
   "cell_type": "code",
   "execution_count": 18,
   "id": "flush-leonard",
   "metadata": {
    "execution": {
     "iopub.execute_input": "2021-05-20T19:07:02.852365Z",
     "iopub.status.busy": "2021-05-20T19:07:02.852188Z",
     "iopub.status.idle": "2021-05-20T19:07:03.026035Z",
     "shell.execute_reply": "2021-05-20T19:07:03.025317Z",
     "shell.execute_reply.started": "2021-05-20T19:07:02.852344Z"
    }
   },
   "outputs": [
    {
     "data": {
      "text/plain": [
       "0.7287342601244766"
      ]
     },
     "execution_count": 18,
     "metadata": {},
     "output_type": "execute_result"
    }
   ],
   "source": [
    "pipe.score(X_test,y_test)"
   ]
  },
  {
   "cell_type": "code",
   "execution_count": 20,
   "id": "behavioral-audience",
   "metadata": {
    "execution": {
     "iopub.execute_input": "2021-05-20T18:37:20.107778Z",
     "iopub.status.busy": "2021-05-20T18:37:20.107544Z",
     "iopub.status.idle": "2021-05-20T18:37:20.120531Z",
     "shell.execute_reply": "2021-05-20T18:37:20.119935Z",
     "shell.execute_reply.started": "2021-05-20T18:37:20.107749Z"
    }
   },
   "outputs": [],
   "source": [
    "newdata3 = X_test.copy()\n",
    "newdata3['truth'] = y_test.astype('int')\n",
    "newdata3['pred'] = predictions\n",
    "\n",
    "newdata3['pred'] = [0 if x < 0 else x for x in newdata3['pred']]\n"
   ]
  },
  {
   "cell_type": "code",
   "execution_count": 19,
   "id": "compact-status",
   "metadata": {
    "execution": {
     "iopub.execute_input": "2021-05-19T20:46:15.940463Z",
     "iopub.status.busy": "2021-05-19T20:46:15.940310Z",
     "iopub.status.idle": "2021-05-19T20:46:15.955834Z",
     "shell.execute_reply": "2021-05-19T20:46:15.955366Z",
     "shell.execute_reply.started": "2021-05-19T20:46:15.940446Z"
    }
   },
   "outputs": [
    {
     "data": {
      "text/html": [
       "<div>\n",
       "<style scoped>\n",
       "    .dataframe tbody tr th:only-of-type {\n",
       "        vertical-align: middle;\n",
       "    }\n",
       "\n",
       "    .dataframe tbody tr th {\n",
       "        vertical-align: top;\n",
       "    }\n",
       "\n",
       "    .dataframe thead th {\n",
       "        text-align: right;\n",
       "    }\n",
       "</style>\n",
       "<table border=\"1\" class=\"dataframe\">\n",
       "  <thead>\n",
       "    <tr style=\"text-align: right;\">\n",
       "      <th></th>\n",
       "      <th>CONTROL</th>\n",
       "      <th>CIPDESC</th>\n",
       "      <th>STABBR</th>\n",
       "      <th>CREDLEV</th>\n",
       "      <th>HIGHDEG</th>\n",
       "      <th>REGION</th>\n",
       "      <th>LOCALE</th>\n",
       "      <th>CCSIZSET</th>\n",
       "      <th>ADM_RATE_ALL</th>\n",
       "      <th>SAT_AVG_ALL</th>\n",
       "      <th>UGDS</th>\n",
       "      <th>tuition</th>\n",
       "      <th>TUITIONFEE_IN</th>\n",
       "      <th>TUITIONFEE_OUT</th>\n",
       "      <th>PFTFAC</th>\n",
       "      <th>MEDIAN_HH_INC</th>\n",
       "      <th>deg_level</th>\n",
       "      <th>truth</th>\n",
       "      <th>pred</th>\n",
       "    </tr>\n",
       "  </thead>\n",
       "  <tbody>\n",
       "    <tr>\n",
       "      <th>18525</th>\n",
       "      <td>Public</td>\n",
       "      <td>Allied Health and Medical Assisting Services.</td>\n",
       "      <td>NC</td>\n",
       "      <td>2</td>\n",
       "      <td>2</td>\n",
       "      <td>5</td>\n",
       "      <td>32</td>\n",
       "      <td>2</td>\n",
       "      <td>0.0000</td>\n",
       "      <td>0</td>\n",
       "      <td>1612</td>\n",
       "      <td>4439.0</td>\n",
       "      <td>2516.0</td>\n",
       "      <td>8660.0</td>\n",
       "      <td>0.5429</td>\n",
       "      <td>40602.31</td>\n",
       "      <td>ug</td>\n",
       "      <td>20960</td>\n",
       "      <td>29514.802338</td>\n",
       "    </tr>\n",
       "    <tr>\n",
       "      <th>15808</th>\n",
       "      <td>Public</td>\n",
       "      <td>English Language and Literature, General.</td>\n",
       "      <td>NJ</td>\n",
       "      <td>5</td>\n",
       "      <td>4</td>\n",
       "      <td>2</td>\n",
       "      <td>13</td>\n",
       "      <td>12</td>\n",
       "      <td>0.6232</td>\n",
       "      <td>1257</td>\n",
       "      <td>5618</td>\n",
       "      <td>13293.0</td>\n",
       "      <td>14835.0</td>\n",
       "      <td>30613.0</td>\n",
       "      <td>0.4436</td>\n",
       "      <td>82669.68</td>\n",
       "      <td>grad</td>\n",
       "      <td>41565</td>\n",
       "      <td>48176.759094</td>\n",
       "    </tr>\n",
       "    <tr>\n",
       "      <th>15765</th>\n",
       "      <td>Public</td>\n",
       "      <td>Ethnic, Cultural Minority, Gender, and Group S...</td>\n",
       "      <td>NJ</td>\n",
       "      <td>3</td>\n",
       "      <td>4</td>\n",
       "      <td>2</td>\n",
       "      <td>13</td>\n",
       "      <td>12</td>\n",
       "      <td>0.6232</td>\n",
       "      <td>1257</td>\n",
       "      <td>5618</td>\n",
       "      <td>13293.0</td>\n",
       "      <td>14835.0</td>\n",
       "      <td>30613.0</td>\n",
       "      <td>0.4436</td>\n",
       "      <td>82669.68</td>\n",
       "      <td>ug</td>\n",
       "      <td>20140</td>\n",
       "      <td>30386.950409</td>\n",
       "    </tr>\n",
       "    <tr>\n",
       "      <th>28690</th>\n",
       "      <td>Public</td>\n",
       "      <td>Registered Nursing, Nursing Administration, Nu...</td>\n",
       "      <td>PA</td>\n",
       "      <td>3</td>\n",
       "      <td>3</td>\n",
       "      <td>2</td>\n",
       "      <td>13</td>\n",
       "      <td>13</td>\n",
       "      <td>0.0000</td>\n",
       "      <td>0</td>\n",
       "      <td>5289</td>\n",
       "      <td>23435.0</td>\n",
       "      <td>16740.0</td>\n",
       "      <td>23880.0</td>\n",
       "      <td>0.6112</td>\n",
       "      <td>54926.29</td>\n",
       "      <td>ug</td>\n",
       "      <td>64990</td>\n",
       "      <td>70635.765869</td>\n",
       "    </tr>\n",
       "    <tr>\n",
       "      <th>24099</th>\n",
       "      <td>Public</td>\n",
       "      <td>Registered Nursing, Nursing Administration, Nu...</td>\n",
       "      <td>TX</td>\n",
       "      <td>3</td>\n",
       "      <td>4</td>\n",
       "      <td>6</td>\n",
       "      <td>12</td>\n",
       "      <td>13</td>\n",
       "      <td>0.8432</td>\n",
       "      <td>1043</td>\n",
       "      <td>8623</td>\n",
       "      <td>12967.0</td>\n",
       "      <td>8373.0</td>\n",
       "      <td>18333.0</td>\n",
       "      <td>0.7885</td>\n",
       "      <td>53474.77</td>\n",
       "      <td>ug</td>\n",
       "      <td>68975</td>\n",
       "      <td>67254.579956</td>\n",
       "    </tr>\n",
       "  </tbody>\n",
       "</table>\n",
       "</div>"
      ],
      "text/plain": [
       "      CONTROL                                            CIPDESC STABBR  \\\n",
       "18525  Public      Allied Health and Medical Assisting Services.     NC   \n",
       "15808  Public          English Language and Literature, General.     NJ   \n",
       "15765  Public  Ethnic, Cultural Minority, Gender, and Group S...     NJ   \n",
       "28690  Public  Registered Nursing, Nursing Administration, Nu...     PA   \n",
       "24099  Public  Registered Nursing, Nursing Administration, Nu...     TX   \n",
       "\n",
       "      CREDLEV HIGHDEG REGION LOCALE CCSIZSET  ADM_RATE_ALL  SAT_AVG_ALL  UGDS  \\\n",
       "18525       2       2      5     32        2        0.0000            0  1612   \n",
       "15808       5       4      2     13       12        0.6232         1257  5618   \n",
       "15765       3       4      2     13       12        0.6232         1257  5618   \n",
       "28690       3       3      2     13       13        0.0000            0  5289   \n",
       "24099       3       4      6     12       13        0.8432         1043  8623   \n",
       "\n",
       "       tuition  TUITIONFEE_IN  TUITIONFEE_OUT  PFTFAC  MEDIAN_HH_INC  \\\n",
       "18525   4439.0         2516.0          8660.0  0.5429       40602.31   \n",
       "15808  13293.0        14835.0         30613.0  0.4436       82669.68   \n",
       "15765  13293.0        14835.0         30613.0  0.4436       82669.68   \n",
       "28690  23435.0        16740.0         23880.0  0.6112       54926.29   \n",
       "24099  12967.0         8373.0         18333.0  0.7885       53474.77   \n",
       "\n",
       "      deg_level  truth          pred  \n",
       "18525        ug  20960  29514.802338  \n",
       "15808      grad  41565  48176.759094  \n",
       "15765        ug  20140  30386.950409  \n",
       "28690        ug  64990  70635.765869  \n",
       "24099        ug  68975  67254.579956  "
      ]
     },
     "execution_count": 19,
     "metadata": {},
     "output_type": "execute_result"
    }
   ],
   "source": [
    "newdata3.head()"
   ]
  },
  {
   "cell_type": "code",
   "execution_count": 20,
   "id": "prerequisite-orchestra",
   "metadata": {
    "execution": {
     "iopub.execute_input": "2021-05-19T20:46:15.956665Z",
     "iopub.status.busy": "2021-05-19T20:46:15.956511Z",
     "iopub.status.idle": "2021-05-19T20:46:15.960735Z",
     "shell.execute_reply": "2021-05-19T20:46:15.960267Z",
     "shell.execute_reply.started": "2021-05-19T20:46:15.956647Z"
    }
   },
   "outputs": [],
   "source": [
    "from bokeh.models import NumeralTickFormatter\n",
    "from bokeh.transform import factor_cmap, factor_mark\n",
    "from bokeh.palettes import Spectral6\n",
    "import time\n",
    "from datetime import datetime as dt\n",
    "from bokeh.plotting import figure\n",
    "from bokeh.models import Span, Label\n",
    "from bokeh.palettes import Viridis256, Cividis256, Turbo256\n"
   ]
  },
  {
   "cell_type": "code",
   "execution_count": 48,
   "id": "oriental-restaurant",
   "metadata": {
    "execution": {
     "iopub.execute_input": "2021-05-19T21:07:54.584931Z",
     "iopub.status.busy": "2021-05-19T21:07:54.584706Z",
     "iopub.status.idle": "2021-05-19T21:07:54.589729Z",
     "shell.execute_reply": "2021-05-19T21:07:54.588994Z",
     "shell.execute_reply.started": "2021-05-19T21:07:54.584909Z"
    }
   },
   "outputs": [],
   "source": [
    "def plot_earn(df, groupvar):\n",
    "    output_notebook()\n",
    "\n",
    "    p = figure(title=\"Predicted Earnings\", \n",
    "               y_axis_label='True', \n",
    "               x_axis_label='Predicted', \n",
    "               width=750, \n",
    "               height = 400)\n",
    "\n",
    "    sourcedt = df \n",
    "\n",
    "    states = sourcedt[groupvar].fillna(\"NA\").unique().tolist()\n",
    "\n",
    "    p.circle(y='truth', x='pred', size=5, fill_alpha = .75,\n",
    "             fill_color=factor_cmap(groupvar, \n",
    "                                    palette=Spectral6, \n",
    "                                    factors=states), \n",
    "             legend_group=groupvar,\n",
    "             source=sourcedt)\n",
    "\n",
    "    p.yaxis[0].formatter = NumeralTickFormatter(format=\"$0,0.0\")\n",
    "    p.xaxis[0].formatter = NumeralTickFormatter(format=\"$0,0.0\")\n",
    "\n",
    "\n",
    "    show(p)"
   ]
  },
  {
   "cell_type": "code",
   "execution_count": 49,
   "id": "difficult-rocket",
   "metadata": {
    "execution": {
     "iopub.execute_input": "2021-05-19T21:07:54.978179Z",
     "iopub.status.busy": "2021-05-19T21:07:54.977958Z",
     "iopub.status.idle": "2021-05-19T21:07:54.983552Z",
     "shell.execute_reply": "2021-05-19T21:07:54.982953Z",
     "shell.execute_reply.started": "2021-05-19T21:07:54.978158Z"
    }
   },
   "outputs": [],
   "source": [
    "dt1 = newdata3[(newdata3['REGION'] == '1') | (newdata3['REGION'] == '9')]"
   ]
  },
  {
   "cell_type": "code",
   "execution_count": 50,
   "id": "fifth-missouri",
   "metadata": {
    "execution": {
     "iopub.execute_input": "2021-05-19T21:07:55.625722Z",
     "iopub.status.busy": "2021-05-19T21:07:55.625505Z",
     "iopub.status.idle": "2021-05-19T21:07:55.628428Z",
     "shell.execute_reply": "2021-05-19T21:07:55.627783Z",
     "shell.execute_reply.started": "2021-05-19T21:07:55.625701Z"
    }
   },
   "outputs": [],
   "source": [
    "gv = 'REGION'"
   ]
  },
  {
   "cell_type": "code",
   "execution_count": 51,
   "id": "lesser-reynolds",
   "metadata": {
    "execution": {
     "iopub.execute_input": "2021-05-19T21:07:55.994704Z",
     "iopub.status.busy": "2021-05-19T21:07:55.994488Z",
     "iopub.status.idle": "2021-05-19T21:07:56.046961Z",
     "shell.execute_reply": "2021-05-19T21:07:56.046401Z",
     "shell.execute_reply.started": "2021-05-19T21:07:55.994682Z"
    }
   },
   "outputs": [
    {
     "data": {
      "text/html": [
       "\n",
       "    <div class=\"bk-root\">\n",
       "        <a href=\"https://bokeh.org\" target=\"_blank\" class=\"bk-logo bk-logo-small bk-logo-notebook\"></a>\n",
       "        <span id=\"1769\">Loading BokehJS ...</span>\n",
       "    </div>"
      ]
     },
     "metadata": {},
     "output_type": "display_data"
    },
    {
     "data": {
      "application/javascript": [
       "\n",
       "(function(root) {\n",
       "  function now() {\n",
       "    return new Date();\n",
       "  }\n",
       "\n",
       "  var force = true;\n",
       "\n",
       "  if (typeof root._bokeh_onload_callbacks === \"undefined\" || force === true) {\n",
       "    root._bokeh_onload_callbacks = [];\n",
       "    root._bokeh_is_loading = undefined;\n",
       "  }\n",
       "\n",
       "  var JS_MIME_TYPE = 'application/javascript';\n",
       "  var HTML_MIME_TYPE = 'text/html';\n",
       "  var EXEC_MIME_TYPE = 'application/vnd.bokehjs_exec.v0+json';\n",
       "  var CLASS_NAME = 'output_bokeh rendered_html';\n",
       "\n",
       "  /**\n",
       "   * Render data to the DOM node\n",
       "   */\n",
       "  function render(props, node) {\n",
       "    var script = document.createElement(\"script\");\n",
       "    node.appendChild(script);\n",
       "  }\n",
       "\n",
       "  /**\n",
       "   * Handle when an output is cleared or removed\n",
       "   */\n",
       "  function handleClearOutput(event, handle) {\n",
       "    var cell = handle.cell;\n",
       "\n",
       "    var id = cell.output_area._bokeh_element_id;\n",
       "    var server_id = cell.output_area._bokeh_server_id;\n",
       "    // Clean up Bokeh references\n",
       "    if (id != null && id in Bokeh.index) {\n",
       "      Bokeh.index[id].model.document.clear();\n",
       "      delete Bokeh.index[id];\n",
       "    }\n",
       "\n",
       "    if (server_id !== undefined) {\n",
       "      // Clean up Bokeh references\n",
       "      var cmd = \"from bokeh.io.state import curstate; print(curstate().uuid_to_server['\" + server_id + \"'].get_sessions()[0].document.roots[0]._id)\";\n",
       "      cell.notebook.kernel.execute(cmd, {\n",
       "        iopub: {\n",
       "          output: function(msg) {\n",
       "            var id = msg.content.text.trim();\n",
       "            if (id in Bokeh.index) {\n",
       "              Bokeh.index[id].model.document.clear();\n",
       "              delete Bokeh.index[id];\n",
       "            }\n",
       "          }\n",
       "        }\n",
       "      });\n",
       "      // Destroy server and session\n",
       "      var cmd = \"import bokeh.io.notebook as ion; ion.destroy_server('\" + server_id + \"')\";\n",
       "      cell.notebook.kernel.execute(cmd);\n",
       "    }\n",
       "  }\n",
       "\n",
       "  /**\n",
       "   * Handle when a new output is added\n",
       "   */\n",
       "  function handleAddOutput(event, handle) {\n",
       "    var output_area = handle.output_area;\n",
       "    var output = handle.output;\n",
       "\n",
       "    // limit handleAddOutput to display_data with EXEC_MIME_TYPE content only\n",
       "    if ((output.output_type != \"display_data\") || (!output.data.hasOwnProperty(EXEC_MIME_TYPE))) {\n",
       "      return\n",
       "    }\n",
       "\n",
       "    var toinsert = output_area.element.find(\".\" + CLASS_NAME.split(' ')[0]);\n",
       "\n",
       "    if (output.metadata[EXEC_MIME_TYPE][\"id\"] !== undefined) {\n",
       "      toinsert[toinsert.length - 1].firstChild.textContent = output.data[JS_MIME_TYPE];\n",
       "      // store reference to embed id on output_area\n",
       "      output_area._bokeh_element_id = output.metadata[EXEC_MIME_TYPE][\"id\"];\n",
       "    }\n",
       "    if (output.metadata[EXEC_MIME_TYPE][\"server_id\"] !== undefined) {\n",
       "      var bk_div = document.createElement(\"div\");\n",
       "      bk_div.innerHTML = output.data[HTML_MIME_TYPE];\n",
       "      var script_attrs = bk_div.children[0].attributes;\n",
       "      for (var i = 0; i < script_attrs.length; i++) {\n",
       "        toinsert[toinsert.length - 1].firstChild.setAttribute(script_attrs[i].name, script_attrs[i].value);\n",
       "        toinsert[toinsert.length - 1].firstChild.textContent = bk_div.children[0].textContent\n",
       "      }\n",
       "      // store reference to server id on output_area\n",
       "      output_area._bokeh_server_id = output.metadata[EXEC_MIME_TYPE][\"server_id\"];\n",
       "    }\n",
       "  }\n",
       "\n",
       "  function register_renderer(events, OutputArea) {\n",
       "\n",
       "    function append_mime(data, metadata, element) {\n",
       "      // create a DOM node to render to\n",
       "      var toinsert = this.create_output_subarea(\n",
       "        metadata,\n",
       "        CLASS_NAME,\n",
       "        EXEC_MIME_TYPE\n",
       "      );\n",
       "      this.keyboard_manager.register_events(toinsert);\n",
       "      // Render to node\n",
       "      var props = {data: data, metadata: metadata[EXEC_MIME_TYPE]};\n",
       "      render(props, toinsert[toinsert.length - 1]);\n",
       "      element.append(toinsert);\n",
       "      return toinsert\n",
       "    }\n",
       "\n",
       "    /* Handle when an output is cleared or removed */\n",
       "    events.on('clear_output.CodeCell', handleClearOutput);\n",
       "    events.on('delete.Cell', handleClearOutput);\n",
       "\n",
       "    /* Handle when a new output is added */\n",
       "    events.on('output_added.OutputArea', handleAddOutput);\n",
       "\n",
       "    /**\n",
       "     * Register the mime type and append_mime function with output_area\n",
       "     */\n",
       "    OutputArea.prototype.register_mime_type(EXEC_MIME_TYPE, append_mime, {\n",
       "      /* Is output safe? */\n",
       "      safe: true,\n",
       "      /* Index of renderer in `output_area.display_order` */\n",
       "      index: 0\n",
       "    });\n",
       "  }\n",
       "\n",
       "  // register the mime type if in Jupyter Notebook environment and previously unregistered\n",
       "  if (root.Jupyter !== undefined) {\n",
       "    var events = require('base/js/events');\n",
       "    var OutputArea = require('notebook/js/outputarea').OutputArea;\n",
       "\n",
       "    if (OutputArea.prototype.mime_types().indexOf(EXEC_MIME_TYPE) == -1) {\n",
       "      register_renderer(events, OutputArea);\n",
       "    }\n",
       "  }\n",
       "\n",
       "  \n",
       "  if (typeof (root._bokeh_timeout) === \"undefined\" || force === true) {\n",
       "    root._bokeh_timeout = Date.now() + 5000;\n",
       "    root._bokeh_failed_load = false;\n",
       "  }\n",
       "\n",
       "  var NB_LOAD_WARNING = {'data': {'text/html':\n",
       "     \"<div style='background-color: #fdd'>\\n\"+\n",
       "     \"<p>\\n\"+\n",
       "     \"BokehJS does not appear to have successfully loaded. If loading BokehJS from CDN, this \\n\"+\n",
       "     \"may be due to a slow or bad network connection. Possible fixes:\\n\"+\n",
       "     \"</p>\\n\"+\n",
       "     \"<ul>\\n\"+\n",
       "     \"<li>re-rerun `output_notebook()` to attempt to load from CDN again, or</li>\\n\"+\n",
       "     \"<li>use INLINE resources instead, as so:</li>\\n\"+\n",
       "     \"</ul>\\n\"+\n",
       "     \"<code>\\n\"+\n",
       "     \"from bokeh.resources import INLINE\\n\"+\n",
       "     \"output_notebook(resources=INLINE)\\n\"+\n",
       "     \"</code>\\n\"+\n",
       "     \"</div>\"}};\n",
       "\n",
       "  function display_loaded() {\n",
       "    var el = document.getElementById(\"1769\");\n",
       "    if (el != null) {\n",
       "      el.textContent = \"BokehJS is loading...\";\n",
       "    }\n",
       "    if (root.Bokeh !== undefined) {\n",
       "      if (el != null) {\n",
       "        el.textContent = \"BokehJS \" + root.Bokeh.version + \" successfully loaded.\";\n",
       "      }\n",
       "    } else if (Date.now() < root._bokeh_timeout) {\n",
       "      setTimeout(display_loaded, 100)\n",
       "    }\n",
       "  }\n",
       "\n",
       "\n",
       "  function run_callbacks() {\n",
       "    try {\n",
       "      root._bokeh_onload_callbacks.forEach(function(callback) {\n",
       "        if (callback != null)\n",
       "          callback();\n",
       "      });\n",
       "    } finally {\n",
       "      delete root._bokeh_onload_callbacks\n",
       "    }\n",
       "    console.debug(\"Bokeh: all callbacks have finished\");\n",
       "  }\n",
       "\n",
       "  function load_libs(css_urls, js_urls, callback) {\n",
       "    if (css_urls == null) css_urls = [];\n",
       "    if (js_urls == null) js_urls = [];\n",
       "\n",
       "    root._bokeh_onload_callbacks.push(callback);\n",
       "    if (root._bokeh_is_loading > 0) {\n",
       "      console.debug(\"Bokeh: BokehJS is being loaded, scheduling callback at\", now());\n",
       "      return null;\n",
       "    }\n",
       "    if (js_urls == null || js_urls.length === 0) {\n",
       "      run_callbacks();\n",
       "      return null;\n",
       "    }\n",
       "    console.debug(\"Bokeh: BokehJS not loaded, scheduling load and callback at\", now());\n",
       "    root._bokeh_is_loading = css_urls.length + js_urls.length;\n",
       "\n",
       "    function on_load() {\n",
       "      root._bokeh_is_loading--;\n",
       "      if (root._bokeh_is_loading === 0) {\n",
       "        console.debug(\"Bokeh: all BokehJS libraries/stylesheets loaded\");\n",
       "        run_callbacks()\n",
       "      }\n",
       "    }\n",
       "\n",
       "    function on_error() {\n",
       "      console.error(\"failed to load \" + url);\n",
       "    }\n",
       "\n",
       "    for (var i = 0; i < css_urls.length; i++) {\n",
       "      var url = css_urls[i];\n",
       "      const element = document.createElement(\"link\");\n",
       "      element.onload = on_load;\n",
       "      element.onerror = on_error;\n",
       "      element.rel = \"stylesheet\";\n",
       "      element.type = \"text/css\";\n",
       "      element.href = url;\n",
       "      console.debug(\"Bokeh: injecting link tag for BokehJS stylesheet: \", url);\n",
       "      document.body.appendChild(element);\n",
       "    }\n",
       "\n",
       "    const hashes = {\"https://cdn.bokeh.org/bokeh/release/bokeh-2.2.3.min.js\": \"T2yuo9Oe71Cz/I4X9Ac5+gpEa5a8PpJCDlqKYO0CfAuEszu1JrXLl8YugMqYe3sM\", \"https://cdn.bokeh.org/bokeh/release/bokeh-widgets-2.2.3.min.js\": \"98GDGJ0kOMCUMUePhksaQ/GYgB3+NH9h996V88sh3aOiUNX3N+fLXAtry6xctSZ6\", \"https://cdn.bokeh.org/bokeh/release/bokeh-tables-2.2.3.min.js\": \"89bArO+nlbP3sgakeHjCo1JYxYR5wufVgA3IbUvDY+K7w4zyxJqssu7wVnfeKCq8\"};\n",
       "\n",
       "    for (var i = 0; i < js_urls.length; i++) {\n",
       "      var url = js_urls[i];\n",
       "      var element = document.createElement('script');\n",
       "      element.onload = on_load;\n",
       "      element.onerror = on_error;\n",
       "      element.async = false;\n",
       "      element.src = url;\n",
       "      if (url in hashes) {\n",
       "        element.crossOrigin = \"anonymous\";\n",
       "        element.integrity = \"sha384-\" + hashes[url];\n",
       "      }\n",
       "      console.debug(\"Bokeh: injecting script tag for BokehJS library: \", url);\n",
       "      document.head.appendChild(element);\n",
       "    }\n",
       "  };\n",
       "\n",
       "  function inject_raw_css(css) {\n",
       "    const element = document.createElement(\"style\");\n",
       "    element.appendChild(document.createTextNode(css));\n",
       "    document.body.appendChild(element);\n",
       "  }\n",
       "\n",
       "  \n",
       "  var js_urls = [\"https://cdn.bokeh.org/bokeh/release/bokeh-2.2.3.min.js\", \"https://cdn.bokeh.org/bokeh/release/bokeh-widgets-2.2.3.min.js\", \"https://cdn.bokeh.org/bokeh/release/bokeh-tables-2.2.3.min.js\"];\n",
       "  var css_urls = [];\n",
       "  \n",
       "\n",
       "  var inline_js = [\n",
       "    function(Bokeh) {\n",
       "      Bokeh.set_log_level(\"info\");\n",
       "    },\n",
       "    function(Bokeh) {\n",
       "    \n",
       "    \n",
       "    }\n",
       "  ];\n",
       "\n",
       "  function run_inline_js() {\n",
       "    \n",
       "    if (root.Bokeh !== undefined || force === true) {\n",
       "      \n",
       "    for (var i = 0; i < inline_js.length; i++) {\n",
       "      inline_js[i].call(root, root.Bokeh);\n",
       "    }\n",
       "    if (force === true) {\n",
       "        display_loaded();\n",
       "      }} else if (Date.now() < root._bokeh_timeout) {\n",
       "      setTimeout(run_inline_js, 100);\n",
       "    } else if (!root._bokeh_failed_load) {\n",
       "      console.log(\"Bokeh: BokehJS failed to load within specified timeout.\");\n",
       "      root._bokeh_failed_load = true;\n",
       "    } else if (force !== true) {\n",
       "      var cell = $(document.getElementById(\"1769\")).parents('.cell').data().cell;\n",
       "      cell.output_area.append_execute_result(NB_LOAD_WARNING)\n",
       "    }\n",
       "\n",
       "  }\n",
       "\n",
       "  if (root._bokeh_is_loading === 0) {\n",
       "    console.debug(\"Bokeh: BokehJS loaded, going straight to plotting\");\n",
       "    run_inline_js();\n",
       "  } else {\n",
       "    load_libs(css_urls, js_urls, function() {\n",
       "      console.debug(\"Bokeh: BokehJS plotting callback run at\", now());\n",
       "      run_inline_js();\n",
       "    });\n",
       "  }\n",
       "}(window));"
      ],
      "application/vnd.bokehjs_load.v0+json": "\n(function(root) {\n  function now() {\n    return new Date();\n  }\n\n  var force = true;\n\n  if (typeof root._bokeh_onload_callbacks === \"undefined\" || force === true) {\n    root._bokeh_onload_callbacks = [];\n    root._bokeh_is_loading = undefined;\n  }\n\n  \n\n  \n  if (typeof (root._bokeh_timeout) === \"undefined\" || force === true) {\n    root._bokeh_timeout = Date.now() + 5000;\n    root._bokeh_failed_load = false;\n  }\n\n  var NB_LOAD_WARNING = {'data': {'text/html':\n     \"<div style='background-color: #fdd'>\\n\"+\n     \"<p>\\n\"+\n     \"BokehJS does not appear to have successfully loaded. If loading BokehJS from CDN, this \\n\"+\n     \"may be due to a slow or bad network connection. Possible fixes:\\n\"+\n     \"</p>\\n\"+\n     \"<ul>\\n\"+\n     \"<li>re-rerun `output_notebook()` to attempt to load from CDN again, or</li>\\n\"+\n     \"<li>use INLINE resources instead, as so:</li>\\n\"+\n     \"</ul>\\n\"+\n     \"<code>\\n\"+\n     \"from bokeh.resources import INLINE\\n\"+\n     \"output_notebook(resources=INLINE)\\n\"+\n     \"</code>\\n\"+\n     \"</div>\"}};\n\n  function display_loaded() {\n    var el = document.getElementById(\"1769\");\n    if (el != null) {\n      el.textContent = \"BokehJS is loading...\";\n    }\n    if (root.Bokeh !== undefined) {\n      if (el != null) {\n        el.textContent = \"BokehJS \" + root.Bokeh.version + \" successfully loaded.\";\n      }\n    } else if (Date.now() < root._bokeh_timeout) {\n      setTimeout(display_loaded, 100)\n    }\n  }\n\n\n  function run_callbacks() {\n    try {\n      root._bokeh_onload_callbacks.forEach(function(callback) {\n        if (callback != null)\n          callback();\n      });\n    } finally {\n      delete root._bokeh_onload_callbacks\n    }\n    console.debug(\"Bokeh: all callbacks have finished\");\n  }\n\n  function load_libs(css_urls, js_urls, callback) {\n    if (css_urls == null) css_urls = [];\n    if (js_urls == null) js_urls = [];\n\n    root._bokeh_onload_callbacks.push(callback);\n    if (root._bokeh_is_loading > 0) {\n      console.debug(\"Bokeh: BokehJS is being loaded, scheduling callback at\", now());\n      return null;\n    }\n    if (js_urls == null || js_urls.length === 0) {\n      run_callbacks();\n      return null;\n    }\n    console.debug(\"Bokeh: BokehJS not loaded, scheduling load and callback at\", now());\n    root._bokeh_is_loading = css_urls.length + js_urls.length;\n\n    function on_load() {\n      root._bokeh_is_loading--;\n      if (root._bokeh_is_loading === 0) {\n        console.debug(\"Bokeh: all BokehJS libraries/stylesheets loaded\");\n        run_callbacks()\n      }\n    }\n\n    function on_error() {\n      console.error(\"failed to load \" + url);\n    }\n\n    for (var i = 0; i < css_urls.length; i++) {\n      var url = css_urls[i];\n      const element = document.createElement(\"link\");\n      element.onload = on_load;\n      element.onerror = on_error;\n      element.rel = \"stylesheet\";\n      element.type = \"text/css\";\n      element.href = url;\n      console.debug(\"Bokeh: injecting link tag for BokehJS stylesheet: \", url);\n      document.body.appendChild(element);\n    }\n\n    const hashes = {\"https://cdn.bokeh.org/bokeh/release/bokeh-2.2.3.min.js\": \"T2yuo9Oe71Cz/I4X9Ac5+gpEa5a8PpJCDlqKYO0CfAuEszu1JrXLl8YugMqYe3sM\", \"https://cdn.bokeh.org/bokeh/release/bokeh-widgets-2.2.3.min.js\": \"98GDGJ0kOMCUMUePhksaQ/GYgB3+NH9h996V88sh3aOiUNX3N+fLXAtry6xctSZ6\", \"https://cdn.bokeh.org/bokeh/release/bokeh-tables-2.2.3.min.js\": \"89bArO+nlbP3sgakeHjCo1JYxYR5wufVgA3IbUvDY+K7w4zyxJqssu7wVnfeKCq8\"};\n\n    for (var i = 0; i < js_urls.length; i++) {\n      var url = js_urls[i];\n      var element = document.createElement('script');\n      element.onload = on_load;\n      element.onerror = on_error;\n      element.async = false;\n      element.src = url;\n      if (url in hashes) {\n        element.crossOrigin = \"anonymous\";\n        element.integrity = \"sha384-\" + hashes[url];\n      }\n      console.debug(\"Bokeh: injecting script tag for BokehJS library: \", url);\n      document.head.appendChild(element);\n    }\n  };\n\n  function inject_raw_css(css) {\n    const element = document.createElement(\"style\");\n    element.appendChild(document.createTextNode(css));\n    document.body.appendChild(element);\n  }\n\n  \n  var js_urls = [\"https://cdn.bokeh.org/bokeh/release/bokeh-2.2.3.min.js\", \"https://cdn.bokeh.org/bokeh/release/bokeh-widgets-2.2.3.min.js\", \"https://cdn.bokeh.org/bokeh/release/bokeh-tables-2.2.3.min.js\"];\n  var css_urls = [];\n  \n\n  var inline_js = [\n    function(Bokeh) {\n      Bokeh.set_log_level(\"info\");\n    },\n    function(Bokeh) {\n    \n    \n    }\n  ];\n\n  function run_inline_js() {\n    \n    if (root.Bokeh !== undefined || force === true) {\n      \n    for (var i = 0; i < inline_js.length; i++) {\n      inline_js[i].call(root, root.Bokeh);\n    }\n    if (force === true) {\n        display_loaded();\n      }} else if (Date.now() < root._bokeh_timeout) {\n      setTimeout(run_inline_js, 100);\n    } else if (!root._bokeh_failed_load) {\n      console.log(\"Bokeh: BokehJS failed to load within specified timeout.\");\n      root._bokeh_failed_load = true;\n    } else if (force !== true) {\n      var cell = $(document.getElementById(\"1769\")).parents('.cell').data().cell;\n      cell.output_area.append_execute_result(NB_LOAD_WARNING)\n    }\n\n  }\n\n  if (root._bokeh_is_loading === 0) {\n    console.debug(\"Bokeh: BokehJS loaded, going straight to plotting\");\n    run_inline_js();\n  } else {\n    load_libs(css_urls, js_urls, function() {\n      console.debug(\"Bokeh: BokehJS plotting callback run at\", now());\n      run_inline_js();\n    });\n  }\n}(window));"
     },
     "metadata": {},
     "output_type": "display_data"
    },
    {
     "data": {
      "text/html": [
       "\n",
       "\n",
       "\n",
       "\n",
       "\n",
       "\n",
       "  <div class=\"bk-root\" id=\"b8fbd7b9-b2c1-437e-9029-e91ae174625f\" data-root-id=\"1770\"></div>\n"
      ]
     },
     "metadata": {},
     "output_type": "display_data"
    },
    {
     "data": {
      "application/javascript": [
       "(function(root) {\n",
       "  function embed_document(root) {\n",
       "    \n",
       "  var docs_json = {\"1438e019-3379-4cde-a727-b112476fd617\":{\"roots\":{\"references\":[{\"attributes\":{\"below\":[{\"id\":\"1781\"}],\"center\":[{\"id\":\"1784\"},{\"id\":\"1788\"},{\"id\":\"1818\"}],\"left\":[{\"id\":\"1785\"}],\"plot_height\":400,\"plot_width\":750,\"renderers\":[{\"id\":\"1808\"}],\"title\":{\"id\":\"1771\"},\"toolbar\":{\"id\":\"1796\"},\"x_range\":{\"id\":\"1773\"},\"x_scale\":{\"id\":\"1777\"},\"y_range\":{\"id\":\"1775\"},\"y_scale\":{\"id\":\"1779\"}},\"id\":\"1770\",\"subtype\":\"Figure\",\"type\":\"Plot\"},{\"attributes\":{\"text\":\"Predicted Earnings\"},\"id\":\"1771\",\"type\":\"Title\"},{\"attributes\":{},\"id\":\"1775\",\"type\":\"DataRange1d\"},{\"attributes\":{\"axis\":{\"id\":\"1785\"},\"dimension\":1,\"ticker\":null},\"id\":\"1788\",\"type\":\"Grid\"},{\"attributes\":{\"active_drag\":\"auto\",\"active_inspect\":\"auto\",\"active_multi\":null,\"active_scroll\":\"auto\",\"active_tap\":\"auto\",\"tools\":[{\"id\":\"1789\"},{\"id\":\"1790\"},{\"id\":\"1791\"},{\"id\":\"1792\"},{\"id\":\"1793\"},{\"id\":\"1794\"}]},\"id\":\"1796\",\"type\":\"Toolbar\"},{\"attributes\":{\"source\":{\"id\":\"1804\"}},\"id\":\"1809\",\"type\":\"CDSView\"},{\"attributes\":{\"index\":4,\"label\":{\"value\":\"9\"},\"renderers\":[{\"id\":\"1808\"}]},\"id\":\"1820\",\"type\":\"LegendItem\"},{\"attributes\":{\"data_source\":{\"id\":\"1804\"},\"glyph\":{\"id\":\"1806\"},\"hover_glyph\":null,\"muted_glyph\":null,\"nonselection_glyph\":{\"id\":\"1807\"},\"selection_glyph\":null,\"view\":{\"id\":\"1809\"}},\"id\":\"1808\",\"type\":\"GlyphRenderer\"},{\"attributes\":{},\"id\":\"1782\",\"type\":\"BasicTicker\"},{\"attributes\":{\"items\":[{\"id\":\"1819\"},{\"id\":\"1820\"}]},\"id\":\"1818\",\"type\":\"Legend\"},{\"attributes\":{\"index\":0,\"label\":{\"value\":\"1\"},\"renderers\":[{\"id\":\"1808\"}]},\"id\":\"1819\",\"type\":\"LegendItem\"},{\"attributes\":{},\"id\":\"1793\",\"type\":\"ResetTool\"},{\"attributes\":{\"axis\":{\"id\":\"1781\"},\"ticker\":null},\"id\":\"1784\",\"type\":\"Grid\"},{\"attributes\":{},\"id\":\"1773\",\"type\":\"DataRange1d\"},{\"attributes\":{\"fill_alpha\":{\"value\":0.1},\"fill_color\":{\"field\":\"REGION\",\"transform\":{\"id\":\"1803\"}},\"line_alpha\":{\"value\":0.1},\"line_color\":{\"value\":\"#1f77b4\"},\"size\":{\"units\":\"screen\",\"value\":5},\"x\":{\"field\":\"pred\"},\"y\":{\"field\":\"truth\"}},\"id\":\"1807\",\"type\":\"Circle\"},{\"attributes\":{},\"id\":\"1786\",\"type\":\"BasicTicker\"},{\"attributes\":{\"factors\":[\"1\",\"9\"],\"palette\":[\"#3288bd\",\"#99d594\",\"#e6f598\",\"#fee08b\",\"#fc8d59\",\"#d53e4f\"]},\"id\":\"1803\",\"type\":\"CategoricalColorMapper\"},{\"attributes\":{},\"id\":\"1816\",\"type\":\"UnionRenderers\"},{\"attributes\":{\"fill_alpha\":{\"value\":0.75},\"fill_color\":{\"field\":\"REGION\",\"transform\":{\"id\":\"1803\"}},\"line_color\":{\"value\":\"#1f77b4\"},\"size\":{\"units\":\"screen\",\"value\":5},\"x\":{\"field\":\"pred\"},\"y\":{\"field\":\"truth\"}},\"id\":\"1806\",\"type\":\"Circle\"},{\"attributes\":{\"overlay\":{\"id\":\"1795\"}},\"id\":\"1791\",\"type\":\"BoxZoomTool\"},{\"attributes\":{},\"id\":\"1794\",\"type\":\"HelpTool\"},{\"attributes\":{},\"id\":\"1789\",\"type\":\"PanTool\"},{\"attributes\":{},\"id\":\"1792\",\"type\":\"SaveTool\"},{\"attributes\":{\"bottom_units\":\"screen\",\"fill_alpha\":0.5,\"fill_color\":\"lightgrey\",\"left_units\":\"screen\",\"level\":\"overlay\",\"line_alpha\":1.0,\"line_color\":\"black\",\"line_dash\":[4,4],\"line_width\":2,\"right_units\":\"screen\",\"top_units\":\"screen\"},\"id\":\"1795\",\"type\":\"BoxAnnotation\"},{\"attributes\":{},\"id\":\"1779\",\"type\":\"LinearScale\"},{\"attributes\":{\"format\":\"$0,0.0\"},\"id\":\"1823\",\"type\":\"NumeralTickFormatter\"},{\"attributes\":{\"data\":{\"ADM_RATE_ALL\":{\"__ndarray__\":\"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\",\"dtype\":\"float64\",\"order\":\"little\",\"shape\":[668]},\"CCSIZSET\":[\"11\",\"17\",\"13\",\"18\",\"6\",\"17\",\"17\",\"14\",\"14\",\"-2\",\"9\",\"15\",\"3\",\"-2\",\"14\",\"11\",\"10\",\"13\",\"9\",\"14\",\"14\",\"12\",\"17\",\"17\",\"11\",\"11\",\"14\",\"15\",\"12\",\"9\",\"17\",\"14\",\"11\",\"12\",\"17\",\"-2\",\"15\",\"-2\",\"17\",\"13\",\"2\",\"-2\",\"3\",\"6\",\"16\",\"17\",\"13\",\"-2\",\"2\",\"11\",\"2\",\"14\",\"17\",\"13\",\"17\",\"11\",\"1\",\"-2\",\"13\",\"17\",\"13\",\"17\",\"-2\",\"12\",\"11\",\"13\",\"17\",\"3\",\"9\",\"11\",\"3\",\"17\",\"17\",\"4\",\"2\",\"15\",\"13\",\"16\",\"6\",\"13\",\"-2\",\"13\",\"13\",\"14\",\"17\",\"-2\",\"14\",\"13\",\"17\",\"11\",\"13\",\"17\",\"17\",\"11\",\"14\",\"13\",\"6\",\"-2\",\"9\",\"15\",\"18\",\"11\",\"3\",\"6\",\"6\",\"11\",\"15\",\"13\",\"14\",\"17\",\"14\",\"15\",\"17\",\"-2\",\"17\",\"16\",\"12\",\"13\",\"15\",\"14\",\"13\",\"17\",\"13\",\"17\",\"12\",\"13\",\"14\",\"11\",\"12\",\"-2\",\"14\",\"14\",\"12\",\"2\",\"15\",\"13\",\"15\",\"17\",\"15\",\"18\",\"18\",\"11\",\"11\",\"17\",\"17\",\"2\",\"11\",\"-2\",\"3\",\"11\",\"-2\",\"16\",\"12\",\"6\",\"-2\",\"11\",\"6\",\"14\",\"11\",\"-2\",\"11\",\"14\",\"-2\",\"10\",\"11\",\"3\",\"-2\",\"-2\",\"17\",\"17\",\"14\",\"14\",\"17\",\"13\",\"17\",\"12\",\"-2\",\"-2\",\"10\",\"-2\",\"17\",\"14\",\"13\",\"9\",\"13\",\"6\",\"18\",\"6\",\"14\",\"17\",\"15\",\"14\",\"17\",\"13\",\"-2\",\"14\",\"6\",\"14\",\"-2\",\"-2\",\"6\",\"14\",\"9\",\"13\",\"18\",\"14\",\"-2\",\"15\",\"17\",\"11\",\"-2\",\"-2\",\"15\",\"17\",\"-2\",\"12\",\"6\",\"12\",\"17\",\"13\",\"-2\",\"14\",\"14\",\"13\",\"11\",\"-2\",\"14\",\"17\",\"15\",\"6\",\"11\",\"17\",\"8\",\"14\",\"17\",\"11\",\"12\",\"9\",\"9\",\"12\",\"-2\",\"9\",\"9\",\"17\",\"16\",\"14\",\"13\",\"12\",\"16\",\"9\",\"17\",\"6\",\"15\",\"14\",\"17\",\"14\",\"13\",\"9\",\"16\",\"3\",\"10\",\"6\",\"17\",\"6\",\"15\",\"13\",\"-2\",\"6\",\"4\",\"14\",\"3\",\"8\",\"16\",\"11\",\"12\",\"13\",\"10\",\"1\",\"17\",\"12\",\"14\",\"2\",\"14\",\"14\",\"14\",\"13\",\"17\",\"16\",\"11\",\"16\",\"-2\",\"11\",\"9\",\"15\",\"2\",\"13\",\"17\",\"9\",\"3\",\"-2\",\"15\",\"1\",\"-2\",\"9\",\"3\",\"9\",\"11\",\"11\",\"14\",\"-2\",\"-2\",\"17\",\"17\",\"15\",\"6\",\"17\",\"17\",\"13\",\"14\",\"-2\",\"-2\",\"-2\",\"6\",\"11\",\"2\",\"12\",\"10\",\"6\",\"11\",\"-2\",\"12\",\"-2\",\"-2\",\"16\",\"16\",\"14\",\"14\",\"11\",\"3\",\"15\",\"6\",\"13\",\"11\",\"14\",\"11\",\"17\",\"-2\",\"17\",\"17\",\"-2\",\"3\",\"17\",\"17\",\"17\",\"4\",\"6\",\"-2\",\"2\",\"13\",\"-2\",\"-2\",\"8\",\"16\",\"9\",\"12\",\"13\",\"15\",\"6\",\"11\",\"13\",\"14\",\"11\",\"3\",\"11\",\"9\",\"17\",\"10\",\"-2\",\"11\",\"14\",\"10\",\"14\",\"11\",\"14\",\"13\",\"13\",\"14\",\"14\",\"3\",\"17\",\"14\",\"12\",\"11\",\"12\",\"10\",\"8\",\"9\",\"15\",\"9\",\"6\",\"13\",\"14\",\"17\",\"8\",\"13\",\"14\",\"13\",\"17\",\"17\",\"3\",\"1\",\"17\",\"11\",\"-2\",\"14\",\"11\",\"11\",\"14\",\"-2\",\"6\",\"14\",\"12\",\"18\",\"6\",\"3\",\"3\",\"11\",\"6\",\"-2\",\"9\",\"17\",\"13\",\"11\",\"-2\",\"17\",\"-2\",\"14\",\"10\",\"14\",\"14\",\"13\",\"11\",\"14\",\"-2\",\"13\",\"14\",\"14\",\"10\",\"17\",\"15\",\"-2\",\"-2\",\"9\",\"12\",\"17\",\"-2\",\"14\",\"10\",\"-2\",\"3\",\"17\",\"3\",\"14\",\"17\",\"-2\",\"17\",\"6\",\"13\",\"3\",\"1\",\"17\",\"6\",\"14\",\"10\",\"9\",\"17\",\"13\",\"17\",\"14\",\"13\",\"18\",\"13\",\"14\",\"17\",\"11\",\"-2\",\"14\",\"17\",\"15\",\"8\",\"6\",\"17\",\"17\",\"12\",\"13\",\"15\",\"6\",\"9\",\"13\",\"6\",\"6\",\"11\",\"11\",\"2\",\"3\",\"13\",\"17\",\"17\",\"6\",\"13\",\"14\",\"11\",\"11\",\"17\",\"14\",\"12\",\"11\",\"14\",\"12\",\"10\",\"17\",\"12\",\"14\",\"3\",\"12\",\"13\",\"10\",\"14\",\"3\",\"17\",\"-2\",\"16\",\"13\",\"-2\",\"11\",\"14\",\"11\",\"14\",\"14\",\"13\",\"9\",\"11\",\"11\",\"13\",\"6\",\"13\",\"-2\",\"6\",\"11\",\"12\",\"3\",\"11\",\"13\",\"16\",\"12\",\"14\",\"9\",\"13\",\"17\",\"3\",\"15\",\"13\",\"11\",\"11\",\"17\",\"9\",\"-2\",\"10\",\"11\",\"11\",\"17\",\"17\",\"11\",\"17\",\"11\",\"17\",\"15\",\"12\",\"16\",\"-2\",\"11\",\"13\",\"11\",\"15\",\"12\",\"-2\",\"12\",\"13\",\"15\",\"12\",\"17\",\"13\",\"17\",\"-2\",\"14\",\"6\",\"9\",\"3\",\"18\",\"3\",\"17\",\"17\",\"14\",\"11\",\"11\",\"14\",\"13\",\"17\",\"14\",\"13\",\"2\",\"15\",\"17\",\"2\",\"6\",\"10\",\"12\",\"13\",\"15\",\"12\",\"11\",\"11\",\"-2\",\"1\",\"13\",\"13\",\"11\",\"14\",\"14\",\"-2\",\"10\",\"2\",\"12\",\"15\",\"13\",\"6\",\"14\",\"17\",\"14\",\"13\",\"12\",\"15\",\"14\",\"8\",\"6\",\"15\",\"14\",\"16\",\"15\",\"12\",\"17\",\"-2\",\"13\",\"12\",\"14\",\"14\",\"-2\",\"-2\",\"14\",\"14\",\"6\",\"10\",\"12\",\"17\",\"12\",\"14\",\"14\",\"-2\"],\"CIPDESC\":[\"Education, General.\",\"Communication Disorders Sciences and Services.\",\"Public Health.\",\"Teacher Education and Professional Development, Specific Levels and Methods.\",\"Business Administration, Management and Operations.\",\"Registered Nursing, Nursing Administration, Nursing Research and Clinical Nursing.\",\"Registered Nursing, Nursing Administration, Nursing Research and Clinical Nursing.\",\"Teacher Education and Professional Development, Specific Subject Areas.\",\"Anthropology.\",\"Mechanical Engineering.\",\"Practical Nursing, Vocational Nursing and Nursing Assistants.\",\"Linguistic, Comparative, and Related Language Studies and Services.\",\"Registered Nursing, Nursing Administration, Nursing Research and Clinical Nursing.\",\"Cosmetology and Related Personal Grooming Services.\",\"Multi/Interdisciplinary Studies, Other.\",\"International Relations and National Security Studies.\",\"Music.\",\"English Language and Literature, General.\",\"Criminal Justice and Corrections.\",\"Civil Engineering.\",\"Communication and Media Studies.\",\"Sociology.\",\"Ecology, Evolution, Systematics, and Population Biology.\",\"Romance Languages, Literatures, and Linguistics.\",\"Business Administration, Management and Operations.\",\"Psychology, General.\",\"Teacher Education and Professional Development, Specific Subject Areas.\",\"Health and Physical Education/Fitness.\",\"Air Transportation.\",\"Biotechnology.\",\"Microbiological Sciences and Immunology.\",\"Marketing.\",\"Criminal Justice and Corrections.\",\"Criminal Justice and Corrections.\",\"Animal Sciences.\",\"Culinary Arts and Related Services.\",\"Social Work.\",\"Vehicle Maintenance and Repair Technologies.\",\"History.\",\"International Relations and National Security Studies.\",\"Teacher Education and Professional Development, Specific Levels and Methods.\",\"Anthropology.\",\"Fire Protection.\",\"Liberal Arts and Sciences, General Studies and Humanities.\",\"Clinical, Counseling and Applied Psychology.\",\"Arts, Entertainment,and Media Management.\",\"Registered Nursing, Nursing Administration, Nursing Research and Clinical Nursing.\",\"Biology, General.\",\"Funeral Service and Mortuary Science.\",\"Teacher Education and Professional Development, Specific Subject Areas.\",\"Liberal Arts and Sciences, General Studies and Humanities.\",\"Business Administration, Management and Operations.\",\"Special Education and Teaching.\",\"Visual and Performing Arts, General.\",\"Anthropology.\",\"Liberal Arts and Sciences, General Studies and Humanities.\",\"Culinary Arts and Related Services.\",\"Fine and Studio Arts.\",\"English Language and Literature, General.\",\"Multi/Interdisciplinary Studies, Other.\",\"Mental and Social Health Services and Allied Professions.\",\"Allied Health Diagnostic, Intervention, and Treatment Professions.\",\"Health and Physical Education/Fitness.\",\"Medical Illustration and Informatics.\",\"Economics.\",\"Biomedical/Medical Engineering.\",\"Civil Engineering.\",\"Engineering Technologies/Technicians, Other.\",\"Accounting and Related Services.\",\"International Business.\",\"Mechanical Engineering Related Technologies/Technicians.\",\"Biomathematics, Bioinformatics, and Computational Biology.\",\"Neurobiology and Neurosciences.\",\"Health and Medical Administrative Services.\",\"Liberal Arts and Sciences, General Studies and Humanities.\",\"Mechanical Engineering.\",\"Education, Other.\",\"Social Sciences, Other.\",\"Criminal Justice and Corrections.\",\"Civil Engineering.\",\"Business Administration, Management and Operations.\",\"Entrepreneurial and Small Business Operations.\",\"History.\",\"Design and Applied Arts.\",\"Psychology, General.\",\"Practical Nursing, Vocational Nursing and Nursing Assistants.\",\"Economics.\",\"English Language and Literature, General.\",\"Theological and Ministerial Studies.\",\"Student Counseling and Personnel Services.\",\"Optometry.\",\"Business Administration, Management and Operations.\",\"Electrical, Electronics and Communications Engineering.\",\"Business Administration, Management and Operations.\",\"Registered Nursing, Nursing Administration, Nursing Research and Clinical Nursing.\",\"Biochemistry, Biophysics and Molecular Biology.\",\"Visual and Performing Arts, Other.\",\"Cosmetology and Related Personal Grooming Services.\",\"Civil Engineering.\",\"Educational/Instructional Media Design.\",\"Movement and Mind-Body Therapies and Education.\",\"Special Education and Teaching.\",\"Electrical Engineering Technologies/Technicians.\",\"Practical Nursing, Vocational Nursing and Nursing Assistants.\",\"Health and Medical Administrative Services.\",\"Natural Resources Conservation and Research.\",\"Human Resources Management and Services.\",\"Registered Nursing, Nursing Administration, Nursing Research and Clinical Nursing.\",\"Geography and Cartography.\",\"Curriculum and Instruction.\",\"Communication and Media Studies.\",\"Management Information Systems and Services.\",\"Biology, General.\",\"Accounting and Related Services.\",\"Clinical/Medical Laboratory Science/Research and Allied Professions.\",\"Germanic Languages, Literatures, and Linguistics.\",\"Natural Resources Conservation and Research.\",\"Health and Medical Administrative Services.\",\"Criminal Justice and Corrections.\",\"Psychology, General.\",\"Business Administration, Management and Operations.\",\"Computer and Information Sciences, General.\",\"Finance and Financial Management Services.\",\"Theological and Ministerial Studies.\",\"Entrepreneurial and Small Business Operations.\",\"Clinical, Counseling and Applied Psychology.\",\"Public Health.\",\"Area Studies.\",\"Business/Commerce, General.\",\"Cosmetology and Related Personal Grooming Services.\",\"Accounting and Related Services.\",\"Accounting and Related Services.\",\"Finance and Financial Management Services.\",\"Vehicle Maintenance and Repair Technologies.\",\"Business Administration, Management and Operations.\",\"History.\",\"Microbiological Sciences and Immunology.\",\"Psychology, General.\",\"Accounting and Related Services.\",\"Optometry.\",\"Law.\",\"Business/Commerce, General.\",\"Romance Languages, Literatures, and Linguistics.\",\"Teacher Education and Professional Development, Specific Levels and Methods.\",\"Social Work.\",\"Electromechanical Instrumentation and Maintenance Technologies/Technicians.\",\"Romance Languages, Literatures, and Linguistics.\",\"Practical Nursing, Vocational Nursing and Nursing Assistants.\",\"Allied Health Diagnostic, Intervention, and Treatment Professions.\",\"Linguistic, Comparative, and Related Language Studies and Services.\",\"Computer Systems Analysis.\",\"Public Health.\",\"Health and Physical Education/Fitness.\",\"Clinical, Counseling and Applied Psychology.\",\"Legal Support Services.\",\"Economics.\",\"Business Administration, Management and Operations.\",\"Liberal Arts and Sciences, General Studies and Humanities.\",\"Sociology.\",\"Cosmetology and Related Personal Grooming Services.\",\"Natural Resources Conservation and Research.\",\"Business Administration, Management and Operations.\",\"Physics.\",\"Psychology, General.\",\"Business Administration, Management and Operations.\",\"Criminal Justice and Corrections.\",\"Environmental Control Technologies/Technicians.\",\"Health and Medical Administrative Services.\",\"Landscape Architecture.\",\"Public Administration.\",\"Special Education and Teaching.\",\"Geological and Earth Sciences/Geosciences.\",\"Accounting and Related Services.\",\"Teacher Education and Professional Development, Specific Levels and Methods.\",\"Materials Engineering\",\"Music.\",\"Vehicle Maintenance and Repair Technologies.\",\"Management Sciences and Quantitative Methods.\",\"Student Counseling and Personnel Services.\",\"Allied Health and Medical Assisting Services.\",\"Industrial Engineering.\",\"Political Science and Government.\",\"Romance Languages, Literatures, and Linguistics.\",\"Business Administration, Management and Operations.\",\"Rehabilitation and Therapeutic Professions.\",\"Specialized Sales, Merchandising and  Marketing Operations.\",\"Biology, General.\",\"Medicine.\",\"Information Science/Studies.\",\"Civil Engineering.\",\"Educational Administration and Supervision.\",\"Electrical, Electronics and Communications Engineering.\",\"Business/Commerce, General.\",\"Education, General.\",\"Film/Video and Photographic Arts.\",\"Law.\",\"Teacher Education and Professional Development, Specific Levels and Methods.\",\"Business Administration, Management and Operations.\",\"Geography and Cartography.\",\"Political Science and Government.\",\"Educational Administration and Supervision.\",\"Environmental Control Technologies/Technicians.\",\"Business Administration, Management and Operations.\",\"Biology, General.\",\"Optometry.\",\"Mechanical Engineering.\",\"Nutrition Sciences.\",\"Accounting and Related Services.\",\"Health and Medical Administrative Services.\",\"Marketing.\",\"Health and Medical Administrative Services.\",\"Accounting and Related Services.\",\"Communication Disorders Sciences and Services.\",\"Religious/Sacred Music.\",\"Allied Health and Medical Assisting Services.\",\"Health Services/Allied Health/Health Sciences, General.\",\"Registered Nursing, Nursing Administration, Nursing Research and Clinical Nursing.\",\"Health and Medical Administrative Services.\",\"Political Science and Government.\",\"Multi/Interdisciplinary Studies, Other.\",\"Civil Engineering.\",\"Criminal Justice and Corrections.\",\"Area Studies.\",\"Registered Nursing, Nursing Administration, Nursing Research and Clinical Nursing.\",\"Allied Health Diagnostic, Intervention, and Treatment Professions.\",\"Somatic Bodywork and Related Therapeutic Services.\",\"Public Relations, Advertising, and Applied Communication.\",\"Aerospace, Aeronautical and Astronautical Engineering.\",\"Business Administration, Management and Operations.\",\"Accounting and Related Services.\",\"Mathematics.\",\"Aerospace, Aeronautical and Astronautical Engineering.\",\"Registered Nursing, Nursing Administration, Nursing Research and Clinical Nursing.\",\"International/Global Studies.\",\"Human Development, Family Studies, and Related Services.\",\"Liberal Arts and Sciences, General Studies and Humanities.\",\"Criminology.\",\"Mechanical Engineering Related Technologies/Technicians.\",\"Teacher Education and Professional Development, Specific Levels and Methods.\",\"Psychology, General.\",\"Civil Engineering.\",\"Computer Software and Media Applications.\",\"Architecture.\",\"Chemistry.\",\"Psychology, General.\",\"Economics.\",\"Student Counseling and Personnel Services.\",\"Research and Experimental Psychology.\",\"Political Science and Government.\",\"Registered Nursing, Nursing Administration, Nursing Research and Clinical Nursing.\",\"Allied Health Diagnostic, Intervention, and Treatment Professions.\",\"Psychology, General.\",\"Business Operations Support and Assistant Services.\",\"Film/Video and Photographic Arts.\",\"Civil Engineering.\",\"Mechanical Engineering.\",\"Leisure and Recreational Activities.\",\"Veterinary/Animal Health Technologies/Technicians.\",\"Applied Horticulture and Horticultural Business Services.\",\"Business Administration, Management and Operations.\",\"Registered Nursing, Nursing Administration, Nursing Research and Clinical Nursing.\",\"Allied Health and Medical Assisting Services.\",\"Radio, Television, and Digital Communication.\",\"Allied Health and Medical Assisting Services.\",\"Marketing.\",\"English Language and Literature, General.\",\"Multi/Interdisciplinary Studies, Other.\",\"Educational Administration and Supervision.\",\"Registered Nursing, Nursing Administration, Nursing Research and Clinical Nursing.\",\"Fine and Studio Arts.\",\"Heating, Air Conditioning, Ventilation and Refrigeration Maintenance Technology/Technician (HAC, HACR, HVAC, HVACR).\",\"Mechanical Engineering.\",\"Chemical Engineering.\",\"Visual and Performing Arts, General.\",\"Security Science and Technology.\",\"Construction Engineering Technologies.\",\"Veterinary/Animal Health Technologies/Technicians.\",\"Allied Health and Medical Assisting Services.\",\"Music.\",\"Social Work.\",\"Business/Commerce, General.\",\"Computer Systems Networking and Telecommunications.\",\"Fine and Studio Arts.\",\"Computer Engineering Technologies/Technicians.\",\"Physiology, Pathology and Related Sciences.\",\"Educational Administration and Supervision.\",\"Natural Resources Conservation and Research.\",\"Music.\",\"Mathematics.\",\"Mathematics.\",\"Ethnic, Cultural Minority, Gender, and Group Studies.\",\"Education, General.\",\"Computer Software and Media Applications.\",\"Registered Nursing, Nursing Administration, Nursing Research and Clinical Nursing.\",\"Engineering Technology, General.\",\"Electrical Engineering Technologies/Technicians.\",\"Special Education and Teaching.\",\"Special Education and Teaching.\",\"Allied Health Diagnostic, Intervention, and Treatment Professions.\",\"Liberal Arts and Sciences, General Studies and Humanities.\",\"Criminal Justice and Corrections.\",\"Woodworking.\",\"Psychology, General.\",\"Teacher Education and Professional Development, Specific Levels and Methods.\",\"Electrical Engineering Technologies/Technicians.\",\"Design and Applied Arts.\",\"Sociology.\",\"Fine and Studio Arts.\",\"English Language and Literature, General.\",\"Carpenters.\",\"Electrical Engineering Technologies/Technicians.\",\"Biological and Biomedical Sciences, Other.\",\"Psychology, General.\",\"Business Administration, Management and Operations.\",\"Registered Nursing, Nursing Administration, Nursing Research and Clinical Nursing.\",\"Computer Engineering.\",\"Communication and Media Studies.\",\"Accounting and Related Services.\",\"Electrical Engineering Technologies/Technicians.\",\"Vehicle Maintenance and Repair Technologies.\",\"Clinical, Counseling and Applied Psychology.\",\"Biomedical/Medical Engineering.\",\"Clinical, Counseling and Applied Psychology.\",\"Public Health.\",\"Social Sciences, General.\",\"English Language and Literature, General.\",\"Teacher Education and Professional Development, Specific Levels and Methods.\",\"Environmental Design.\",\"Psychology, General.\",\"Health and Medical Administrative Services.\",\"Computer and Information Sciences, General.\",\"Cell/Cellular Biology and Anatomical Sciences.\",\"Economics.\",\"Registered Nursing, Nursing Administration, Nursing Research and Clinical Nursing.\",\"Biomedical/Medical Engineering.\",\"Social Sciences, Other.\",\"Marketing.\",\"Social Work.\",\"Teacher Education and Professional Development, Specific Levels and Methods.\",\"Marketing.\",\"Design and Applied Arts.\",\"Taxation.\",\"Communication and Media Studies.\",\"English Language and Literature, General.\",\"Management Sciences and Quantitative Methods.\",\"Special Education and Teaching.\",\"Geological and Earth Sciences/Geosciences.\",\"Public Health.\",\"Chemical Engineering.\",\"Cosmetology and Related Personal Grooming Services.\",\"Mental and Social Health Services and Allied Professions.\",\"Mathematics.\",\"Political Science and Government.\",\"Journalism.\",\"Allied Health and Medical Assisting Services.\",\"Education, General.\",\"Drama/Theatre Arts and Stagecraft.\",\"Registered Nursing, Nursing Administration, Nursing Research and Clinical Nursing.\",\"Multi-/Interdisciplinary Studies, General.\",\"History.\",\"Cosmetology and Related Personal Grooming Services.\",\"Engineering, General.\",\"History.\",\"Allied Health Diagnostic, Intervention, and Treatment Professions.\",\"Dental Support Services and Allied Professions.\",\"Special Education and Teaching.\",\"Rehabilitation and Therapeutic Professions.\",\"Computer and Information Sciences, General.\",\"Teacher Education and Professional Development, Specific Levels and Methods.\",\"Economics.\",\"Design and Applied Arts.\",\"Registered Nursing, Nursing Administration, Nursing Research and Clinical Nursing.\",\"Business Administration, Management and Operations.\",\"Area Studies.\",\"Business Administration, Management and Operations.\",\"Fine and Studio Arts.\",\"Business Administration, Management and Operations.\",\"Registered Nursing, Nursing Administration, Nursing Research and Clinical Nursing.\",\"Business/Managerial Economics.\",\"Film/Video and Photographic Arts.\",\"Audiovisual Communications Technologies/Technicians.\",\"Electrical, Electronics and Communications Engineering.\",\"Ethnic, Cultural Minority, Gender, and Group Studies.\",\"Criminal Justice and Corrections.\",\"Chemical Engineering.\",\"Visual and Performing Arts, General.\",\"English Language and Literature, General.\",\"Communication and Media Studies.\",\"Allied Health Diagnostic, Intervention, and Treatment Professions.\",\"Advanced/Graduate Dentistry and Oral Sciences.\",\"Biological and Biomedical Sciences, Other.\",\"Accounting and Related Services.\",\"Criminal Justice and Corrections.\",\"Biological and Biomedical Sciences, Other.\",\"Teacher Education and Professional Development, Specific Subject Areas.\",\"Natural Resources Conservation and Research.\",\"Health and Medical Administrative Services.\",\"Human Resources Management and Services.\",\"Criminal Justice and Corrections.\",\"Health Services/Allied Health/Health Sciences, General.\",\"Geography and Cartography.\",\"History.\",\"Civil Engineering.\",\"Communication and Media Studies.\",\"Registered Nursing, Nursing Administration, Nursing Research and Clinical Nursing.\",\"Psychology, Other.\",\"Film/Video and Photographic Arts.\",\"Economics.\",\"Agricultural Production Operations.\",\"Culinary Arts and Related Services.\",\"Teacher Education and Professional Development, Specific Levels and Methods.\",\"Computer Science.\",\"Economics.\",\"Cosmetology and Related Personal Grooming Services.\",\"Biology, General.\",\"Teacher Education and Professional Development, Specific Subject Areas.\",\"History.\",\"Management Sciences and Quantitative Methods.\",\"Statistics.\",\"Registered Nursing, Nursing Administration, Nursing Research and Clinical Nursing.\",\"Culinary Arts and Related Services.\",\"Visual and Performing Arts, Other.\",\"Clinical, Counseling and Applied Psychology.\",\"Allied Health and Medical Assisting Services.\",\"Mental and Social Health Services and Allied Professions.\",\"Radio, Television, and Digital Communication.\",\"Political Science and Government.\",\"Accounting and Related Services.\",\"Allied Health and Medical Assisting Services.\",\"Health Professions and Related Clinical Sciences, Other.\",\"Geography and Cartography.\",\"Criminal Justice and Corrections.\",\"Biology, General.\",\"Somatic Bodywork and Related Therapeutic Services.\",\"Neurobiology and Neurosciences.\",\"Mathematics.\",\"Teacher Education and Professional Development, Specific Levels and Methods.\",\"Atmospheric Sciences and Meteorology.\",\"Accounting and Related Services.\",\"Computer Science.\",\"Teacher Education and Professional Development, Specific Subject Areas.\",\"Engineering Technologies/Technicians, Other.\",\"Natural Resources Conservation and Research.\",\"Cosmetology and Related Personal Grooming Services.\",\"Mechanical Engineering Related Technologies/Technicians.\",\"Community Organization and Advocacy.\",\"Clinical, Counseling and Applied Psychology.\",\"Education, Other.\",\"Criminal Justice and Corrections.\",\"Business Administration, Management and Operations.\",\"Transportation and Materials Moving, Other.\",\"Human Development, Family Studies, and Related Services.\",\"Registered Nursing, Nursing Administration, Nursing Research and Clinical Nursing.\",\"Sociology.\",\"Education, General.\",\"Educational Administration and Supervision.\",\"Electrical Engineering Technologies/Technicians.\",\"Vehicle Maintenance and Repair Technologies.\",\"English Language and Literature, General.\",\"Business Operations Support and Assistant Services.\",\"Registered Nursing, Nursing Administration, Nursing Research and Clinical Nursing.\",\"Criminal Justice and Corrections.\",\"Hospitality Administration/Management.\",\"Law.\",\"Practical Nursing, Vocational Nursing and Nursing Assistants.\",\"Design and Applied Arts.\",\"Accounting and Related Services.\",\"Business Administration, Management and Operations.\",\"Registered Nursing, Nursing Administration, Nursing Research and Clinical Nursing.\",\"Practical Nursing, Vocational Nursing and Nursing Assistants.\",\"Computer Science.\",\"Non-Professional General Legal Studies (Undergraduate).\",\"Accounting and Related Services.\",\"Clinical, Counseling and Applied Psychology.\",\"Communication Disorders Sciences and Services.\",\"Registered Nursing, Nursing Administration, Nursing Research and Clinical Nursing.\",\"Psychology, General.\",\"Rehabilitation and Therapeutic Professions.\",\"History.\",\"International Relations and National Security Studies.\",\"Legal Professions and Studies, Other.\",\"Social Work.\",\"Ecology, Evolution, Systematics, and Population Biology.\",\"Business/Commerce, General.\",\"Marketing.\",\"Applied Mathematics.\",\"Fine and Studio Arts.\",\"English Language and Literature, General.\",\"Social Sciences, General.\",\"Ecology, Evolution, Systematics, and Population Biology.\",\"Business/Commerce, General.\",\"Biopsychology.\",\"Clinical/Medical Laboratory Science/Research and Allied Professions.\",\"History.\",\"Clinical, Counseling and Applied Psychology.\",\"Linguistic, Comparative, and Related Language Studies and Services.\",\"Finance and Financial Management Services.\",\"Educational Administration and Supervision.\",\"Psychology, General.\",\"Legal Support Services.\",\"Clinical, Counseling and Applied Psychology.\",\"Communication and Media Studies.\",\"Architecture.\",\"Registered Nursing, Nursing Administration, Nursing Research and Clinical Nursing.\",\"Dental Support Services and Allied Professions.\",\"Industrial Engineering.\",\"Chemistry.\",\"Public Policy Analysis.\",\"Health and Medical Administrative Services.\",\"Mental and Social Health Services and Allied Professions.\",\"Marketing.\",\"Biology, General.\",\"Accounting and Related Services.\",\"Social Work.\",\"Educational Administration and Supervision.\",\"Registered Nursing, Nursing Administration, Nursing Research and Clinical Nursing.\",\"Dietetics and Clinical Nutrition Services.\",\"Accounting and Related Services.\",\"English Language and Literature, General.\",\"Fine and Studio Arts.\",\"Computer and Information Sciences, General.\",\"Chemistry.\",\"Teacher Education and Professional Development, Specific Levels and Methods.\",\"Registered Nursing, Nursing Administration, Nursing Research and Clinical Nursing.\",\"Public Administration.\",\"Criminal Justice and Corrections.\",\"Health and Medical Administrative Services.\",\"Accounting and Related Services.\",\"Rehabilitation and Therapeutic Professions.\",\"Research and Experimental Psychology.\",\"Medicine.\",\"Chemical Engineering.\",\"Business/Managerial Economics.\",\"English Language and Literature, General.\",\"History.\",\"Computer Science.\",\"Health and Physical Education/Fitness.\",\"Liberal Arts and Sciences, General Studies and Humanities.\",\"Education, General.\",\"Teacher Education and Professional Development, Specific Levels and Methods.\",\"Film/Video and Photographic Arts.\",\"Psychology, General.\",\"Business Administration, Management and Operations.\",\"History.\",\"Criminal Justice and Corrections.\",\"Communication and Media Studies.\",\"Communication Disorders Sciences and Services.\",\"Human Resources Management and Services.\",\"Finance and Financial Management Services.\",\"Finance and Financial Management Services.\",\"Social Work.\",\"Teacher Education and Professional Development, Specific Levels and Methods.\",\"Accounting and Related Services.\",\"Philosophy.\",\"Social Work.\",\"Public Administration.\",\"Special Education and Teaching.\",\"Human Services, General.\",\"Biotechnology.\",\"Registered Nursing, Nursing Administration, Nursing Research and Clinical Nursing.\",\"English Language and Literature, General.\",\"Mental and Social Health Services and Allied Professions.\",\"Romance Languages, Literatures, and Linguistics.\",\"Biology, General.\",\"Nutrition Sciences.\",\"Curriculum and Instruction.\",\"Human Development, Family Studies, and Related Services.\",\"Educational Administration and Supervision.\",\"Film/Video and Photographic Arts.\",\"Fine and Studio Arts.\",\"Research and Experimental Psychology.\",\"International/Global Studies.\",\"Sociology.\",\"Teacher Education and Professional Development, Specific Levels and Methods.\",\"Romance Languages, Literatures, and Linguistics.\",\"Registered Nursing, Nursing Administration, Nursing Research and Clinical Nursing.\",\"Student Counseling and Personnel Services.\",\"Special Education and Teaching.\",\"Criminal Justice and Corrections.\",\"Heating, Air Conditioning, Ventilation and Refrigeration Maintenance Technology/Technician (HAC, HACR, HVAC, HVACR).\",\"Marketing.\",\"History.\",\"International Relations and National Security Studies.\",\"Criminology.\",\"Teacher Education and Professional Development, Specific Levels and Methods.\",\"Law.\",\"Teacher Education and Professional Development, Specific Subject Areas.\",\"Management Sciences and Quantitative Methods.\",\"Economics.\",\"Teacher Education and Professional Development, Specific Subject Areas.\",\"Human Development, Family Studies, and Related Services.\",\"Business Administration, Management and Operations.\",\"Medicine.\",\"Cosmetology and Related Personal Grooming Services.\",\"Psychology, General.\",\"Liberal Arts and Sciences, General Studies and Humanities.\",\"Mental and Social Health Services and Allied Professions.\",\"Allied Health Diagnostic, Intervention, and Treatment Professions.\",\"Religion/Religious Studies.\",\"Allied Health and Medical Assisting Services.\",\"Health and Medical Administrative Services.\",\"Multi/Interdisciplinary Studies, Other.\",\"Business, Management, Marketing, and Related Support Services, Other.\",\"Romance Languages, Literatures, and Linguistics.\",\"Mathematics.\",\"Entrepreneurial and Small Business Operations.\",\"Liberal Arts and Sciences, General Studies and Humanities.\",\"Biochemistry, Biophysics and Molecular Biology.\",\"Computer and Information Sciences, General.\",\"Computer Science.\",\"Allied Health and Medical Assisting Services.\",\"Registered Nursing, Nursing Administration, Nursing Research and Clinical Nursing.\",\"Public Health.\",\"Accounting and Related Services.\",\"Business Administration, Management and Operations.\",\"Registered Nursing, Nursing Administration, Nursing Research and Clinical Nursing.\",\"Management Sciences and Quantitative Methods.\",\"Criminal Justice and Corrections.\",\"Philosophy.\",\"Law.\",\"Management Information Systems and Services.\",\"Business Administration, Management and Operations.\",\"Allied Health and Medical Assisting Services.\",\"Health and Medical Administrative Services.\",\"Psychology, General.\",\"Communication Disorders Sciences and Services.\",\"Social Work.\",\"Economics.\",\"International Relations and National Security Studies.\",\"Law.\",\"Electromechanical Instrumentation and Maintenance Technologies/Technicians.\",\"Business Administration, Management and Operations.\",\"Natural Resources Conservation and Research.\",\"Teacher Education and Professional Development, Specific Subject Areas.\",\"Biology, General.\",\"Legal Support Services.\",\"General Sales, Merchandising and Related Marketing Operations.\",\"Clinical/Medical Laboratory Science/Research and Allied Professions.\",\"Architecture.\",\"Hospitality Administration/Management.\",\"Registered Nursing, Nursing Administration, Nursing Research and Clinical Nursing.\",\"Registered Nursing, Nursing Administration, Nursing Research and Clinical Nursing.\",\"Neurobiology and Neurosciences.\",\"Sociology.\",\"Registered Nursing, Nursing Administration, Nursing Research and Clinical Nursing.\",\"English Language and Literature, General.\",\"Sociology.\",\"Landscape Architecture.\",\"History.\",\"Human Resources Management and Services.\",\"Ecology, Evolution, Systematics, and Population Biology.\",\"Mechanic and Repair Technologies/Technicians, Other.\",\"Registered Nursing, Nursing Administration, Nursing Research and Clinical Nursing.\",\"Management Information Systems and Services.\",\"Arts, Entertainment,and Media Management.\",\"Legal Research and Advanced Professional Studies.\",\"Nutrition Sciences.\",\"Practical Nursing, Vocational Nursing and Nursing Assistants.\",\"Business Administration, Management and Operations.\",\"Accounting and Related Services.\",\"Business Administration, Management and Operations.\",\"Practical Nursing, Vocational Nursing and Nursing Assistants.\",\"Biology, General.\",\"Marketing.\",\"Business Administration, Management and Operations.\",\"Business Administration, Management and Operations.\",\"Quality Control and Safety Technologies/Technicians.\",\"Electrical and Power Transmission Installers.\"],\"CONTROL\":[\"Public\",\"Public\",\"Public\",\"Private, nonprofit\",\"Private, nonprofit\",\"Private, nonprofit\",\"Private, nonprofit\",\"Public\",\"Private, nonprofit\",\"Public\",\"Private, nonprofit\",\"Public\",\"Public\",\"Private, for-profit\",\"Private, nonprofit\",\"Private, nonprofit\",\"Public\",\"Public\",\"Public\",\"Private, nonprofit\",\"Public\",\"Private, nonprofit\",\"Private, nonprofit\",\"Public\",\"Private, nonprofit\",\"Private, nonprofit\",\"Private, nonprofit\",\"Private, nonprofit\",\"Private, nonprofit\",\"Private, nonprofit\",\"Public\",\"Public\",\"Private, nonprofit\",\"Public\",\"Public\",\"Private, for-profit\",\"Private, nonprofit\",\"Private, for-profit\",\"Private, nonprofit\",\"Private, nonprofit\",\"Public\",\"Public\",\"Public\",\"Public\",\"Public\",\"Private, nonprofit\",\"Public\",\"Public\",\"Private, for-profit\",\"Public\",\"Public\",\"Private, nonprofit\",\"Private, nonprofit\",\"Public\",\"Private, nonprofit\",\"Private, nonprofit\",\"Private, for-profit\",\"Public\",\"Public\",\"Public\",\"Public\",\"Private, nonprofit\",\"Public\",\"Private, nonprofit\",\"Private, nonprofit\",\"Private, nonprofit\",\"Private, nonprofit\",\"Public\",\"Public\",\"Private, nonprofit\",\"Public\",\"Private, nonprofit\",\"Private, nonprofit\",\"Public\",\"Public\",\"Private, nonprofit\",\"Private, nonprofit\",\"Public\",\"Public\",\"Private, nonprofit\",\"Public\",\"Private, nonprofit\",\"Public\",\"Private, nonprofit\",\"Public\",\"Private, for-profit\",\"Private, nonprofit\",\"Public\",\"Private, nonprofit\",\"Private, nonprofit\",\"Private, nonprofit\",\"Public\",\"Public\",\"Public\",\"Private, nonprofit\",\"Private, nonprofit\",\"Private, nonprofit\",\"Private, for-profit\",\"Private, nonprofit\",\"Private, nonprofit\",\"Private, nonprofit\",\"Private, nonprofit\",\"Public\",\"Private, nonprofit\",\"Public\",\"Private, nonprofit\",\"Private, nonprofit\",\"Public\",\"Private, nonprofit\",\"Public\",\"Private, nonprofit\",\"Private, nonprofit\",\"Private, nonprofit\",\"Public\",\"Public\",\"Public\",\"Private, nonprofit\",\"Private, nonprofit\",\"Private, nonprofit\",\"Private, nonprofit\",\"Private, nonprofit\",\"Public\",\"Public\",\"Private, nonprofit\",\"Private, nonprofit\",\"Public\",\"Private, nonprofit\",\"Private, nonprofit\",\"Private, for-profit\",\"Private, for-profit\",\"Private, nonprofit\",\"Public\",\"Private, nonprofit\",\"Public\",\"Private, nonprofit\",\"Public\",\"Public\",\"Private, nonprofit\",\"Private, nonprofit\",\"Private, nonprofit\",\"Private, nonprofit\",\"Private, nonprofit\",\"Private, nonprofit\",\"Private, nonprofit\",\"Private, nonprofit\",\"Public\",\"Private, nonprofit\",\"Private, for-profit\",\"Public\",\"Private, nonprofit\",\"Private, for-profit\",\"Public\",\"Private, nonprofit\",\"Public\",\"Private, for-profit\",\"Private, nonprofit\",\"Public\",\"Private, nonprofit\",\"Private, nonprofit\",\"Private, for-profit\",\"Private, nonprofit\",\"Private, nonprofit\",\"Public\",\"Private, nonprofit\",\"Private, nonprofit\",\"Public\",\"Private, for-profit\",\"Private, for-profit\",\"Private, nonprofit\",\"Private, nonprofit\",\"Private, nonprofit\",\"Public\",\"Private, nonprofit\",\"Private, nonprofit\",\"Private, nonprofit\",\"Private, nonprofit\",\"Private, for-profit\",\"Public\",\"Private, nonprofit\",\"Private, for-profit\",\"Public\",\"Private, nonprofit\",\"Public\",\"Private, nonprofit\",\"Public\",\"Private, for-profit\",\"Public\",\"Private, nonprofit\",\"Public\",\"Private, nonprofit\",\"Private, nonprofit\",\"Private, nonprofit\",\"Private, nonprofit\",\"Public\",\"Private, for-profit\",\"Private, nonprofit\",\"Private, nonprofit\",\"Private, nonprofit\",\"Public\",\"Public\",\"Private, nonprofit\",\"Private, nonprofit\",\"Public\",\"Public\",\"Private, nonprofit\",\"Private, nonprofit\",\"Public\",\"Private, nonprofit\",\"Private, nonprofit\",\"Private, nonprofit\",\"Public\",\"Public\",\"Private, nonprofit\",\"Private, nonprofit\",\"Private, for-profit\",\"Public\",\"Private, for-profit\",\"Private, nonprofit\",\"Private, nonprofit\",\"Private, nonprofit\",\"Public\",\"Private, nonprofit\",\"Private, nonprofit\",\"Public\",\"Public\",\"Private, for-profit\",\"Private, nonprofit\",\"Private, nonprofit\",\"Private, nonprofit\",\"Private, nonprofit\",\"Public\",\"Private, nonprofit\",\"Private, nonprofit\",\"Private, nonprofit\",\"Public\",\"Private, nonprofit\",\"Public\",\"Private, nonprofit\",\"Public\",\"Public\",\"Public\",\"Private, nonprofit\",\"Private, nonprofit\",\"Public\",\"Public\",\"Public\",\"Public\",\"Private, nonprofit\",\"Public\",\"Public\",\"Public\",\"Public\",\"Public\",\"Private, nonprofit\",\"Public\",\"Private, nonprofit\",\"Public\",\"Private, nonprofit\",\"Public\",\"Public\",\"Private, nonprofit\",\"Public\",\"Public\",\"Private, nonprofit\",\"Private, nonprofit\",\"Public\",\"Public\",\"Public\",\"Public\",\"Private, nonprofit\",\"Public\",\"Private, nonprofit\",\"Public\",\"Public\",\"Private, nonprofit\",\"Public\",\"Public\",\"Private, for-profit\",\"Public\",\"Private, nonprofit\",\"Public\",\"Public\",\"Public\",\"Private, nonprofit\",\"Private, nonprofit\",\"Private, nonprofit\",\"Private, nonprofit\",\"Public\",\"Private, nonprofit\",\"Public\",\"Public\",\"Private, nonprofit\",\"Private, nonprofit\",\"Private, nonprofit\",\"Public\",\"Public\",\"Private, nonprofit\",\"Private, nonprofit\",\"Public\",\"Public\",\"Private, nonprofit\",\"Private, nonprofit\",\"Public\",\"Private, nonprofit\",\"Public\",\"Private, nonprofit\",\"Private, nonprofit\",\"Private, nonprofit\",\"Private, nonprofit\",\"Private, nonprofit\",\"Private, for-profit\",\"Private, nonprofit\",\"Public\",\"Private, nonprofit\",\"Private, for-profit\",\"Private, nonprofit\",\"Public\",\"Public\",\"Private, nonprofit\",\"Private, for-profit\",\"Public\",\"Public\",\"Private, nonprofit\",\"Private, nonprofit\",\"Public\",\"Private, nonprofit\",\"Public\",\"Private, nonprofit\",\"Private, nonprofit\",\"Private, for-profit\",\"Public\",\"Public\",\"Public\",\"Public\",\"Public\",\"Private, nonprofit\",\"Private, nonprofit\",\"Private, nonprofit\",\"Public\",\"Public\",\"Private, for-profit\",\"Private, nonprofit\",\"Public\",\"Private, nonprofit\",\"Private, nonprofit\",\"Public\",\"Public\",\"Private, nonprofit\",\"Private, nonprofit\",\"Private, for-profit\",\"Public\",\"Public\",\"Private, nonprofit\",\"Private, nonprofit\",\"Public\",\"Private, nonprofit\",\"Public\",\"Public\",\"Public\",\"Public\",\"Private, for-profit\",\"Private, nonprofit\",\"Public\",\"Private, nonprofit\",\"Private, for-profit\",\"Public\",\"Public\",\"Private, nonprofit\",\"Private, nonprofit\",\"Public\",\"Private, nonprofit\",\"Private, nonprofit\",\"Public\",\"Private, nonprofit\",\"Private, nonprofit\",\"Public\",\"Private, nonprofit\",\"Private, nonprofit\",\"Public\",\"Private, nonprofit\",\"Public\",\"Private, nonprofit\",\"Private, nonprofit\",\"Private, nonprofit\",\"Private, nonprofit\",\"Private, nonprofit\",\"Private, nonprofit\",\"Private, nonprofit\",\"Public\",\"Private, nonprofit\",\"Private, nonprofit\",\"Private, for-profit\",\"Public\",\"Public\",\"Private, nonprofit\",\"Private, nonprofit\",\"Public\",\"Private, nonprofit\",\"Public\",\"Public\",\"Public\",\"Private, nonprofit\",\"Public\",\"Private, nonprofit\",\"Public\",\"Public\",\"Private, nonprofit\",\"Public\",\"Public\",\"Public\",\"Private, nonprofit\",\"Private, nonprofit\",\"Private, nonprofit\",\"Private, for-profit\",\"Private, nonprofit\",\"Private, nonprofit\",\"Public\",\"Private, nonprofit\",\"Public\",\"Private, nonprofit\",\"Private, nonprofit\",\"Private, nonprofit\",\"Private, nonprofit\",\"Private, for-profit\",\"Public\",\"Public\",\"Private, nonprofit\",\"Public\",\"Private, for-profit\",\"Private, nonprofit\",\"Public\",\"Public\",\"Public\",\"Private, for-profit\",\"Public\",\"Public\",\"Private, nonprofit\",\"Public\",\"Private, nonprofit\",\"Private, nonprofit\",\"Public\",\"Public\",\"Private, nonprofit\",\"Private, for-profit\",\"Public\",\"Private, nonprofit\",\"Private, nonprofit\",\"Private, nonprofit\",\"Private, nonprofit\",\"Private, nonprofit\",\"Private, for-profit\",\"Public\",\"Public\",\"Public\",\"Public\",\"Public\",\"Private, nonprofit\",\"Public\",\"Public\",\"Public\",\"Public\",\"Public\",\"Private, nonprofit\",\"Private, nonprofit\",\"Private, for-profit\",\"Private, nonprofit\",\"Public\",\"Private, nonprofit\",\"Public\",\"Private, for-profit\",\"Public\",\"Public\",\"Private, nonprofit\",\"Public\",\"Private, nonprofit\",\"Public\",\"Private, nonprofit\",\"Public\",\"Public\",\"Private, nonprofit\",\"Private, nonprofit\",\"Public\",\"Private, nonprofit\",\"Private, nonprofit\",\"Private, nonprofit\",\"Public\",\"Public\",\"Private, nonprofit\",\"Private, nonprofit\",\"Private, nonprofit\",\"Private, for-profit\",\"Private, nonprofit\",\"Private, nonprofit\",\"Public\",\"Public\",\"Public\",\"Private, nonprofit\",\"Private, nonprofit\",\"Public\",\"Public\",\"Private, nonprofit\",\"Private, nonprofit\",\"Private, nonprofit\",\"Public\",\"Public\",\"Private, nonprofit\",\"Public\",\"Public\",\"Private, for-profit\",\"Private, nonprofit\",\"Private, nonprofit\",\"Private, nonprofit\",\"Private, nonprofit\",\"Public\",\"Private, nonprofit\",\"Private, for-profit\",\"Private, nonprofit\",\"Private, nonprofit\",\"Public\",\"Private, nonprofit\",\"Public\",\"Public\",\"Private, nonprofit\",\"Public\",\"Private, for-profit\",\"Private, nonprofit\",\"Private, nonprofit\",\"Private, nonprofit\",\"Public\",\"Private, nonprofit\",\"Public\",\"Public\",\"Private, nonprofit\",\"Public\",\"Private, nonprofit\",\"Private, nonprofit\",\"Public\",\"Private, nonprofit\",\"Private, nonprofit\",\"Public\",\"Private, nonprofit\",\"Private, nonprofit\",\"Private, nonprofit\",\"Private, nonprofit\",\"Public\",\"Private, nonprofit\",\"Public\",\"Private, nonprofit\",\"Private, nonprofit\",\"Private, nonprofit\",\"Public\",\"Private, nonprofit\",\"Public\",\"Public\",\"Public\",\"Private, nonprofit\",\"Private, nonprofit\",\"Private, nonprofit\",\"Private, nonprofit\",\"Public\",\"Private, nonprofit\",\"Public\",\"Private, nonprofit\",\"Private, nonprofit\",\"Private, nonprofit\",\"Private, nonprofit\",\"Public\",\"Private, nonprofit\",\"Private, nonprofit\",\"Public\",\"Private, nonprofit\",\"Public\",\"Private, nonprofit\",\"Private, nonprofit\",\"Private, nonprofit\",\"Private, nonprofit\",\"Private, nonprofit\",\"Public\",\"Public\",\"Private, for-profit\",\"Private, nonprofit\",\"Public\",\"Private, nonprofit\",\"Private, nonprofit\",\"Private, for-profit\",\"Public\",\"Private, nonprofit\",\"Public\",\"Private, nonprofit\",\"Private, nonprofit\",\"Private, nonprofit\",\"Public\",\"Public\",\"Private, for-profit\",\"Private, nonprofit\",\"Private, nonprofit\",\"Public\",\"Public\",\"Private, nonprofit\",\"Public\",\"Private, nonprofit\",\"Public\",\"Private, nonprofit\",\"Private, nonprofit\",\"Private, nonprofit\",\"Private, nonprofit\",\"Private, nonprofit\",\"Private, nonprofit\",\"Public\",\"Private, nonprofit\",\"Public\",\"Private, nonprofit\",\"Public\",\"Public\",\"Public\",\"Private, nonprofit\",\"Private, nonprofit\",\"Private, nonprofit\",\"Public\",\"Public\",\"Public\",\"Private, nonprofit\",\"Public\",\"Private, for-profit\",\"Public\",\"Public\",\"Private, nonprofit\",\"Private, nonprofit\",\"Private, nonprofit\",\"Public\",\"Public\",\"Public\",\"Public\",\"Public\",\"Public\",\"Public\",\"Private, nonprofit\",\"Public\",\"Public\",\"Public\",\"Private, nonprofit\",\"Private, nonprofit\",\"Private, nonprofit\",\"Private, nonprofit\",\"Public\",\"Private, nonprofit\",\"Public\",\"Public\",\"Public\",\"Public\",\"Private, nonprofit\",\"Private, for-profit\",\"Public\",\"Private, nonprofit\",\"Private, nonprofit\",\"Private, nonprofit\",\"Public\",\"Private, for-profit\",\"Private, nonprofit\",\"Private, nonprofit\",\"Private, for-profit\",\"Public\",\"Public\",\"Public\",\"Private, for-profit\",\"Private, nonprofit\",\"Public\",\"Private, for-profit\"],\"CREDLEV\":[\"5\",\"3\",\"5\",\"5\",\"5\",\"5\",\"3\",\"3\",\"3\",\"3\",\"3\",\"5\",\"2\",\"1\",\"3\",\"3\",\"3\",\"3\",\"3\",\"3\",\"3\",\"3\",\"5\",\"3\",\"3\",\"3\",\"5\",\"3\",\"3\",\"3\",\"5\",\"3\",\"5\",\"3\",\"2\",\"1\",\"3\",\"1\",\"3\",\"3\",\"2\",\"3\",\"2\",\"3\",\"6\",\"5\",\"5\",\"3\",\"1\",\"3\",\"2\",\"3\",\"5\",\"3\",\"3\",\"3\",\"2\",\"3\",\"3\",\"3\",\"5\",\"5\",\"5\",\"5\",\"3\",\"5\",\"5\",\"2\",\"3\",\"5\",\"2\",\"5\",\"3\",\"1\",\"2\",\"3\",\"5\",\"3\",\"5\",\"5\",\"3\",\"3\",\"3\",\"3\",\"3\",\"1\",\"3\",\"3\",\"6\",\"5\",\"7\",\"5\",\"3\",\"3\",\"5\",\"3\",\"5\",\"1\",\"3\",\"5\",\"5\",\"5\",\"2\",\"2\",\"1\",\"5\",\"5\",\"5\",\"5\",\"5\",\"3\",\"3\",\"6\",\"5\",\"3\",\"3\",\"3\",\"5\",\"5\",\"3\",\"3\",\"3\",\"3\",\"6\",\"3\",\"5\",\"3\",\"3\",\"5\",\"1\",\"3\",\"3\",\"5\",\"2\",\"2\",\"3\",\"3\",\"3\",\"3\",\"7\",\"7\",\"3\",\"3\",\"5\",\"5\",\"2\",\"3\",\"1\",\"2\",\"5\",\"1\",\"3\",\"1\",\"8\",\"1\",\"3\",\"3\",\"3\",\"3\",\"1\",\"3\",\"3\",\"3\",\"3\",\"5\",\"2\",\"1\",\"1\",\"5\",\"5\",\"3\",\"3\",\"5\",\"5\",\"3\",\"1\",\"1\",\"3\",\"5\",\"1\",\"3\",\"3\",\"3\",\"3\",\"5\",\"3\",\"6\",\"8\",\"3\",\"3\",\"5\",\"3\",\"3\",\"5\",\"1\",\"7\",\"3\",\"3\",\"3\",\"3\",\"5\",\"5\",\"3\",\"3\",\"7\",\"3\",\"3\",\"2\",\"3\",\"3\",\"3\",\"5\",\"5\",\"5\",\"1\",\"3\",\"2\",\"1\",\"3\",\"3\",\"3\",\"3\",\"5\",\"5\",\"3\",\"1\",\"5\",\"6\",\"8\",\"3\",\"3\",\"5\",\"3\",\"3\",\"3\",\"3\",\"3\",\"3\",\"3\",\"3\",\"5\",\"3\",\"3\",\"3\",\"5\",\"3\",\"8\",\"3\",\"3\",\"3\",\"3\",\"5\",\"3\",\"3\",\"3\",\"3\",\"3\",\"2\",\"3\",\"2\",\"3\",\"1\",\"3\",\"2\",\"5\",\"3\",\"3\",\"5\",\"2\",\"3\",\"2\",\"3\",\"3\",\"3\",\"3\",\"3\",\"2\",\"2\",\"3\",\"3\",\"3\",\"2\",\"3\",\"3\",\"3\",\"8\",\"3\",\"3\",\"3\",\"3\",\"3\",\"3\",\"3\",\"3\",\"2\",\"3\",\"5\",\"5\",\"1\",\"3\",\"3\",\"1\",\"3\",\"3\",\"2\",\"2\",\"3\",\"3\",\"5\",\"1\",\"1\",\"5\",\"3\",\"3\",\"2\",\"5\",\"3\",\"3\",\"3\",\"1\",\"5\",\"5\",\"5\",\"3\",\"2\",\"3\",\"3\",\"3\",\"3\",\"2\",\"3\",\"3\",\"3\",\"5\",\"3\",\"5\",\"5\",\"3\",\"2\",\"3\",\"3\",\"5\",\"3\",\"3\",\"3\",\"5\",\"3\",\"6\",\"3\",\"1\",\"2\",\"3\",\"3\",\"3\",\"1\",\"5\",\"3\",\"2\",\"3\",\"3\",\"1\",\"3\",\"3\",\"2\",\"2\",\"5\",\"5\",\"3\",\"4\",\"3\",\"3\",\"3\",\"2\",\"3\",\"3\",\"3\",\"5\",\"2\",\"3\",\"3\",\"3\",\"3\",\"3\",\"3\",\"3\",\"3\",\"3\",\"5\",\"2\",\"8\",\"3\",\"2\",\"3\",\"3\",\"5\",\"5\",\"3\",\"8\",\"3\",\"3\",\"3\",\"3\",\"3\",\"3\",\"3\",\"5\",\"3\",\"3\",\"3\",\"2\",\"2\",\"3\",\"3\",\"1\",\"3\",\"5\",\"3\",\"5\",\"3\",\"3\",\"2\",\"5\",\"5\",\"2\",\"2\",\"2\",\"3\",\"5\",\"1\",\"3\",\"3\",\"3\",\"3\",\"1\",\"3\",\"3\",\"5\",\"3\",\"3\",\"3\",\"8\",\"3\",\"3\",\"1\",\"3\",\"5\",\"5\",\"5\",\"5\",\"3\",\"1\",\"3\",\"2\",\"3\",\"5\",\"8\",\"3\",\"2\",\"3\",\"2\",\"3\",\"2\",\"3\",\"7\",\"1\",\"3\",\"3\",\"5\",\"2\",\"1\",\"3\",\"5\",\"5\",\"5\",\"5\",\"5\",\"3\",\"6\",\"3\",\"5\",\"7\",\"3\",\"3\",\"3\",\"3\",\"5\",\"3\",\"3\",\"3\",\"3\",\"3\",\"3\",\"3\",\"3\",\"5\",\"3\",\"5\",\"5\",\"3\",\"1\",\"6\",\"3\",\"5\",\"2\",\"2\",\"3\",\"6\",\"5\",\"3\",\"5\",\"3\",\"3\",\"3\",\"3\",\"6\",\"2\",\"4\",\"3\",\"3\",\"3\",\"3\",\"3\",\"5\",\"2\",\"5\",\"3\",\"3\",\"3\",\"2\",\"3\",\"7\",\"3\",\"5\",\"3\",\"3\",\"3\",\"3\",\"6\",\"5\",\"5\",\"3\",\"3\",\"3\",\"3\",\"3\",\"3\",\"6\",\"5\",\"3\",\"5\",\"2\",\"3\",\"5\",\"3\",\"3\",\"5\",\"1\",\"3\",\"5\",\"2\",\"5\",\"3\",\"3\",\"3\",\"5\",\"1\",\"3\",\"6\",\"3\",\"3\",\"3\",\"3\",\"3\",\"5\",\"5\",\"3\",\"5\",\"3\",\"5\",\"1\",\"3\",\"3\",\"3\",\"3\",\"3\",\"7\",\"5\",\"3\",\"5\",\"3\",\"5\",\"5\",\"7\",\"1\",\"3\",\"3\",\"3\",\"2\",\"5\",\"2\",\"5\",\"3\",\"5\",\"3\",\"3\",\"3\",\"3\",\"3\",\"3\",\"3\",\"2\",\"3\",\"5\",\"2\",\"3\",\"5\",\"5\",\"3\",\"3\",\"7\",\"3\",\"3\",\"3\",\"2\",\"3\",\"3\",\"3\",\"3\",\"3\",\"7\",\"3\",\"2\",\"3\",\"3\",\"3\",\"2\",\"3\",\"3\",\"3\",\"3\",\"3\",\"2\",\"3\",\"3\",\"3\",\"3\",\"3\",\"3\",\"5\",\"3\",\"6\",\"1\",\"3\",\"3\",\"3\",\"6\",\"3\",\"1\",\"3\",\"3\",\"2\",\"1\",\"3\",\"3\",\"3\",\"3\",\"3\",\"1\"],\"HIGHDEG\":[\"4\",\"4\",\"4\",\"4\",\"4\",\"4\",\"4\",\"4\",\"4\",\"4\",\"4\",\"4\",\"2\",\"1\",\"4\",\"4\",\"4\",\"4\",\"3\",\"4\",\"4\",\"4\",\"4\",\"4\",\"4\",\"4\",\"4\",\"4\",\"4\",\"4\",\"4\",\"4\",\"4\",\"4\",\"4\",\"1\",\"4\",\"1\",\"4\",\"4\",\"2\",\"4\",\"2\",\"4\",\"4\",\"4\",\"4\",\"4\",\"2\",\"4\",\"2\",\"4\",\"4\",\"4\",\"4\",\"3\",\"2\",\"4\",\"4\",\"4\",\"4\",\"4\",\"4\",\"4\",\"4\",\"4\",\"4\",\"2\",\"3\",\"4\",\"2\",\"4\",\"4\",\"2\",\"2\",\"4\",\"4\",\"4\",\"4\",\"4\",\"4\",\"4\",\"4\",\"4\",\"4\",\"1\",\"4\",\"4\",\"4\",\"4\",\"4\",\"4\",\"4\",\"4\",\"4\",\"4\",\"4\",\"1\",\"4\",\"4\",\"4\",\"4\",\"2\",\"4\",\"4\",\"4\",\"4\",\"4\",\"4\",\"4\",\"4\",\"4\",\"4\",\"4\",\"4\",\"4\",\"4\",\"4\",\"4\",\"4\",\"4\",\"4\",\"4\",\"4\",\"4\",\"4\",\"4\",\"4\",\"4\",\"1\",\"4\",\"4\",\"4\",\"2\",\"4\",\"4\",\"4\",\"4\",\"4\",\"4\",\"4\",\"3\",\"3\",\"4\",\"4\",\"2\",\"4\",\"1\",\"2\",\"4\",\"1\",\"4\",\"4\",\"4\",\"1\",\"3\",\"4\",\"4\",\"4\",\"1\",\"3\",\"4\",\"4\",\"4\",\"4\",\"2\",\"1\",\"1\",\"4\",\"4\",\"4\",\"4\",\"4\",\"4\",\"4\",\"4\",\"1\",\"4\",\"4\",\"1\",\"4\",\"4\",\"4\",\"4\",\"4\",\"3\",\"4\",\"4\",\"4\",\"4\",\"4\",\"4\",\"4\",\"4\",\"1\",\"4\",\"4\",\"4\",\"4\",\"4\",\"4\",\"4\",\"4\",\"4\",\"4\",\"4\",\"4\",\"4\",\"4\",\"4\",\"4\",\"4\",\"4\",\"4\",\"1\",\"4\",\"3\",\"4\",\"4\",\"4\",\"4\",\"4\",\"4\",\"4\",\"4\",\"1\",\"4\",\"4\",\"4\",\"4\",\"4\",\"4\",\"3\",\"4\",\"4\",\"3\",\"4\",\"4\",\"4\",\"3\",\"4\",\"4\",\"4\",\"4\",\"4\",\"4\",\"4\",\"4\",\"4\",\"4\",\"4\",\"4\",\"4\",\"4\",\"4\",\"4\",\"4\",\"4\",\"4\",\"2\",\"4\",\"4\",\"4\",\"4\",\"4\",\"4\",\"4\",\"4\",\"2\",\"4\",\"2\",\"3\",\"4\",\"4\",\"4\",\"4\",\"4\",\"2\",\"4\",\"4\",\"4\",\"2\",\"4\",\"4\",\"4\",\"4\",\"4\",\"4\",\"4\",\"4\",\"4\",\"3\",\"4\",\"4\",\"2\",\"4\",\"4\",\"4\",\"2\",\"4\",\"4\",\"2\",\"4\",\"4\",\"2\",\"4\",\"4\",\"4\",\"4\",\"1\",\"1\",\"4\",\"4\",\"4\",\"3\",\"4\",\"4\",\"4\",\"4\",\"1\",\"4\",\"4\",\"4\",\"4\",\"2\",\"4\",\"4\",\"4\",\"3\",\"1\",\"4\",\"4\",\"4\",\"4\",\"4\",\"4\",\"4\",\"4\",\"2\",\"4\",\"3\",\"4\",\"4\",\"4\",\"4\",\"4\",\"4\",\"4\",\"4\",\"1\",\"2\",\"4\",\"4\",\"4\",\"2\",\"4\",\"4\",\"2\",\"4\",\"4\",\"1\",\"3\",\"4\",\"3\",\"4\",\"4\",\"4\",\"4\",\"4\",\"4\",\"4\",\"4\",\"2\",\"3\",\"4\",\"4\",\"4\",\"2\",\"4\",\"4\",\"4\",\"4\",\"3\",\"4\",\"4\",\"4\",\"4\",\"4\",\"2\",\"4\",\"4\",\"4\",\"4\",\"3\",\"4\",\"4\",\"4\",\"4\",\"4\",\"4\",\"4\",\"4\",\"4\",\"3\",\"4\",\"4\",\"4\",\"4\",\"4\",\"2\",\"2\",\"4\",\"3\",\"1\",\"4\",\"4\",\"4\",\"4\",\"4\",\"4\",\"4\",\"4\",\"4\",\"3\",\"2\",\"2\",\"3\",\"4\",\"1\",\"3\",\"4\",\"4\",\"4\",\"1\",\"4\",\"4\",\"4\",\"4\",\"4\",\"4\",\"4\",\"4\",\"4\",\"1\",\"4\",\"4\",\"4\",\"4\",\"4\",\"4\",\"1\",\"4\",\"3\",\"4\",\"4\",\"4\",\"4\",\"4\",\"4\",\"2\",\"4\",\"2\",\"4\",\"4\",\"1\",\"4\",\"4\",\"4\",\"2\",\"2\",\"4\",\"4\",\"4\",\"4\",\"4\",\"4\",\"4\",\"4\",\"4\",\"4\",\"4\",\"4\",\"4\",\"4\",\"4\",\"4\",\"4\",\"4\",\"4\",\"4\",\"3\",\"4\",\"4\",\"4\",\"4\",\"4\",\"4\",\"4\",\"4\",\"4\",\"4\",\"4\",\"4\",\"2\",\"2\",\"4\",\"4\",\"4\",\"3\",\"4\",\"4\",\"3\",\"4\",\"4\",\"4\",\"4\",\"4\",\"4\",\"4\",\"4\",\"4\",\"3\",\"4\",\"2\",\"4\",\"4\",\"4\",\"4\",\"2\",\"4\",\"4\",\"4\",\"4\",\"4\",\"4\",\"4\",\"4\",\"4\",\"4\",\"4\",\"4\",\"3\",\"4\",\"4\",\"4\",\"4\",\"4\",\"4\",\"4\",\"4\",\"2\",\"4\",\"4\",\"4\",\"3\",\"4\",\"4\",\"4\",\"4\",\"2\",\"4\",\"4\",\"3\",\"4\",\"4\",\"4\",\"4\",\"4\",\"4\",\"4\",\"4\",\"4\",\"3\",\"4\",\"4\",\"4\",\"4\",\"3\",\"4\",\"1\",\"4\",\"4\",\"3\",\"4\",\"4\",\"4\",\"4\",\"4\",\"4\",\"4\",\"4\",\"4\",\"4\",\"1\",\"4\",\"4\",\"3\",\"2\",\"4\",\"2\",\"4\",\"4\",\"4\",\"3\",\"4\",\"4\",\"4\",\"4\",\"4\",\"4\",\"2\",\"4\",\"4\",\"2\",\"4\",\"4\",\"4\",\"4\",\"4\",\"4\",\"4\",\"3\",\"4\",\"2\",\"4\",\"4\",\"4\",\"4\",\"4\",\"4\",\"4\",\"2\",\"4\",\"4\",\"4\",\"4\",\"4\",\"4\",\"4\",\"4\",\"4\",\"4\",\"4\",\"3\",\"4\",\"4\",\"4\",\"4\",\"4\",\"3\",\"4\",\"1\",\"4\",\"4\",\"4\",\"4\",\"4\",\"1\",\"4\",\"4\",\"4\",\"4\",\"4\",\"4\",\"4\",\"4\",\"4\",\"1\"],\"LOCALE\":[\"31\",\"13\",\"12\",\"32\",\"23\",\"11\",\"11\",\"33\",\"33\",\"12\",\"12\",\"11\",\"12\",\"21\",\"13\",\"32\",\"42\",\"12\",\"32\",\"12\",\"33\",\"11\",\"21\",\"21\",\"12\",\"22\",\"12\",\"22\",\"12\",\"13\",\"21\",\"22\",\"21\",\"21\",\"23\",\"12\",\"11\",\"13\",\"11\",\"32\",\"41\",\"12\",\"21\",\"21\",\"21\",\"11\",\"21\",\"12\",\"12\",\"11\",\"13\",\"11\",\"11\",\"12\",\"12\",\"21\",\"13\",\"12\",\"12\",\"21\",\"22\",\"21\",\"22\",\"11\",\"21\",\"12\",\"21\",\"21\",\"32\",\"32\",\"12\",\"11\",\"11\",\"11\",\"42\",\"21\",\"12\",\"21\",\"32\",\"32\",\"12\",\"11\",\"13\",\"21\",\"21\",\"21\",\"13\",\"21\",\"13\",\"21\",\"11\",\"21\",\"21\",\"42\",\"21\",\"11\",\"42\",\"22\",\"12\",\"21\",\"32\",\"13\",\"13\",\"12\",\"13\",\"32\",\"21\",\"12\",\"12\",\"13\",\"12\",\"21\",\"12\",\"12\",\"21\",\"21\",\"11\",\"32\",\"22\",\"21\",\"12\",\"21\",\"23\",\"11\",\"12\",\"21\",\"12\",\"31\",\"22\",\"32\",\"21\",\"22\",\"12\",\"33\",\"22\",\"21\",\"13\",\"11\",\"22\",\"11\",\"11\",\"22\",\"12\",\"11\",\"13\",\"41\",\"21\",\"13\",\"12\",\"32\",\"21\",\"21\",\"12\",\"13\",\"21\",\"31\",\"32\",\"13\",\"12\",\"13\",\"21\",\"13\",\"22\",\"12\",\"11\",\"21\",\"41\",\"21\",\"12\",\"12\",\"12\",\"31\",\"13\",\"12\",\"12\",\"11\",\"21\",\"22\",\"13\",\"22\",\"21\",\"11\",\"12\",\"11\",\"21\",\"11\",\"12\",\"13\",\"31\",\"21\",\"11\",\"11\",\"11\",\"12\",\"13\",\"21\",\"21\",\"21\",\"12\",\"22\",\"23\",\"21\",\"31\",\"21\",\"12\",\"11\",\"12\",\"22\",\"11\",\"21\",\"22\",\"22\",\"21\",\"12\",\"13\",\"21\",\"13\",\"21\",\"11\",\"12\",\"22\",\"21\",\"13\",\"12\",\"32\",\"32\",\"11\",\"12\",\"22\",\"12\",\"32\",\"12\",\"42\",\"12\",\"13\",\"21\",\"13\",\"21\",\"31\",\"21\",\"22\",\"13\",\"11\",\"21\",\"21\",\"32\",\"12\",\"11\",\"21\",\"11\",\"13\",\"13\",\"13\",\"12\",\"21\",\"21\",\"13\",\"21\",\"21\",\"41\",\"13\",\"32\",\"21\",\"21\",\"22\",\"21\",\"22\",\"32\",\"13\",\"12\",\"13\",\"21\",\"21\",\"31\",\"21\",\"23\",\"43\",\"21\",\"23\",\"21\",\"33\",\"23\",\"33\",\"11\",\"21\",\"12\",\"21\",\"21\",\"31\",\"21\",\"12\",\"21\",\"21\",\"11\",\"21\",\"23\",\"13\",\"11\",\"31\",\"12\",\"22\",\"41\",\"12\",\"21\",\"13\",\"21\",\"32\",\"21\",\"11\",\"11\",\"12\",\"11\",\"23\",\"11\",\"12\",\"11\",\"21\",\"21\",\"11\",\"21\",\"22\",\"12\",\"13\",\"12\",\"11\",\"11\",\"42\",\"11\",\"21\",\"21\",\"21\",\"12\",\"12\",\"21\",\"21\",\"12\",\"11\",\"21\",\"41\",\"11\",\"21\",\"11\",\"32\",\"13\",\"12\",\"13\",\"12\",\"12\",\"21\",\"21\",\"21\",\"21\",\"12\",\"11\",\"11\",\"42\",\"12\",\"41\",\"22\",\"22\",\"12\",\"21\",\"21\",\"13\",\"12\",\"21\",\"11\",\"21\",\"12\",\"12\",\"21\",\"21\",\"31\",\"31\",\"13\",\"21\",\"13\",\"23\",\"33\",\"13\",\"42\",\"21\",\"21\",\"21\",\"12\",\"13\",\"21\",\"12\",\"21\",\"21\",\"12\",\"22\",\"32\",\"12\",\"13\",\"42\",\"31\",\"22\",\"31\",\"32\",\"21\",\"13\",\"23\",\"13\",\"21\",\"21\",\"12\",\"21\",\"23\",\"21\",\"11\",\"21\",\"13\",\"11\",\"12\",\"12\",\"31\",\"21\",\"22\",\"21\",\"12\",\"11\",\"32\",\"11\",\"22\",\"21\",\"12\",\"13\",\"13\",\"13\",\"21\",\"13\",\"31\",\"12\",\"13\",\"22\",\"21\",\"42\",\"12\",\"12\",\"12\",\"42\",\"21\",\"21\",\"23\",\"12\",\"21\",\"13\",\"11\",\"22\",\"21\",\"22\",\"32\",\"21\",\"21\",\"12\",\"12\",\"43\",\"12\",\"21\",\"23\",\"13\",\"21\",\"13\",\"21\",\"11\",\"32\",\"32\",\"13\",\"21\",\"13\",\"32\",\"13\",\"42\",\"11\",\"23\",\"32\",\"13\",\"32\",\"32\",\"11\",\"13\",\"22\",\"12\",\"13\",\"22\",\"32\",\"12\",\"22\",\"43\",\"13\",\"21\",\"11\",\"13\",\"21\",\"11\",\"23\",\"13\",\"21\",\"13\",\"23\",\"13\",\"12\",\"33\",\"21\",\"12\",\"21\",\"21\",\"11\",\"12\",\"21\",\"21\",\"12\",\"23\",\"12\",\"12\",\"21\",\"13\",\"33\",\"42\",\"21\",\"21\",\"12\",\"21\",\"22\",\"13\",\"42\",\"12\",\"31\",\"11\",\"22\",\"21\",\"11\",\"22\",\"22\",\"33\",\"32\",\"13\",\"21\",\"21\",\"13\",\"12\",\"21\",\"11\",\"32\",\"12\",\"12\",\"23\",\"21\",\"11\",\"21\",\"13\",\"21\",\"21\",\"21\",\"12\",\"12\",\"12\",\"11\",\"21\",\"22\",\"13\",\"13\",\"31\",\"21\",\"12\",\"12\",\"42\",\"12\",\"11\",\"21\",\"13\",\"13\",\"11\",\"32\",\"13\",\"21\",\"12\",\"21\",\"12\",\"12\",\"13\",\"21\",\"21\",\"12\",\"22\",\"13\",\"21\",\"22\",\"13\",\"11\",\"21\",\"13\",\"21\",\"21\",\"23\",\"32\",\"21\",\"12\",\"22\",\"11\",\"23\",\"11\",\"22\",\"21\",\"12\",\"13\",\"13\",\"22\",\"13\",\"33\",\"22\",\"21\",\"12\",\"21\",\"13\",\"11\",\"12\",\"11\",\"13\",\"32\",\"21\",\"22\",\"13\",\"13\",\"12\",\"21\",\"33\",\"11\",\"12\",\"43\",\"11\",\"13\",\"11\",\"13\",\"32\",\"12\",\"13\",\"32\",\"21\",\"21\",\"11\",\"33\",\"42\",\"32\",\"22\",\"21\",\"21\",\"11\",\"21\",\"12\",\"13\",\"21\",\"12\",\"12\",\"12\",\"12\",\"21\",\"12\",\"21\",\"11\",\"43\",\"13\",\"21\",\"12\",\"21\",\"32\",\"41\"],\"MEDIAN_HH_INC\":{\"__ndarray__\":\"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\",\"dtype\":\"float64\",\"order\":\"little\",\"shape\":[668]},\"PFTFAC\":{\"__ndarray__\":\"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\",\"dtype\":\"float64\",\"order\":\"little\",\"shape\":[668]},\"REGION\":[\"1\",\"1\",\"1\",\"1\",\"9\",\"1\",\"1\",\"1\",\"1\",\"1\",\"9\",\"1\",\"1\",\"1\",\"1\",\"1\",\"1\",\"1\",\"1\",\"1\",\"1\",\"1\",\"1\",\"1\",\"1\",\"1\",\"1\",\"1\",\"9\",\"9\",\"1\",\"1\",\"1\",\"1\",\"1\",\"1\",\"9\",\"1\",\"1\",\"1\",\"1\",\"1\",\"1\",\"1\",\"1\",\"1\",\"1\",\"1\",\"9\",\"1\",\"1\",\"1\",\"1\",\"1\",\"1\",\"1\",\"9\",\"1\",\"1\",\"1\",\"1\",\"1\",\"1\",\"1\",\"1\",\"1\",\"1\",\"1\",\"1\",\"1\",\"1\",\"1\",\"1\",\"1\",\"1\",\"9\",\"1\",\"1\",\"1\",\"1\",\"1\",\"1\",\"1\",\"1\",\"1\",\"1\",\"1\",\"1\",\"1\",\"1\",\"1\",\"1\",\"1\",\"1\",\"1\",\"1\",\"1\",\"1\",\"9\",\"9\",\"1\",\"1\",\"1\",\"9\",\"1\",\"1\",\"9\",\"1\",\"1\",\"1\",\"1\",\"9\",\"1\",\"1\",\"1\",\"1\",\"1\",\"1\",\"1\",\"1\",\"1\",\"1\",\"1\",\"1\",\"9\",\"1\",\"1\",\"1\",\"1\",\"1\",\"1\",\"1\",\"9\",\"1\",\"1\",\"1\",\"9\",\"1\",\"1\",\"1\",\"9\",\"1\",\"1\",\"1\",\"1\",\"1\",\"1\",\"1\",\"1\",\"1\",\"1\",\"1\",\"9\",\"1\",\"1\",\"1\",\"1\",\"1\",\"1\",\"1\",\"1\",\"1\",\"1\",\"1\",\"1\",\"1\",\"1\",\"1\",\"1\",\"1\",\"1\",\"1\",\"1\",\"1\",\"1\",\"1\",\"9\",\"1\",\"1\",\"1\",\"1\",\"1\",\"1\",\"9\",\"1\",\"1\",\"1\",\"9\",\"1\",\"1\",\"9\",\"1\",\"1\",\"1\",\"1\",\"1\",\"9\",\"1\",\"1\",\"1\",\"9\",\"1\",\"1\",\"1\",\"9\",\"1\",\"1\",\"1\",\"1\",\"1\",\"1\",\"1\",\"9\",\"1\",\"1\",\"1\",\"9\",\"9\",\"1\",\"1\",\"1\",\"1\",\"1\",\"1\",\"1\",\"1\",\"1\",\"1\",\"1\",\"9\",\"1\",\"1\",\"1\",\"1\",\"1\",\"1\",\"1\",\"1\",\"1\",\"9\",\"1\",\"9\",\"9\",\"1\",\"1\",\"1\",\"1\",\"1\",\"1\",\"9\",\"1\",\"1\",\"9\",\"1\",\"1\",\"1\",\"1\",\"1\",\"1\",\"1\",\"1\",\"1\",\"1\",\"9\",\"1\",\"1\",\"1\",\"1\",\"1\",\"1\",\"1\",\"1\",\"1\",\"1\",\"9\",\"1\",\"1\",\"1\",\"1\",\"9\",\"1\",\"1\",\"1\",\"1\",\"1\",\"1\",\"1\",\"1\",\"1\",\"1\",\"1\",\"1\",\"1\",\"9\",\"1\",\"1\",\"1\",\"1\",\"1\",\"1\",\"1\",\"1\",\"1\",\"1\",\"1\",\"1\",\"1\",\"1\",\"1\",\"1\",\"9\",\"1\",\"1\",\"9\",\"9\",\"1\",\"1\",\"1\",\"1\",\"1\",\"1\",\"1\",\"1\",\"1\",\"1\",\"1\",\"1\",\"1\",\"1\",\"1\",\"1\",\"1\",\"1\",\"1\",\"1\",\"1\",\"1\",\"1\",\"1\",\"9\",\"1\",\"1\",\"1\",\"1\",\"1\",\"1\",\"1\",\"1\",\"1\",\"9\",\"1\",\"1\",\"1\",\"1\",\"1\",\"1\",\"1\",\"1\",\"1\",\"1\",\"9\",\"1\",\"1\",\"1\",\"9\",\"1\",\"9\",\"9\",\"1\",\"1\",\"1\",\"1\",\"1\",\"1\",\"9\",\"1\",\"1\",\"9\",\"1\",\"1\",\"1\",\"1\",\"1\",\"1\",\"1\",\"1\",\"1\",\"1\",\"1\",\"1\",\"1\",\"1\",\"1\",\"9\",\"1\",\"1\",\"1\",\"1\",\"1\",\"1\",\"1\",\"1\",\"1\",\"1\",\"1\",\"1\",\"1\",\"1\",\"1\",\"1\",\"1\",\"1\",\"1\",\"9\",\"1\",\"1\",\"1\",\"1\",\"1\",\"9\",\"1\",\"1\",\"1\",\"1\",\"1\",\"1\",\"1\",\"1\",\"1\",\"1\",\"1\",\"1\",\"1\",\"1\",\"1\",\"1\",\"1\",\"1\",\"1\",\"1\",\"1\",\"1\",\"1\",\"1\",\"1\",\"1\",\"1\",\"1\",\"1\",\"1\",\"1\",\"1\",\"1\",\"1\",\"1\",\"1\",\"1\",\"1\",\"1\",\"1\",\"1\",\"1\",\"1\",\"1\",\"1\",\"1\",\"1\",\"1\",\"1\",\"1\",\"1\",\"1\",\"1\",\"1\",\"1\",\"1\",\"1\",\"1\",\"1\",\"1\",\"9\",\"1\",\"1\",\"1\",\"1\",\"1\",\"1\",\"1\",\"1\",\"1\",\"9\",\"1\",\"1\",\"1\",\"1\",\"9\",\"9\",\"9\",\"1\",\"1\",\"9\",\"1\",\"1\",\"1\",\"1\",\"1\",\"1\",\"1\",\"1\",\"1\",\"1\",\"1\",\"1\",\"1\",\"1\",\"9\",\"1\",\"1\",\"9\",\"1\",\"1\",\"9\",\"1\",\"1\",\"1\",\"1\",\"1\",\"1\",\"1\",\"1\",\"1\",\"1\",\"1\",\"1\",\"1\",\"1\",\"1\",\"1\",\"1\",\"1\",\"9\",\"1\",\"1\",\"1\",\"1\",\"1\",\"1\",\"9\",\"1\",\"1\",\"1\",\"1\",\"1\",\"1\",\"9\",\"1\",\"9\",\"1\",\"1\",\"1\",\"1\",\"1\",\"1\",\"1\",\"1\",\"9\",\"1\",\"1\",\"1\",\"1\",\"1\",\"1\",\"1\",\"1\",\"1\",\"1\",\"9\",\"9\",\"1\",\"1\",\"1\",\"1\",\"1\",\"9\",\"9\",\"1\",\"9\",\"1\",\"1\",\"9\",\"1\",\"1\",\"1\",\"1\",\"1\",\"9\",\"1\",\"1\",\"1\",\"1\",\"1\",\"1\",\"1\",\"1\",\"1\",\"1\",\"1\",\"1\",\"1\",\"1\",\"9\",\"1\",\"1\",\"1\",\"1\",\"1\",\"1\",\"1\",\"1\",\"1\",\"1\",\"1\",\"1\",\"9\",\"1\",\"1\",\"1\",\"1\",\"1\",\"1\",\"1\",\"1\",\"1\",\"9\",\"1\",\"1\",\"1\",\"1\",\"1\",\"1\",\"9\",\"9\",\"1\",\"1\",\"1\",\"1\",\"1\",\"1\",\"1\",\"9\",\"1\",\"9\",\"1\",\"9\",\"1\",\"1\",\"1\",\"1\",\"1\",\"1\",\"1\",\"1\",\"1\",\"1\",\"9\",\"1\",\"1\",\"1\"],\"SAT_AVG_ALL\":[1112,1289,1027,0,0,1466,1466,0,1488,1253,0,0,0,0,1398,1439,0,0,0,1160,0,1466,1461,1302,1087,0,1156,0,0,0,1302,1093,0,994,1184,0,0,0,1466,0,0,1253,0,0,1160,1420,1065,1253,0,0,0,1228,1420,0,1520,1018,0,1253,1027,1253,1078,1461,1253,1466,1184,0,1461,0,0,1439,0,1466,1420,0,0,0,1128,1160,0,0,1253,1131,1046,1129,1302,0,1398,1076,1429,1120,1144,1253,1253,1104,0,1144,0,0,0,0,0,1074,0,0,0,1439,0,0,0,1289,1160,0,1545,1253,1253,1160,1466,0,0,1129,1128,1253,1156,1420,0,1076,1492,1490,0,0,0,1093,0,0,0,1073,0,1466,0,0,0,1223,0,1420,1429,0,0,0,0,1439,0,1240,0,0,0,0,0,1338,0,0,1435,1338,1253,931,1195,0,0,0,1520,1520,1294,0,1429,997,1545,0,0,1253,0,0,1253,1228,1027,0,1065,0,0,0,0,1461,0,1183,1466,1027,0,1190,0,0,1253,1253,0,0,0,1065,0,1183,1253,0,1466,0,1253,1253,0,1517,0,994,0,0,1466,0,1253,0,1398,1027,1022,0,1307,1545,0,0,1022,1545,0,1294,1289,0,1050,0,0,1107,1253,0,0,1253,1240,1053,1027,1466,1160,0,1289,0,0,1160,1302,1129,0,0,1160,0,0,0,1253,0,0,1065,1253,0,0,1160,0,1522,1160,1112,0,1156,0,0,1184,0,0,0,0,1183,0,997,1461,1160,1490,1160,1253,0,0,0,0,1156,1429,0,0,1253,0,0,1253,0,0,0,1439,1395,1228,0,0,1420,1184,0,0,1420,1302,1073,1183,0,1253,1253,0,1010,0,1466,0,0,0,0,994,1253,1253,1160,1160,0,1307,0,0,0,0,1131,1022,1398,1010,1289,1253,1520,1461,0,0,1302,1517,1420,0,0,1253,0,1078,1253,0,1522,1240,0,0,1065,0,0,1010,0,0,0,0,0,0,1253,0,0,0,1398,0,1129,1280,1190,0,1193,0,1160,0,1461,1156,0,1022,0,0,1085,0,0,0,0,1076,1398,1184,0,1065,1086,1128,1302,1184,0,0,1461,1380,0,1492,1010,1112,0,1253,0,0,0,0,0,0,0,0,0,0,0,1253,0,1112,0,1289,1253,1190,0,1294,0,1027,1104,0,0,1156,0,0,0,1420,0,0,1253,0,994,1302,1253,1160,0,1253,0,1184,0,0,1429,0,1466,0,0,0,0,1289,0,1338,0,0,1184,0,1289,1053,0,0,0,1146,1545,1074,1253,1053,1520,0,0,0,1461,1420,1050,1065,0,0,0,1076,0,0,1074,1319,0,0,0,1302,1302,0,1128,0,1435,0,1184,0,0,1120,1338,0,0,1302,1107,1492,0,0,1035,0,0,0,1420,1253,1240,1131,1253,0,1488,1022,0,0,1065,0,0,1367,1131,0,997,1253,0,1184,1466,0,1074,1076,1240,0,0,0,997,1466,0,0,0,0,1490,1461,0,1253,0,1319,0,1461,1289,1380,1466,1439,1429,0,0,1240,0,1010,0,1280,0,0,1253,0,1073,0,0,1420,1065,1289,0,0,0,0,0,0,0,1420,1184,1183,1223,0,0,1193,1429,1093,1193,0,0,1253,0,0,0,1466,997,0,1050,1022,0,1253,0,0,1027,0,1488,1228,1253,0,0,1050,0,0,0,1160,1289,1053,1076,0,0,1488,0,0,0,1086,1160,0,987,1520,0,1076,0,1160,1160,1253,0,1294,1190,0,0,1050,1253,0,0,1053,0],\"STABBR\":[\"MA\",\"VT\",\"CT\",\"NH\",\"PR\",\"MA\",\"MA\",\"NH\",\"NH\",\"CT\",\"PR\",\"MA\",\"CT\",\"MA\",\"MA\",\"VT\",\"VT\",\"MA\",\"ME\",\"CT\",\"NH\",\"MA\",\"MA\",\"MA\",\"MA\",\"VT\",\"MA\",\"NH\",\"PR\",\"PR\",\"MA\",\"MA\",\"RI\",\"RI\",\"NH\",\"MA\",\"PR\",\"CT\",\"MA\",\"VT\",\"ME\",\"CT\",\"MA\",\"CT\",\"RI\",\"MA\",\"MA\",\"CT\",\"PR\",\"MA\",\"CT\",\"MA\",\"MA\",\"MA\",\"MA\",\"MA\",\"PR\",\"CT\",\"CT\",\"CT\",\"MA\",\"MA\",\"CT\",\"MA\",\"MA\",\"MA\",\"MA\",\"MA\",\"ME\",\"VT\",\"MA\",\"MA\",\"MA\",\"MA\",\"ME\",\"PR\",\"MA\",\"RI\",\"ME\",\"VT\",\"CT\",\"MA\",\"MA\",\"CT\",\"MA\",\"CT\",\"MA\",\"CT\",\"MA\",\"CT\",\"MA\",\"CT\",\"CT\",\"ME\",\"CT\",\"MA\",\"VT\",\"CT\",\"PR\",\"PR\",\"NH\",\"MA\",\"CT\",\"PR\",\"ME\",\"VT\",\"PR\",\"MA\",\"MA\",\"VT\",\"CT\",\"PR\",\"MA\",\"CT\",\"CT\",\"RI\",\"MA\",\"VT\",\"NH\",\"CT\",\"MA\",\"CT\",\"ME\",\"MA\",\"PR\",\"CT\",\"RI\",\"MA\",\"CT\",\"ME\",\"CT\",\"MA\",\"PR\",\"ME\",\"NH\",\"MA\",\"PR\",\"MA\",\"NH\",\"MA\",\"PR\",\"NH\",\"MA\",\"MA\",\"MA\",\"ME\",\"MA\",\"CT\",\"MA\",\"VT\",\"CT\",\"MA\",\"PR\",\"ME\",\"CT\",\"ME\",\"ME\",\"MA\",\"MA\",\"ME\",\"MA\",\"MA\",\"CT\",\"CT\",\"MA\",\"MA\",\"CT\",\"MA\",\"MA\",\"MA\",\"RI\",\"CT\",\"MA\",\"CT\",\"MA\",\"MA\",\"PR\",\"CT\",\"NH\",\"ME\",\"CT\",\"MA\",\"CT\",\"PR\",\"MA\",\"MA\",\"MA\",\"PR\",\"CT\",\"MA\",\"PR\",\"MA\",\"MA\",\"CT\",\"MA\",\"CT\",\"PR\",\"RI\",\"CT\",\"CT\",\"PR\",\"CT\",\"NH\",\"MA\",\"PR\",\"MA\",\"CT\",\"NH\",\"MA\",\"MA\",\"CT\",\"CT\",\"PR\",\"CT\",\"CT\",\"RI\",\"PR\",\"PR\",\"MA\",\"MA\",\"CT\",\"MA\",\"MA\",\"CT\",\"VT\",\"ME\",\"MA\",\"MA\",\"NH\",\"PR\",\"VT\",\"MA\",\"NH\",\"RI\",\"VT\",\"MA\",\"ME\",\"RI\",\"NH\",\"PR\",\"CT\",\"PR\",\"PR\",\"CT\",\"MA\",\"NH\",\"CT\",\"MA\",\"RI\",\"PR\",\"VT\",\"ME\",\"PR\",\"CT\",\"MA\",\"CT\",\"CT\",\"RI\",\"RI\",\"MA\",\"NH\",\"ME\",\"CT\",\"PR\",\"NH\",\"MA\",\"CT\",\"ME\",\"RI\",\"CT\",\"ME\",\"MA\",\"RI\",\"MA\",\"PR\",\"ME\",\"VT\",\"MA\",\"NH\",\"PR\",\"NH\",\"NH\",\"NH\",\"MA\",\"MA\",\"CT\",\"MA\",\"RI\",\"MA\",\"RI\",\"CT\",\"MA\",\"RI\",\"PR\",\"CT\",\"ME\",\"MA\",\"MA\",\"NH\",\"CT\",\"NH\",\"ME\",\"CT\",\"MA\",\"ME\",\"RI\",\"VT\",\"MA\",\"MA\",\"MA\",\"PR\",\"MA\",\"NH\",\"PR\",\"PR\",\"MA\",\"MA\",\"MA\",\"MA\",\"RI\",\"CT\",\"CT\",\"MA\",\"MA\",\"MA\",\"MA\",\"VT\",\"MA\",\"MA\",\"CT\",\"RI\",\"CT\",\"CT\",\"RI\",\"RI\",\"MA\",\"MA\",\"RI\",\"VT\",\"PR\",\"CT\",\"MA\",\"VT\",\"MA\",\"MA\",\"VT\",\"CT\",\"MA\",\"MA\",\"PR\",\"MA\",\"MA\",\"CT\",\"MA\",\"MA\",\"VT\",\"CT\",\"ME\",\"MA\",\"CT\",\"PR\",\"MA\",\"MA\",\"CT\",\"PR\",\"MA\",\"PR\",\"PR\",\"MA\",\"MA\",\"MA\",\"RI\",\"NH\",\"ME\",\"PR\",\"CT\",\"NH\",\"PR\",\"ME\",\"MA\",\"VT\",\"CT\",\"MA\",\"CT\",\"MA\",\"VT\",\"CT\",\"CT\",\"MA\",\"MA\",\"MA\",\"CT\",\"VT\",\"PR\",\"NH\",\"VT\",\"NH\",\"NH\",\"NH\",\"ME\",\"CT\",\"MA\",\"NH\",\"CT\",\"MA\",\"MA\",\"MA\",\"MA\",\"NH\",\"MA\",\"MA\",\"MA\",\"CT\",\"PR\",\"RI\",\"MA\",\"MA\",\"MA\",\"CT\",\"PR\",\"RI\",\"MA\",\"NH\",\"MA\",\"CT\",\"CT\",\"MA\",\"ME\",\"CT\",\"CT\",\"CT\",\"CT\",\"MA\",\"MA\",\"VT\",\"CT\",\"CT\",\"VT\",\"RI\",\"MA\",\"CT\",\"ME\",\"MA\",\"CT\",\"ME\",\"MA\",\"CT\",\"NH\",\"MA\",\"NH\",\"CT\",\"CT\",\"ME\",\"RI\",\"MA\",\"CT\",\"CT\",\"VT\",\"CT\",\"MA\",\"NH\",\"CT\",\"MA\",\"MA\",\"CT\",\"MA\",\"ME\",\"VT\",\"CT\",\"MA\",\"VT\",\"ME\",\"MA\",\"VT\",\"MA\",\"NH\",\"VT\",\"VT\",\"NH\",\"VT\",\"PR\",\"CT\",\"ME\",\"MA\",\"MA\",\"CT\",\"NH\",\"MA\",\"NH\",\"ME\",\"PR\",\"MA\",\"MA\",\"ME\",\"MA\",\"PR\",\"PR\",\"PR\",\"CT\",\"ME\",\"PR\",\"MA\",\"RI\",\"ME\",\"MA\",\"MA\",\"MA\",\"MA\",\"MA\",\"MA\",\"CT\",\"MA\",\"MA\",\"NH\",\"RI\",\"PR\",\"CT\",\"MA\",\"GU\",\"NH\",\"MA\",\"PR\",\"RI\",\"MA\",\"CT\",\"ME\",\"NH\",\"RI\",\"NH\",\"MA\",\"CT\",\"MA\",\"MA\",\"CT\",\"VT\",\"NH\",\"VT\",\"CT\",\"CT\",\"MA\",\"PR\",\"MA\",\"MA\",\"MA\",\"ME\",\"CT\",\"CT\",\"PR\",\"MA\",\"MA\",\"MA\",\"MA\",\"CT\",\"MA\",\"PR\",\"MA\",\"PR\",\"CT\",\"MA\",\"MA\",\"NH\",\"CT\",\"ME\",\"MA\",\"MA\",\"PR\",\"CT\",\"NH\",\"RI\",\"MA\",\"MA\",\"VT\",\"CT\",\"MA\",\"VT\",\"MA\",\"PR\",\"PR\",\"MA\",\"MA\",\"MA\",\"CT\",\"MA\",\"PR\",\"PR\",\"CT\",\"PR\",\"MA\",\"NH\",\"PR\",\"MA\",\"MA\",\"VT\",\"MA\",\"MA\",\"PR\",\"ME\",\"MA\",\"CT\",\"CT\",\"MA\",\"NH\",\"MA\",\"NH\",\"MA\",\"RI\",\"VT\",\"MA\",\"MA\",\"VT\",\"GU\",\"NH\",\"CT\",\"CT\",\"CT\",\"NH\",\"MA\",\"CT\",\"MA\",\"ME\",\"VT\",\"MA\",\"CT\",\"PR\",\"CT\",\"CT\",\"MA\",\"NH\",\"MA\",\"CT\",\"VT\",\"MA\",\"ME\",\"PR\",\"CT\",\"ME\",\"CT\",\"VT\",\"NH\",\"CT\",\"PR\",\"PR\",\"NH\",\"NH\",\"ME\",\"NH\",\"MA\",\"RI\",\"MA\",\"PR\",\"MA\",\"PR\",\"CT\",\"PR\",\"CT\",\"MA\",\"CT\",\"CT\",\"RI\",\"CT\",\"MA\",\"VT\",\"ME\",\"CT\",\"PR\",\"CT\",\"NH\",\"CT\"],\"TUITIONFEE_IN\":{\"__ndarray__\":\"AAAAAICfxEAAAAAAANnRQAAAAAAAZcVAAAAAAAAAAAAAAAAAAAy1QAAAAABAKOlAAAAAAEAo6UAAAAAAgInLQAAAAACgE+tAAAAAAAC3ykAAAAAAADC1QAAAAACAq8tAAAAAAABIsUAAAAAAAAAAAAAAAABgDOtAAAAAAECW6kAAAAAAAJXHQAAAAACA2MNAAAAAAAA0v0AAAAAAwN7jQAAAAACAictAAAAAAAAAAAAAAAAAwIfrQAAAAACAB89AAAAAAAAk40AAAAAA4CfmQAAAAACASOJAAAAAAABo3kAAAAAAADS3QAAAAAAADrdAAAAAAIAHz0AAAAAAgDDLQAAAAADAmuNAAAAAAIBwwUAAAAAAwBDSQAAAAAAAAAAAAAAAAAC8tkAAAAAAANHQQAAAAABAKOlAAAAAAMCJ40AAAAAAABCtQAAAAAAAt8pAAAAAAADYskAAAAAAgDbAQAAAAAAAnctAAAAAAIBX6kAAAAAAAMnEQAAAAAAAt8pAAAAAAAAAAAAAAAAAAMjJQAAAAAAAILFAAAAAAEDy40AAAAAAgFfqQAAAAACA2MNAAAAAAICe6EAAAAAAQEHjQAAAAAAAYrtAAAAAAADBykAAAAAAAGXFQAAAAAAAuc5AAAAAAAA5xEAAAAAAwIfrQAAAAAAAvMpAAAAAAAAAAAAAAAAAAEPiQAAAAABArOhAAAAAAMCH60AAAAAAAKiyQAAAAAAANL9AAAAAAECW6kAAAAAAAOCzQAAAAABAKOlAAAAAAIBX6kAAAAAAAHCxQAAAAAAAXKxAAAAAAAC8tkAAAAAAwFHbQAAAAAAAnctAAAAAAIADzEAAAAAAwInjQAAAAAAAwcpAAAAAAMDU4kAAAAAAAIzEQAAAAADALONAAAAAAIAHz0AAAAAAAAAAAAAAAABgDOtAAAAAAAC8xEAAAAAAABXrQAAAAACgo+JAAAAAAIBq4EAAAAAAALnOQAAAAAAAuc5AAAAAAABTykAAAAAAgDnkQAAAAACAauBAAAAAAIAy0EAAAAAAAAAAAAAAAAAAMLVAAAAAAAC8tkAAAAAAAAAAAAAAAAAAlOFAAAAAAABwsUAAAAAAADC1QAAAAACAA8xAAAAAAECW6kAAAAAAALy2QAAAAACA2MNAAAAAAEBU5kAAAAAAANnRQAAAAADA3uNAAAAAAAC8tkAAAAAAAE/pQAAAAAAAt8pAAAAAAAC5zkAAAAAAAJ3LQAAAAAAAAAAAAAAAAMCJ40AAAAAAAGjeQAAAAADALONAAAAAAMBR20AAAAAAALnOQAAAAAAA0cVAAAAAAIBX6kAAAAAAADS3QAAAAAAAvMRAAAAAAEAV60AAAAAAQBPrQAAAAACAONBAAAAAAAAAAAAAAAAAwJvnQAAAAACAMMtAAAAAAABytUAAAAAAADqtQAAAAAAAaN5AAAAAAIA/xEAAAAAAAPyvQAAAAABAKOlAAAAAAABo3kAAAAAAAAAAAAAAAAAAAAAAAAAAAAAe5EAAAAAAQMTpQAAAAACAV+pAAAAAAAAV60AAAAAAABCtQAAAAACAlulAAAAAAADR0EAAAAAAANK1QAAAAABAlupAAAAAAAAAAAAAAAAAAKbNQAAAAAAANLdAAAAAAIADzEAAAAAAAAAAAAAAAABAVOpAAAAAAIADzEAAAAAAAFvoQAAAAADA/+NAAAAAAAAAAAAAAAAAgDzqQAAAAAAAW+hAAAAAAACoykAAAAAAAE/fQAAAAACAb+NAAAAAAACoskAAAAAAAAAAAAAAAAAAAAAAAAAAAICe6EAAAAAAgJ7oQAAAAAAArOhAAAAAAAAuxkAAAAAAABXrQAAAAADgI+BAAAAAAABP6UAAAAAAgI3lQAAAAAAAAAAAAAAAAAC8ykAAAAAAAGPfQAAAAAAAAAAAAAAAAAC5zkAAAAAAQPLjQAAAAAAAZcVAAAAAAADRwEAAAAAAAMnEQAAAAAAAzNVAAAAAAAAAAAAAAAAAAOrBQAAAAAAALsZAAAAAAMCH60AAAAAAALy2QAAAAADAk+BAAAAAAEAo6UAAAAAAAGXFQAAAAAAAotdAAAAAAABr50AAAAAAADC1QAAAAABA2+BAAAAAAADBykAAAAAAALzKQAAAAAAADLVAAAAAAIA55EAAAAAAAFG+QAAAAAAAycRAAAAAAAAAAAAAAAAAwJPgQAAAAAAAwcpAAAAAAABo3kAAAAAAQCjpQAAAAAAAF+FAAAAAAAC8ykAAAAAAAKjKQAAAAAAAvLZAAAAAAMAW6kAAAAAAAAAAAAAAAACAcMFAAAAAAADruUAAAAAAALy2QAAAAABAKOlAAAAAAECs6EAAAAAAAKjKQAAAAAAAZORAAAAAAGAM60AAAAAAAGXFQAAAAAAADchAAAAAAAAAAAAAAAAAgODmQAAAAAAAT+lAAAAAAABo3kAAAAAAAE24QAAAAAAADchAAAAAAABP6UAAAAAAwLPkQAAAAAAArOhAAAAAAADZ0UAAAAAAgDrpQAAAAAAAa8FAAAAAAAAo3UAAAAAAAFG+QAAAAAAA8q9AAAAAAAC8ykAAAAAAAAG9QAAAAAAA0cBAAAAAAAC5zkAAAAAAAKbNQAAAAAAAwstAAAAAAABlxUAAAAAAAAAAAAAAAAAAnctAAAAAAAAAAAAAAAAAANnRQAAAAACAA8xAAAAAAAD8r0AAAAAAwN7jQAAAAACAB89AAAAAAMAs40AAAAAAgDXFQAAAAAAAKN1AAAAAAACdy0AAAAAAAKy1QAAAAAAAY99AAAAAAIADzEAAAAAAALnOQAAAAAAAOLhAAAAAAABo3kAAAAAAAMnEQAAAAAAAvMpAAAAAAIADzEAAAAAAANSxQAAAAADA3uNAAAAAAAB0rUAAAAAAAD3qQAAAAAAAnctAAAAAAICfxEAAAAAAAA63QAAAAAAA0cVAAAAAAACCzUAAAAAAAAAAAAAAAADAENJAAAAAAAAOt0AAAAAAgInLQAAAAAAAAL5AAAAAAICJy0AAAAAAwJPgQAAAAAAAZORAAAAAAOAj4EAAAAAAwIfrQAAAAAAAnctAAAAAAEAT60AAAAAAAJ3LQAAAAAAAt8pAAAAAAEDf5EAAAAAAACjdQAAAAAAAvLZAAAAAAABwsUAAAAAAANHFQAAAAAAAFetAAAAAAAByzkAAAAAAAAC+QAAAAAAAwcpAAAAAAABo3kAAAAAAwNDUQAAAAAAAwcpAAAAAACC24EAAAAAAAHStQAAAAAAAKN1AAAAAAECW6kAAAAAAwGnoQAAAAABA8uNAAAAAAAAAAAAAAAAAgALEQAAAAACAV+pAAAAAAMAQ0kAAAAAAALy2QAAAAAAAAb1AAAAAAIBX6kAAAAAAgAfPQAAAAACAP8RAAAAAAMCT4EAAAAAAAAAAAAAAAAAAqMpAAAAAAAC3ykAAAAAAAAAAAAAAAAAAbOFAAAAAAADYtkAAAAAAAAAAAAAAAAAAlcdAAAAAAABp1UAAAAAAQN/kQAAAAAAAAAAAAAAAAIBwwUAAAAAAALfKQAAAAAAAt8pAAAAAAACdy0AAAAAAAJ3LQAAAAABAVOZAAAAAAIDg5kAAAAAAwJrjQAAAAAAA0LtAAAAAAAD8r0AAAAAAgCjRQAAAAADA1OJAAAAAAAANyEAAAAAAYAzrQAAAAAAAbOFAAAAAAADZ0UAAAAAAAMHKQAAAAACAnuhAAAAAAMCH60AAAAAAAAAAAAAAAAAAQLRAAAAAAIAHz0AAAAAAwBbqQAAAAACAV+pAAAAAAABwsUAAAAAAgDLQQAAAAAAAwcpAAAAAAAAQrUAAAAAAADnEQAAAAAAAqMpAAAAAAAAAAAAAAAAAAD3qQAAAAAAAps1AAAAAAIBo1EAAAAAAABO6QAAAAAAAycRAAAAAAAD8r0AAAAAAAE24QAAAAAAAbOFAAAAAAIDYw0AAAAAAQCPgQAAAAADAmuNAAAAAAAAAvkAAAAAAQFTqQAAAAAAADrdAAAAAAAC5zkAAAAAAAGPfQAAAAAAAOLhAAAAAAADPwUAAAAAAYAzrQAAAAAAAlcdAAAAAAMAs40AAAAAAQLLpQAAAAAAAa+dAAAAAAECs6EAAAAAAQAbkQAAAAACAOeRAAAAAAMDe40AAAAAAAOCzQAAAAADAh+tAAAAAAIBI4kAAAAAAgDjQQAAAAAAADchAAAAAAADyr0AAAAAAAGPfQAAAAAAAG+JAAAAAAABRvkAAAAAAAGjeQAAAAAAAUb5AAAAAAIADzEAAAAAAALzEQAAAAABgDOtAAAAAAMAQ0kAAAAAAADbgQAAAAAAAycRAAAAAAIBexEAAAAAAwFHbQAAAAACAB89AAAAAAMAQ0kAAAAAAAKiyQAAAAAAA1LtAAAAAAMCH60AAAAAAgMTqQAAAAAAAAAAAAAAAAEAV60AAAAAAAGzhQAAAAACAn8RAAAAAAABk5EAAAAAAAKjKQAAAAAAAOLhAAAAAAECu30AAAAAAgI3lQAAAAAAAAAAAAAAAAADM1UAAAAAAAEixQAAAAAAAcLFAAAAAAEDE6UAAAAAAgAPMQAAAAAAA0dBAAAAAAIBo1EAAAAAAALnOQAAAAACANcVAAAAAAICfxEAAAAAAAAAAAAAAAAAA2dFAAAAAAACoykAAAAAAAGvnQAAAAAAAlcdAAAAAAACs6EAAAAAAQFTmQAAAAAAAZcVAAAAAAABTykAAAAAAAGTkQAAAAAAAAAAAAAAAAADRxUAAAAAAQFTmQAAAAADAm+dAAAAAAABj30AAAAAAgFfqQAAAAAAAaN5AAAAAAAAAAAAAAAAAALzKQAAAAAAANL9AAAAAAIBwwUAAAAAAgAfPQAAAAAAAwcpAAAAAAMDe40AAAAAAAILNQAAAAAAAt8pAAAAAAACoskAAAAAAwBDSQAAAAAAAcLFAAAAAAEAj4EAAAAAAABXrQAAAAAAAAAAAAAAAAEAo6UAAAAAAgAPMQAAAAADAieNAAAAAAAA+sUAAAAAAAAAAAAAAAAAA2dFAAAAAAIADzEAAAAAAAFvoQAAAAAAAlcdAAAAAAAAAAAAAAAAAwBDSQAAAAADAieNAAAAAAADZ0UAAAAAAAMLLQAAAAADAieNAAAAAAAAAAAAAAAAAgDXFQAAAAACAXuJAAAAAAABP6UAAAAAAAJThQAAAAAAAvMpAAAAAAADCy0AAAAAAgJ7oQAAAAAAAaN5AAAAAAAB63EAAAAAAAMi5QAAAAADAh+tAAAAAAIBX6kAAAAAAAGvBQAAAAAAAycRAAAAAAAD8r0AAAAAAAAy1QAAAAAAADLVAAAAAAAC8xEAAAAAAgAPMQAAAAAAADLVAAAAAAACU4UAAAAAAAOLoQAAAAAAAOq1AAAAAAADet0AAAAAAQKzoQAAAAACAB89AAAAAAIAHz0AAAAAAAMzVQAAAAADAUdtAAAAAAIA55EAAAAAAgDzqQAAAAADA/+NAAAAAAMAQ0kAAAAAAQK7fQAAAAAAAE7pAAAAAAKCj4kAAAAAAAFvoQAAAAAAArLZAAAAAAECD4kAAAAAAgAfPQAAAAAAA8q9AAAAAAEAV60AAAAAAABC0QAAAAACAONBAAAAAAIC+0UAAAAAAQIPiQAAAAABArt9AAAAAAAAAvkAAAAAAgFfqQAAAAAAAqMpAAAAAAACmzUAAAAAAwNTiQAAAAAAAvMpAAAAAAOAn5kAAAAAAoBPrQAAAAAAADchAAAAAAADU6kAAAAAAgDnkQAAAAAAAycRAAAAAAAABvUAAAAAAQMTpQAAAAAAA9OhAAAAAAMDU4kAAAAAAgAPMQAAAAADgI+BAAAAAAAC3ykAAAAAAAAy1QAAAAAAAQ+JAAAAAAAAAAAAAAAAAAKiyQAAAAAAAlOFAAAAAAAC8xEAAAAAAAKbNQAAAAAAA/K9AAAAAAEBU5kAAAAAAADC1QAAAAADgI+BAAAAAAEAo6UAAAAAAACazQAAAAAAAaN5AAAAAAIA1xUAAAAAAQETqQAAAAABAE+tAAAAAAMCH60AAAAAAADC1QAAAAAAAt8pAAAAAAECD4kAAAAAAAOLoQAAAAAAAyMlAAAAAAMCH60AAAAAAANnRQAAAAACAxOpAAAAAAEAo6UAAAAAAQJbqQAAAAAAAFetAAAAAAAC8tkAAAAAAAOivQAAAAAAAps1AAAAAAAAAAAAAAAAAAGzhQAAAAACANcVAAAAAAECy6UAAAAAAALy2QAAAAAAAE7pAAAAAAACoykAAAAAAADS3QAAAAACAP8RAAAAAAABo3kAAAAAAADS3QAAAAACAV+pAAAAAAADJxEAAAAAAANnRQAAAAAAAAAAAAAAAAABk5EAAAAAAAAy1QAAAAAAANL9AAAAAAADYskAAAAAAAAAAAAAAAAAASLFAAAAAAIBX6kAAAAAAwBDSQAAAAADAk+BAAAAAAAAe5EAAAAAAgJbpQAAAAABArt9AAAAAAEAG5EAAAAAAABXrQAAAAACAMMtAAAAAAEAG5EAAAAAAAKyqQAAAAAAAaN5AAAAAAAC5zkAAAAAAAHCxQAAAAACANsBAAAAAAABj30AAAAAAAAAAAAAAAADgI+BAAAAAAICry0AAAAAAAGvBQAAAAAAADchAAAAAAEDf5EAAAAAAALzKQAAAAAAAYrtAAAAAAIA1xUAAAAAAAGXFQAAAAADgBuRAAAAAAKAT60AAAAAAQPLjQAAAAAAAt8pAAAAAAACCzUAAAAAAANi2QAAAAAAAa8FAAAAAAAD8r0AAAAAAgDXFQAAAAACAA8xAAAAAAMDe40AAAAAAANnRQAAAAAAAwstAAAAAAAC8xEAAAAAAALy2QAAAAAAAvLZAAAAAAKAT60AAAAAAwLPkQAAAAACAA8xAAAAAAABo3kAAAAAAgF7EQAAAAAAAnctAAAAAAICry0AAAAAAAC6yQAAAAACAnuhAAAAAAABNvUAAAAAAALzEQAAAAAAAcrVAAAAAAMDe40AAAAAAgPjhQAAAAAAAt8pAAAAAAADR0EAAAAAAAKzoQAAAAAAAa+dAAAAAAACsx0AAAAAAAILNQAAAAAAAa8FAAAAAAAC5zkAAAAAAABO6QAAAAADAm+dAAAAAAADCy0AAAAAAAAAAAA==\",\"dtype\":\"float64\",\"order\":\"little\",\"shape\":[668]},\"TUITIONFEE_OUT\":{\"__ndarray__\":\"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\",\"dtype\":\"float64\",\"order\":\"little\",\"shape\":[668]},\"UGDS\":[1260,10612,7890,0,510,13760,13760,4135,4312,1396,936,12229,6274,113,3627,2550,2099,4996,3230,4750,4135,1984,5597,23202,1725,1655,2103,80170,4169,1585,23202,6649,1996,6480,12668,63,9331,1982,13760,3120,2178,1396,5809,1478,13743,17238,6369,1396,0,1828,2207,1790,17238,4996,7582,1275,289,1858,7890,18830,4070,5597,840,1984,1593,4571,5597,6509,3230,2550,4407,13760,17238,11216,1054,12734,2108,13743,413,3120,1858,5012,3804,5041,23202,501,3627,9325,9639,865,3933,18830,18830,979,5907,3933,180,98,936,12734,0,1650,3671,529,373,2550,12734,4996,2252,10612,4750,12734,4550,1396,18830,13743,1984,3120,80170,5041,2108,18830,8861,17238,4169,9325,6752,2028,9017,123,4103,6649,5144,585,80170,9312,12060,13760,80170,0,0,2016,2913,17238,9639,2178,2496,1982,6488,2550,422,13385,4169,373,117,1825,413,4177,2014,172,2392,4177,542,1113,1976,6509,913,196,7582,7582,4079,4674,9639,3415,4550,6332,509,840,1376,197,18830,1790,7890,3471,6369,684,0,36,4674,5597,9331,4254,13760,7890,40,7371,200,4347,1858,840,510,5907,1628,6369,0,4254,1858,80170,13760,1319,840,542,12734,5963,477,6480,796,8794,13760,4571,542,3648,3627,7890,1774,50,3817,4550,80170,396,1774,4550,851,4079,10612,1175,5281,2596,1628,3064,840,1581,3471,18830,13385,3416,7890,1984,13743,346,10612,373,12060,4750,23202,5041,4872,2596,13743,3253,1376,413,18830,1064,80170,6369,840,413,13819,4750,4733,340,13743,1260,3622,8861,1350,32,12668,3622,4135,1609,4135,4254,3648,3415,5597,13743,2028,13743,1396,2527,2596,9331,1479,8861,9639,690,3104,1858,80170,61,1858,1921,4733,2596,2550,2190,1790,152,181,17238,12668,9331,217,17238,23202,9312,4254,59,542,1396,14,1307,1936,1984,2099,271,2527,501,6480,1396,1396,13743,13743,2252,3817,1996,3412,11503,71,5012,1774,3627,1307,10612,1858,7582,5597,509,5112,23202,5963,17238,11216,180,1858,2178,4070,542,290,340,13385,3157,10203,6369,11503,544,1307,4996,3033,1996,3104,1825,1585,18830,1376,69,1637,3627,2099,5041,1750,7371,4571,3686,5907,4750,3496,5597,2103,9017,1774,2828,1376,425,1628,80170,1628,413,9325,3627,12668,588,6369,5110,2108,23202,12668,6509,676,5597,1798,419,6752,1307,1260,3648,542,1064,6569,6332,0,684,5699,5489,2913,373,1982,3157,18830,4872,1260,45,10612,542,7371,2099,4079,2252,7890,979,3648,99,8861,2252,4103,1376,17238,80170,296,840,3230,6480,23202,1858,4750,1350,1396,6509,12668,3671,3033,9639,679,13760,413,3120,4400,32,10612,413,4177,2099,212,12668,3120,10612,3416,3120,0,4872,2379,4550,1650,840,3416,7582,80170,734,283,5597,17238,5281,6369,11503,510,1155,9325,373,510,1650,1994,585,6620,4571,23202,23202,684,2108,5907,2392,2014,12668,6569,10203,865,4177,3375,1684,23202,3064,6752,4693,9017,2682,1684,6569,3104,17238,542,13385,5012,840,1655,4312,1774,2922,5907,6369,1581,2913,2361,5012,413,3415,1396,510,1593,1984,6509,1650,9325,13385,3249,2252,936,3415,13760,4682,80170,4872,1832,2028,5597,936,1396,1684,1994,1828,5597,10612,1798,13760,2550,9639,12734,4190,13385,63,1307,4872,1750,12734,10203,542,3747,9312,80170,3747,17238,6369,10612,221,3648,510,3230,5809,0,5699,17238,12668,4254,2016,2496,6569,3686,9639,6649,3686,1677,80170,18830,2966,1478,1376,1984,3415,12229,5281,1774,2527,840,429,4872,7890,1395,4312,1790,1396,1350,1936,5281,11503,4872,413,4750,10612,3416,9325,8794,9331,4312,851,413,80170,5110,13743,12229,3046,7582,135,9325,5144,4750,2746,1396,260,4079,7371,1042,1350,5281,18830,10203,4103,3416,913],\"deg_level\":[\"grad\",\"ug\",\"grad\",\"grad\",\"grad\",\"grad\",\"ug\",\"ug\",\"ug\",\"ug\",\"ug\",\"grad\",\"ug\",\"ug\",\"ug\",\"ug\",\"ug\",\"ug\",\"ug\",\"ug\",\"ug\",\"ug\",\"grad\",\"ug\",\"ug\",\"ug\",\"grad\",\"ug\",\"ug\",\"ug\",\"grad\",\"ug\",\"grad\",\"ug\",\"ug\",\"ug\",\"ug\",\"ug\",\"ug\",\"ug\",\"ug\",\"ug\",\"ug\",\"ug\",\"grad\",\"grad\",\"grad\",\"ug\",\"ug\",\"ug\",\"ug\",\"ug\",\"grad\",\"ug\",\"ug\",\"ug\",\"ug\",\"ug\",\"ug\",\"ug\",\"grad\",\"grad\",\"grad\",\"grad\",\"ug\",\"grad\",\"grad\",\"ug\",\"ug\",\"grad\",\"ug\",\"grad\",\"ug\",\"ug\",\"ug\",\"ug\",\"grad\",\"ug\",\"grad\",\"grad\",\"ug\",\"ug\",\"ug\",\"ug\",\"ug\",\"ug\",\"ug\",\"ug\",\"grad\",\"grad\",\"grad\",\"grad\",\"ug\",\"ug\",\"grad\",\"ug\",\"grad\",\"ug\",\"ug\",\"grad\",\"grad\",\"grad\",\"ug\",\"ug\",\"ug\",\"grad\",\"grad\",\"grad\",\"grad\",\"grad\",\"ug\",\"ug\",\"grad\",\"grad\",\"ug\",\"ug\",\"ug\",\"grad\",\"grad\",\"ug\",\"ug\",\"ug\",\"ug\",\"grad\",\"ug\",\"grad\",\"ug\",\"ug\",\"grad\",\"ug\",\"ug\",\"ug\",\"grad\",\"ug\",\"ug\",\"ug\",\"ug\",\"ug\",\"ug\",\"grad\",\"grad\",\"ug\",\"ug\",\"grad\",\"grad\",\"ug\",\"ug\",\"ug\",\"ug\",\"grad\",\"ug\",\"ug\",\"ug\",\"grad\",\"ug\",\"ug\",\"ug\",\"ug\",\"ug\",\"ug\",\"ug\",\"ug\",\"ug\",\"ug\",\"grad\",\"ug\",\"ug\",\"ug\",\"grad\",\"grad\",\"ug\",\"ug\",\"grad\",\"grad\",\"ug\",\"ug\",\"ug\",\"ug\",\"grad\",\"ug\",\"ug\",\"ug\",\"ug\",\"ug\",\"grad\",\"ug\",\"grad\",\"grad\",\"ug\",\"ug\",\"grad\",\"ug\",\"ug\",\"grad\",\"ug\",\"grad\",\"ug\",\"ug\",\"ug\",\"ug\",\"grad\",\"grad\",\"ug\",\"ug\",\"grad\",\"ug\",\"ug\",\"ug\",\"ug\",\"ug\",\"ug\",\"grad\",\"grad\",\"grad\",\"ug\",\"ug\",\"ug\",\"ug\",\"ug\",\"ug\",\"ug\",\"ug\",\"grad\",\"grad\",\"ug\",\"ug\",\"grad\",\"grad\",\"grad\",\"ug\",\"ug\",\"grad\",\"ug\",\"ug\",\"ug\",\"ug\",\"ug\",\"ug\",\"ug\",\"ug\",\"grad\",\"ug\",\"ug\",\"ug\",\"grad\",\"ug\",\"grad\",\"ug\",\"ug\",\"ug\",\"ug\",\"grad\",\"ug\",\"ug\",\"ug\",\"ug\",\"ug\",\"ug\",\"ug\",\"ug\",\"ug\",\"ug\",\"ug\",\"ug\",\"grad\",\"ug\",\"ug\",\"grad\",\"ug\",\"ug\",\"ug\",\"ug\",\"ug\",\"ug\",\"ug\",\"ug\",\"ug\",\"ug\",\"ug\",\"ug\",\"ug\",\"ug\",\"ug\",\"ug\",\"ug\",\"grad\",\"ug\",\"ug\",\"ug\",\"ug\",\"ug\",\"ug\",\"ug\",\"ug\",\"ug\",\"ug\",\"grad\",\"grad\",\"ug\",\"ug\",\"ug\",\"ug\",\"ug\",\"ug\",\"ug\",\"ug\",\"ug\",\"ug\",\"grad\",\"ug\",\"ug\",\"grad\",\"ug\",\"ug\",\"ug\",\"grad\",\"ug\",\"ug\",\"ug\",\"ug\",\"grad\",\"grad\",\"grad\",\"ug\",\"ug\",\"ug\",\"ug\",\"ug\",\"ug\",\"ug\",\"ug\",\"ug\",\"ug\",\"grad\",\"ug\",\"grad\",\"grad\",\"ug\",\"ug\",\"ug\",\"ug\",\"grad\",\"ug\",\"ug\",\"ug\",\"grad\",\"ug\",\"grad\",\"ug\",\"ug\",\"ug\",\"ug\",\"ug\",\"ug\",\"ug\",\"grad\",\"ug\",\"ug\",\"ug\",\"ug\",\"ug\",\"ug\",\"ug\",\"ug\",\"ug\",\"grad\",\"grad\",\"ug\",\"ug\",\"ug\",\"ug\",\"ug\",\"ug\",\"ug\",\"ug\",\"ug\",\"grad\",\"ug\",\"ug\",\"ug\",\"ug\",\"ug\",\"ug\",\"ug\",\"ug\",\"ug\",\"ug\",\"grad\",\"ug\",\"grad\",\"ug\",\"ug\",\"ug\",\"ug\",\"grad\",\"grad\",\"ug\",\"grad\",\"ug\",\"ug\",\"ug\",\"ug\",\"ug\",\"ug\",\"ug\",\"grad\",\"ug\",\"ug\",\"ug\",\"ug\",\"ug\",\"ug\",\"ug\",\"ug\",\"ug\",\"grad\",\"ug\",\"grad\",\"ug\",\"ug\",\"ug\",\"grad\",\"grad\",\"ug\",\"ug\",\"ug\",\"ug\",\"grad\",\"ug\",\"ug\",\"ug\",\"ug\",\"ug\",\"ug\",\"ug\",\"ug\",\"grad\",\"ug\",\"ug\",\"ug\",\"grad\",\"ug\",\"ug\",\"ug\",\"ug\",\"grad\",\"grad\",\"grad\",\"grad\",\"ug\",\"ug\",\"ug\",\"ug\",\"ug\",\"grad\",\"grad\",\"ug\",\"ug\",\"ug\",\"ug\",\"ug\",\"ug\",\"ug\",\"grad\",\"ug\",\"ug\",\"ug\",\"grad\",\"ug\",\"ug\",\"ug\",\"grad\",\"grad\",\"grad\",\"grad\",\"grad\",\"ug\",\"grad\",\"ug\",\"grad\",\"grad\",\"ug\",\"ug\",\"ug\",\"ug\",\"grad\",\"ug\",\"ug\",\"ug\",\"ug\",\"ug\",\"ug\",\"ug\",\"ug\",\"grad\",\"ug\",\"grad\",\"grad\",\"ug\",\"ug\",\"grad\",\"ug\",\"grad\",\"ug\",\"ug\",\"ug\",\"grad\",\"grad\",\"ug\",\"grad\",\"ug\",\"ug\",\"ug\",\"ug\",\"grad\",\"ug\",\"ug\",\"ug\",\"ug\",\"ug\",\"ug\",\"ug\",\"grad\",\"ug\",\"grad\",\"ug\",\"ug\",\"ug\",\"ug\",\"ug\",\"grad\",\"ug\",\"grad\",\"ug\",\"ug\",\"ug\",\"ug\",\"grad\",\"grad\",\"grad\",\"ug\",\"ug\",\"ug\",\"ug\",\"ug\",\"ug\",\"grad\",\"grad\",\"ug\",\"grad\",\"ug\",\"ug\",\"grad\",\"ug\",\"ug\",\"grad\",\"ug\",\"ug\",\"grad\",\"ug\",\"grad\",\"ug\",\"ug\",\"ug\",\"grad\",\"ug\",\"ug\",\"grad\",\"ug\",\"ug\",\"ug\",\"ug\",\"ug\",\"grad\",\"grad\",\"ug\",\"grad\",\"ug\",\"grad\",\"ug\",\"ug\",\"ug\",\"ug\",\"ug\",\"ug\",\"grad\",\"grad\",\"ug\",\"grad\",\"ug\",\"grad\",\"grad\",\"grad\",\"ug\",\"ug\",\"ug\",\"ug\",\"ug\",\"grad\",\"ug\",\"grad\",\"ug\",\"grad\",\"ug\",\"ug\",\"ug\",\"ug\",\"ug\",\"ug\",\"ug\",\"ug\",\"ug\",\"grad\",\"ug\",\"ug\",\"grad\",\"grad\",\"ug\",\"ug\",\"grad\",\"ug\",\"ug\",\"ug\",\"ug\",\"ug\",\"ug\",\"ug\",\"ug\",\"ug\",\"grad\",\"ug\",\"ug\",\"ug\",\"ug\",\"ug\",\"ug\",\"ug\",\"ug\",\"ug\",\"ug\",\"ug\",\"ug\",\"ug\",\"ug\",\"ug\",\"ug\",\"ug\",\"ug\",\"grad\",\"ug\",\"grad\",\"ug\",\"ug\",\"ug\",\"ug\",\"grad\",\"ug\",\"ug\",\"ug\",\"ug\",\"ug\",\"ug\",\"ug\",\"ug\",\"ug\",\"ug\",\"ug\",\"ug\"],\"index\":[11230,28133,4599,28022,30919,10584,10583,15575,15513,33025,29485,10136,4495,33208,9941,28030,24355,10973,8961,4502,15557,35122,10438,9920,12281,28921,10597,12757,28366,28303,9945,10354,23020,24803,14383,32120,26092,4431,10608,24472,10260,33134,11175,4465,26130,12688,10565,33057,29836,11349,3292,11354,12471,10992,11280,10216,30945,30485,4544,3145,12819,10513,31555,35145,10358,10861,10388,10969,8987,28040,11639,10500,12568,10563,32057,30737,11155,26146,35344,24447,30528,11839,10735,3420,10006,4571,9965,4235,12370,3479,11007,3250,3063,10301,4635,10983,28827,37743,29468,30723,28051,9780,4603,29138,8905,27986,30822,11002,10182,28029,4480,30825,11082,33203,3224,26078,35007,24479,12766,3386,11197,3020,9720,12607,28379,4260,22520,10812,4488,34951,4609,10344,28220,11393,12800,11100,28451,10525,12806,11447,26299,15785,12841,12479,12388,10264,11333,4435,10668,27997,4573,10895,28359,8885,4239,10404,35381,10885,10068,10330,10649,10897,31850,4208,10665,10982,4525,30172,11109,11276,23905,4555,12412,2918,11061,12296,31807,31669,14758,30474,3078,11333,4542,26580,10563,10489,11133,33441,4540,10387,26064,10700,10589,4519,12951,4674,30423,24932,30470,31601,30860,4580,15823,10515,31389,10701,30421,12805,10568,10407,31626,31941,30788,4948,32909,24823,30534,29947,10548,10928,31746,11416,9893,4601,28800,30617,10093,11045,12803,29436,28774,11044,15079,23927,28061,9737,10067,24873,15801,28397,31466,29447,26548,3156,10865,12874,4531,35101,26143,29899,28137,8881,28484,4555,9891,3355,4773,24855,26016,10374,14795,35364,3017,28256,12826,10511,31552,35315,22972,4557,9089,28790,26055,11242,31005,9620,27197,10700,14545,31007,15639,15332,15623,10710,11403,2914,10360,26150,10823,26104,32962,11368,24860,26111,4491,9617,12324,10602,13607,30385,12765,9467,30445,9653,9067,24881,28034,10476,11299,11253,30567,12573,14518,26116,32323,12500,9860,11092,10707,35957,31860,33003,11142,10937,10231,35071,24317,10931,11384,4569,24748,33064,33137,26169,26054,10190,10109,23024,27960,26542,4421,11858,28757,9915,10959,28033,30439,11322,10384,31801,11500,9958,4984,12437,10565,28813,30482,10280,12793,31957,30811,28788,10921,4368,26335,10494,26525,30791,10895,10988,11092,23045,13617,10377,28319,3205,14799,38516,11342,9976,24305,3352,11406,4694,10863,25306,4582,4481,10963,10512,10605,4495,28787,26407,14762,25431,15820,12815,15815,35358,4268,9989,14425,4540,10564,13015,11187,10022,14381,10953,33418,10368,4329,27603,22405,10899,11252,11443,31824,28261,24811,12304,28039,10481,4687,4347,12862,8931,4434,4379,3190,4782,11233,11030,28083,31819,4666,24335,23958,10141,4537,10291,11363,34962,9618,10175,4586,14764,12634,12801,4582,31499,8982,24813,9873,30310,4513,27224,33052,11010,14559,4632,11111,12343,32696,10557,35385,24483,4634,10706,28022,35322,10903,24338,12936,14560,24466,28145,12892,24473,26301,4784,9010,11125,9811,31542,12883,11191,12773,10142,30002,10446,12705,10125,10535,26454,30926,28507,4258,8869,30892,9775,21727,11401,10301,10887,9997,10013,10479,11192,4653,10662,10090,14526,24813,26346,3530,10901,29389,15525,9865,28396,22378,10173,4484,38256,15530,24840,13612,12626,31916,10790,11838,31509,28934,15443,28777,4596,4575,10501,29452,12859,10462,11860,35343,2907,33165,30931,10367,35161,10987,9781,4289,10855,27880,10176,29462,2945,10502,12912,12749,4796,9951,10822,10451,29458,33042,15470,21744,11360,10478,28099,4332,10440,28007,12405,30726,26386,10870,32124,10961,4811,11432,30782,26314,31783,29756,11096,12776,29755,12529,10568,28140,29104,11415,30876,8980,11191,4450,4684,12700,14499,10721,15760,11344,24842,25293,12352,10254,25272,29664,12797,3234,4441,4474,14796,35166,2942,10187,10023,28809,11397,31629,28280,4779,4593,11546,15514,11332,33045,27213,10239,9982,26446,4767,35325,4590,28138,12836,4291,29956,26110,15486,15072,35373,12748,13026,26030,10259,30618,11219,32893,4282,28227,4564,10742,33091,4468,23954,4727,10007,27232,10033,3267,26352,4605,12854,4526],\"pred\":{\"__ndarray__\":\"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\",\"dtype\":\"float64\",\"order\":\"little\",\"shape\":[668]},\"truth\":[43798,27476,53358,33281,24035,110878,70200,37748,35060,69013,14935,48041,67324,23059,37568,55964,27947,31852,28816,55964,37748,35954,57318,39369,47260,32658,44747,36992,24035,20824,49323,39153,62260,35799,24730,22572,18047,30016,42682,38721,21052,22420,35416,42775,63600,47260,71854,26967,13417,32563,23761,55286,49618,32925,26353,26933,9688,28598,25774,33281,42682,107163,45383,91744,45918,74576,64990,46087,33281,55512,41565,63005,36728,29685,22424,39369,51690,32854,40179,80032,52733,46380,28019,20140,31961,44805,66401,28753,69338,48432,77715,106249,70917,106421,92829,32119,35060,19835,21964,24808,34704,44933,54035,11388,25677,40485,26121,84653,52733,42235,30771,16580,61516,69775,67101,52107,37208,85760,42402,27822,50606,67846,42309,69783,13702,48883,32925,44384,78468,20140,62343,45956,20140,31495,46087,33993,21508,38433,49814,82440,25918,49019,42682,46589,50000,42123,28019,44711,52107,52941,28598,37568,16921,68219,31314,71015,45547,60146,43426,17251,29685,53699,27978,24421,83546,26850,33192,28381,60452,97071,44170,39369,68117,47129,65238,16478,12776,66113,37208,27247,82440,39009,36674,21508,63005,42235,63005,42682,53984,63005,25709,71351,63111,45696,27642,62088,16478,48600,41565,40555,24140,47260,47473,41308,73635,66287,29141,38289,38289,46478,63005,69775,21964,46478,20900,27476,15023,10034,49744,57318,67061,25194,47260,106421,23693,24267,57318,126504,61516,22192,34704,104749,65796,36674,33993,19829,41565,54252,33281,19045,80124,15552,18315,36941,54713,41789,48849,38018,32806,25194,47260,38987,14935,23456,60903,63997,34526,35060,33993,30771,66787,25426,41205,10529,51392,32350,33281,44087,59193,21312,42235,78343,61064,25194,13702,55964,30672,28381,33382,7727,40209,43426,25194,60094,35600,81702,41937,36848,53358,46087,29685,40338,48432,18483,37424,68499,50105,34704,63005,38485,44595,35420,33184,27613,49644,32213,41007,26353,50856,37568,20567,34298,32711,24904,13702,106421,40269,46869,60839,29685,49832,77715,47371,27476,26353,34704,34793,53358,35964,25194,65797,38289,48243,109286,61814,32569,56641,33281,22420,23340,16786,74576,33993,37208,26353,51482,33993,69338,73635,9273,32925,49019,48823,38289,35060,39741,24532,50022,32772,23745,12115,75706,22087,62154,8571,54855,25889,19227,57770,46673,45435,69477,30554,42123,10046,28598,59417,24325,30771,28960,33993,67995,32925,35240,72881,25774,33993,49644,48432,207590,30771,37208,31581,12221,36141,47260,49058,61516,44170,35394,27439,37208,57110,24421,69261,63997,25774,49595,27048,32711,24615,97959,54522,11434,29685,54174,30409,47260,49962,22602,28091,34704,38721,48725,25774,31839,46357,50320,28583,38906,41565,35877,27181,29685,34526,36134,48784,33993,62260,74576,56234,81997,25194,14010,55964,39639,66653,41565,48703,50151,39140,33459,49918,32658,43846,86621,40281,38289,25658,30409,62616,27048,42682,93588,44805,59124,41599,79912,64990,40269,56641,37748,68147,40821,58402,81588,37568,67287,33993,68499,58673,31527,25774,94408,46087,86689,24035,37928,33281,26933,33993,35330,52107,32925,48302,12879,20140,24140,30650,25194,28598,37808,48198,53108,57318,76460,69338,48432,38289,41353,47406,31848,50606,34704,87604,14738,53358,62388,23649,22034,52107,26896,47260,65905,76460,38289,65332,46254,39909,38018,60262,63501,97071,25658,31762,113015,30409,53775,46762,47729,19227,37856,61600,23649,36301,25194,69338,22420,48745,89415,26933,35416,70456,21964,11388,37208,23719,37088,80556,63855,40737,30499,22192,33993,49883,27126,33459,91744,22192,25932,43798,33565,42682,36941,35518,71015,24035,9643,57318,33779,36674,32925,38289,17067,19227,73348,25194,44371,44384,13702,45539,78971,59177,23967,36141,24904,29374,55964,39927,53775,63681,41937,97071,39369,29685,34704,43798,31133,68858,59417,22766,73898,60072,47260,61516,99817,87604,39648,29685,55594,43798,46087,32162,15552,32925,22329,38289,87604,35954,73348,56931,37748,37568,16957,28960,29413,37568,57770,40461,33281,9545,13393,39369,25194,73792,29902,32925,42123,38289,13290,77715,18576,68139,12961,31305,63005,29141,41565,51722,61020,58402,39009,34526,52107,26896,53552,49980,31249],\"tuition\":{\"__ndarray__\":\"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\",\"dtype\":\"float64\",\"order\":\"little\",\"shape\":[668]}},\"selected\":{\"id\":\"1815\"},\"selection_policy\":{\"id\":\"1816\"}},\"id\":\"1804\",\"type\":\"ColumnDataSource\"},{\"attributes\":{},\"id\":\"1815\",\"type\":\"Selection\"},{\"attributes\":{\"axis_label\":\"True\",\"formatter\":{\"id\":\"1821\"},\"ticker\":{\"id\":\"1786\"}},\"id\":\"1785\",\"type\":\"LinearAxis\"},{\"attributes\":{\"axis_label\":\"Predicted\",\"formatter\":{\"id\":\"1823\"},\"ticker\":{\"id\":\"1782\"}},\"id\":\"1781\",\"type\":\"LinearAxis\"},{\"attributes\":{\"format\":\"$0,0.0\"},\"id\":\"1821\",\"type\":\"NumeralTickFormatter\"},{\"attributes\":{},\"id\":\"1790\",\"type\":\"WheelZoomTool\"},{\"attributes\":{},\"id\":\"1777\",\"type\":\"LinearScale\"}],\"root_ids\":[\"1770\"]},\"title\":\"Bokeh Application\",\"version\":\"2.2.3\"}};\n",
       "  var render_items = [{\"docid\":\"1438e019-3379-4cde-a727-b112476fd617\",\"root_ids\":[\"1770\"],\"roots\":{\"1770\":\"b8fbd7b9-b2c1-437e-9029-e91ae174625f\"}}];\n",
       "  root.Bokeh.embed.embed_items_notebook(docs_json, render_items);\n",
       "\n",
       "  }\n",
       "  if (root.Bokeh !== undefined) {\n",
       "    embed_document(root);\n",
       "  } else {\n",
       "    var attempts = 0;\n",
       "    var timer = setInterval(function(root) {\n",
       "      if (root.Bokeh !== undefined) {\n",
       "        clearInterval(timer);\n",
       "        embed_document(root);\n",
       "      } else {\n",
       "        attempts++;\n",
       "        if (attempts > 100) {\n",
       "          clearInterval(timer);\n",
       "          console.log(\"Bokeh: ERROR: Unable to run BokehJS code because BokehJS library is missing\");\n",
       "        }\n",
       "      }\n",
       "    }, 10, root)\n",
       "  }\n",
       "})(window);"
      ],
      "application/vnd.bokehjs_exec.v0+json": ""
     },
     "metadata": {
      "application/vnd.bokehjs_exec.v0+json": {
       "id": "1770"
      }
     },
     "output_type": "display_data"
    }
   ],
   "source": [
    "plot_earn(dt1, gv)"
   ]
  },
  {
   "cell_type": "markdown",
   "id": "technological-capitol",
   "metadata": {},
   "source": [
    "Region\n",
    "\n",
    "* 0\tU.S. Service Schools\n",
    "* 1\tNew England (CT, ME, MA, NH, RI, VT)\n",
    "* 2\tMid East (DE, DC, MD, NJ, NY, PA)\n",
    "* 3\tGreat Lakes (IL, IN, MI, OH, WI)\n",
    "* 4\tPlains (IA, KS, MN, MO, NE, ND, SD)\n",
    "* 5\tSoutheast (AL, AR, FL, GA, KY, LA, MS, NC, SC, TN, VA, WV)\n",
    "* 6\tSouthwest (AZ, NM, OK, TX)\n",
    "* 7\tRocky Mountains (CO, ID, MT, UT, WY)\n",
    "* 8\tFar West (AK, CA, HI, NV, OR, WA)\n",
    "* 9\tOutlying Areas (AS, FM, GU, MH, MP, PR, PW, VI)"
   ]
  },
  {
   "cell_type": "markdown",
   "id": "retained-issue",
   "metadata": {},
   "source": [
    "Control\n",
    "* 1\tPublic\n",
    "* 2\tPrivate nonprofit\n",
    "* 3\tPrivate for-profit\n",
    "\n",
    "\n",
    "CIPDESC - major field\n",
    "\n",
    "CREDDESC - Text description of the level of credential\n",
    "\n",
    "CREDLEV\n",
    "* Undergraduate Certificate or Diploma\n",
    "* Associate's Degree\n",
    "* Bachelor’s Degree\n",
    "* Post-baccalaureate Certificate\n",
    "* Master's Degree\n",
    "* Doctoral Degree\n",
    "* First Professional Degree\n",
    "* Graduate/Professional Certificate\n",
    "\n"
   ]
  },
  {
   "cell_type": "markdown",
   "id": "alien-malaysia",
   "metadata": {},
   "source": [
    "HIGHDEG\n",
    "\n",
    "* 0\tNon-degree-granting\n",
    "* 1\tCertificate degree\n",
    "* 2\tAssociate degree\n",
    "* 3\tBachelor's degree\n",
    "* 4\tGraduate degree\n",
    "\n",
    "LOCALE\n",
    "\n",
    "* 11\tCity: Large (population of 250,000 or more)\n",
    "* 12\tCity: Midsize (population of at least 100,000 but less than 250,000)\n",
    "* 13\tCity: Small (population less than 100,000)\n",
    "* 21\tSuburb: Large (outside principal city, in urbanized area with population of 250,000 or more)\n",
    "* 22\tSuburb: Midsize (outside principal city, in urbanized area with population of at least 100,000 but less than 250,000)\n",
    "* 23\tSuburb: Small (outside principal city, in urbanized area with population less than 100,000)\n",
    "* 31\tTown: Fringe (in urban cluster up to 10 miles from an urbanized area)\n",
    "* 32\tTown: Distant (in urban cluster more than 10 miles and up to 35 miles from an urbanized area)\n",
    "* 33\tTown: Remote (in urban cluster more than 35 miles from an urbanized area)\n",
    "* 41\tRural: Fringe (rural territory up to 5 miles from an urbanized area or up to 2.5 miles from an urban cluster)\n",
    "* 42\tRural: Distant (rural territory more than 5 miles but up to 25 miles from an urbanized area or more than 2.5 and up to 10 miles from an urban cluster)\n",
    "* 43\tRural: Remote (rural territory more than 25 miles from an urbanized area and more than 10 miles from an urban cluster)\n",
    "\n",
    "\n",
    "CCSIZSET\n",
    "* -2\tNot applicable\n",
    "* 0\t(Not classified)\n",
    "* 1\tTwo-year, very small\n",
    "* 2\tTwo-year, small\n",
    "* 3\tTwo-year, medium\n",
    "* 4\tTwo-year, large\n",
    "* 5\tTwo-year, very large\n",
    "* 6\tFour-year, very small, primarily nonresidential\n",
    "* 7\tFour-year, very small, primarily residential\n",
    "* 8\tFour-year, very small, highly residential\n",
    "* 9\tFour-year, small, primarily nonresidential\n",
    "* 10\tFour-year, small, primarily residential\n",
    "* 11\tFour-year, small, highly residential\n",
    "* 12\tFour-year, medium, primarily nonresidential\n",
    "* 13\tFour-year, medium, primarily residential\n",
    "* 14\tFour-year, medium, highly residential\n",
    "* 15\tFour-year, large, primarily nonresidential\n",
    "* 16\tFour-year, large, primarily residential\n",
    "* 17\tFour-year, large, highly residential\n",
    "* 18\tExclusively graduate/professional\n",
    "\n",
    "ADM_RATE_ALL: Admission rate for all campuses rolled up to the 6-digit OPE ID  \n",
    "SAT_AVG_ALL:Average SAT equivalent score of students admitted for all campuses rolled up to the 6-digit OPE ID"
   ]
  },
  {
   "cell_type": "markdown",
   "id": "pharmaceutical-whole",
   "metadata": {},
   "source": [
    "UGDS: Enrollment of undergraduate certificate/degree-seeking students\n",
    "\n",
    "PFTFAC: Proportion of faculty that is full-time\n",
    "\n",
    "MEDIAN_HH_INC:\n",
    "Median household income of students at institution\n",
    "Data element describes the earnings cohort (without exclusions for military and in-school deferments in the measurement year)\n",
    "\n",
    "\n",
    "Average family income in real 2015 dollars\tstudent\tdemographics.avg_family_income\tinteger\tFAMINC\n",
    "\n",
    "Median family income in real 2015 dollars\tstudent\tdemographics.median_family_income\tinteger\tMD_FAMINC\n"
   ]
  },
  {
   "cell_type": "code",
   "execution_count": null,
   "id": "thick-cross",
   "metadata": {},
   "outputs": [],
   "source": []
  }
 ],
 "metadata": {
  "kernelspec": {
   "display_name": "saturn (Python 3)",
   "language": "python",
   "name": "python3"
  },
  "language_info": {
   "codemirror_mode": {
    "name": "ipython",
    "version": 3
   },
   "file_extension": ".py",
   "mimetype": "text/x-python",
   "name": "python",
   "nbconvert_exporter": "python",
   "pygments_lexer": "ipython3",
   "version": "3.7.10"
  }
 },
 "nbformat": 4,
 "nbformat_minor": 5
}
