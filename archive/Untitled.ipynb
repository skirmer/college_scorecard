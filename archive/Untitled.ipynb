{
 "cells": [
  {
   "cell_type": "code",
   "execution_count": 1,
   "id": "northern-canberra",
   "metadata": {
    "execution": {
     "iopub.execute_input": "2021-05-20T20:24:28.743899Z",
     "iopub.status.busy": "2021-05-20T20:24:28.743614Z",
     "iopub.status.idle": "2021-05-20T20:24:28.804815Z",
     "shell.execute_reply": "2021-05-20T20:24:28.804343Z",
     "shell.execute_reply.started": "2021-05-20T20:24:28.743831Z"
    }
   },
   "outputs": [
    {
     "data": {
      "application/vnd.jupyter.widget-view+json": {
       "model_id": "ea1ae884e5394c83b15a28a1ca4871dd",
       "version_major": 2,
       "version_minor": 0
      },
      "text/plain": [
       "HBox(children=(VBox(children=(IntSlider(value=0), IntSlider(value=0))), Output()))"
      ]
     },
     "metadata": {},
     "output_type": "display_data"
    }
   ],
   "source": [
    "from ipywidgets import HBox, VBox, IntSlider, interactive_output\n",
    "from IPython.display import display\n",
    "\n",
    "a = IntSlider()\n",
    "b = IntSlider()\n",
    "\n",
    "def f(a, b):\n",
    "    print(\"{} * {} = {}\".format(a, b, a * b))\n",
    "\n",
    "out = interactive_output(f, { \"a\": a, \"b\": b })\n",
    "\n",
    "display(HBox([VBox([a, b]), out]))\n"
   ]
  },
  {
   "cell_type": "code",
   "execution_count": null,
   "id": "preceding-saver",
   "metadata": {},
   "outputs": [],
   "source": []
  }
 ],
 "metadata": {
  "kernelspec": {
   "display_name": "saturn (Python 3)",
   "language": "python",
   "name": "python3"
  },
  "language_info": {
   "codemirror_mode": {
    "name": "ipython",
    "version": 3
   },
   "file_extension": ".py",
   "mimetype": "text/x-python",
   "name": "python",
   "nbconvert_exporter": "python",
   "pygments_lexer": "ipython3",
   "version": "3.7.10"
  }
 },
 "nbformat": 4,
 "nbformat_minor": 5
}
