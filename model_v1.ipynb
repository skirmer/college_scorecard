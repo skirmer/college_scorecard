{
 "cells": [
  {
   "cell_type": "code",
   "execution_count": 1,
   "id": "charming-tennis",
   "metadata": {
    "execution": {
     "iopub.execute_input": "2021-05-19T16:15:06.880913Z",
     "iopub.status.busy": "2021-05-19T16:15:06.880629Z",
     "iopub.status.idle": "2021-05-19T16:15:08.228436Z",
     "shell.execute_reply": "2021-05-19T16:15:08.227882Z",
     "shell.execute_reply.started": "2021-05-19T16:15:06.880833Z"
    }
   },
   "outputs": [],
   "source": [
    "import os\n",
    "import pandas as pd\n",
    "import numpy as np\n",
    "import dask.dataframe as dd\n",
    "from dask.distributed import wait \n",
    "import dask\n",
    "from dask_saturn import SaturnCluster\n",
    "from dask.distributed import Client\n",
    "\n",
    "import matplotlib.pyplot as plt\n",
    "import json\n",
    "import datetime\n",
    "import re\n",
    "\n",
    "import bokeh as bk\n",
    "from bokeh.io import show, output_notebook\n",
    "from bokeh.plotting import figure\n",
    "\n",
    "from sklearn.preprocessing import OneHotEncoder\n",
    "from sklearn import linear_model\n"
   ]
  },
  {
   "cell_type": "code",
   "execution_count": 2,
   "id": "standing-begin",
   "metadata": {
    "execution": {
     "iopub.execute_input": "2021-05-19T16:15:08.229633Z",
     "iopub.status.busy": "2021-05-19T16:15:08.229450Z",
     "iopub.status.idle": "2021-05-19T16:15:09.487812Z",
     "shell.execute_reply": "2021-05-19T16:15:09.487184Z",
     "shell.execute_reply.started": "2021-05-19T16:15:08.229611Z"
    }
   },
   "outputs": [
    {
     "name": "stderr",
     "output_type": "stream",
     "text": [
      "INFO:dask-saturn:Cluster is ready\n",
      "INFO:dask-saturn:Registering default plugins\n",
      "INFO:dask-saturn:{'tcp://192.168.109.194:41925': {'status': 'repeat'}, 'tcp://192.168.160.195:36103': {'status': 'repeat'}, 'tcp://192.168.184.195:39745': {'status': 'repeat'}, 'tcp://192.168.59.67:39161': {'status': 'repeat'}, 'tcp://192.168.69.3:37869': {'status': 'repeat'}}\n"
     ]
    },
    {
     "data": {
      "text/html": [
       "<table style=\"border: 2px solid white;\">\n",
       "<tr>\n",
       "<td style=\"vertical-align: top; border: 0px solid white\">\n",
       "<h3 style=\"text-align: left;\">Client</h3>\n",
       "<ul style=\"text-align: left; list-style: none; margin: 0; padding: 0;\">\n",
       "  <li><b>Scheduler: </b>tcp://d-steph-college-scorecard-proj-f647d66a9d5341e1bf4679ed4dc68db3.main-namespace:8786</li>\n",
       "  <li><b>Dashboard: </b><a href='https://d-steph-college-scorecard-proj-f647d66a9d5341e1bf4679ed4dc68db3.internal.saturnenterprise.io' target='_blank'>https://d-steph-college-scorecard-proj-f647d66a9d5341e1bf4679ed4dc68db3.internal.saturnenterprise.io</a></li>\n",
       "</ul>\n",
       "</td>\n",
       "<td style=\"vertical-align: top; border: 0px solid white\">\n",
       "<h3 style=\"text-align: left;\">Cluster</h3>\n",
       "<ul style=\"text-align: left; list-style:none; margin: 0; padding: 0;\">\n",
       "  <li><b>Workers: </b>5</li>\n",
       "  <li><b>Cores: </b>80</li>\n",
       "  <li><b>Memory: </b>637.50 GB</li>\n",
       "</ul>\n",
       "</td>\n",
       "</tr>\n",
       "</table>"
      ],
      "text/plain": [
       "<Client: 'tcp://192.168.67.133:8786' processes=5 threads=80, memory=637.50 GB>"
      ]
     },
     "execution_count": 2,
     "metadata": {},
     "output_type": "execute_result"
    }
   ],
   "source": [
    "cluster = SaturnCluster()\n",
    "client = Client(cluster)\n",
    "client.restart()"
   ]
  },
  {
   "cell_type": "code",
   "execution_count": 3,
   "id": "alone-rochester",
   "metadata": {
    "execution": {
     "iopub.execute_input": "2021-05-19T16:15:09.489739Z",
     "iopub.status.busy": "2021-05-19T16:15:09.489477Z",
     "iopub.status.idle": "2021-05-19T16:15:11.288777Z",
     "shell.execute_reply": "2021-05-19T16:15:11.288089Z",
     "shell.execute_reply.started": "2021-05-19T16:15:09.489705Z"
    }
   },
   "outputs": [
    {
     "name": "stdout",
     "output_type": "stream",
     "text": [
      "CPU times: user 413 ms, sys: 55.6 ms, total: 469 ms\n",
      "Wall time: 1.79 s\n"
     ]
    }
   ],
   "source": [
    "\n",
    "%%time\n",
    "\n",
    "import s3fs\n",
    "s3 = s3fs.S3FileSystem(anon=True)\n",
    "s3fpath = 's3://saturn-public-data/college-scorecard/Most-Recent-Cohorts-Field-of-Study.csv'\n",
    "\n",
    "major = dd.read_csv(\n",
    "    s3fpath,\n",
    "    usecols = ['UNITID','OPEID6','INSTNM','CONTROL','MAIN','CIPCODE',\n",
    "               'CIPDESC','CREDLEV','CREDDESC','EARN_MDN_HI_2YR'],\n",
    "    storage_options={'anon': True},\n",
    "    dtype = 'object',\n",
    "    na_values = ['PrivacySuppressed'],\n",
    "    assume_missing=False\n",
    ")\n",
    "\n",
    "s3fpath2 = 's3://saturn-public-data/college-scorecard/Most-Recent-Cohorts-All-Data-Elements.csv'\n",
    "\n",
    "inst = dd.read_csv(\n",
    "    s3fpath2,\n",
    "    storage_options={'anon': True},\n",
    "    dtype = 'object',\n",
    "    na_values = ['PrivacySuppressed'],\n",
    "    assume_missing=False\n",
    ")\n",
    "\n",
    "# target: MD_EARN_WNE_P8"
   ]
  },
  {
   "cell_type": "markdown",
   "id": "executed-allocation",
   "metadata": {},
   "source": [
    "# Model concept\n",
    "\n",
    "Predict income x years in future for graduates?\n",
    "Median Earnings 10 Years after Matriculation\n",
    "\n",
    "given: x features of college, choose a major, then return median 10 years out.\n",
    "\n",
    "Feature ideas:\n",
    "* incoming sat/act\n",
    "* admission rate\n",
    "* college type (private/public/nonprofit)\n",
    "* annual tuition\n",
    "\n",
    "\n",
    "Deploy model, then give an interpretability dashboard?\n"
   ]
  },
  {
   "cell_type": "code",
   "execution_count": 4,
   "id": "artificial-socket",
   "metadata": {
    "execution": {
     "iopub.execute_input": "2021-05-19T16:15:11.290548Z",
     "iopub.status.busy": "2021-05-19T16:15:11.290270Z",
     "iopub.status.idle": "2021-05-19T16:15:15.680269Z",
     "shell.execute_reply": "2021-05-19T16:15:15.679627Z",
     "shell.execute_reply.started": "2021-05-19T16:15:11.290514Z"
    }
   },
   "outputs": [
    {
     "data": {
      "text/html": [
       "<div>\n",
       "<style scoped>\n",
       "    .dataframe tbody tr th:only-of-type {\n",
       "        vertical-align: middle;\n",
       "    }\n",
       "\n",
       "    .dataframe tbody tr th {\n",
       "        vertical-align: top;\n",
       "    }\n",
       "\n",
       "    .dataframe thead th {\n",
       "        text-align: right;\n",
       "    }\n",
       "</style>\n",
       "<table border=\"1\" class=\"dataframe\">\n",
       "  <thead>\n",
       "    <tr style=\"text-align: right;\">\n",
       "      <th></th>\n",
       "      <th>UNITID</th>\n",
       "      <th>OPEID6</th>\n",
       "      <th>INSTNM</th>\n",
       "      <th>CONTROL</th>\n",
       "      <th>MAIN</th>\n",
       "      <th>CIPCODE</th>\n",
       "      <th>CIPDESC</th>\n",
       "      <th>CREDLEV</th>\n",
       "      <th>CREDDESC</th>\n",
       "      <th>EARN_MDN_HI_2YR</th>\n",
       "    </tr>\n",
       "  </thead>\n",
       "  <tbody>\n",
       "    <tr>\n",
       "      <th>0</th>\n",
       "      <td>100654</td>\n",
       "      <td>001002</td>\n",
       "      <td>Alabama A &amp; M University</td>\n",
       "      <td>Public</td>\n",
       "      <td>1</td>\n",
       "      <td>0100</td>\n",
       "      <td>Agriculture, General.</td>\n",
       "      <td>3</td>\n",
       "      <td>Bachelors Degree</td>\n",
       "      <td>NaN</td>\n",
       "    </tr>\n",
       "    <tr>\n",
       "      <th>1</th>\n",
       "      <td>100654</td>\n",
       "      <td>001002</td>\n",
       "      <td>Alabama A &amp; M University</td>\n",
       "      <td>Public</td>\n",
       "      <td>1</td>\n",
       "      <td>0109</td>\n",
       "      <td>Animal Sciences.</td>\n",
       "      <td>3</td>\n",
       "      <td>Bachelors Degree</td>\n",
       "      <td>NaN</td>\n",
       "    </tr>\n",
       "    <tr>\n",
       "      <th>2</th>\n",
       "      <td>100654</td>\n",
       "      <td>001002</td>\n",
       "      <td>Alabama A &amp; M University</td>\n",
       "      <td>Public</td>\n",
       "      <td>1</td>\n",
       "      <td>0110</td>\n",
       "      <td>Food Science and Technology.</td>\n",
       "      <td>3</td>\n",
       "      <td>Bachelors Degree</td>\n",
       "      <td>NaN</td>\n",
       "    </tr>\n",
       "    <tr>\n",
       "      <th>3</th>\n",
       "      <td>100654</td>\n",
       "      <td>001002</td>\n",
       "      <td>Alabama A &amp; M University</td>\n",
       "      <td>Public</td>\n",
       "      <td>1</td>\n",
       "      <td>0110</td>\n",
       "      <td>Food Science and Technology.</td>\n",
       "      <td>5</td>\n",
       "      <td>Master's Degree</td>\n",
       "      <td>NaN</td>\n",
       "    </tr>\n",
       "    <tr>\n",
       "      <th>4</th>\n",
       "      <td>100654</td>\n",
       "      <td>001002</td>\n",
       "      <td>Alabama A &amp; M University</td>\n",
       "      <td>Public</td>\n",
       "      <td>1</td>\n",
       "      <td>0110</td>\n",
       "      <td>Food Science and Technology.</td>\n",
       "      <td>6</td>\n",
       "      <td>Doctoral Degree</td>\n",
       "      <td>NaN</td>\n",
       "    </tr>\n",
       "  </tbody>\n",
       "</table>\n",
       "</div>"
      ],
      "text/plain": [
       "   UNITID  OPEID6                    INSTNM CONTROL MAIN CIPCODE  \\\n",
       "0  100654  001002  Alabama A & M University  Public    1    0100   \n",
       "1  100654  001002  Alabama A & M University  Public    1    0109   \n",
       "2  100654  001002  Alabama A & M University  Public    1    0110   \n",
       "3  100654  001002  Alabama A & M University  Public    1    0110   \n",
       "4  100654  001002  Alabama A & M University  Public    1    0110   \n",
       "\n",
       "                        CIPDESC CREDLEV          CREDDESC EARN_MDN_HI_2YR  \n",
       "0         Agriculture, General.       3  Bachelors Degree             NaN  \n",
       "1              Animal Sciences.       3  Bachelors Degree             NaN  \n",
       "2  Food Science and Technology.       3  Bachelors Degree             NaN  \n",
       "3  Food Science and Technology.       5   Master's Degree             NaN  \n",
       "4  Food Science and Technology.       6   Doctoral Degree             NaN  "
      ]
     },
     "execution_count": 4,
     "metadata": {},
     "output_type": "execute_result"
    }
   ],
   "source": [
    "m2 = major.compute()\n",
    "m2.head()"
   ]
  },
  {
   "cell_type": "markdown",
   "id": "exact-popularity",
   "metadata": {},
   "source": [
    "## Minimal MVP Model"
   ]
  },
  {
   "cell_type": "code",
   "execution_count": 5,
   "id": "mineral-sympathy",
   "metadata": {
    "execution": {
     "iopub.execute_input": "2021-05-19T16:15:15.681240Z",
     "iopub.status.busy": "2021-05-19T16:15:15.681041Z",
     "iopub.status.idle": "2021-05-19T16:15:15.700618Z",
     "shell.execute_reply": "2021-05-19T16:15:15.700099Z",
     "shell.execute_reply.started": "2021-05-19T16:15:15.681186Z"
    }
   },
   "outputs": [],
   "source": [
    "#Ensure target is not na\n",
    "m3 = m2[m2.EARN_MDN_HI_2YR.notna()]"
   ]
  },
  {
   "cell_type": "code",
   "execution_count": 6,
   "id": "covered-hughes",
   "metadata": {
    "execution": {
     "iopub.execute_input": "2021-05-19T16:15:15.701578Z",
     "iopub.status.busy": "2021-05-19T16:15:15.701406Z",
     "iopub.status.idle": "2021-05-19T16:15:15.704042Z",
     "shell.execute_reply": "2021-05-19T16:15:15.703604Z",
     "shell.execute_reply.started": "2021-05-19T16:15:15.701557Z"
    }
   },
   "outputs": [],
   "source": [
    "enc = OneHotEncoder(handle_unknown='ignore')"
   ]
  },
  {
   "cell_type": "code",
   "execution_count": 7,
   "id": "blank-mandate",
   "metadata": {
    "execution": {
     "iopub.execute_input": "2021-05-19T16:15:15.704859Z",
     "iopub.status.busy": "2021-05-19T16:15:15.704698Z",
     "iopub.status.idle": "2021-05-19T16:15:15.712228Z",
     "shell.execute_reply": "2021-05-19T16:15:15.711765Z",
     "shell.execute_reply.started": "2021-05-19T16:15:15.704840Z"
    }
   },
   "outputs": [],
   "source": [
    "X_train = m3[['CONTROL', 'CIPDESC', 'CREDDESC']]\n",
    "y_train = m3[['EARN_MDN_HI_2YR']]"
   ]
  },
  {
   "cell_type": "code",
   "execution_count": 8,
   "id": "exposed-differential",
   "metadata": {
    "execution": {
     "iopub.execute_input": "2021-05-19T16:15:15.713115Z",
     "iopub.status.busy": "2021-05-19T16:15:15.712956Z",
     "iopub.status.idle": "2021-05-19T16:15:16.038539Z",
     "shell.execute_reply": "2021-05-19T16:15:16.037915Z",
     "shell.execute_reply.started": "2021-05-19T16:15:15.713096Z"
    }
   },
   "outputs": [],
   "source": [
    "from sklearn.pipeline import Pipeline\n",
    "pipe = Pipeline(steps=[('onehot', enc), ('linear', linear_model.LinearRegression())])\n",
    "pipe = pipe.fit(X_train, y_train)"
   ]
  },
  {
   "cell_type": "code",
   "execution_count": 9,
   "id": "mounted-appearance",
   "metadata": {
    "execution": {
     "iopub.execute_input": "2021-05-19T16:15:16.040549Z",
     "iopub.status.busy": "2021-05-19T16:15:16.040350Z",
     "iopub.status.idle": "2021-05-19T16:15:16.082316Z",
     "shell.execute_reply": "2021-05-19T16:15:16.081755Z",
     "shell.execute_reply.started": "2021-05-19T16:15:16.040525Z"
    }
   },
   "outputs": [
    {
     "name": "stdout",
     "output_type": "stream",
     "text": [
      "[[54724.12941446]\n",
      " [32663.22014603]\n",
      " [54850.3062548 ]\n",
      " ...\n",
      " [31725.53698993]\n",
      " [24279.56738532]\n",
      " [16356.58665372]]\n"
     ]
    }
   ],
   "source": [
    "predictions = pipe.predict(X_train)\n",
    "print(predictions)"
   ]
  },
  {
   "cell_type": "code",
   "execution_count": 10,
   "id": "impressive-airport",
   "metadata": {
    "execution": {
     "iopub.execute_input": "2021-05-19T16:15:16.083620Z",
     "iopub.status.busy": "2021-05-19T16:15:16.083450Z",
     "iopub.status.idle": "2021-05-19T16:15:16.131757Z",
     "shell.execute_reply": "2021-05-19T16:15:16.131256Z",
     "shell.execute_reply.started": "2021-05-19T16:15:16.083600Z"
    }
   },
   "outputs": [
    {
     "data": {
      "text/plain": [
       "0.7037035588677161"
      ]
     },
     "execution_count": 10,
     "metadata": {},
     "output_type": "execute_result"
    }
   ],
   "source": [
    "pipe.score(X_train,y_train)"
   ]
  },
  {
   "cell_type": "code",
   "execution_count": 11,
   "id": "negative-japanese",
   "metadata": {
    "execution": {
     "iopub.execute_input": "2021-05-19T16:15:16.132627Z",
     "iopub.status.busy": "2021-05-19T16:15:16.132465Z",
     "iopub.status.idle": "2021-05-19T16:15:16.137251Z",
     "shell.execute_reply": "2021-05-19T16:15:16.136729Z",
     "shell.execute_reply.started": "2021-05-19T16:15:16.132607Z"
    }
   },
   "outputs": [],
   "source": [
    "newdata = X_train.copy()\n",
    "newdata['truth'] = y_train\n",
    "newdata['pred'] = predictions"
   ]
  },
  {
   "cell_type": "code",
   "execution_count": 12,
   "id": "fleet-kansas",
   "metadata": {
    "execution": {
     "iopub.execute_input": "2021-05-19T16:15:16.138088Z",
     "iopub.status.busy": "2021-05-19T16:15:16.137934Z",
     "iopub.status.idle": "2021-05-19T16:15:16.147893Z",
     "shell.execute_reply": "2021-05-19T16:15:16.147404Z",
     "shell.execute_reply.started": "2021-05-19T16:15:16.138069Z"
    }
   },
   "outputs": [
    {
     "data": {
      "text/html": [
       "<div>\n",
       "<style scoped>\n",
       "    .dataframe tbody tr th:only-of-type {\n",
       "        vertical-align: middle;\n",
       "    }\n",
       "\n",
       "    .dataframe tbody tr th {\n",
       "        vertical-align: top;\n",
       "    }\n",
       "\n",
       "    .dataframe thead th {\n",
       "        text-align: right;\n",
       "    }\n",
       "</style>\n",
       "<table border=\"1\" class=\"dataframe\">\n",
       "  <thead>\n",
       "    <tr style=\"text-align: right;\">\n",
       "      <th></th>\n",
       "      <th>CONTROL</th>\n",
       "      <th>CIPDESC</th>\n",
       "      <th>CREDDESC</th>\n",
       "      <th>truth</th>\n",
       "      <th>pred</th>\n",
       "    </tr>\n",
       "  </thead>\n",
       "  <tbody>\n",
       "    <tr>\n",
       "      <th>11</th>\n",
       "      <td>Public</td>\n",
       "      <td>City/Urban, Community and Regional Planning.</td>\n",
       "      <td>Master's Degree</td>\n",
       "      <td>47260</td>\n",
       "      <td>54724.129414</td>\n",
       "    </tr>\n",
       "    <tr>\n",
       "      <th>13</th>\n",
       "      <td>Public</td>\n",
       "      <td>Audiovisual Communications Technologies/Techni...</td>\n",
       "      <td>Bachelors Degree</td>\n",
       "      <td>20102</td>\n",
       "      <td>32663.220146</td>\n",
       "    </tr>\n",
       "    <tr>\n",
       "      <th>14</th>\n",
       "      <td>Public</td>\n",
       "      <td>Computer and Information Sciences, General.</td>\n",
       "      <td>Bachelors Degree</td>\n",
       "      <td>52107</td>\n",
       "      <td>54850.306255</td>\n",
       "    </tr>\n",
       "    <tr>\n",
       "      <th>18</th>\n",
       "      <td>Public</td>\n",
       "      <td>Educational Administration and Supervision.</td>\n",
       "      <td>Master's Degree</td>\n",
       "      <td>50231</td>\n",
       "      <td>58571.407551</td>\n",
       "    </tr>\n",
       "    <tr>\n",
       "      <th>21</th>\n",
       "      <td>Public</td>\n",
       "      <td>Teacher Education and Professional Development...</td>\n",
       "      <td>Bachelors Degree</td>\n",
       "      <td>37208</td>\n",
       "      <td>31959.074239</td>\n",
       "    </tr>\n",
       "  </tbody>\n",
       "</table>\n",
       "</div>"
      ],
      "text/plain": [
       "   CONTROL                                            CIPDESC  \\\n",
       "11  Public       City/Urban, Community and Regional Planning.   \n",
       "13  Public  Audiovisual Communications Technologies/Techni...   \n",
       "14  Public        Computer and Information Sciences, General.   \n",
       "18  Public        Educational Administration and Supervision.   \n",
       "21  Public  Teacher Education and Professional Development...   \n",
       "\n",
       "            CREDDESC  truth          pred  \n",
       "11   Master's Degree  47260  54724.129414  \n",
       "13  Bachelors Degree  20102  32663.220146  \n",
       "14  Bachelors Degree  52107  54850.306255  \n",
       "18   Master's Degree  50231  58571.407551  \n",
       "21  Bachelors Degree  37208  31959.074239  "
      ]
     },
     "execution_count": 12,
     "metadata": {},
     "output_type": "execute_result"
    }
   ],
   "source": [
    "newdata.head()"
   ]
  },
  {
   "cell_type": "markdown",
   "id": "equivalent-diabetes",
   "metadata": {},
   "source": [
    "## Add more institution data"
   ]
  },
  {
   "cell_type": "code",
   "execution_count": 13,
   "id": "introductory-letter",
   "metadata": {
    "execution": {
     "iopub.execute_input": "2021-05-19T16:15:16.148759Z",
     "iopub.status.busy": "2021-05-19T16:15:16.148598Z",
     "iopub.status.idle": "2021-05-19T16:15:24.343003Z",
     "shell.execute_reply": "2021-05-19T16:15:24.342505Z",
     "shell.execute_reply.started": "2021-05-19T16:15:16.148740Z"
    }
   },
   "outputs": [
    {
     "name": "stdout",
     "output_type": "stream",
     "text": [
      "<class 'pandas.core.frame.DataFrame'>\n",
      "Int64Index: 6806 entries, 0 to 2187\n",
      "Data columns (total 22 columns):\n",
      " #   Column          Non-Null Count  Dtype \n",
      "---  ------          --------------  ----- \n",
      " 0   STABBR          6806 non-null   object\n",
      " 1   HIGHDEG         6806 non-null   object\n",
      " 2   REGION          6806 non-null   object\n",
      " 3   LOCALE          6331 non-null   object\n",
      " 4   CCSIZSET        6331 non-null   object\n",
      " 5   ADM_RATE        2006 non-null   object\n",
      " 6   ADM_RATE_ALL    2242 non-null   object\n",
      " 7   SAT_AVG         1298 non-null   object\n",
      " 8   SAT_AVG_ALL     1426 non-null   object\n",
      " 9   UGDS            6041 non-null   object\n",
      " 10  NPT4_PUB        1878 non-null   object\n",
      " 11  NPT4_PRIV       3727 non-null   object\n",
      " 12  TUITIONFEE_IN   3865 non-null   object\n",
      " 13  TUITIONFEE_OUT  3621 non-null   object\n",
      " 14  PFTFAC          3623 non-null   object\n",
      " 15  MEDIAN_HH_INC   4670 non-null   object\n",
      " 16  UNITID          6806 non-null   object\n",
      " 17  OPEID           6806 non-null   object\n",
      " 18  OPEID6          6806 non-null   object\n",
      " 19  INSTNM          6806 non-null   object\n",
      " 20  CITY            6806 non-null   object\n",
      " 21  ZIP             6806 non-null   object\n",
      "dtypes: object(22)\n",
      "memory usage: 1.2+ MB\n"
     ]
    }
   ],
   "source": [
    "inst2 = inst.compute()\n",
    "\n",
    "inst2 = inst2[['STABBR','HIGHDEG','REGION','LOCALE','CCSIZSET','ADM_RATE',\n",
    "      'ADM_RATE_ALL','SAT_AVG','SAT_AVG_ALL','UGDS','NPT4_PUB','NPT4_PRIV',\n",
    "      'TUITIONFEE_IN','TUITIONFEE_OUT','PFTFAC','MEDIAN_HH_INC',\n",
    "     'UNITID','OPEID','OPEID6','INSTNM','CITY','ZIP']]\n",
    "\n",
    "inst2.info()\n"
   ]
  },
  {
   "cell_type": "code",
   "execution_count": 14,
   "id": "initial-brighton",
   "metadata": {
    "execution": {
     "iopub.execute_input": "2021-05-19T16:15:24.343884Z",
     "iopub.status.busy": "2021-05-19T16:15:24.343722Z",
     "iopub.status.idle": "2021-05-19T16:15:24.347251Z",
     "shell.execute_reply": "2021-05-19T16:15:24.346839Z",
     "shell.execute_reply.started": "2021-05-19T16:15:24.343864Z"
    }
   },
   "outputs": [
    {
     "data": {
      "text/plain": [
       "Index(['STABBR', 'HIGHDEG', 'REGION', 'LOCALE', 'CCSIZSET', 'ADM_RATE',\n",
       "       'ADM_RATE_ALL', 'SAT_AVG', 'SAT_AVG_ALL', 'UGDS', 'NPT4_PUB',\n",
       "       'NPT4_PRIV', 'TUITIONFEE_IN', 'TUITIONFEE_OUT', 'PFTFAC',\n",
       "       'MEDIAN_HH_INC', 'UNITID', 'OPEID', 'OPEID6', 'INSTNM', 'CITY', 'ZIP'],\n",
       "      dtype='object')"
      ]
     },
     "execution_count": 14,
     "metadata": {},
     "output_type": "execute_result"
    }
   ],
   "source": [
    "inst2.columns"
   ]
  },
  {
   "cell_type": "code",
   "execution_count": 15,
   "id": "identical-brisbane",
   "metadata": {
    "execution": {
     "iopub.execute_input": "2021-05-19T16:15:24.348014Z",
     "iopub.status.busy": "2021-05-19T16:15:24.347864Z",
     "iopub.status.idle": "2021-05-19T16:15:24.352862Z",
     "shell.execute_reply": "2021-05-19T16:15:24.352464Z",
     "shell.execute_reply.started": "2021-05-19T16:15:24.347995Z"
    }
   },
   "outputs": [
    {
     "data": {
      "text/plain": [
       "Index(['UNITID', 'OPEID6', 'INSTNM', 'CONTROL', 'MAIN', 'CIPCODE', 'CIPDESC',\n",
       "       'CREDLEV', 'CREDDESC', 'EARN_MDN_HI_2YR'],\n",
       "      dtype='object')"
      ]
     },
     "execution_count": 15,
     "metadata": {},
     "output_type": "execute_result"
    }
   ],
   "source": [
    "m3.columns"
   ]
  },
  {
   "cell_type": "code",
   "execution_count": 16,
   "id": "graphic-enhancement",
   "metadata": {
    "execution": {
     "iopub.execute_input": "2021-05-19T16:15:24.353632Z",
     "iopub.status.busy": "2021-05-19T16:15:24.353483Z",
     "iopub.status.idle": "2021-05-19T16:15:24.393293Z",
     "shell.execute_reply": "2021-05-19T16:15:24.392742Z",
     "shell.execute_reply.started": "2021-05-19T16:15:24.353614Z"
    }
   },
   "outputs": [],
   "source": [
    "newdf2 = pd.merge(\n",
    "    m3,\n",
    "    inst2,\n",
    "    how=\"left\",\n",
    "    on=['UNITID', 'OPEID6', 'INSTNM'],\n",
    "    suffixes=(\"_maj\", \"_inst\"),\n",
    "    copy=True,\n",
    ")"
   ]
  },
  {
   "cell_type": "code",
   "execution_count": 17,
   "id": "ahead-johnson",
   "metadata": {
    "execution": {
     "iopub.execute_input": "2021-05-19T16:15:24.394203Z",
     "iopub.status.busy": "2021-05-19T16:15:24.394036Z",
     "iopub.status.idle": "2021-05-19T16:15:24.397603Z",
     "shell.execute_reply": "2021-05-19T16:15:24.397150Z",
     "shell.execute_reply.started": "2021-05-19T16:15:24.394183Z"
    }
   },
   "outputs": [
    {
     "data": {
      "text/plain": [
       "Index(['UNITID', 'OPEID6', 'INSTNM', 'CONTROL', 'MAIN', 'CIPCODE', 'CIPDESC',\n",
       "       'CREDLEV', 'CREDDESC', 'EARN_MDN_HI_2YR', 'STABBR', 'HIGHDEG', 'REGION',\n",
       "       'LOCALE', 'CCSIZSET', 'ADM_RATE', 'ADM_RATE_ALL', 'SAT_AVG',\n",
       "       'SAT_AVG_ALL', 'UGDS', 'NPT4_PUB', 'NPT4_PRIV', 'TUITIONFEE_IN',\n",
       "       'TUITIONFEE_OUT', 'PFTFAC', 'MEDIAN_HH_INC', 'OPEID', 'CITY', 'ZIP'],\n",
       "      dtype='object')"
      ]
     },
     "execution_count": 17,
     "metadata": {},
     "output_type": "execute_result"
    }
   ],
   "source": [
    "newdf2.columns"
   ]
  },
  {
   "cell_type": "code",
   "execution_count": 18,
   "id": "extensive-reduction",
   "metadata": {
    "execution": {
     "iopub.execute_input": "2021-05-19T16:15:24.398386Z",
     "iopub.status.busy": "2021-05-19T16:15:24.398236Z",
     "iopub.status.idle": "2021-05-19T16:15:24.412809Z",
     "shell.execute_reply": "2021-05-19T16:15:24.412312Z",
     "shell.execute_reply.started": "2021-05-19T16:15:24.398368Z"
    }
   },
   "outputs": [],
   "source": [
    "newdf2['deg_level'] = ['ug' if x in [\"Bachelors Degree\",\n",
    "          \"Associate's Degree\",\n",
    "          'Undergraduate Certificate or Diploma',\n",
    "          'Post-baccalaureate Certificate'] else 'grad' for x in newdf2['CREDDESC']]\n"
   ]
  },
  {
   "cell_type": "code",
   "execution_count": 19,
   "id": "adaptive-grocery",
   "metadata": {
    "execution": {
     "iopub.execute_input": "2021-05-19T16:15:24.413717Z",
     "iopub.status.busy": "2021-05-19T16:15:24.413549Z",
     "iopub.status.idle": "2021-05-19T16:15:24.431507Z",
     "shell.execute_reply": "2021-05-19T16:15:24.430983Z",
     "shell.execute_reply.started": "2021-05-19T16:15:24.413697Z"
    }
   },
   "outputs": [],
   "source": [
    "newdf2['tuition'] = newdf2['NPT4_PUB'].fillna(0).astype('int') + newdf2['NPT4_PRIV'].fillna(0).astype('int')"
   ]
  },
  {
   "cell_type": "code",
   "execution_count": 103,
   "id": "vulnerable-toilet",
   "metadata": {
    "execution": {
     "iopub.execute_input": "2021-05-19T16:45:53.385929Z",
     "iopub.status.busy": "2021-05-19T16:45:53.385704Z",
     "iopub.status.idle": "2021-05-19T16:45:53.398259Z",
     "shell.execute_reply": "2021-05-19T16:45:53.397739Z",
     "shell.execute_reply.started": "2021-05-19T16:45:53.385907Z"
    }
   },
   "outputs": [],
   "source": [
    "X = newdf2[['CONTROL', 'CIPDESC','STABBR',\n",
    "       'CREDDESC', 'HIGHDEG', 'REGION',\n",
    "       'LOCALE', 'CCSIZSET', 'ADM_RATE_ALL',\n",
    "       'SAT_AVG_ALL', 'UGDS', 'tuition', 'TUITIONFEE_IN',\n",
    "       'TUITIONFEE_OUT', 'PFTFAC', 'MEDIAN_HH_INC', 'deg_level']]\n",
    "y = newdf2[['EARN_MDN_HI_2YR']]\n",
    "\n",
    "#'INSTNM', "
   ]
  },
  {
   "cell_type": "code",
   "execution_count": 104,
   "id": "according-mineral",
   "metadata": {
    "execution": {
     "iopub.execute_input": "2021-05-19T16:45:53.952136Z",
     "iopub.status.busy": "2021-05-19T16:45:53.951907Z",
     "iopub.status.idle": "2021-05-19T16:45:53.977054Z",
     "shell.execute_reply": "2021-05-19T16:45:53.976518Z",
     "shell.execute_reply.started": "2021-05-19T16:45:53.952113Z"
    }
   },
   "outputs": [],
   "source": [
    "from sklearn.model_selection import train_test_split\n",
    "X_train, X_test, y_train, y_test = train_test_split(X, y, test_size=0.05, random_state=42)"
   ]
  },
  {
   "cell_type": "code",
   "execution_count": 105,
   "id": "cutting-reducing",
   "metadata": {
    "execution": {
     "iopub.execute_input": "2021-05-19T16:45:54.558718Z",
     "iopub.status.busy": "2021-05-19T16:45:54.558490Z",
     "iopub.status.idle": "2021-05-19T16:45:54.603769Z",
     "shell.execute_reply": "2021-05-19T16:45:54.603280Z",
     "shell.execute_reply.started": "2021-05-19T16:45:54.558695Z"
    }
   },
   "outputs": [
    {
     "name": "stdout",
     "output_type": "stream",
     "text": [
      "<class 'pandas.core.frame.DataFrame'>\n",
      "Int64Index: 58690 entries, 48745 to 56422\n",
      "Data columns (total 17 columns):\n",
      " #   Column          Non-Null Count  Dtype \n",
      "---  ------          --------------  ----- \n",
      " 0   CONTROL         58690 non-null  object\n",
      " 1   CIPDESC         58690 non-null  object\n",
      " 2   STABBR          54902 non-null  object\n",
      " 3   CREDDESC        58690 non-null  object\n",
      " 4   HIGHDEG         54902 non-null  object\n",
      " 5   REGION          54902 non-null  object\n",
      " 6   LOCALE          54902 non-null  object\n",
      " 7   CCSIZSET        54902 non-null  object\n",
      " 8   ADM_RATE_ALL    37333 non-null  object\n",
      " 9   SAT_AVG_ALL     32163 non-null  object\n",
      " 10  UGDS            54507 non-null  object\n",
      " 11  tuition         58690 non-null  int64 \n",
      " 12  TUITIONFEE_IN   49534 non-null  object\n",
      " 13  TUITIONFEE_OUT  49534 non-null  object\n",
      " 14  PFTFAC          49449 non-null  object\n",
      " 15  MEDIAN_HH_INC   50013 non-null  object\n",
      " 16  deg_level       58690 non-null  object\n",
      "dtypes: int64(1), object(16)\n",
      "memory usage: 8.1+ MB\n"
     ]
    }
   ],
   "source": [
    "X_train.info()"
   ]
  },
  {
   "cell_type": "code",
   "execution_count": 106,
   "id": "dried-alloy",
   "metadata": {
    "execution": {
     "iopub.execute_input": "2021-05-19T16:45:55.155077Z",
     "iopub.status.busy": "2021-05-19T16:45:55.154864Z",
     "iopub.status.idle": "2021-05-19T16:45:55.158397Z",
     "shell.execute_reply": "2021-05-19T16:45:55.157920Z",
     "shell.execute_reply.started": "2021-05-19T16:45:55.155054Z"
    }
   },
   "outputs": [],
   "source": [
    "from sklearn.experimental import enable_iterative_imputer\n",
    "from sklearn.impute import SimpleImputer, IterativeImputer\n",
    "\n",
    "enc = OneHotEncoder(handle_unknown='ignore', sparse = False)\n",
    "imp = SimpleImputer(missing_values=np.nan, strategy='mean')\n",
    "imp = IterativeImputer(max_iter=10, random_state=0, initial_strategy='mean', add_indicator = True)\n"
   ]
  },
  {
   "cell_type": "code",
   "execution_count": 107,
   "id": "amended-prison",
   "metadata": {
    "execution": {
     "iopub.execute_input": "2021-05-19T16:45:55.763115Z",
     "iopub.status.busy": "2021-05-19T16:45:55.762908Z",
     "iopub.status.idle": "2021-05-19T16:45:57.654332Z",
     "shell.execute_reply": "2021-05-19T16:45:57.653665Z",
     "shell.execute_reply.started": "2021-05-19T16:45:55.763093Z"
    }
   },
   "outputs": [
    {
     "name": "stderr",
     "output_type": "stream",
     "text": [
      "/srv/conda/envs/saturn/lib/python3.7/site-packages/sklearn/impute/_iterative.py:686: ConvergenceWarning: [IterativeImputer] Early stopping criterion not reached.\n",
      "  \" reached.\", ConvergenceWarning)\n"
     ]
    }
   ],
   "source": [
    "from sklearn.pipeline import Pipeline\n",
    "from sklearn.compose import ColumnTransformer\n",
    "\n",
    "ct = ColumnTransformer(\n",
    "    [('onehot', enc, ['CONTROL','CIPDESC','CREDDESC','deg_level',\n",
    "                      'HIGHDEG','REGION','LOCALE', 'CCSIZSET', 'STABBR']),\n",
    "    ('impute', imp, ['TUITIONFEE_IN','TUITIONFEE_OUT','PFTFAC','MEDIAN_HH_INC',\n",
    "                      'UGDS','SAT_AVG_ALL','ADM_RATE_ALL'])], \n",
    "    remainder='passthrough' \n",
    ")\n",
    "\n",
    "pipe = Pipeline(steps=[('coltrans', ct), ('linear', linear_model.LinearRegression())])\n",
    "pipe = pipe.fit(X_train, y_train)"
   ]
  },
  {
   "cell_type": "code",
   "execution_count": 108,
   "id": "collective-blair",
   "metadata": {
    "execution": {
     "iopub.execute_input": "2021-05-19T16:45:57.655574Z",
     "iopub.status.busy": "2021-05-19T16:45:57.655375Z",
     "iopub.status.idle": "2021-05-19T16:45:57.699252Z",
     "shell.execute_reply": "2021-05-19T16:45:57.698684Z",
     "shell.execute_reply.started": "2021-05-19T16:45:57.655550Z"
    }
   },
   "outputs": [
    {
     "name": "stdout",
     "output_type": "stream",
     "text": [
      "[[59366.42877931]\n",
      " [55626.92460521]\n",
      " [56047.35490618]\n",
      " ...\n",
      " [36400.37398783]\n",
      " [48830.3137935 ]\n",
      " [35808.20762294]]\n"
     ]
    }
   ],
   "source": [
    "predictions = pipe.predict(X_test)\n",
    "print(predictions)"
   ]
  },
  {
   "cell_type": "code",
   "execution_count": 109,
   "id": "chubby-harassment",
   "metadata": {
    "execution": {
     "iopub.execute_input": "2021-05-19T16:45:57.700496Z",
     "iopub.status.busy": "2021-05-19T16:45:57.700319Z",
     "iopub.status.idle": "2021-05-19T16:45:58.321286Z",
     "shell.execute_reply": "2021-05-19T16:45:58.320739Z",
     "shell.execute_reply.started": "2021-05-19T16:45:57.700475Z"
    }
   },
   "outputs": [
    {
     "data": {
      "text/plain": [
       "0.7476261781154907"
      ]
     },
     "execution_count": 109,
     "metadata": {},
     "output_type": "execute_result"
    }
   ],
   "source": [
    "pipe.score(X_train,y_train)"
   ]
  },
  {
   "cell_type": "code",
   "execution_count": 110,
   "id": "arranged-trick",
   "metadata": {
    "execution": {
     "iopub.execute_input": "2021-05-19T16:45:58.322278Z",
     "iopub.status.busy": "2021-05-19T16:45:58.322102Z",
     "iopub.status.idle": "2021-05-19T16:45:58.364732Z",
     "shell.execute_reply": "2021-05-19T16:45:58.364222Z",
     "shell.execute_reply.started": "2021-05-19T16:45:58.322256Z"
    }
   },
   "outputs": [
    {
     "data": {
      "text/plain": [
       "0.7624068987813214"
      ]
     },
     "execution_count": 110,
     "metadata": {},
     "output_type": "execute_result"
    }
   ],
   "source": [
    "pipe.score(X_test,y_test)"
   ]
  },
  {
   "cell_type": "code",
   "execution_count": 111,
   "id": "looking-accent",
   "metadata": {
    "execution": {
     "iopub.execute_input": "2021-05-19T16:46:01.241823Z",
     "iopub.status.busy": "2021-05-19T16:46:01.241588Z",
     "iopub.status.idle": "2021-05-19T16:46:01.248734Z",
     "shell.execute_reply": "2021-05-19T16:46:01.248223Z",
     "shell.execute_reply.started": "2021-05-19T16:46:01.241799Z"
    }
   },
   "outputs": [],
   "source": [
    "# newdata3 = X_train.copy()\n",
    "# newdata3['truth'] = y_train.astype('int')\n",
    "# newdata3['pred'] = predictions\n",
    "\n",
    "newdata3 = X_test.copy()\n",
    "newdata3['truth'] = y_test.astype('int')\n",
    "newdata3['pred'] = predictions\n",
    "\n",
    "newdata3['pred'] = [0 if x < 0 else x for x in newdata3['pred']]\n"
   ]
  },
  {
   "cell_type": "code",
   "execution_count": 112,
   "id": "decent-elder",
   "metadata": {
    "execution": {
     "iopub.execute_input": "2021-05-19T16:46:01.887247Z",
     "iopub.status.busy": "2021-05-19T16:46:01.887016Z",
     "iopub.status.idle": "2021-05-19T16:46:01.902549Z",
     "shell.execute_reply": "2021-05-19T16:46:01.902069Z",
     "shell.execute_reply.started": "2021-05-19T16:46:01.887223Z"
    }
   },
   "outputs": [
    {
     "data": {
      "text/html": [
       "<div>\n",
       "<style scoped>\n",
       "    .dataframe tbody tr th:only-of-type {\n",
       "        vertical-align: middle;\n",
       "    }\n",
       "\n",
       "    .dataframe tbody tr th {\n",
       "        vertical-align: top;\n",
       "    }\n",
       "\n",
       "    .dataframe thead th {\n",
       "        text-align: right;\n",
       "    }\n",
       "</style>\n",
       "<table border=\"1\" class=\"dataframe\">\n",
       "  <thead>\n",
       "    <tr style=\"text-align: right;\">\n",
       "      <th></th>\n",
       "      <th>CONTROL</th>\n",
       "      <th>CIPDESC</th>\n",
       "      <th>STABBR</th>\n",
       "      <th>CREDDESC</th>\n",
       "      <th>HIGHDEG</th>\n",
       "      <th>REGION</th>\n",
       "      <th>LOCALE</th>\n",
       "      <th>CCSIZSET</th>\n",
       "      <th>ADM_RATE_ALL</th>\n",
       "      <th>SAT_AVG_ALL</th>\n",
       "      <th>UGDS</th>\n",
       "      <th>tuition</th>\n",
       "      <th>TUITIONFEE_IN</th>\n",
       "      <th>TUITIONFEE_OUT</th>\n",
       "      <th>PFTFAC</th>\n",
       "      <th>MEDIAN_HH_INC</th>\n",
       "      <th>deg_level</th>\n",
       "      <th>truth</th>\n",
       "      <th>pred</th>\n",
       "    </tr>\n",
       "  </thead>\n",
       "  <tbody>\n",
       "    <tr>\n",
       "      <th>31062</th>\n",
       "      <td>Private, nonprofit</td>\n",
       "      <td>Law.</td>\n",
       "      <td>NC</td>\n",
       "      <td>First Professional Degree</td>\n",
       "      <td>4</td>\n",
       "      <td>5</td>\n",
       "      <td>31</td>\n",
       "      <td>13</td>\n",
       "      <td>0.763</td>\n",
       "      <td>1120</td>\n",
       "      <td>4199</td>\n",
       "      <td>21434</td>\n",
       "      <td>32500</td>\n",
       "      <td>32500</td>\n",
       "      <td>0.4613</td>\n",
       "      <td>56906.03</td>\n",
       "      <td>grad</td>\n",
       "      <td>44508</td>\n",
       "      <td>59366.428779</td>\n",
       "    </tr>\n",
       "    <tr>\n",
       "      <th>12994</th>\n",
       "      <td>Public</td>\n",
       "      <td>Educational Assessment, Evaluation, and Research.</td>\n",
       "      <td>IN</td>\n",
       "      <td>Graduate/Professional Certificate</td>\n",
       "      <td>4</td>\n",
       "      <td>3</td>\n",
       "      <td>13</td>\n",
       "      <td>16</td>\n",
       "      <td>0.6478</td>\n",
       "      <td>NaN</td>\n",
       "      <td>15529</td>\n",
       "      <td>15020</td>\n",
       "      <td>9896</td>\n",
       "      <td>26468</td>\n",
       "      <td>0.8101</td>\n",
       "      <td>62817.43</td>\n",
       "      <td>grad</td>\n",
       "      <td>47260</td>\n",
       "      <td>55626.924605</td>\n",
       "    </tr>\n",
       "    <tr>\n",
       "      <th>12990</th>\n",
       "      <td>Public</td>\n",
       "      <td>Computer and Information Sciences, General.</td>\n",
       "      <td>IN</td>\n",
       "      <td>Bachelors Degree</td>\n",
       "      <td>4</td>\n",
       "      <td>3</td>\n",
       "      <td>13</td>\n",
       "      <td>16</td>\n",
       "      <td>0.6478</td>\n",
       "      <td>NaN</td>\n",
       "      <td>15529</td>\n",
       "      <td>15020</td>\n",
       "      <td>9896</td>\n",
       "      <td>26468</td>\n",
       "      <td>0.8101</td>\n",
       "      <td>62817.43</td>\n",
       "      <td>ug</td>\n",
       "      <td>54296</td>\n",
       "      <td>56047.354906</td>\n",
       "    </tr>\n",
       "    <tr>\n",
       "      <th>52066</th>\n",
       "      <td>Public</td>\n",
       "      <td>Health and Medical Administrative Services.</td>\n",
       "      <td>OH</td>\n",
       "      <td>Undergraduate Certificate or Diploma</td>\n",
       "      <td>1</td>\n",
       "      <td>3</td>\n",
       "      <td>21</td>\n",
       "      <td>-2</td>\n",
       "      <td>NaN</td>\n",
       "      <td>NaN</td>\n",
       "      <td>153</td>\n",
       "      <td>12544</td>\n",
       "      <td>NaN</td>\n",
       "      <td>NaN</td>\n",
       "      <td>NaN</td>\n",
       "      <td>58212.55</td>\n",
       "      <td>ug</td>\n",
       "      <td>29685</td>\n",
       "      <td>23630.483727</td>\n",
       "    </tr>\n",
       "    <tr>\n",
       "      <th>50830</th>\n",
       "      <td>Public</td>\n",
       "      <td>Architectural Sciences and Technology.</td>\n",
       "      <td>PA</td>\n",
       "      <td>Bachelors Degree</td>\n",
       "      <td>3</td>\n",
       "      <td>2</td>\n",
       "      <td>13</td>\n",
       "      <td>13</td>\n",
       "      <td>NaN</td>\n",
       "      <td>NaN</td>\n",
       "      <td>5289</td>\n",
       "      <td>23435</td>\n",
       "      <td>16740</td>\n",
       "      <td>23880</td>\n",
       "      <td>0.6112</td>\n",
       "      <td>54926.29</td>\n",
       "      <td>ug</td>\n",
       "      <td>37568</td>\n",
       "      <td>40284.656667</td>\n",
       "    </tr>\n",
       "  </tbody>\n",
       "</table>\n",
       "</div>"
      ],
      "text/plain": [
       "                  CONTROL                                            CIPDESC  \\\n",
       "31062  Private, nonprofit                                               Law.   \n",
       "12994              Public  Educational Assessment, Evaluation, and Research.   \n",
       "12990              Public        Computer and Information Sciences, General.   \n",
       "52066              Public        Health and Medical Administrative Services.   \n",
       "50830              Public             Architectural Sciences and Technology.   \n",
       "\n",
       "      STABBR                              CREDDESC HIGHDEG REGION LOCALE  \\\n",
       "31062     NC             First Professional Degree       4      5     31   \n",
       "12994     IN     Graduate/Professional Certificate       4      3     13   \n",
       "12990     IN                      Bachelors Degree       4      3     13   \n",
       "52066     OH  Undergraduate Certificate or Diploma       1      3     21   \n",
       "50830     PA                      Bachelors Degree       3      2     13   \n",
       "\n",
       "      CCSIZSET ADM_RATE_ALL SAT_AVG_ALL   UGDS  tuition TUITIONFEE_IN  \\\n",
       "31062       13        0.763        1120   4199    21434         32500   \n",
       "12994       16       0.6478         NaN  15529    15020          9896   \n",
       "12990       16       0.6478         NaN  15529    15020          9896   \n",
       "52066       -2          NaN         NaN    153    12544           NaN   \n",
       "50830       13          NaN         NaN   5289    23435         16740   \n",
       "\n",
       "      TUITIONFEE_OUT  PFTFAC MEDIAN_HH_INC deg_level  truth          pred  \n",
       "31062          32500  0.4613      56906.03      grad  44508  59366.428779  \n",
       "12994          26468  0.8101      62817.43      grad  47260  55626.924605  \n",
       "12990          26468  0.8101      62817.43        ug  54296  56047.354906  \n",
       "52066            NaN     NaN      58212.55        ug  29685  23630.483727  \n",
       "50830          23880  0.6112      54926.29        ug  37568  40284.656667  "
      ]
     },
     "execution_count": 112,
     "metadata": {},
     "output_type": "execute_result"
    }
   ],
   "source": [
    "newdata3.head()"
   ]
  },
  {
   "cell_type": "code",
   "execution_count": 113,
   "id": "pharmaceutical-extraction",
   "metadata": {
    "execution": {
     "iopub.execute_input": "2021-05-19T16:46:02.680282Z",
     "iopub.status.busy": "2021-05-19T16:46:02.680050Z",
     "iopub.status.idle": "2021-05-19T16:46:02.683575Z",
     "shell.execute_reply": "2021-05-19T16:46:02.683090Z",
     "shell.execute_reply.started": "2021-05-19T16:46:02.680259Z"
    }
   },
   "outputs": [],
   "source": [
    "from bokeh.models import NumeralTickFormatter\n",
    "from bokeh.transform import factor_cmap, factor_mark\n",
    "from bokeh.palettes import Spectral6\n",
    "import time\n",
    "from datetime import datetime as dt\n",
    "from bokeh.plotting import figure\n",
    "from bokeh.models import Span, Label\n",
    "from bokeh.palettes import Viridis256, Cividis256, Turbo256\n"
   ]
  },
  {
   "cell_type": "code",
   "execution_count": 114,
   "id": "comparative-houston",
   "metadata": {
    "execution": {
     "iopub.execute_input": "2021-05-19T16:46:04.746326Z",
     "iopub.status.busy": "2021-05-19T16:46:04.746099Z",
     "iopub.status.idle": "2021-05-19T16:46:04.750756Z",
     "shell.execute_reply": "2021-05-19T16:46:04.750260Z",
     "shell.execute_reply.started": "2021-05-19T16:46:04.746303Z"
    }
   },
   "outputs": [],
   "source": [
    "def plot_earn(df, groupvar):\n",
    "    output_notebook()\n",
    "\n",
    "    p = figure(title=\"Predicted Earnings\", \n",
    "               y_axis_label='True', \n",
    "               x_axis_label='Predicted', \n",
    "               width=750, \n",
    "               height = 400)\n",
    "\n",
    "    sourcedt = df \n",
    "\n",
    "    states = sourcedt[groupvar].fillna(\"NA\").unique().tolist()\n",
    "\n",
    "    p.circle(y='truth', x='pred', size=5, \n",
    "             fill_color=factor_cmap(groupvar, \n",
    "                                    palette=Spectral6, \n",
    "                                    factors=states), \n",
    "             legend_group=groupvar,\n",
    "             source=sourcedt)\n",
    "\n",
    "    p.yaxis[0].formatter = NumeralTickFormatter(format=\"0.0\")#$\n",
    "    p.xaxis[0].formatter = NumeralTickFormatter(format=\"0.0\")\n",
    "\n",
    "\n",
    "    show(p)"
   ]
  },
  {
   "cell_type": "code",
   "execution_count": 118,
   "id": "suspected-organic",
   "metadata": {
    "execution": {
     "iopub.execute_input": "2021-05-19T16:46:16.005355Z",
     "iopub.status.busy": "2021-05-19T16:46:16.005078Z",
     "iopub.status.idle": "2021-05-19T16:46:16.009666Z",
     "shell.execute_reply": "2021-05-19T16:46:16.009113Z",
     "shell.execute_reply.started": "2021-05-19T16:46:16.005329Z"
    }
   },
   "outputs": [],
   "source": [
    "dt1 = newdata3[(newdata3['deg_level'] == 'grad')]"
   ]
  },
  {
   "cell_type": "code",
   "execution_count": 119,
   "id": "responsible-innocent",
   "metadata": {
    "execution": {
     "iopub.execute_input": "2021-05-19T16:46:17.963440Z",
     "iopub.status.busy": "2021-05-19T16:46:17.963204Z",
     "iopub.status.idle": "2021-05-19T16:46:17.965958Z",
     "shell.execute_reply": "2021-05-19T16:46:17.965469Z",
     "shell.execute_reply.started": "2021-05-19T16:46:17.963416Z"
    }
   },
   "outputs": [],
   "source": [
    "gv = 'CONTROL'"
   ]
  },
  {
   "cell_type": "code",
   "execution_count": 120,
   "id": "tracked-trigger",
   "metadata": {
    "execution": {
     "iopub.execute_input": "2021-05-19T16:46:18.210728Z",
     "iopub.status.busy": "2021-05-19T16:46:18.210505Z",
     "iopub.status.idle": "2021-05-19T16:46:18.267298Z",
     "shell.execute_reply": "2021-05-19T16:46:18.266829Z",
     "shell.execute_reply.started": "2021-05-19T16:46:18.210704Z"
    }
   },
   "outputs": [
    {
     "data": {
      "text/html": [
       "\n",
       "    <div class=\"bk-root\">\n",
       "        <a href=\"https://bokeh.org\" target=\"_blank\" class=\"bk-logo bk-logo-small bk-logo-notebook\"></a>\n",
       "        <span id=\"2192\">Loading BokehJS ...</span>\n",
       "    </div>"
      ]
     },
     "metadata": {},
     "output_type": "display_data"
    },
    {
     "data": {
      "application/javascript": [
       "\n",
       "(function(root) {\n",
       "  function now() {\n",
       "    return new Date();\n",
       "  }\n",
       "\n",
       "  var force = true;\n",
       "\n",
       "  if (typeof root._bokeh_onload_callbacks === \"undefined\" || force === true) {\n",
       "    root._bokeh_onload_callbacks = [];\n",
       "    root._bokeh_is_loading = undefined;\n",
       "  }\n",
       "\n",
       "  var JS_MIME_TYPE = 'application/javascript';\n",
       "  var HTML_MIME_TYPE = 'text/html';\n",
       "  var EXEC_MIME_TYPE = 'application/vnd.bokehjs_exec.v0+json';\n",
       "  var CLASS_NAME = 'output_bokeh rendered_html';\n",
       "\n",
       "  /**\n",
       "   * Render data to the DOM node\n",
       "   */\n",
       "  function render(props, node) {\n",
       "    var script = document.createElement(\"script\");\n",
       "    node.appendChild(script);\n",
       "  }\n",
       "\n",
       "  /**\n",
       "   * Handle when an output is cleared or removed\n",
       "   */\n",
       "  function handleClearOutput(event, handle) {\n",
       "    var cell = handle.cell;\n",
       "\n",
       "    var id = cell.output_area._bokeh_element_id;\n",
       "    var server_id = cell.output_area._bokeh_server_id;\n",
       "    // Clean up Bokeh references\n",
       "    if (id != null && id in Bokeh.index) {\n",
       "      Bokeh.index[id].model.document.clear();\n",
       "      delete Bokeh.index[id];\n",
       "    }\n",
       "\n",
       "    if (server_id !== undefined) {\n",
       "      // Clean up Bokeh references\n",
       "      var cmd = \"from bokeh.io.state import curstate; print(curstate().uuid_to_server['\" + server_id + \"'].get_sessions()[0].document.roots[0]._id)\";\n",
       "      cell.notebook.kernel.execute(cmd, {\n",
       "        iopub: {\n",
       "          output: function(msg) {\n",
       "            var id = msg.content.text.trim();\n",
       "            if (id in Bokeh.index) {\n",
       "              Bokeh.index[id].model.document.clear();\n",
       "              delete Bokeh.index[id];\n",
       "            }\n",
       "          }\n",
       "        }\n",
       "      });\n",
       "      // Destroy server and session\n",
       "      var cmd = \"import bokeh.io.notebook as ion; ion.destroy_server('\" + server_id + \"')\";\n",
       "      cell.notebook.kernel.execute(cmd);\n",
       "    }\n",
       "  }\n",
       "\n",
       "  /**\n",
       "   * Handle when a new output is added\n",
       "   */\n",
       "  function handleAddOutput(event, handle) {\n",
       "    var output_area = handle.output_area;\n",
       "    var output = handle.output;\n",
       "\n",
       "    // limit handleAddOutput to display_data with EXEC_MIME_TYPE content only\n",
       "    if ((output.output_type != \"display_data\") || (!output.data.hasOwnProperty(EXEC_MIME_TYPE))) {\n",
       "      return\n",
       "    }\n",
       "\n",
       "    var toinsert = output_area.element.find(\".\" + CLASS_NAME.split(' ')[0]);\n",
       "\n",
       "    if (output.metadata[EXEC_MIME_TYPE][\"id\"] !== undefined) {\n",
       "      toinsert[toinsert.length - 1].firstChild.textContent = output.data[JS_MIME_TYPE];\n",
       "      // store reference to embed id on output_area\n",
       "      output_area._bokeh_element_id = output.metadata[EXEC_MIME_TYPE][\"id\"];\n",
       "    }\n",
       "    if (output.metadata[EXEC_MIME_TYPE][\"server_id\"] !== undefined) {\n",
       "      var bk_div = document.createElement(\"div\");\n",
       "      bk_div.innerHTML = output.data[HTML_MIME_TYPE];\n",
       "      var script_attrs = bk_div.children[0].attributes;\n",
       "      for (var i = 0; i < script_attrs.length; i++) {\n",
       "        toinsert[toinsert.length - 1].firstChild.setAttribute(script_attrs[i].name, script_attrs[i].value);\n",
       "        toinsert[toinsert.length - 1].firstChild.textContent = bk_div.children[0].textContent\n",
       "      }\n",
       "      // store reference to server id on output_area\n",
       "      output_area._bokeh_server_id = output.metadata[EXEC_MIME_TYPE][\"server_id\"];\n",
       "    }\n",
       "  }\n",
       "\n",
       "  function register_renderer(events, OutputArea) {\n",
       "\n",
       "    function append_mime(data, metadata, element) {\n",
       "      // create a DOM node to render to\n",
       "      var toinsert = this.create_output_subarea(\n",
       "        metadata,\n",
       "        CLASS_NAME,\n",
       "        EXEC_MIME_TYPE\n",
       "      );\n",
       "      this.keyboard_manager.register_events(toinsert);\n",
       "      // Render to node\n",
       "      var props = {data: data, metadata: metadata[EXEC_MIME_TYPE]};\n",
       "      render(props, toinsert[toinsert.length - 1]);\n",
       "      element.append(toinsert);\n",
       "      return toinsert\n",
       "    }\n",
       "\n",
       "    /* Handle when an output is cleared or removed */\n",
       "    events.on('clear_output.CodeCell', handleClearOutput);\n",
       "    events.on('delete.Cell', handleClearOutput);\n",
       "\n",
       "    /* Handle when a new output is added */\n",
       "    events.on('output_added.OutputArea', handleAddOutput);\n",
       "\n",
       "    /**\n",
       "     * Register the mime type and append_mime function with output_area\n",
       "     */\n",
       "    OutputArea.prototype.register_mime_type(EXEC_MIME_TYPE, append_mime, {\n",
       "      /* Is output safe? */\n",
       "      safe: true,\n",
       "      /* Index of renderer in `output_area.display_order` */\n",
       "      index: 0\n",
       "    });\n",
       "  }\n",
       "\n",
       "  // register the mime type if in Jupyter Notebook environment and previously unregistered\n",
       "  if (root.Jupyter !== undefined) {\n",
       "    var events = require('base/js/events');\n",
       "    var OutputArea = require('notebook/js/outputarea').OutputArea;\n",
       "\n",
       "    if (OutputArea.prototype.mime_types().indexOf(EXEC_MIME_TYPE) == -1) {\n",
       "      register_renderer(events, OutputArea);\n",
       "    }\n",
       "  }\n",
       "\n",
       "  \n",
       "  if (typeof (root._bokeh_timeout) === \"undefined\" || force === true) {\n",
       "    root._bokeh_timeout = Date.now() + 5000;\n",
       "    root._bokeh_failed_load = false;\n",
       "  }\n",
       "\n",
       "  var NB_LOAD_WARNING = {'data': {'text/html':\n",
       "     \"<div style='background-color: #fdd'>\\n\"+\n",
       "     \"<p>\\n\"+\n",
       "     \"BokehJS does not appear to have successfully loaded. If loading BokehJS from CDN, this \\n\"+\n",
       "     \"may be due to a slow or bad network connection. Possible fixes:\\n\"+\n",
       "     \"</p>\\n\"+\n",
       "     \"<ul>\\n\"+\n",
       "     \"<li>re-rerun `output_notebook()` to attempt to load from CDN again, or</li>\\n\"+\n",
       "     \"<li>use INLINE resources instead, as so:</li>\\n\"+\n",
       "     \"</ul>\\n\"+\n",
       "     \"<code>\\n\"+\n",
       "     \"from bokeh.resources import INLINE\\n\"+\n",
       "     \"output_notebook(resources=INLINE)\\n\"+\n",
       "     \"</code>\\n\"+\n",
       "     \"</div>\"}};\n",
       "\n",
       "  function display_loaded() {\n",
       "    var el = document.getElementById(\"2192\");\n",
       "    if (el != null) {\n",
       "      el.textContent = \"BokehJS is loading...\";\n",
       "    }\n",
       "    if (root.Bokeh !== undefined) {\n",
       "      if (el != null) {\n",
       "        el.textContent = \"BokehJS \" + root.Bokeh.version + \" successfully loaded.\";\n",
       "      }\n",
       "    } else if (Date.now() < root._bokeh_timeout) {\n",
       "      setTimeout(display_loaded, 100)\n",
       "    }\n",
       "  }\n",
       "\n",
       "\n",
       "  function run_callbacks() {\n",
       "    try {\n",
       "      root._bokeh_onload_callbacks.forEach(function(callback) {\n",
       "        if (callback != null)\n",
       "          callback();\n",
       "      });\n",
       "    } finally {\n",
       "      delete root._bokeh_onload_callbacks\n",
       "    }\n",
       "    console.debug(\"Bokeh: all callbacks have finished\");\n",
       "  }\n",
       "\n",
       "  function load_libs(css_urls, js_urls, callback) {\n",
       "    if (css_urls == null) css_urls = [];\n",
       "    if (js_urls == null) js_urls = [];\n",
       "\n",
       "    root._bokeh_onload_callbacks.push(callback);\n",
       "    if (root._bokeh_is_loading > 0) {\n",
       "      console.debug(\"Bokeh: BokehJS is being loaded, scheduling callback at\", now());\n",
       "      return null;\n",
       "    }\n",
       "    if (js_urls == null || js_urls.length === 0) {\n",
       "      run_callbacks();\n",
       "      return null;\n",
       "    }\n",
       "    console.debug(\"Bokeh: BokehJS not loaded, scheduling load and callback at\", now());\n",
       "    root._bokeh_is_loading = css_urls.length + js_urls.length;\n",
       "\n",
       "    function on_load() {\n",
       "      root._bokeh_is_loading--;\n",
       "      if (root._bokeh_is_loading === 0) {\n",
       "        console.debug(\"Bokeh: all BokehJS libraries/stylesheets loaded\");\n",
       "        run_callbacks()\n",
       "      }\n",
       "    }\n",
       "\n",
       "    function on_error() {\n",
       "      console.error(\"failed to load \" + url);\n",
       "    }\n",
       "\n",
       "    for (var i = 0; i < css_urls.length; i++) {\n",
       "      var url = css_urls[i];\n",
       "      const element = document.createElement(\"link\");\n",
       "      element.onload = on_load;\n",
       "      element.onerror = on_error;\n",
       "      element.rel = \"stylesheet\";\n",
       "      element.type = \"text/css\";\n",
       "      element.href = url;\n",
       "      console.debug(\"Bokeh: injecting link tag for BokehJS stylesheet: \", url);\n",
       "      document.body.appendChild(element);\n",
       "    }\n",
       "\n",
       "    const hashes = {\"https://cdn.bokeh.org/bokeh/release/bokeh-2.2.3.min.js\": \"T2yuo9Oe71Cz/I4X9Ac5+gpEa5a8PpJCDlqKYO0CfAuEszu1JrXLl8YugMqYe3sM\", \"https://cdn.bokeh.org/bokeh/release/bokeh-widgets-2.2.3.min.js\": \"98GDGJ0kOMCUMUePhksaQ/GYgB3+NH9h996V88sh3aOiUNX3N+fLXAtry6xctSZ6\", \"https://cdn.bokeh.org/bokeh/release/bokeh-tables-2.2.3.min.js\": \"89bArO+nlbP3sgakeHjCo1JYxYR5wufVgA3IbUvDY+K7w4zyxJqssu7wVnfeKCq8\"};\n",
       "\n",
       "    for (var i = 0; i < js_urls.length; i++) {\n",
       "      var url = js_urls[i];\n",
       "      var element = document.createElement('script');\n",
       "      element.onload = on_load;\n",
       "      element.onerror = on_error;\n",
       "      element.async = false;\n",
       "      element.src = url;\n",
       "      if (url in hashes) {\n",
       "        element.crossOrigin = \"anonymous\";\n",
       "        element.integrity = \"sha384-\" + hashes[url];\n",
       "      }\n",
       "      console.debug(\"Bokeh: injecting script tag for BokehJS library: \", url);\n",
       "      document.head.appendChild(element);\n",
       "    }\n",
       "  };\n",
       "\n",
       "  function inject_raw_css(css) {\n",
       "    const element = document.createElement(\"style\");\n",
       "    element.appendChild(document.createTextNode(css));\n",
       "    document.body.appendChild(element);\n",
       "  }\n",
       "\n",
       "  \n",
       "  var js_urls = [\"https://cdn.bokeh.org/bokeh/release/bokeh-2.2.3.min.js\", \"https://cdn.bokeh.org/bokeh/release/bokeh-widgets-2.2.3.min.js\", \"https://cdn.bokeh.org/bokeh/release/bokeh-tables-2.2.3.min.js\"];\n",
       "  var css_urls = [];\n",
       "  \n",
       "\n",
       "  var inline_js = [\n",
       "    function(Bokeh) {\n",
       "      Bokeh.set_log_level(\"info\");\n",
       "    },\n",
       "    function(Bokeh) {\n",
       "    \n",
       "    \n",
       "    }\n",
       "  ];\n",
       "\n",
       "  function run_inline_js() {\n",
       "    \n",
       "    if (root.Bokeh !== undefined || force === true) {\n",
       "      \n",
       "    for (var i = 0; i < inline_js.length; i++) {\n",
       "      inline_js[i].call(root, root.Bokeh);\n",
       "    }\n",
       "    if (force === true) {\n",
       "        display_loaded();\n",
       "      }} else if (Date.now() < root._bokeh_timeout) {\n",
       "      setTimeout(run_inline_js, 100);\n",
       "    } else if (!root._bokeh_failed_load) {\n",
       "      console.log(\"Bokeh: BokehJS failed to load within specified timeout.\");\n",
       "      root._bokeh_failed_load = true;\n",
       "    } else if (force !== true) {\n",
       "      var cell = $(document.getElementById(\"2192\")).parents('.cell').data().cell;\n",
       "      cell.output_area.append_execute_result(NB_LOAD_WARNING)\n",
       "    }\n",
       "\n",
       "  }\n",
       "\n",
       "  if (root._bokeh_is_loading === 0) {\n",
       "    console.debug(\"Bokeh: BokehJS loaded, going straight to plotting\");\n",
       "    run_inline_js();\n",
       "  } else {\n",
       "    load_libs(css_urls, js_urls, function() {\n",
       "      console.debug(\"Bokeh: BokehJS plotting callback run at\", now());\n",
       "      run_inline_js();\n",
       "    });\n",
       "  }\n",
       "}(window));"
      ],
      "application/vnd.bokehjs_load.v0+json": "\n(function(root) {\n  function now() {\n    return new Date();\n  }\n\n  var force = true;\n\n  if (typeof root._bokeh_onload_callbacks === \"undefined\" || force === true) {\n    root._bokeh_onload_callbacks = [];\n    root._bokeh_is_loading = undefined;\n  }\n\n  \n\n  \n  if (typeof (root._bokeh_timeout) === \"undefined\" || force === true) {\n    root._bokeh_timeout = Date.now() + 5000;\n    root._bokeh_failed_load = false;\n  }\n\n  var NB_LOAD_WARNING = {'data': {'text/html':\n     \"<div style='background-color: #fdd'>\\n\"+\n     \"<p>\\n\"+\n     \"BokehJS does not appear to have successfully loaded. If loading BokehJS from CDN, this \\n\"+\n     \"may be due to a slow or bad network connection. Possible fixes:\\n\"+\n     \"</p>\\n\"+\n     \"<ul>\\n\"+\n     \"<li>re-rerun `output_notebook()` to attempt to load from CDN again, or</li>\\n\"+\n     \"<li>use INLINE resources instead, as so:</li>\\n\"+\n     \"</ul>\\n\"+\n     \"<code>\\n\"+\n     \"from bokeh.resources import INLINE\\n\"+\n     \"output_notebook(resources=INLINE)\\n\"+\n     \"</code>\\n\"+\n     \"</div>\"}};\n\n  function display_loaded() {\n    var el = document.getElementById(\"2192\");\n    if (el != null) {\n      el.textContent = \"BokehJS is loading...\";\n    }\n    if (root.Bokeh !== undefined) {\n      if (el != null) {\n        el.textContent = \"BokehJS \" + root.Bokeh.version + \" successfully loaded.\";\n      }\n    } else if (Date.now() < root._bokeh_timeout) {\n      setTimeout(display_loaded, 100)\n    }\n  }\n\n\n  function run_callbacks() {\n    try {\n      root._bokeh_onload_callbacks.forEach(function(callback) {\n        if (callback != null)\n          callback();\n      });\n    } finally {\n      delete root._bokeh_onload_callbacks\n    }\n    console.debug(\"Bokeh: all callbacks have finished\");\n  }\n\n  function load_libs(css_urls, js_urls, callback) {\n    if (css_urls == null) css_urls = [];\n    if (js_urls == null) js_urls = [];\n\n    root._bokeh_onload_callbacks.push(callback);\n    if (root._bokeh_is_loading > 0) {\n      console.debug(\"Bokeh: BokehJS is being loaded, scheduling callback at\", now());\n      return null;\n    }\n    if (js_urls == null || js_urls.length === 0) {\n      run_callbacks();\n      return null;\n    }\n    console.debug(\"Bokeh: BokehJS not loaded, scheduling load and callback at\", now());\n    root._bokeh_is_loading = css_urls.length + js_urls.length;\n\n    function on_load() {\n      root._bokeh_is_loading--;\n      if (root._bokeh_is_loading === 0) {\n        console.debug(\"Bokeh: all BokehJS libraries/stylesheets loaded\");\n        run_callbacks()\n      }\n    }\n\n    function on_error() {\n      console.error(\"failed to load \" + url);\n    }\n\n    for (var i = 0; i < css_urls.length; i++) {\n      var url = css_urls[i];\n      const element = document.createElement(\"link\");\n      element.onload = on_load;\n      element.onerror = on_error;\n      element.rel = \"stylesheet\";\n      element.type = \"text/css\";\n      element.href = url;\n      console.debug(\"Bokeh: injecting link tag for BokehJS stylesheet: \", url);\n      document.body.appendChild(element);\n    }\n\n    const hashes = {\"https://cdn.bokeh.org/bokeh/release/bokeh-2.2.3.min.js\": \"T2yuo9Oe71Cz/I4X9Ac5+gpEa5a8PpJCDlqKYO0CfAuEszu1JrXLl8YugMqYe3sM\", \"https://cdn.bokeh.org/bokeh/release/bokeh-widgets-2.2.3.min.js\": \"98GDGJ0kOMCUMUePhksaQ/GYgB3+NH9h996V88sh3aOiUNX3N+fLXAtry6xctSZ6\", \"https://cdn.bokeh.org/bokeh/release/bokeh-tables-2.2.3.min.js\": \"89bArO+nlbP3sgakeHjCo1JYxYR5wufVgA3IbUvDY+K7w4zyxJqssu7wVnfeKCq8\"};\n\n    for (var i = 0; i < js_urls.length; i++) {\n      var url = js_urls[i];\n      var element = document.createElement('script');\n      element.onload = on_load;\n      element.onerror = on_error;\n      element.async = false;\n      element.src = url;\n      if (url in hashes) {\n        element.crossOrigin = \"anonymous\";\n        element.integrity = \"sha384-\" + hashes[url];\n      }\n      console.debug(\"Bokeh: injecting script tag for BokehJS library: \", url);\n      document.head.appendChild(element);\n    }\n  };\n\n  function inject_raw_css(css) {\n    const element = document.createElement(\"style\");\n    element.appendChild(document.createTextNode(css));\n    document.body.appendChild(element);\n  }\n\n  \n  var js_urls = [\"https://cdn.bokeh.org/bokeh/release/bokeh-2.2.3.min.js\", \"https://cdn.bokeh.org/bokeh/release/bokeh-widgets-2.2.3.min.js\", \"https://cdn.bokeh.org/bokeh/release/bokeh-tables-2.2.3.min.js\"];\n  var css_urls = [];\n  \n\n  var inline_js = [\n    function(Bokeh) {\n      Bokeh.set_log_level(\"info\");\n    },\n    function(Bokeh) {\n    \n    \n    }\n  ];\n\n  function run_inline_js() {\n    \n    if (root.Bokeh !== undefined || force === true) {\n      \n    for (var i = 0; i < inline_js.length; i++) {\n      inline_js[i].call(root, root.Bokeh);\n    }\n    if (force === true) {\n        display_loaded();\n      }} else if (Date.now() < root._bokeh_timeout) {\n      setTimeout(run_inline_js, 100);\n    } else if (!root._bokeh_failed_load) {\n      console.log(\"Bokeh: BokehJS failed to load within specified timeout.\");\n      root._bokeh_failed_load = true;\n    } else if (force !== true) {\n      var cell = $(document.getElementById(\"2192\")).parents('.cell').data().cell;\n      cell.output_area.append_execute_result(NB_LOAD_WARNING)\n    }\n\n  }\n\n  if (root._bokeh_is_loading === 0) {\n    console.debug(\"Bokeh: BokehJS loaded, going straight to plotting\");\n    run_inline_js();\n  } else {\n    load_libs(css_urls, js_urls, function() {\n      console.debug(\"Bokeh: BokehJS plotting callback run at\", now());\n      run_inline_js();\n    });\n  }\n}(window));"
     },
     "metadata": {},
     "output_type": "display_data"
    },
    {
     "data": {
      "text/html": [
       "\n",
       "\n",
       "\n",
       "\n",
       "\n",
       "\n",
       "  <div class=\"bk-root\" id=\"998c755c-343b-4386-82f8-94bb99408c22\" data-root-id=\"2193\"></div>\n"
      ]
     },
     "metadata": {},
     "output_type": "display_data"
    },
    {
     "data": {
      "application/javascript": [
       "(function(root) {\n",
       "  function embed_document(root) {\n",
       "    \n",
       "  var docs_json = {\"808a2f54-d839-4c6a-b169-7866045b1f19\":{\"roots\":{\"references\":[{\"attributes\":{\"below\":[{\"id\":\"2204\"}],\"center\":[{\"id\":\"2207\"},{\"id\":\"2211\"},{\"id\":\"2241\"}],\"left\":[{\"id\":\"2208\"}],\"plot_height\":400,\"plot_width\":750,\"renderers\":[{\"id\":\"2231\"}],\"title\":{\"id\":\"2194\"},\"toolbar\":{\"id\":\"2219\"},\"x_range\":{\"id\":\"2196\"},\"x_scale\":{\"id\":\"2200\"},\"y_range\":{\"id\":\"2198\"},\"y_scale\":{\"id\":\"2202\"}},\"id\":\"2193\",\"subtype\":\"Figure\",\"type\":\"Plot\"},{\"attributes\":{},\"id\":\"2209\",\"type\":\"BasicTicker\"},{\"attributes\":{},\"id\":\"2200\",\"type\":\"LinearScale\"},{\"attributes\":{\"index\":0,\"label\":{\"value\":\"Private, nonprofit\"},\"renderers\":[{\"id\":\"2231\"}]},\"id\":\"2244\",\"type\":\"LegendItem\"},{\"attributes\":{},\"id\":\"2202\",\"type\":\"LinearScale\"},{\"attributes\":{\"data\":{\"ADM_RATE_ALL\":[\"0.763\",\"0.6478\",\"0.5627\",\"0.1462\",\"0.5806\",\"0.5627\",\"NaN\",\"0.5331\",\"0.8131\",\"0.6972\",\"0.2643\",\"0.1452\",\"0.6893\",\"0.9378\",\"NaN\",\"0.6872\",\"0.9353\",\"NaN\",\"0.4187\",\"0.6686\",\"0.0591\",\"NaN\",\"0.7829\",\"0.4201\",\"0.2876\",\"0.7185\",\"NaN\",\"0.6736\",\"0.6766\",\"NaN\",\"0.4107\",\"0.6872\",\"0.5945\",\"NaN\",\"NaN\",\"0.4664\",\"0.7543\",\"0.8131\",\"0.6386\",\"0.9171\",\"0.603\",\"NaN\",\"0.732\",\"0.8811\",\"0.4253\",\"0.543\",\"0.7113\",\"0.7423\",\"0.5627\",\"0.4426\",\"0.9585\",\"0.7664\",\"0.5932\",\"0.6391\",\"0.6762\",\"0.4201\",\"0.1296\",\"0.4897\",\"0.5063\",\"0.902\",\"0.8479\",\"0.7158\",\"0.8416\",\"0.757\",\"0.5692\",\"0.8442\",\"0.0436\",\"1\",\"0.7105\",\"0.0674\",\"NaN\",\"0.626\",\"0.5627\",\"0.6891\",\"0.9243\",\"0.7769\",\"0.4602\",\"0.7434\",\"0.7778\",\"0.5627\",\"NaN\",\"0.8387\",\"NaN\",\"0.9427\",\"NaN\",\"0.945\",\"0.7694\",\"0.0874\",\"0.6961\",\"0.7183\",\"NaN\",\"0.8905\",\"NaN\",\"0.5911\",\"0.4986\",\"0.8179\",\"0.5197\",\"0.8039\",\"0.9516\",\"0.1404\",\"0.5229\",\"0.6753\",\"0.5627\",\"0.3967\",\"0.7863\",\"0.6893\",\"0.4623\",\"0.5627\",\"0.6767\",\"0.8834\",\"0.9147\",\"0.858\",\"NaN\",\"0.7306\",\"0.4201\",\"NaN\",\"0.6026\",\"0.5356\",\"0.7403\",\"0.6756\",\"NaN\",\"NaN\",\"0.8744\",\"0.5688\",\"0.6961\",\"0.906\",\"0.5794\",\"NaN\",\"0.737\",\"0.7647\",\"0.8535\",\"0.7575\",\"0.6967\",\"0.7403\",\"0.2283\",\"0.9427\",\"0.933\",\"0.5173\",\"0.733\",\"0.5753\",\"0.902\",\"0.1148\",\"0.965\",\"0.9234\",\"0.5853\",\"0.8275\",\"0.4299\",\"NaN\",\"0.6025\",\"0.8533\",\"0.9365\",\"0.5197\",\"0.6792\",\"0.7854\",\"0.6753\",\"0.6492\",\"0.6342\",\"0.5639\",\"0.2271\",\"NaN\",\"0.9378\",\"0.3835\",\"0.8699\",\"0.811\",\"0.7945\",\"0.7255\",\"NaN\",\"0.8123\",\"0.6877\",\"NaN\",\"0.3115\",\"0.7243\",\"0.5554\",\"0.7719\",\"0.8204\",\"0.7694\",\"0.6386\",\"0.1484\",\"0.9585\",\"0.7719\",\"0.7272\",\"0.1296\",\"0.5851\",\"0.1484\",\"NaN\",\"0.8537\",\"0.7458\",\"0.6851\",\"0.692\",\"0.8324\",\"0.7768\",\"NaN\",\"0.0841\",\"0.5554\",\"0.8076\",\"NaN\",\"0.5538\",\"0.0767\",\"0.5992\",\"0.6922\",\"0.653\",\"0.0726\",\"NaN\",\"0.3642\",\"0.8154\",\"0.6562\",\"0.9689\",\"0.7243\",\"NaN\",\"NaN\",\"0.6234\",\"0.9186\",\"NaN\",\"0.5851\",\"NaN\",\"0.4341\",\"0.5198\",\"NaN\",\"0.5819\",\"0.8806\",\"0.6386\",\"0.7403\",\"0.7854\",\"0.7462\",\"0.2876\",\"NaN\",\"0.7418\",\"NaN\",\"0.6445\",\"0.7903\",\"0.603\",\"NaN\",\"0.8131\",\"0.6978\",\"NaN\",\"0.7587\",\"0.7306\",\"0.4341\",\"NaN\",\"0.811\",\"0.6366\",\"NaN\",\"0.6368\",\"0.2302\",\"0.4719\",\"0.902\",\"0.9427\",\"0.5827\",\"0.1452\",\"0.3678\",\"0.79\",\"0.9378\",\"0.6838\",\"0.0436\",\"0.757\",\"0.6843\",\"0.5198\",\"0.9699\",\"0.7227\",\"0.6481\",\"0.8432\",\"0.7346\",\"0.7261\",\"0.8816\",\"0.6232\",\"0.8794\",\"0.7462\",\"0.7105\",\"0.8605\",\"0.6612\",\"0.4814\",\"NaN\",\"0.76\",\"0.6485\",\"0.632\",\"0.4201\",\"0.9979\",\"NaN\",\"0.5842\",\"0.8598\",\"0.6038\",\"0.8003\",\"0.5614\",\"0.72\",\"0.3852\",\"0.6478\",\"0.7379\",\"NaN\",\"0.7931\",\"NaN\",\"0.7617\",\"0.5866\",\"0.6485\",\"0.5798\",\"0.7926\",\"0.6827\",\"0.9427\",\"0.5627\",\"0.6792\",\"0.5324\",\"NaN\",\"0.8055\",\"NaN\",\"0.7027\",\"0.7107\",\"0.8\",\"0.6507\",\"0.9427\",\"0.5627\",\"0.9427\",\"0.7147\",\"NaN\",\"NaN\",\"NaN\",\"NaN\",\"0.5753\",\"0.9699\",\"0.7854\",\"NaN\",\"0.3895\",\"0.8762\",\"0.6753\",\"0.4198\",\"0.808\",\"0.0961\",\"NaN\",\"0.8131\",\"0.9309\",\"0.3678\",\"0.8933\",\"0.8055\",\"0.8131\",\"0.9516\",\"0.9175\",\"NaN\",\"0.8055\",\"NaN\",\"0.7854\",\"0.5554\",\"0.882\",\"0.8625\",\"0.7176\",\"0.2789\",\"0.0841\",\"0.7784\",\"0.8055\",\"0.597\",\"0.5531\",\"0.6562\",\"0.911\",\"NaN\",\"0.9521\",\"0.1148\",\"NaN\",\"0.7379\",\"0.3215\",\"0.868\",\"0.7306\",\"0.3852\",\"0.9365\",\"NaN\",\"0.8384\",\"0.843\",\"0.4713\",\"NaN\",\"0.8055\",\"0.9069\",\"0.6792\",\"NaN\",\"NaN\",\"0.1452\",\"0.902\",\"0.9516\",\"0.6566\",\"0.4341\",\"NaN\",\"0.5173\",\"0.7565\",\"NaN\",\"0.543\",\"NaN\",\"NaN\",\"0.1733\",\"0.7854\",\"0.9434\",\"0.6232\",\"NaN\",\"0.6342\",\"0.8231\",\"0.8275\",\"0.6642\",\"0.8807\",\"0.8131\",\"NaN\",\"0.0847\",\"0.7247\",\"0.7312\",\"0.3642\",\"0.6642\",\"0.8131\",\"0.6664\",\"0.6884\",\"0.1148\",\"0.5554\",\"0.7227\",\"0.7183\",\"0.1148\",\"NaN\",\"0.6683\",\"NaN\",\"0.6791\",\"0.7761\",\"0.6216\",\"0.9427\",\"0.7144\",\"NaN\",\"0.7647\",\"0.6216\",\"0.5878\",\"NaN\",\"0.8815\",\"0.5627\",\"0.6762\",\"0.8437\",\"0.965\",\"0.5197\",\"0.8543\",\"0.6827\",\"0.7115\",\"0.5878\",\"0.5438\",\"0.5856\",\"NaN\",\"0.4713\",\"NaN\",\"0.1999\",\"0.0591\",\"0.7858\",\"0.783\",\"0.3159\",\"0.8106\",\"NaN\",\"0.9253\",\"0.8131\",\"0.5906\",\"0.6946\",\"0.9427\",\"0.9448\",\"0.7572\",\"0.2925\",\"0.9521\",\"0.498\",\"0.6642\",\"0.9845\",\"0.9721\",\"NaN\",\"NaN\",\"0.7694\",\"0.6026\",\"0.858\",\"NaN\",\"NaN\",\"0.8168\",\"NaN\",\"0.5198\",\"0.8815\",\"0.7816\",\"0.1712\",\"0.1671\",\"0.6485\",\"0.7115\",\"0.945\",\"NaN\",\"NaN\",\"NaN\",\"0.6872\",\"0.9427\",\"NaN\",\"0.9281\",\"0.2876\",\"0.0847\",\"0.3835\",\"0.9595\",\"0.7952\",\"0.8074\",\"0.8423\",\"0.8247\",\"0.6903\",\"0.9292\",\"NaN\",\"0.4426\",\"0.6348\",\"NaN\",\"0.0591\",\"0.9754\",\"0.3419\",\"0.1999\",\"0.6686\",\"0.8006\",\"0.2925\",\"0.5198\",\"0.6478\",\"0.8807\",\"NaN\",\"0.7632\",\"0.8106\",\"0.6143\",\"NaN\",\"NaN\",\"0.716\",\"0.0841\",\"NaN\",\"0.8933\",\"0.5627\",\"0.5229\",\"0.4716\",\"0.905\",\"0.3724\",\"0.4685\",\"0.8204\",\"0.5089\",\"0.4187\",\"0.4107\",\"0.9475\",\"0.2922\",\"0.5585\",\"0.8154\",\"0.4201\",\"0.6629\",\"0.6566\",\"0.7778\",\"0.7154\",\"0.9365\",\"0.6526\",\"0.9603\",\"0.843\",\"0.5515\",\"0.5627\",\"0.7796\",\"NaN\",\"0.7784\",\"NaN\",\"0.6216\",\"0.7555\",\"0.8352\",\"0.8264\",\"0.2209\",\"0.8384\",\"0.4863\",\"NaN\",\"0.7247\",\"NaN\",\"0.6447\",\"0.6891\",\"0.632\",\"NaN\",\"0.6455\",\"NaN\",\"0.6307\",\"NaN\",\"0.6642\",\"0.5554\",\"0.8535\",\"0.5776\",\"0.6348\",\"0.7462\",\"0.1296\",\"NaN\",\"NaN\",\"0.8834\",\"0.906\",\"0.0961\",\"NaN\",\"0.79\",\"0.7854\",\"0.1296\",\"0.7565\",\"0.6232\",\"0.3437\",\"0.8167\",\"0.4716\",\"0.7854\",\"0.4107\",\"0.0847\",\"0.7444\",\"0.7796\",\"0.2153\",\"NaN\",\"0.0473\",\"0.6872\",\"0.6403\",\"0.7555\",\"NaN\",\"0.3931\",\"0.7144\",\"0.4991\",\"0.2283\",\"0.8262\",\"0.8807\",\"0.5866\",\"0.2209\",\"0.6531\",\"0.5161\",\"0.5331\",\"0.3154\",\"NaN\",\"0.5726\",\"0.842\",\"0.6978\",\"0.6031\",\"0.5706\",\"0.0635\",\"0.3095\",\"0.6232\",\"NaN\",\"0.9147\",\"0.5198\",\"0.5197\",\"NaN\",\"0.686\",\"0.6623\",\"0.6092\",\"0.5198\",\"NaN\",\"0.9427\",\"0.6762\",\"0.7945\",\"NaN\",\"0.7725\",\"0.868\",\"0.7694\",\"0.7144\",\"NaN\",\"0.8511\",\"0.8103\",\"NaN\",\"0.7325\",\"0.6431\",\"0.8136\",\"0.4869\",\"0.7458\",\"0.9125\",\"0.805\",\"0.4863\",\"0.6972\",\"0.6664\"],\"CCSIZSET\":[\"13\",\"16\",\"-2\",\"17\",\"11\",\"17\",\"6\",\"13\",\"16\",\"14\",\"16\",\"17\",\"13\",\"12\",\"12\",\"15\",\"15\",\"9\",\"17\",\"15\",\"17\",\"9\",\"12\",\"15\",\"16\",\"16\",\"NaN\",\"13\",\"14\",\"6\",\"15\",\"15\",\"15\",\"6\",\"9\",\"13\",\"15\",\"15\",\"15\",\"16\",\"14\",\"6\",\"15\",\"14\",\"15\",\"13\",\"16\",\"15\",\"-2\",\"15\",\"12\",\"9\",\"15\",\"11\",\"16\",\"15\",\"16\",\"14\",\"15\",\"15\",\"14\",\"8\",\"13\",\"16\",\"16\",\"15\",\"17\",\"9\",\"15\",\"17\",\"NaN\",\"13\",\"17\",\"13\",\"16\",\"9\",\"16\",\"14\",\"16\",\"-2\",\"6\",\"16\",\"15\",\"9\",\"15\",\"13\",\"16\",\"14\",\"15\",\"16\",\"NaN\",\"15\",\"18\",\"16\",\"17\",\"11\",\"16\",\"13\",\"16\",\"17\",\"9\",\"15\",\"-2\",\"12\",\"13\",\"13\",\"14\",\"-2\",\"16\",\"15\",\"13\",\"13\",\"6\",\"16\",\"15\",\"15\",\"15\",\"13\",\"15\",\"17\",\"15\",\"NaN\",\"16\",\"10\",\"15\",\"16\",\"15\",\"6\",\"10\",\"13\",\"16\",\"12\",\"14\",\"15\",\"16\",\"9\",\"11\",\"16\",\"14\",\"15\",\"15\",\"16\",\"15\",\"13\",\"11\",\"16\",\"14\",\"15\",\"13\",\"13\",\"15\",\"16\",\"16\",\"16\",\"15\",\"16\",\"16\",\"12\",\"17\",\"10\",\"12\",\"12\",\"15\",\"16\",\"12\",\"12\",\"18\",\"13\",\"15\",\"7\",\"14\",\"16\",\"15\",\"16\",\"15\",\"16\",\"15\",\"16\",\"12\",\"16\",\"16\",\"16\",\"15\",\"16\",\"NaN\",\"14\",\"13\",\"14\",\"14\",\"10\",\"16\",\"6\",\"17\",\"15\",\"10\",\"15\",\"11\",\"14\",\"17\",\"11\",\"14\",\"17\",\"12\",\"15\",\"16\",\"14\",\"12\",\"16\",\"6\",\"6\",\"15\",\"13\",\"9\",\"15\",\"NaN\",\"15\",\"16\",\"6\",\"16\",\"16\",\"15\",\"15\",\"15\",\"14\",\"16\",\"NaN\",\"13\",\"6\",\"14\",\"15\",\"14\",\"15\",\"16\",\"9\",\"6\",\"16\",\"16\",\"15\",\"NaN\",\"16\",\"13\",\"6\",\"8\",\"12\",\"16\",\"15\",\"6\",\"14\",\"17\",\"15\",\"16\",\"12\",\"10\",\"17\",\"16\",\"10\",\"16\",\"13\",\"16\",\"14\",\"13\",\"12\",\"10\",\"14\",\"16\",\"12\",\"14\",\"15\",\"14\",\"11\",\"11\",\"10\",\"11\",\"16\",\"17\",\"15\",\"10\",\"18\",\"15\",\"15\",\"13\",\"15\",\"13\",\"13\",\"15\",\"16\",\"14\",\"18\",\"16\",\"NaN\",\"11\",\"8\",\"13\",\"16\",\"14\",\"11\",\"6\",\"-2\",\"16\",\"11\",\"15\",\"15\",\"6\",\"16\",\"13\",\"14\",\"13\",\"6\",\"-2\",\"6\",\"13\",\"NaN\",\"18\",\"12\",\"NaN\",\"15\",\"13\",\"16\",\"NaN\",\"16\",\"13\",\"15\",\"17\",\"14\",\"17\",\"11\",\"15\",\"7\",\"15\",\"12\",\"-2\",\"16\",\"16\",\"9\",\"15\",\"15\",\"18\",\"16\",\"15\",\"13\",\"15\",\"15\",\"17\",\"17\",\"15\",\"15\",\"12\",\"14\",\"14\",\"13\",\"15\",\"6\",\"16\",\"15\",\"16\",\"16\",\"15\",\"16\",\"15\",\"15\",\"6\",\"16\",\"15\",\"14\",\"15\",\"-2\",\"11\",\"16\",\"NaN\",\"6\",\"17\",\"15\",\"16\",\"15\",\"15\",\"10\",\"16\",\"13\",\"6\",\"13\",\"NaN\",\"7\",\"17\",\"15\",\"13\",\"16\",\"6\",\"16\",\"13\",\"16\",\"16\",\"13\",\"16\",\"15\",\"16\",\"14\",\"16\",\"15\",\"12\",\"16\",\"10\",\"16\",\"16\",\"15\",\"16\",\"16\",\"16\",\"18\",\"16\",\"18\",\"11\",\"15\",\"17\",\"12\",\"14\",\"NaN\",\"13\",\"17\",\"14\",\"NaN\",\"15\",\"17\",\"16\",\"13\",\"15\",\"16\",\"12\",\"9\",\"15\",\"14\",\"16\",\"15\",\"18\",\"14\",\"9\",\"17\",\"17\",\"13\",\"16\",\"14\",\"16\",\"18\",\"16\",\"16\",\"16\",\"16\",\"6\",\"16\",\"13\",\"17\",\"11\",\"14\",\"12\",\"7\",\"16\",\"NaN\",\"6\",\"16\",\"15\",\"13\",\"15\",\"15\",\"15\",\"NaN\",\"12\",\"15\",\"15\",\"17\",\"6\",\"16\",\"15\",\"13\",\"NaN\",\"NaN\",\"NaN\",\"15\",\"6\",\"6\",\"13\",\"16\",\"16\",\"12\",\"10\",\"16\",\"17\",\"11\",\"14\",\"11\",\"10\",\"12\",\"15\",\"10\",\"6\",\"17\",\"12\",\"6\",\"17\",\"15\",\"12\",\"17\",\"16\",\"16\",\"13\",\"18\",\"14\",\"16\",\"16\",\"15\",\"12\",\"15\",\"17\",\"6\",\"12\",\"-2\",\"9\",\"16\",\"13\",\"13\",\"16\",\"15\",\"12\",\"17\",\"15\",\"14\",\"14\",\"16\",\"16\",\"15\",\"11\",\"15\",\"13\",\"17\",\"15\",\"15\",\"16\",\"15\",\"15\",\"-2\",\"16\",\"15\",\"15\",\"12\",\"17\",\"15\",\"16\",\"13\",\"17\",\"16\",\"16\",\"6\",\"14\",\"13\",\"15\",\"13\",\"17\",\"18\",\"16\",\"6\",\"16\",\"15\",\"12\",\"15\",\"16\",\"13\",\"14\",\"14\",\"16\",\"12\",\"18\",\"15\",\"16\",\"17\",\"NaN\",\"16\",\"11\",\"16\",\"13\",\"12\",\"13\",\"12\",\"16\",\"16\",\"15\",\"16\",\"16\",\"16\",\"17\",\"6\",\"17\",\"15\",\"10\",\"15\",\"6\",\"16\",\"14\",\"14\",\"16\",\"16\",\"13\",\"13\",\"17\",\"14\",\"10\",\"13\",\"17\",\"15\",\"13\",\"11\",\"9\",\"13\",\"11\",\"17\",\"11\",\"16\",\"15\",\"13\",\"12\",\"16\",\"18\",\"10\",\"13\",\"15\",\"16\",\"6\",\"6\",\"16\",\"12\",\"15\",\"13\",\"15\",\"16\",\"14\",\"6\",\"12\",\"12\",\"9\",\"13\",\"11\",\"14\",\"14\",\"13\",\"11\",\"14\",\"16\",\"14\",\"11\"],\"CIPDESC\":[\"Law.\",\"Educational Assessment, Evaluation, and Research.\",\"Business Administration, Management and Operations.\",\"Nutrition Sciences.\",\"Education, Other.\",\"Medicine.\",\"Human Resources Management and Services.\",\"Accounting and Related Services.\",\"Teacher Education and Professional Development, Specific Subject Areas.\",\"Dietetics and Clinical Nutrition Services.\",\"City/Urban, Community and Regional Planning.\",\"Statistics.\",\"Rehabilitation and Therapeutic Professions.\",\"Educational Administration and Supervision.\",\"Public Health.\",\"Biology, General.\",\"Business Administration, Management and Operations.\",\"Peace Studies and Conflict Resolution.\",\"Criminal Justice and Corrections.\",\"Electrical, Electronics and Communications Engineering.\",\"City/Urban, Community and Regional Planning.\",\"Criminal Justice and Corrections.\",\"Curriculum and Instruction.\",\"Civil Engineering.\",\"Biochemistry, Biophysics and Molecular Biology.\",\"Teacher Education and Professional Development, Specific Subject Areas.\",\"Educational Administration and Supervision.\",\"Business Administration, Management and Operations.\",\"Law.\",\"Curriculum and Instruction.\",\"Registered Nursing, Nursing Administration, Nursing Research and Clinical Nursing.\",\"Health and Medical Administrative Services.\",\"Education, General.\",\"Business Administration, Management and Operations.\",\"Health and Medical Administrative Services.\",\"Educational Administration and Supervision.\",\"Educational Administration and Supervision.\",\"Foods, Nutrition, and Related Services.\",\"Human Development, Family Studies, and Related Services.\",\"Architecture.\",\"Registered Nursing, Nursing Administration, Nursing Research and Clinical Nursing.\",\"Business Administration, Management and Operations.\",\"Religious Education.\",\"Education, Other.\",\"Clinical, Counseling and Applied Psychology.\",\"Student Counseling and Personnel Services.\",\"Allied Health Diagnostic, Intervention, and Treatment Professions.\",\"Business Administration, Management and Operations.\",\"Medicine.\",\"English Language and Literature, General.\",\"Health Services/Allied Health/Health Sciences, General.\",\"Accounting and Related Services.\",\"Social Work.\",\"Educational Administration and Supervision.\",\"Veterinary Medicine.\",\"Liberal Arts and Sciences, General Studies and Humanities.\",\"Student Counseling and Personnel Services.\",\"Teacher Education and Professional Development, Specific Levels and Methods.\",\"Music.\",\"Peace Studies and Conflict Resolution.\",\"Business Administration, Management and Operations.\",\"Agricultural Production Operations.\",\"Business Administration, Management and Operations.\",\"Health and Medical Administrative Services.\",\"Business Administration, Management and Operations.\",\"Public Health.\",\"Mechanical Engineering.\",\"Clinical, Counseling and Applied Psychology.\",\"Library Science and Administration.\",\"Business/Commerce, General.\",\"Education, General.\",\"Business Administration, Management and Operations.\",\"Curriculum and Instruction.\",\"Clinical, Counseling and Applied Psychology.\",\"Pharmacy, Pharmaceutical Sciences, and Administration.\",\"Rehabilitation and Therapeutic Professions.\",\"English Language and Literature, General.\",\"Business Administration, Management and Operations.\",\"Pharmacy, Pharmaceutical Sciences, and Administration.\",\"Pharmacy, Pharmaceutical Sciences, and Administration.\",\"Criminal Justice and Corrections.\",\"Chemistry.\",\"Educational Administration and Supervision.\",\"Management Information Systems and Services.\",\"Public Health.\",\"Rehabilitation and Therapeutic Professions.\",\"Rehabilitation and Therapeutic Professions.\",\"Medicine.\",\"Accounting and Related Services.\",\"Educational Administration and Supervision.\",\"Student Counseling and Personnel Services.\",\"Educational/Instructional Media Design.\",\"Theological and Ministerial Studies.\",\"Public Health.\",\"Information Science/Studies.\",\"Clinical, Counseling and Applied Psychology.\",\"City/Urban, Community and Regional Planning.\",\"Educational Administration and Supervision.\",\"Registered Nursing, Nursing Administration, Nursing Research and Clinical Nursing.\",\"Electrical, Electronics and Communications Engineering.\",\"Health and Physical Education/Fitness.\",\"Special Education and Teaching.\",\"Engineering, General.\",\"Public Health.\",\"Clinical, Counseling and Applied Psychology.\",\"Educational Administration and Supervision.\",\"Clinical, Counseling and Applied Psychology.\",\"Psychology, General.\",\"Music.\",\"Human Resources Management and Services.\",\"Human Resources Management and Services.\",\"Public Administration.\",\"Accounting and Related Services.\",\"Clinical, Counseling and Applied Psychology.\",\"Psychology, General.\",\"Criminal Justice and Corrections.\",\"Accounting and Related Services.\",\"Nutrition Sciences.\",\"Social Work.\",\"Special Education and Teaching.\",\"Criminal Justice and Corrections.\",\"Mental and Social Health Services and Allied Professions.\",\"Business Administration, Management and Operations.\",\"Accounting and Related Services.\",\"Public Administration.\",\"Civil Engineering.\",\"Business Administration, Management and Operations.\",\"Student Counseling and Personnel Services.\",\"Teacher Education and Professional Development, Specific Subject Areas.\",\"Mental and Social Health Services and Allied Professions.\",\"Curriculum and Instruction.\",\"Allied Health Diagnostic, Intervention, and Treatment Professions.\",\"Educational Administration and Supervision.\",\"Engineering, General.\",\"Chemistry.\",\"Human Resources Management and Services.\",\"Business Administration, Management and Operations.\",\"Clinical, Counseling and Applied Psychology.\",\"Special Education and Teaching.\",\"Educational Administration and Supervision.\",\"Education, General.\",\"Registered Nursing, Nursing Administration, Nursing Research and Clinical Nursing.\",\"Educational Administration and Supervision.\",\"Social Work.\",\"Registered Nursing, Nursing Administration, Nursing Research and Clinical Nursing.\",\"Curriculum and Instruction.\",\"Civil Engineering.\",\"Business Administration, Management and Operations.\",\"Clinical, Counseling and Applied Psychology.\",\"Business Administration, Management and Operations.\",\"Medicine.\",\"Music.\",\"Medicine.\",\"Teacher Education and Professional Development, Specific Subject Areas.\",\"Statistics.\",\"Health Services/Allied Health/Health Sciences, General.\",\"Rehabilitation and Therapeutic Professions.\",\"Business Administration, Management and Operations.\",\"Nutrition Sciences.\",\"Registered Nursing, Nursing Administration, Nursing Research and Clinical Nursing.\",\"Education, General.\",\"Rehabilitation and Therapeutic Professions.\",\"Business Administration, Management and Operations.\",\"Social Work.\",\"Computer/Information Technology Administration and Management.\",\"Special Education and Teaching.\",\"Health/Medical Preparatory Programs.\",\"Teacher Education and Professional Development, Specific Subject Areas.\",\"Registered Nursing, Nursing Administration, Nursing Research and Clinical Nursing.\",\"Education, General.\",\"Teacher Education and Professional Development, Specific Levels and Methods.\",\"Engineering-Related Fields.\",\"Clinical, Counseling and Applied Psychology.\",\"Pharmacy, Pharmaceutical Sciences, and Administration.\",\"Public Administration.\",\"Human Resources Management and Services.\",\"Student Counseling and Personnel Services.\",\"Education, General.\",\"Accounting and Related Services.\",\"English Language and Literature, General.\",\"Education, General.\",\"Rehabilitation and Therapeutic Professions.\",\"Accounting and Related Services.\",\"Law.\",\"International Relations and National Security Studies.\",\"Engineering-Related Fields.\",\"Special Education and Teaching.\",\"Education, General.\",\"Legal Research and Advanced Professional Studies.\",\"Information Science/Studies.\",\"Clinical, Counseling and Applied Psychology.\",\"Registered Nursing, Nursing Administration, Nursing Research and Clinical Nursing.\",\"Education, General.\",\"Health and Physical Education/Fitness.\",\"Rehabilitation and Therapeutic Professions.\",\"Human Resources Management and Services.\",\"Rhetoric and Composition/Writing Studies.\",\"Public Policy Analysis.\",\"Public Policy Analysis.\",\"Multi/Interdisciplinary Studies, Other.\",\"Communication Disorders Sciences and Services.\",\"Political Science and Government.\",\"Human Resources Management and Services.\",\"Urban Studies/Affairs.\",\"Curriculum and Instruction.\",\"Registered Nursing, Nursing Administration, Nursing Research and Clinical Nursing.\",\"Education, Other.\",\"Computer Engineering.\",\"Accounting and Related Services.\",\"Communication Disorders Sciences and Services.\",\"Fine and Studio Arts.\",\"Clinical, Counseling and Applied Psychology.\",\"Human Resources Management and Services.\",\"Computer/Information Technology Administration and Management.\",\"Mental and Social Health Services and Allied Professions.\",\"Natural Resources Conservation and Research.\",\"Rehabilitation and Therapeutic Professions.\",\"Criminal Justice and Corrections.\",\"Communication Disorders Sciences and Services.\",\"Pharmacy, Pharmaceutical Sciences, and Administration.\",\"Registered Nursing, Nursing Administration, Nursing Research and Clinical Nursing.\",\"Clinical, Counseling and Applied Psychology.\",\"Student Counseling and Personnel Services.\",\"Educational Administration and Supervision.\",\"Business Administration, Management and Operations.\",\"Registered Nursing, Nursing Administration, Nursing Research and Clinical Nursing.\",\"Clinical, Counseling and Applied Psychology.\",\"Mental and Social Health Services and Allied Professions.\",\"Special Education and Teaching.\",\"Teaching English or French as a Second or Foreign Language.\",\"Accounting and Related Services.\",\"Educational Administration and Supervision.\",\"Applied Mathematics.\",\"Educational Administration and Supervision.\",\"Criminal Justice and Corrections.\",\"Finance and Financial Management Services.\",\"History.\",\"Accounting and Related Services.\",\"Human Services, General.\",\"Rehabilitation and Therapeutic Professions.\",\"Architecture.\",\"Fire Protection.\",\"Business Administration, Management and Operations.\",\"Clinical, Counseling and Applied Psychology.\",\"Teacher Education and Professional Development, Specific Levels and Methods.\",\"Teaching English or French as a Second or Foreign Language.\",\"Accounting and Related Services.\",\"Health and Medical Administrative Services.\",\"Science, Technology and Society.\",\"Educational Administration and Supervision.\",\"Computer and Information Sciences, General.\",\"Health and Physical Education/Fitness.\",\"Education, General.\",\"Communication and Media Studies.\",\"Quality Control and Safety Technologies/Technicians.\",\"Urban Studies/Affairs.\",\"English Language and Literature, General.\",\"Engineering Technology, General.\",\"Curriculum and Instruction.\",\"Accounting and Related Services.\",\"Communication Disorders Sciences and Services.\",\"Social Work.\",\"Special Education and Teaching.\",\"Teacher Education and Professional Development, Specific Subject Areas.\",\"Medical Illustration and Informatics.\",\"Education, General.\",\"Mental and Social Health Services and Allied Professions.\",\"Mechanical Engineering.\",\"Social Work.\",\"Education, General.\",\"Pastoral Counseling and Specialized Ministries.\",\"Pharmacy, Pharmaceutical Sciences, and Administration.\",\"Educational Administration and Supervision.\",\"Educational Administration and Supervision.\",\"Taxation.\",\"Communication Disorders Sciences and Services.\",\"Educational Administration and Supervision.\",\"Medicine.\",\"Special Education and Teaching.\",\"Business Administration, Management and Operations.\",\"Business Administration, Management and Operations.\",\"Accounting and Related Services.\",\"Intelligence, Command Control and Information Operations.\",\"Student Counseling and Personnel Services.\",\"Mechanical Engineering.\",\"Architecture.\",\"Psychology, General.\",\"Theological and Ministerial Studies.\",\"Communication and Media Studies.\",\"Educational Administration and Supervision.\",\"Criminal Justice and Corrections.\",\"Finance and Financial Management Services.\",\"Mental and Social Health Services and Allied Professions.\",\"Education, General.\",\"Business/Commerce, General.\",\"Educational Administration and Supervision.\",\"Accounting and Related Services.\",\"Clinical, Counseling and Applied Psychology.\",\"Radio, Television, and Digital Communication.\",\"Communication Disorders Sciences and Services.\",\"History.\",\"Mechanical Engineering.\",\"Bioethics/Medical Ethics.\",\"Apparel and Textiles.\",\"Health and Physical Education/Fitness.\",\"Student Counseling and Personnel Services.\",\"Educational Administration and Supervision.\",\"Accounting and Related Services.\",\"Curriculum and Instruction.\",\"Computer Systems Networking and Telecommunications.\",\"Educational Administration and Supervision.\",\"Educational Administration and Supervision.\",\"Registered Nursing, Nursing Administration, Nursing Research and Clinical Nursing.\",\"Management Information Systems and Services.\",\"Law.\",\"Teacher Education and Professional Development, Specific Subject Areas.\",\"Communication Disorders Sciences and Services.\",\"Ecology, Evolution, Systematics, and Population Biology.\",\"Business Administration, Management and Operations.\",\"Theological and Ministerial Studies.\",\"Student Counseling and Personnel Services.\",\"English Language and Literature, General.\",\"Human Resources Management and Services.\",\"Teacher Education and Professional Development, Specific Subject Areas.\",\"Physiology, Pathology and Related Sciences.\",\"Rehabilitation and Therapeutic Professions.\",\"Engineering Technologies/Technicians, Other.\",\"Fine and Studio Arts.\",\"Political Science and Government.\",\"Health and Medical Administrative Services.\",\"Natural Resources Management and Policy.\",\"International Business.\",\"Mechanical Engineering.\",\"Geological and Earth Sciences/Geosciences.\",\"Criminal Justice and Corrections.\",\"Teacher Education and Professional Development, Specific Levels and Methods.\",\"Public Health.\",\"Dentistry.\",\"Accounting and Related Services.\",\"Anthropology.\",\"Social Work.\",\"Business Administration, Management and Operations.\",\"Philosophy.\",\"Physics.\",\"Registered Nursing, Nursing Administration, Nursing Research and Clinical Nursing.\",\"Forestry.\",\"Law.\",\"Fine and Studio Arts.\",\"Student Counseling and Personnel Services.\",\"Teacher Education and Professional Development, Specific Levels and Methods.\",\"Student Counseling and Personnel Services.\",\"International/Global Studies.\",\"International Relations and National Security Studies.\",\"Computer and Information Sciences, General.\",\"Curriculum and Instruction.\",\"Music.\",\"Mental and Social Health Services and Allied Professions.\",\"Political Science and Government.\",\"Mechanical Engineering.\",\"Social Work.\",\"Accounting and Related Services.\",\"Music.\",\"Health and Physical Education/Fitness.\",\"Clinical, Counseling and Applied Psychology.\",\"Public Administration.\",\"Forestry.\",\"Education, General.\",\"Pastoral Counseling and Specialized Ministries.\",\"Mental and Social Health Services and Allied Professions.\",\"Educational Administration and Supervision.\",\"Legal Research and Advanced Professional Studies.\",\"Educational Administration and Supervision.\",\"Special Education and Teaching.\",\"Registered Nursing, Nursing Administration, Nursing Research and Clinical Nursing.\",\"Taxation.\",\"Allied Health Diagnostic, Intervention, and Treatment Professions.\",\"Biochemistry, Biophysics and Molecular Biology.\",\"Law.\",\"Accounting and Related Services.\",\"Teacher Education and Professional Development, Specific Levels and Methods.\",\"Education, General.\",\"Education, Other.\",\"Ecology, Evolution, Systematics, and Population Biology.\",\"Public Administration.\",\"Allied Health Diagnostic, Intervention, and Treatment Professions.\",\"Registered Nursing, Nursing Administration, Nursing Research and Clinical Nursing.\",\"Business Administration, Management and Operations.\",\"Clinical, Counseling and Applied Psychology.\",\"Mental and Social Health Services and Allied Professions.\",\"Accounting and Related Services.\",\"Information Science/Studies.\",\"Business Administration, Management and Operations.\",\"Biomedical/Medical Engineering.\",\"Management Information Systems and Services.\",\"Public Relations, Advertising, and Applied Communication.\",\"Physiology, Pathology and Related Sciences.\",\"Pharmacy, Pharmaceutical Sciences, and Administration.\",\"Fine and Studio Arts.\",\"Management Sciences and Quantitative Methods.\",\"Criminal Justice and Corrections.\",\"Special Education and Teaching.\",\"Communication Disorders Sciences and Services.\",\"Education, General.\",\"English Language and Literature, General.\",\"Communication Disorders Sciences and Services.\",\"Civil Engineering.\",\"Biomedical/Medical Engineering.\",\"Pharmacy, Pharmaceutical Sciences, and Administration.\",\"Educational Administration and Supervision.\",\"Allied Health Diagnostic, Intervention, and Treatment Professions.\",\"Public Health.\",\"English Language and Literature, General.\",\"Electrical, Electronics and Communications Engineering.\",\"Human Resources Management and Services.\",\"Teacher Education and Professional Development, Specific Levels and Methods.\",\"Allied Health and Medical Assisting Services.\",\"Education, General.\",\"Environmental/Environmental Health Engineering.\",\"Psychology, General.\",\"Social Work.\",\"Communication Disorders Sciences and Services.\",\"Civil Engineering.\",\"Clinical, Counseling and Applied Psychology.\",\"Educational/Instructional Media Design.\",\"Health and Physical Education/Fitness.\",\"Registered Nursing, Nursing Administration, Nursing Research and Clinical Nursing.\",\"Law.\",\"Educational Administration and Supervision.\",\"Teacher Education and Professional Development, Specific Subject Areas.\",\"Educational/Instructional Media Design.\",\"Teacher Education and Professional Development, Specific Subject Areas.\",\"Accounting and Related Services.\",\"Educational Administration and Supervision.\",\"Teacher Education and Professional Development, Specific Levels and Methods.\",\"Information Science/Studies.\",\"Business, Management, Marketing, and Related Support Services, Other.\",\"International Relations and National Security Studies.\",\"Social Work.\",\"Clinical, Counseling and Applied Psychology.\",\"Registered Nursing, Nursing Administration, Nursing Research and Clinical Nursing.\",\"Economics.\",\"Arts, Entertainment,and Media Management.\",\"Foods, Nutrition, and Related Services.\",\"Non-Professional General Legal Studies (Undergraduate).\",\"Educational Administration and Supervision.\",\"Library Science and Administration.\",\"Computer Systems Networking and Telecommunications.\",\"Law.\",\"Education, General.\",\"Human Resources Management and Services.\",\"Theological and Ministerial Studies.\",\"Special Education and Teaching.\",\"Human Resources Management and Services.\",\"Drama/Theatre Arts and Stagecraft.\",\"Psychology, General.\",\"Educational Administration and Supervision.\",\"Mental and Social Health Services and Allied Professions.\",\"Materials Engineering\",\"Theological and Ministerial Studies.\",\"Educational Administration and Supervision.\",\"Education, Other.\",\"Special Education and Teaching.\",\"Information Science/Studies.\",\"Human Resources Management and Services.\",\"Educational Administration and Supervision.\",\"Computer and Information Sciences, General.\",\"Accounting and Related Services.\",\"Public Policy Analysis.\",\"Natural Resources Conservation and Research.\",\"Civil Engineering.\",\"Communication and Media Studies.\",\"Registered Nursing, Nursing Administration, Nursing Research and Clinical Nursing.\",\"Rehabilitation and Therapeutic Professions.\",\"Public Health.\",\"Mental and Social Health Services and Allied Professions.\",\"Computer and Information Sciences, General.\",\"Accounting and Related Services.\",\"Accounting and Related Services.\",\"Criminal Justice and Corrections.\",\"Neurobiology and Neurosciences.\",\"Rehabilitation and Therapeutic Professions.\",\"Accounting and Related Services.\",\"Student Counseling and Personnel Services.\",\"Educational Administration and Supervision.\",\"Communication Disorders Sciences and Services.\",\"Teacher Education and Professional Development, Specific Levels and Methods.\",\"Health and Physical Education/Fitness.\",\"Allied Health Diagnostic, Intervention, and Treatment Professions.\",\"Clinical, Counseling and Applied Psychology.\",\"Pharmacy, Pharmaceutical Sciences, and Administration.\",\"Drama/Theatre Arts and Stagecraft.\",\"Health Professions and Related Clinical Sciences, Other.\",\"Psychology, Other.\",\"Business Administration, Management and Operations.\",\"Optometry.\",\"Clinical, Counseling and Applied Psychology.\",\"Communication, Journalism, and Related Programs, Other.\",\"Medicine.\",\"Dentistry.\",\"Business Administration, Management and Operations.\",\"City/Urban, Community and Regional Planning.\",\"Educational Administration and Supervision.\",\"Special Education and Teaching.\",\"Optometry.\",\"Educational Administration and Supervision.\",\"History.\",\"Social Work.\",\"Medical Illustration and Informatics.\",\"Accounting and Related Services.\",\"Statistics.\",\"Educational Administration and Supervision.\",\"Curriculum and Instruction.\",\"Business Administration, Management and Operations.\",\"Curriculum and Instruction.\",\"Teacher Education and Professional Development, Specific Levels and Methods.\",\"Public Policy Analysis.\",\"Educational Administration and Supervision.\",\"Educational Administration and Supervision.\",\"Civil Engineering.\",\"Health and Medical Administrative Services.\",\"Public Administration.\",\"English Language and Literature, General.\",\"Physics.\",\"Social Sciences, General.\",\"Theological and Ministerial Studies.\",\"City/Urban, Community and Regional Planning.\",\"Ecology, Evolution, Systematics, and Population Biology.\",\"Computer Systems Analysis.\",\"Teacher Education and Professional Development, Specific Levels and Methods.\",\"Accounting and Related Services.\",\"Business/Commerce, General.\",\"Materials Engineering\",\"Human Resources Management and Services.\",\"Teaching English or French as a Second or Foreign Language.\",\"Natural Resources Conservation and Research.\",\"Journalism.\",\"Architecture.\",\"Clinical, Counseling and Applied Psychology.\",\"Communication Disorders Sciences and Services.\",\"Management Information Systems and Services.\",\"Educational Administration and Supervision.\",\"Public Administration.\",\"Architecture.\",\"Psychology, General.\",\"Civil Engineering.\",\"Human Services, General.\",\"Film/Video and Photographic Arts.\",\"Business Administration, Management and Operations.\",\"Journalism.\",\"Teacher Education and Professional Development, Specific Levels and Methods.\",\"Computer and Information Sciences and Support Services, Other.\",\"Registered Nursing, Nursing Administration, Nursing Research and Clinical Nursing.\",\"Accounting and Related Services.\",\"Business Administration, Management and Operations.\",\"Accounting and Related Services.\",\"Chiropractic.\",\"Registered Nursing, Nursing Administration, Nursing Research and Clinical Nursing.\",\"Health and Medical Administrative Services.\",\"Student Counseling and Personnel Services.\",\"Teacher Education and Professional Development, Specific Subject Areas.\",\"Educational Administration and Supervision.\",\"Criminal Justice and Corrections.\",\"Physiology, Pathology and Related Sciences.\",\"Curriculum and Instruction.\",\"Business Administration, Management and Operations.\",\"Rehabilitation and Therapeutic Professions.\",\"Management Sciences and Quantitative Methods.\",\"Educational Administration and Supervision.\",\"Rehabilitation and Therapeutic Professions.\",\"Social Work.\",\"Education, General.\",\"Marketing.\",\"Clinical, Counseling and Applied Psychology.\",\"Security Science and Technology.\",\"Business Administration, Management and Operations.\",\"Library Science and Administration.\",\"Public Administration.\",\"Rehabilitation and Therapeutic Professions.\",\"Social Work.\",\"Legal Professions and Studies, Other.\",\"Biology, General.\",\"Medicine.\",\"Teacher Education and Professional Development, Specific Levels and Methods.\",\"Cell/Cellular Biology and Anatomical Sciences.\",\"Statistics.\",\"Registered Nursing, Nursing Administration, Nursing Research and Clinical Nursing.\",\"Electrical, Electronics and Communications Engineering.\",\"Public Administration.\",\"Medicine.\",\"Public Health.\",\"Teacher Education and Professional Development, Specific Levels and Methods.\",\"English Language and Literature, General.\",\"Accounting and Related Services.\",\"Physiology, Pathology and Related Sciences.\",\"Public Health.\",\"Computer Engineering.\",\"Music.\",\"Communication and Media Studies.\",\"Communication and Media Studies.\",\"Registered Nursing, Nursing Administration, Nursing Research and Clinical Nursing.\",\"Public Relations, Advertising, and Applied Communication.\",\"Registered Nursing, Nursing Administration, Nursing Research and Clinical Nursing.\",\"Health and Medical Administrative Services.\",\"Curriculum and Instruction.\",\"Film/Video and Photographic Arts.\",\"Psychology, General.\",\"Hospitality Administration/Management.\",\"Theological and Ministerial Studies.\",\"Clinical, Counseling and Applied Psychology.\",\"Educational Administration and Supervision.\",\"American Sign Language.\",\"Allied Health Diagnostic, Intervention, and Treatment Professions.\",\"Liberal Arts and Sciences, General Studies and Humanities.\",\"Social Work.\",\"Education, General.\",\"Registered Nursing, Nursing Administration, Nursing Research and Clinical Nursing.\",\"Rhetoric and Composition/Writing Studies.\",\"Health Professions and Related Clinical Sciences, Other.\",\"Dentistry.\",\"Education, General.\",\"Clinical, Counseling and Applied Psychology.\",\"Rhetoric and Composition/Writing Studies.\",\"Electrical, Electronics and Communications Engineering.\",\"Teacher Education and Professional Development, Specific Levels and Methods.\",\"Business Administration, Management and Operations.\",\"Natural Resources Management and Policy.\",\"Mental and Social Health Services and Allied Professions.\",\"Teacher Education and Professional Development, Specific Subject Areas.\",\"Law.\",\"Fine and Studio Arts.\",\"Teacher Education and Professional Development, Specific Levels and Methods.\",\"Registered Nursing, Nursing Administration, Nursing Research and Clinical Nursing.\",\"Mental and Social Health Services and Allied Professions.\",\"Student Counseling and Personnel Services.\",\"Teacher Education and Professional Development, Specific Levels and Methods.\",\"Clinical, Counseling and Applied Psychology.\",\"Library Science and Administration.\",\"Student Counseling and Personnel Services.\",\"Curriculum and Instruction.\",\"Business Administration, Management and Operations.\",\"Education, General.\",\"Teacher Education and Professional Development, Specific Subject Areas.\",\"Theological and Ministerial Studies.\",\"Public Administration.\",\"History.\",\"Business Administration, Management and Operations.\"],\"CONTROL\":[\"Private, nonprofit\",\"Public\",\"Public\",\"Private, nonprofit\",\"Private, nonprofit\",\"Public\",\"Private, for-profit\",\"Public\",\"Public\",\"Private, nonprofit\",\"Public\",\"Private, nonprofit\",\"Public\",\"Public\",\"Public\",\"Public\",\"Public\",\"Private, for-profit\",\"Private, nonprofit\",\"Public\",\"Private, nonprofit\",\"Public\",\"Public\",\"Public\",\"Public\",\"Public\",\"Private, nonprofit\",\"Private, nonprofit\",\"Private, nonprofit\",\"Private, for-profit\",\"Public\",\"Public\",\"Public\",\"Private, for-profit\",\"Private, for-profit\",\"Public\",\"Public\",\"Public\",\"Public\",\"Public\",\"Private, nonprofit\",\"Private, for-profit\",\"Private, for-profit\",\"Private, nonprofit\",\"Public\",\"Public\",\"Public\",\"Public\",\"Public\",\"Public\",\"Public\",\"Private, nonprofit\",\"Public\",\"Private, nonprofit\",\"Public\",\"Public\",\"Private, nonprofit\",\"Private, nonprofit\",\"Public\",\"Public\",\"Private, nonprofit\",\"Private, nonprofit\",\"Public\",\"Public\",\"Public\",\"Public\",\"Private, nonprofit\",\"Private, for-profit\",\"Public\",\"Private, nonprofit\",\"Private, for-profit\",\"Public\",\"Public\",\"Private, nonprofit\",\"Public\",\"Public\",\"Private, nonprofit\",\"Public\",\"Public\",\"Public\",\"Private, for-profit\",\"Public\",\"Private, for-profit\",\"Private, for-profit\",\"Private, for-profit\",\"Private, nonprofit\",\"Private, nonprofit\",\"Private, nonprofit\",\"Public\",\"Public\",\"Private, for-profit\",\"Public\",\"Private, nonprofit\",\"Public\",\"Private, nonprofit\",\"Private, nonprofit\",\"Public\",\"Private, nonprofit\",\"Public\",\"Public\",\"Private, nonprofit\",\"Private, nonprofit\",\"Public\",\"Public\",\"Public\",\"Public\",\"Private, nonprofit\",\"Public\",\"Public\",\"Public\",\"Private, nonprofit\",\"Public\",\"Public\",\"Private, nonprofit\",\"Public\",\"Private, for-profit\",\"Private, nonprofit\",\"Private, nonprofit\",\"Public\",\"Public\",\"Private, nonprofit\",\"Private, for-profit\",\"Public\",\"Private, nonprofit\",\"Public\",\"Public\",\"Public\",\"Private, for-profit\",\"Public\",\"Public\",\"Public\",\"Private, nonprofit\",\"Private, nonprofit\",\"Public\",\"Public\",\"Private, for-profit\",\"Private, nonprofit\",\"Public\",\"Private, nonprofit\",\"Public\",\"Public\",\"Private, nonprofit\",\"Public\",\"Public\",\"Private, nonprofit\",\"Public\",\"Private, nonprofit\",\"Private, nonprofit\",\"Public\",\"Private, nonprofit\",\"Public\",\"Public\",\"Private, nonprofit\",\"Private, nonprofit\",\"Private, nonprofit\",\"Public\",\"Public\",\"Public\",\"Public\",\"Public\",\"Public\",\"Public\",\"Public\",\"Public\",\"Private, nonprofit\",\"Public\",\"Public\",\"Public\",\"Public\",\"Private, nonprofit\",\"Private, nonprofit\",\"Public\",\"Private, nonprofit\",\"Public\",\"Public\",\"Private, nonprofit\",\"Public\",\"Public\",\"Public\",\"Public\",\"Public\",\"Private, nonprofit\",\"Public\",\"Public\",\"Foreign\",\"Private, nonprofit\",\"Public\",\"Private, nonprofit\",\"Private, nonprofit\",\"Public\",\"Public\",\"Public\",\"Private, nonprofit\",\"Private, nonprofit\",\"Private, nonprofit\",\"Private, nonprofit\",\"Private, nonprofit\",\"Private, nonprofit\",\"Public\",\"Private, nonprofit\",\"Public\",\"Private, nonprofit\",\"Private, nonprofit\",\"Public\",\"Public\",\"Private, nonprofit\",\"Private, nonprofit\",\"Public\",\"Public\",\"Public\",\"Public\",\"Public\",\"Private, for-profit\",\"Public\",\"Private, for-profit\",\"Public\",\"Public\",\"Private, nonprofit\",\"Public\",\"Public\",\"Public\",\"Public\",\"Public\",\"Private, nonprofit\",\"Public\",\"Public\",\"Private, nonprofit\",\"Private, for-profit\",\"Private, nonprofit\",\"Public\",\"Private, nonprofit\",\"Private, for-profit\",\"Public\",\"Private, nonprofit\",\"Private, for-profit\",\"Private, nonprofit\",\"Private, nonprofit\",\"Public\",\"Private, for-profit\",\"Public\",\"Public\",\"Public\",\"Private, nonprofit\",\"Public\",\"Public\",\"Public\",\"Private, for-profit\",\"Private, nonprofit\",\"Private, nonprofit\",\"Public\",\"Public\",\"Public\",\"Private, nonprofit\",\"Private, nonprofit\",\"Public\",\"Private, nonprofit\",\"Public\",\"Public\",\"Public\",\"Public\",\"Public\",\"Public\",\"Private, nonprofit\",\"Private, nonprofit\",\"Public\",\"Private, nonprofit\",\"Private, nonprofit\",\"Public\",\"Public\",\"Private, nonprofit\",\"Private, nonprofit\",\"Public\",\"Private, nonprofit\",\"Public\",\"Private, nonprofit\",\"Public\",\"Private, nonprofit\",\"Private, nonprofit\",\"Public\",\"Public\",\"Public\",\"Public\",\"Private, nonprofit\",\"Private, nonprofit\",\"Public\",\"Public\",\"Private, nonprofit\",\"Private, nonprofit\",\"Public\",\"Private, for-profit\",\"Private, nonprofit\",\"Private, nonprofit\",\"Private, nonprofit\",\"Public\",\"Public\",\"Private, nonprofit\",\"Private, for-profit\",\"Public\",\"Private, nonprofit\",\"Public\",\"Private, for-profit\",\"Public\",\"Public\",\"Private, nonprofit\",\"Public\",\"Public\",\"Private, nonprofit\",\"Private, for-profit\",\"Public\",\"Private, for-profit\",\"Private, nonprofit\",\"Private, for-profit\",\"Private, nonprofit\",\"Private, nonprofit\",\"Public\",\"Public\",\"Public\",\"Private, nonprofit\",\"Private, for-profit\",\"Private, nonprofit\",\"Public\",\"Private, nonprofit\",\"Public\",\"Public\",\"Private, nonprofit\",\"Public\",\"Public\",\"Private, nonprofit\",\"Public\",\"Private, nonprofit\",\"Public\",\"Public\",\"Public\",\"Public\",\"Private, for-profit\",\"Public\",\"Private, nonprofit\",\"Private, nonprofit\",\"Private, nonprofit\",\"Public\",\"Public\",\"Public\",\"Private, nonprofit\",\"Private, nonprofit\",\"Public\",\"Public\",\"Public\",\"Public\",\"Private, nonprofit\",\"Public\",\"Private, for-profit\",\"Private, nonprofit\",\"Private, nonprofit\",\"Private, for-profit\",\"Public\",\"Private, nonprofit\",\"Public\",\"Private, nonprofit\",\"Public\",\"Public\",\"Private, for-profit\",\"Public\",\"Public\",\"Private, nonprofit\",\"Private, for-profit\",\"Public\",\"Private, nonprofit\",\"Private, nonprofit\",\"Private, for-profit\",\"Private, for-profit\",\"Private, nonprofit\",\"Public\",\"Public\",\"Public\",\"Public\",\"Public\",\"Public\",\"Private, nonprofit\",\"Private, for-profit\",\"Public\",\"Private, nonprofit\",\"Private, nonprofit\",\"Private, nonprofit\",\"Public\",\"Public\",\"Public\",\"Public\",\"Public\",\"Private, nonprofit\",\"Public\",\"Public\",\"Private, nonprofit\",\"Public\",\"Private, nonprofit\",\"Private, nonprofit\",\"Private, nonprofit\",\"Public\",\"Public\",\"Public\",\"Public\",\"Private, nonprofit\",\"Public\",\"Private, nonprofit\",\"Private, nonprofit\",\"Public\",\"Public\",\"Private, nonprofit\",\"Private, nonprofit\",\"Public\",\"Public\",\"Private, nonprofit\",\"Public\",\"Public\",\"Private, for-profit\",\"Private, nonprofit\",\"Public\",\"Public\",\"Public\",\"Public\",\"Private, for-profit\",\"Public\",\"Public\",\"Public\",\"Public\",\"Public\",\"Public\",\"Public\",\"Private, nonprofit\",\"Public\",\"Public\",\"Public\",\"Public\",\"Private, nonprofit\",\"Private, nonprofit\",\"Private, for-profit\",\"Private, nonprofit\",\"Private, nonprofit\",\"Public\",\"Public\",\"Private, nonprofit\",\"Public\",\"Private, nonprofit\",\"Public\",\"Public\",\"Public\",\"Public\",\"Private, for-profit\",\"Public\",\"Private, nonprofit\",\"Private, nonprofit\",\"Private, nonprofit\",\"Public\",\"Public\",\"Private, nonprofit\",\"Public\",\"Private, for-profit\",\"Private, for-profit\",\"Private, nonprofit\",\"Private, nonprofit\",\"Public\",\"Private, nonprofit\",\"Public\",\"Public\",\"Private, nonprofit\",\"Public\",\"Public\",\"Public\",\"Private, nonprofit\",\"Private, nonprofit\",\"Public\",\"Public\",\"Private, nonprofit\",\"Public\",\"Private, for-profit\",\"Private, for-profit\",\"Public\",\"Private, for-profit\",\"Private, for-profit\",\"Public\",\"Public\",\"Private, nonprofit\",\"Public\",\"Private, nonprofit\",\"Public\",\"Public\",\"Private, nonprofit\",\"Private, nonprofit\",\"Private, nonprofit\",\"Private, nonprofit\",\"Public\",\"Public\",\"Private, nonprofit\",\"Private, for-profit\",\"Private, nonprofit\",\"Public\",\"Private, nonprofit\",\"Private, nonprofit\",\"Public\",\"Public\",\"Private, nonprofit\",\"Public\",\"Public\",\"Private, nonprofit\",\"Private, nonprofit\",\"Private, nonprofit\",\"Public\",\"Public\",\"Private, for-profit\",\"Private, nonprofit\",\"Public\",\"Private, nonprofit\",\"Private, nonprofit\",\"Private, nonprofit\",\"Public\",\"Private, nonprofit\",\"Public\",\"Public\",\"Public\",\"Public\",\"Public\",\"Private, nonprofit\",\"Private, nonprofit\",\"Public\",\"Public\",\"Private, nonprofit\",\"Public\",\"Public\",\"Public\",\"Private, nonprofit\",\"Public\",\"Public\",\"Private, nonprofit\",\"Public\",\"Public\",\"Public\",\"Public\",\"Public\",\"Public\",\"Public\",\"Public\",\"Public\",\"Private, nonprofit\",\"Public\",\"Public\",\"Public\",\"Public\",\"Private, nonprofit\",\"Public\",\"Public\",\"Public\",\"Private, nonprofit\",\"Private, nonprofit\",\"Private, nonprofit\",\"Private, nonprofit\",\"Private, nonprofit\",\"Private, nonprofit\",\"Private, nonprofit\",\"Private, for-profit\",\"Public\",\"Private, nonprofit\",\"Public\",\"Private, nonprofit\",\"Public\",\"Private, nonprofit\",\"Private, nonprofit\",\"Private, nonprofit\",\"Private, nonprofit\",\"Private, nonprofit\",\"Private, for-profit\",\"Public\",\"Public\",\"Private, nonprofit\",\"Private, for-profit\",\"Public\",\"Private, nonprofit\",\"Private, nonprofit\",\"Private, nonprofit\",\"Public\",\"Public\",\"Private, nonprofit\",\"Public\",\"Private, nonprofit\",\"Public\",\"Private, nonprofit\",\"Public\",\"Public\",\"Public\",\"Private, for-profit\",\"Private, nonprofit\",\"Public\",\"Private, nonprofit\",\"Public\",\"Private, for-profit\",\"Public\",\"Private, nonprofit\",\"Private, nonprofit\",\"Public\",\"Public\",\"Private, nonprofit\",\"Private, nonprofit\",\"Private, nonprofit\",\"Public\",\"Private, nonprofit\",\"Public\",\"Private, nonprofit\",\"Private, for-profit\",\"Public\",\"Private, nonprofit\",\"Private, nonprofit\",\"Private, nonprofit\",\"Private, nonprofit\",\"Private, nonprofit\",\"Private, nonprofit\",\"Public\",\"Private, for-profit\",\"Private, nonprofit\",\"Public\",\"Public\",\"Private, nonprofit\",\"Private, nonprofit\",\"Public\",\"Public\",\"Public\",\"Private, for-profit\",\"Private, for-profit\",\"Public\",\"Private, nonprofit\",\"Private, for-profit\",\"Public\",\"Public\",\"Private, nonprofit\",\"Private, nonprofit\",\"Private, for-profit\",\"Private, nonprofit\",\"Private, nonprofit\",\"Private, nonprofit\",\"Private, nonprofit\",\"Private, nonprofit\",\"Public\",\"Private, nonprofit\",\"Public\",\"Private, nonprofit\",\"Private, nonprofit\",\"Public\",\"Private, nonprofit\",\"Private, nonprofit\"],\"CREDDESC\":[\"First Professional Degree\",\"Graduate/Professional Certificate\",\"Master's Degree\",\"Master's Degree\",\"Master's Degree\",\"First Professional Degree\",\"Master's Degree\",\"Master's Degree\",\"Master's Degree\",\"Graduate/Professional Certificate\",\"Master's Degree\",\"Master's Degree\",\"Master's Degree\",\"Master's Degree\",\"Master's Degree\",\"Doctoral Degree\",\"Master's Degree\",\"Master's Degree\",\"Master's Degree\",\"Master's Degree\",\"Master's Degree\",\"Master's Degree\",\"Master's Degree\",\"Master's Degree\",\"Doctoral Degree\",\"Master's Degree\",\"Graduate/Professional Certificate\",\"Master's Degree\",\"First Professional Degree\",\"Master's Degree\",\"Master's Degree\",\"Master's Degree\",\"Master's Degree\",\"Master's Degree\",\"Master's Degree\",\"Master's Degree\",\"Master's Degree\",\"Master's Degree\",\"Master's Degree\",\"Master's Degree\",\"Doctoral Degree\",\"Master's Degree\",\"Master's Degree\",\"Master's Degree\",\"Graduate/Professional Certificate\",\"Master's Degree\",\"Master's Degree\",\"Master's Degree\",\"First Professional Degree\",\"Master's Degree\",\"Master's Degree\",\"Master's Degree\",\"Master's Degree\",\"Master's Degree\",\"First Professional Degree\",\"Master's Degree\",\"Master's Degree\",\"Master's Degree\",\"Master's Degree\",\"Master's Degree\",\"Master's Degree\",\"Master's Degree\",\"Master's Degree\",\"Master's Degree\",\"Master's Degree\",\"Master's Degree\",\"Doctoral Degree\",\"Doctoral Degree\",\"Graduate/Professional Certificate\",\"Master's Degree\",\"Master's Degree\",\"Master's Degree\",\"Master's Degree\",\"Master's Degree\",\"First Professional Degree\",\"First Professional Degree\",\"Doctoral Degree\",\"Master's Degree\",\"First Professional Degree\",\"Doctoral Degree\",\"Master's Degree\",\"Doctoral Degree\",\"Doctoral Degree\",\"Graduate/Professional Certificate\",\"Master's Degree\",\"Doctoral Degree\",\"Graduate/Professional Certificate\",\"First Professional Degree\",\"Master's Degree\",\"Master's Degree\",\"Master's Degree\",\"Master's Degree\",\"Master's Degree\",\"First Professional Degree\",\"Master's Degree\",\"Master's Degree\",\"Master's Degree\",\"Master's Degree\",\"Graduate/Professional Certificate\",\"Master's Degree\",\"Master's Degree\",\"Master's Degree\",\"Master's Degree\",\"Master's Degree\",\"Master's Degree\",\"Doctoral Degree\",\"Master's Degree\",\"Doctoral Degree\",\"Master's Degree\",\"Master's Degree\",\"Master's Degree\",\"Master's Degree\",\"Master's Degree\",\"Doctoral Degree\",\"Master's Degree\",\"Master's Degree\",\"Master's Degree\",\"Master's Degree\",\"Master's Degree\",\"Master's Degree\",\"Master's Degree\",\"Doctoral Degree\",\"Master's Degree\",\"Master's Degree\",\"Master's Degree\",\"Master's Degree\",\"Doctoral Degree\",\"Master's Degree\",\"Master's Degree\",\"Master's Degree\",\"Doctoral Degree\",\"Master's Degree\",\"Master's Degree\",\"Master's Degree\",\"Doctoral Degree\",\"Graduate/Professional Certificate\",\"Master's Degree\",\"Master's Degree\",\"Master's Degree\",\"Doctoral Degree\",\"Master's Degree\",\"First Professional Degree\",\"Master's Degree\",\"Master's Degree\",\"Master's Degree\",\"Master's Degree\",\"Master's Degree\",\"Master's Degree\",\"First Professional Degree\",\"Master's Degree\",\"First Professional Degree\",\"Master's Degree\",\"First Professional Degree\",\"Doctoral Degree\",\"Master's Degree\",\"Master's Degree\",\"Doctoral Degree\",\"Master's Degree\",\"Master's Degree\",\"Master's Degree\",\"Master's Degree\",\"Doctoral Degree\",\"Master's Degree\",\"Master's Degree\",\"Master's Degree\",\"Graduate/Professional Certificate\",\"Graduate/Professional Certificate\",\"Master's Degree\",\"Master's Degree\",\"Master's Degree\",\"Master's Degree\",\"Master's Degree\",\"Master's Degree\",\"First Professional Degree\",\"Master's Degree\",\"Master's Degree\",\"Master's Degree\",\"Doctoral Degree\",\"Master's Degree\",\"Master's Degree\",\"Master's Degree\",\"Master's Degree\",\"Master's Degree\",\"First Professional Degree\",\"Master's Degree\",\"Master's Degree\",\"Master's Degree\",\"Master's Degree\",\"Master's Degree\",\"Master's Degree\",\"Doctoral Degree\",\"Graduate/Professional Certificate\",\"Master's Degree\",\"Master's Degree\",\"Master's Degree\",\"Master's Degree\",\"Master's Degree\",\"Master's Degree\",\"Master's Degree\",\"Doctoral Degree\",\"Master's Degree\",\"Doctoral Degree\",\"Master's Degree\",\"Master's Degree\",\"Master's Degree\",\"Master's Degree\",\"Master's Degree\",\"Master's Degree\",\"Master's Degree\",\"Master's Degree\",\"Master's Degree\",\"Master's Degree\",\"Master's Degree\",\"Master's Degree\",\"Master's Degree\",\"Master's Degree\",\"Doctoral Degree\",\"Master's Degree\",\"Master's Degree\",\"First Professional Degree\",\"Master's Degree\",\"Master's Degree\",\"Master's Degree\",\"Master's Degree\",\"Master's Degree\",\"Master's Degree\",\"Master's Degree\",\"Master's Degree\",\"Master's Degree\",\"Master's Degree\",\"Master's Degree\",\"Master's Degree\",\"Doctoral Degree\",\"Master's Degree\",\"Master's Degree\",\"Master's Degree\",\"Master's Degree\",\"Master's Degree\",\"Master's Degree\",\"Master's Degree\",\"Master's Degree\",\"Master's Degree\",\"Master's Degree\",\"Master's Degree\",\"Master's Degree\",\"Master's Degree\",\"Master's Degree\",\"Master's Degree\",\"Master's Degree\",\"Doctoral Degree\",\"Master's Degree\",\"Master's Degree\",\"Master's Degree\",\"Master's Degree\",\"Master's Degree\",\"Master's Degree\",\"Doctoral Degree\",\"Graduate/Professional Certificate\",\"Master's Degree\",\"Master's Degree\",\"Master's Degree\",\"Master's Degree\",\"Master's Degree\",\"Master's Degree\",\"Master's Degree\",\"Master's Degree\",\"Master's Degree\",\"Master's Degree\",\"Master's Degree\",\"Master's Degree\",\"First Professional Degree\",\"First Professional Degree\",\"Doctoral Degree\",\"Doctoral Degree\",\"Master's Degree\",\"Doctoral Degree\",\"Doctoral Degree\",\"First Professional Degree\",\"Master's Degree\",\"Master's Degree\",\"Master's Degree\",\"Master's Degree\",\"Graduate/Professional Certificate\",\"Master's Degree\",\"Doctoral Degree\",\"Master's Degree\",\"Master's Degree\",\"Master's Degree\",\"Master's Degree\",\"Master's Degree\",\"Master's Degree\",\"Master's Degree\",\"Master's Degree\",\"Master's Degree\",\"Master's Degree\",\"Master's Degree\",\"Master's Degree\",\"Graduate/Professional Certificate\",\"Master's Degree\",\"Master's Degree\",\"Master's Degree\",\"Master's Degree\",\"Master's Degree\",\"Master's Degree\",\"Master's Degree\",\"Master's Degree\",\"Master's Degree\",\"Graduate/Professional Certificate\",\"Master's Degree\",\"Master's Degree\",\"Doctoral Degree\",\"Doctoral Degree\",\"Master's Degree\",\"Master's Degree\",\"First Professional Degree\",\"Master's Degree\",\"Master's Degree\",\"Master's Degree\",\"Master's Degree\",\"Master's Degree\",\"Master's Degree\",\"Master's Degree\",\"Master's Degree\",\"Graduate/Professional Certificate\",\"Doctoral Degree\",\"Doctoral Degree\",\"Master's Degree\",\"Master's Degree\",\"Master's Degree\",\"Master's Degree\",\"Master's Degree\",\"Master's Degree\",\"Master's Degree\",\"Master's Degree\",\"Master's Degree\",\"Master's Degree\",\"Master's Degree\",\"Doctoral Degree\",\"Master's Degree\",\"Master's Degree\",\"Master's Degree\",\"Master's Degree\",\"Master's Degree\",\"Doctoral Degree\",\"Master's Degree\",\"Master's Degree\",\"First Professional Degree\",\"Master's Degree\",\"Master's Degree\",\"Master's Degree\",\"Master's Degree\",\"Master's Degree\",\"Master's Degree\",\"Master's Degree\",\"Master's Degree\",\"Doctoral Degree\",\"Doctoral Degree\",\"Master's Degree\",\"Master's Degree\",\"Master's Degree\",\"Master's Degree\",\"Master's Degree\",\"Master's Degree\",\"Master's Degree\",\"Master's Degree\",\"Master's Degree\",\"Master's Degree\",\"Master's Degree\",\"Master's Degree\",\"Master's Degree\",\"First Professional Degree\",\"Master's Degree\",\"Master's Degree\",\"Master's Degree\",\"Master's Degree\",\"Master's Degree\",\"Doctoral Degree\",\"First Professional Degree\",\"Master's Degree\",\"Master's Degree\",\"Master's Degree\",\"Master's Degree\",\"Master's Degree\",\"Master's Degree\",\"Master's Degree\",\"Master's Degree\",\"Graduate/Professional Certificate\",\"Master's Degree\",\"Master's Degree\",\"Master's Degree\",\"Master's Degree\",\"Master's Degree\",\"Master's Degree\",\"Master's Degree\",\"Master's Degree\",\"Master's Degree\",\"Doctoral Degree\",\"Master's Degree\",\"Master's Degree\",\"Master's Degree\",\"Master's Degree\",\"Doctoral Degree\",\"Master's Degree\",\"Master's Degree\",\"Master's Degree\",\"Master's Degree\",\"Doctoral Degree\",\"Doctoral Degree\",\"Graduate/Professional Certificate\",\"Master's Degree\",\"Master's Degree\",\"Master's Degree\",\"Doctoral Degree\",\"Graduate/Professional Certificate\",\"Master's Degree\",\"Master's Degree\",\"Master's Degree\",\"Master's Degree\",\"Master's Degree\",\"Master's Degree\",\"Master's Degree\",\"Master's Degree\",\"Doctoral Degree\",\"Master's Degree\",\"Master's Degree\",\"Doctoral Degree\",\"First Professional Degree\",\"Master's Degree\",\"Master's Degree\",\"Master's Degree\",\"Master's Degree\",\"Master's Degree\",\"Doctoral Degree\",\"Master's Degree\",\"Master's Degree\",\"Master's Degree\",\"Master's Degree\",\"Master's Degree\",\"Doctoral Degree\",\"Master's Degree\",\"Master's Degree\",\"Master's Degree\",\"Master's Degree\",\"Doctoral Degree\",\"Master's Degree\",\"Master's Degree\",\"Master's Degree\",\"First Professional Degree\",\"Master's Degree\",\"Master's Degree\",\"Master's Degree\",\"Master's Degree\",\"Master's Degree\",\"Master's Degree\",\"Master's Degree\",\"Doctoral Degree\",\"Master's Degree\",\"Master's Degree\",\"Master's Degree\",\"Doctoral Degree\",\"Doctoral Degree\",\"Master's Degree\",\"Master's Degree\",\"Master's Degree\",\"Master's Degree\",\"Master's Degree\",\"Master's Degree\",\"Master's Degree\",\"Master's Degree\",\"Master's Degree\",\"Master's Degree\",\"Doctoral Degree\",\"First Professional Degree\",\"Master's Degree\",\"Master's Degree\",\"Master's Degree\",\"Master's Degree\",\"Master's Degree\",\"Master's Degree\",\"Doctoral Degree\",\"Doctoral Degree\",\"Master's Degree\",\"Master's Degree\",\"Doctoral Degree\",\"Master's Degree\",\"Master's Degree\",\"Master's Degree\",\"Master's Degree\",\"Master's Degree\",\"Doctoral Degree\",\"Master's Degree\",\"Master's Degree\",\"Master's Degree\",\"Master's Degree\",\"First Professional Degree\",\"Doctoral Degree\",\"Master's Degree\",\"First Professional Degree\",\"First Professional Degree\",\"Master's Degree\",\"Master's Degree\",\"Graduate/Professional Certificate\",\"Master's Degree\",\"Doctoral Degree\",\"Master's Degree\",\"Master's Degree\",\"Master's Degree\",\"Master's Degree\",\"Master's Degree\",\"Master's Degree\",\"Doctoral Degree\",\"Master's Degree\",\"Master's Degree\",\"Master's Degree\",\"Master's Degree\",\"Master's Degree\",\"Master's Degree\",\"Master's Degree\",\"Master's Degree\",\"Master's Degree\",\"Master's Degree\",\"Master's Degree\",\"Doctoral Degree\",\"Master's Degree\",\"Master's Degree\",\"Master's Degree\",\"Doctoral Degree\",\"Master's Degree\",\"Master's Degree\",\"Master's Degree\",\"Master's Degree\",\"Master's Degree\",\"Master's Degree\",\"Master's Degree\",\"Master's Degree\",\"Master's Degree\",\"Master's Degree\",\"Graduate/Professional Certificate\",\"Master's Degree\",\"Master's Degree\",\"Doctoral Degree\",\"Master's Degree\",\"Master's Degree\",\"Doctoral Degree\",\"Master's Degree\",\"Master's Degree\",\"Master's Degree\",\"Master's Degree\",\"Master's Degree\",\"Master's Degree\",\"Master's Degree\",\"Doctoral Degree\",\"Master's Degree\",\"Master's Degree\",\"Master's Degree\",\"First Professional Degree\",\"Master's Degree\",\"Master's Degree\",\"Master's Degree\",\"Master's Degree\",\"Master's Degree\",\"Master's Degree\",\"Master's Degree\",\"Master's Degree\",\"Master's Degree\",\"First Professional Degree\",\"Master's Degree\",\"Doctoral Degree\",\"Master's Degree\",\"Master's Degree\",\"Master's Degree\",\"Master's Degree\",\"Doctoral Degree\",\"Master's Degree\",\"Master's Degree\",\"Master's Degree\",\"Master's Degree\",\"Doctoral Degree\",\"Master's Degree\",\"First Professional Degree\",\"Master's Degree\",\"Doctoral Degree\",\"Doctoral Degree\",\"Doctoral Degree\",\"Master's Degree\",\"Doctoral Degree\",\"Master's Degree\",\"Master's Degree\",\"First Professional Degree\",\"Master's Degree\",\"Master's Degree\",\"Master's Degree\",\"Master's Degree\",\"Doctoral Degree\",\"Master's Degree\",\"Master's Degree\",\"Doctoral Degree\",\"Master's Degree\",\"Master's Degree\",\"Master's Degree\",\"Master's Degree\",\"Master's Degree\",\"Master's Degree\",\"Master's Degree\",\"Master's Degree\",\"Master's Degree\",\"Master's Degree\",\"Master's Degree\",\"Master's Degree\",\"Master's Degree\",\"Master's Degree\",\"Master's Degree\",\"Master's Degree\",\"Master's Degree\",\"Graduate/Professional Certificate\",\"Master's Degree\",\"Master's Degree\",\"Master's Degree\",\"First Professional Degree\",\"Master's Degree\",\"Graduate/Professional Certificate\",\"Master's Degree\",\"Master's Degree\",\"Master's Degree\",\"Graduate/Professional Certificate\",\"Master's Degree\",\"Master's Degree\",\"Doctoral Degree\",\"First Professional Degree\",\"Master's Degree\",\"Graduate/Professional Certificate\",\"Master's Degree\",\"Master's Degree\",\"Master's Degree\",\"Master's Degree\",\"First Professional Degree\",\"Master's Degree\",\"Master's Degree\",\"Master's Degree\",\"Master's Degree\",\"Master's Degree\",\"Master's Degree\",\"Master's Degree\",\"Master's Degree\",\"Master's Degree\",\"Master's Degree\"],\"HIGHDEG\":[\"4\",\"4\",\"4\",\"4\",\"4\",\"4\",\"4\",\"4\",\"4\",\"4\",\"4\",\"4\",\"4\",\"4\",\"4\",\"4\",\"4\",\"4\",\"4\",\"4\",\"4\",\"4\",\"4\",\"4\",\"4\",\"4\",\"NaN\",\"4\",\"4\",\"4\",\"4\",\"4\",\"4\",\"4\",\"4\",\"4\",\"4\",\"4\",\"4\",\"4\",\"4\",\"4\",\"4\",\"4\",\"4\",\"4\",\"4\",\"4\",\"4\",\"4\",\"4\",\"4\",\"4\",\"4\",\"4\",\"4\",\"4\",\"4\",\"4\",\"4\",\"4\",\"4\",\"4\",\"4\",\"4\",\"4\",\"4\",\"4\",\"4\",\"4\",\"NaN\",\"4\",\"4\",\"4\",\"4\",\"4\",\"4\",\"4\",\"4\",\"4\",\"4\",\"4\",\"4\",\"4\",\"4\",\"4\",\"4\",\"4\",\"4\",\"4\",\"NaN\",\"4\",\"4\",\"4\",\"4\",\"4\",\"4\",\"4\",\"4\",\"4\",\"4\",\"4\",\"4\",\"4\",\"4\",\"4\",\"4\",\"4\",\"4\",\"4\",\"4\",\"4\",\"4\",\"4\",\"4\",\"4\",\"4\",\"4\",\"4\",\"4\",\"4\",\"NaN\",\"4\",\"4\",\"4\",\"4\",\"4\",\"4\",\"4\",\"4\",\"4\",\"4\",\"4\",\"4\",\"4\",\"4\",\"4\",\"4\",\"4\",\"4\",\"4\",\"4\",\"4\",\"4\",\"4\",\"4\",\"4\",\"4\",\"4\",\"4\",\"4\",\"4\",\"4\",\"4\",\"4\",\"4\",\"4\",\"4\",\"4\",\"4\",\"4\",\"4\",\"4\",\"4\",\"4\",\"4\",\"4\",\"4\",\"4\",\"4\",\"4\",\"4\",\"4\",\"4\",\"4\",\"4\",\"4\",\"4\",\"4\",\"4\",\"4\",\"4\",\"4\",\"4\",\"NaN\",\"4\",\"4\",\"4\",\"4\",\"4\",\"4\",\"4\",\"4\",\"4\",\"4\",\"4\",\"4\",\"4\",\"4\",\"4\",\"4\",\"4\",\"4\",\"4\",\"4\",\"4\",\"4\",\"4\",\"4\",\"4\",\"4\",\"4\",\"4\",\"4\",\"NaN\",\"4\",\"4\",\"4\",\"4\",\"4\",\"4\",\"4\",\"4\",\"4\",\"4\",\"NaN\",\"4\",\"4\",\"4\",\"4\",\"4\",\"4\",\"4\",\"4\",\"4\",\"4\",\"4\",\"4\",\"NaN\",\"4\",\"4\",\"4\",\"4\",\"4\",\"4\",\"4\",\"4\",\"4\",\"4\",\"4\",\"4\",\"4\",\"4\",\"4\",\"4\",\"4\",\"4\",\"4\",\"4\",\"4\",\"4\",\"4\",\"4\",\"4\",\"4\",\"4\",\"4\",\"4\",\"4\",\"4\",\"4\",\"4\",\"4\",\"4\",\"4\",\"4\",\"4\",\"4\",\"4\",\"4\",\"4\",\"4\",\"4\",\"4\",\"4\",\"4\",\"4\",\"4\",\"4\",\"NaN\",\"4\",\"4\",\"4\",\"4\",\"4\",\"3\",\"4\",\"4\",\"4\",\"4\",\"4\",\"4\",\"4\",\"4\",\"4\",\"4\",\"4\",\"4\",\"4\",\"4\",\"4\",\"NaN\",\"4\",\"4\",\"NaN\",\"4\",\"4\",\"4\",\"NaN\",\"4\",\"4\",\"4\",\"4\",\"4\",\"4\",\"4\",\"4\",\"4\",\"4\",\"4\",\"4\",\"4\",\"4\",\"4\",\"4\",\"4\",\"4\",\"4\",\"4\",\"4\",\"4\",\"4\",\"4\",\"4\",\"4\",\"4\",\"4\",\"4\",\"4\",\"4\",\"4\",\"4\",\"4\",\"4\",\"4\",\"4\",\"4\",\"4\",\"4\",\"4\",\"4\",\"4\",\"4\",\"4\",\"4\",\"4\",\"4\",\"4\",\"NaN\",\"4\",\"4\",\"4\",\"4\",\"4\",\"4\",\"4\",\"4\",\"4\",\"4\",\"4\",\"NaN\",\"4\",\"4\",\"4\",\"4\",\"4\",\"4\",\"4\",\"4\",\"4\",\"4\",\"4\",\"4\",\"4\",\"4\",\"4\",\"4\",\"4\",\"4\",\"4\",\"4\",\"4\",\"4\",\"4\",\"4\",\"4\",\"4\",\"4\",\"4\",\"4\",\"4\",\"4\",\"4\",\"4\",\"4\",\"NaN\",\"4\",\"4\",\"4\",\"NaN\",\"4\",\"4\",\"4\",\"4\",\"4\",\"4\",\"4\",\"4\",\"4\",\"4\",\"4\",\"4\",\"4\",\"4\",\"4\",\"4\",\"4\",\"4\",\"4\",\"4\",\"4\",\"4\",\"4\",\"4\",\"4\",\"4\",\"4\",\"4\",\"4\",\"4\",\"4\",\"4\",\"4\",\"4\",\"4\",\"NaN\",\"4\",\"4\",\"4\",\"4\",\"4\",\"4\",\"4\",\"NaN\",\"4\",\"4\",\"4\",\"4\",\"4\",\"4\",\"4\",\"4\",\"NaN\",\"NaN\",\"NaN\",\"4\",\"4\",\"4\",\"4\",\"4\",\"4\",\"4\",\"4\",\"4\",\"4\",\"4\",\"4\",\"4\",\"4\",\"4\",\"4\",\"4\",\"4\",\"4\",\"4\",\"4\",\"4\",\"4\",\"4\",\"4\",\"4\",\"4\",\"4\",\"4\",\"4\",\"4\",\"4\",\"4\",\"4\",\"4\",\"4\",\"4\",\"4\",\"4\",\"4\",\"4\",\"4\",\"4\",\"4\",\"4\",\"4\",\"4\",\"4\",\"4\",\"4\",\"4\",\"4\",\"4\",\"4\",\"4\",\"4\",\"4\",\"4\",\"4\",\"4\",\"4\",\"4\",\"4\",\"4\",\"4\",\"4\",\"4\",\"4\",\"4\",\"4\",\"4\",\"4\",\"4\",\"4\",\"4\",\"4\",\"4\",\"4\",\"4\",\"4\",\"4\",\"4\",\"4\",\"4\",\"4\",\"4\",\"4\",\"4\",\"4\",\"4\",\"4\",\"4\",\"4\",\"4\",\"4\",\"4\",\"4\",\"NaN\",\"4\",\"4\",\"4\",\"4\",\"4\",\"4\",\"4\",\"4\",\"4\",\"4\",\"4\",\"4\",\"4\",\"4\",\"4\",\"4\",\"4\",\"4\",\"4\",\"4\",\"4\",\"4\",\"4\",\"4\",\"4\",\"4\",\"4\",\"4\",\"4\",\"4\",\"4\",\"4\",\"4\",\"4\",\"4\",\"4\",\"4\",\"4\",\"4\",\"4\",\"4\",\"4\",\"4\",\"4\",\"4\",\"4\",\"4\",\"4\",\"4\",\"4\",\"4\",\"4\",\"4\",\"4\",\"4\",\"4\",\"4\",\"4\",\"4\",\"4\",\"4\",\"4\",\"4\",\"4\",\"4\",\"4\",\"4\",\"4\",\"4\",\"4\",\"4\",\"4\",\"4\"],\"LOCALE\":[\"31\",\"13\",\"22\",\"21\",\"43\",\"21\",\"13\",\"31\",\"12\",\"11\",\"23\",\"11\",\"12\",\"12\",\"11\",\"11\",\"12\",\"11\",\"11\",\"12\",\"11\",\"11\",\"12\",\"11\",\"11\",\"13\",\"NaN\",\"21\",\"12\",\"11\",\"23\",\"11\",\"11\",\"21\",\"21\",\"11\",\"13\",\"11\",\"11\",\"13\",\"21\",\"21\",\"11\",\"13\",\"21\",\"23\",\"13\",\"12\",\"22\",\"11\",\"11\",\"11\",\"13\",\"32\",\"12\",\"11\",\"11\",\"12\",\"11\",\"11\",\"21\",\"42\",\"33\",\"21\",\"33\",\"11\",\"21\",\"11\",\"12\",\"12\",\"NaN\",\"13\",\"21\",\"11\",\"33\",\"11\",\"11\",\"32\",\"12\",\"12\",\"21\",\"12\",\"11\",\"12\",\"11\",\"21\",\"11\",\"33\",\"11\",\"21\",\"NaN\",\"13\",\"12\",\"11\",\"12\",\"32\",\"11\",\"11\",\"21\",\"11\",\"21\",\"11\",\"22\",\"11\",\"33\",\"12\",\"21\",\"12\",\"32\",\"11\",\"32\",\"32\",\"11\",\"11\",\"11\",\"31\",\"23\",\"12\",\"11\",\"13\",\"12\",\"NaN\",\"21\",\"13\",\"11\",\"13\",\"21\",\"21\",\"33\",\"22\",\"21\",\"21\",\"21\",\"11\",\"12\",\"12\",\"13\",\"11\",\"33\",\"11\",\"11\",\"11\",\"11\",\"23\",\"21\",\"21\",\"13\",\"21\",\"22\",\"11\",\"11\",\"11\",\"11\",\"21\",\"11\",\"21\",\"31\",\"12\",\"13\",\"31\",\"12\",\"41\",\"12\",\"13\",\"21\",\"21\",\"11\",\"32\",\"13\",\"11\",\"13\",\"11\",\"13\",\"32\",\"12\",\"11\",\"11\",\"12\",\"11\",\"32\",\"21\",\"11\",\"11\",\"12\",\"NaN\",\"12\",\"23\",\"21\",\"21\",\"32\",\"13\",\"13\",\"11\",\"13\",\"21\",\"11\",\"11\",\"12\",\"21\",\"21\",\"33\",\"11\",\"21\",\"11\",\"12\",\"12\",\"11\",\"11\",\"12\",\"12\",\"11\",\"33\",\"21\",\"11\",\"NaN\",\"21\",\"11\",\"11\",\"31\",\"33\",\"11\",\"11\",\"32\",\"32\",\"11\",\"NaN\",\"21\",\"12\",\"21\",\"11\",\"21\",\"11\",\"12\",\"11\",\"21\",\"11\",\"11\",\"21\",\"NaN\",\"13\",\"11\",\"11\",\"21\",\"11\",\"21\",\"11\",\"11\",\"11\",\"11\",\"12\",\"13\",\"12\",\"13\",\"21\",\"21\",\"21\",\"11\",\"23\",\"31\",\"32\",\"12\",\"21\",\"13\",\"21\",\"13\",\"11\",\"32\",\"12\",\"21\",\"11\",\"32\",\"12\",\"21\",\"13\",\"21\",\"11\",\"42\",\"21\",\"21\",\"21\",\"33\",\"13\",\"21\",\"12\",\"11\",\"13\",\"11\",\"41\",\"12\",\"NaN\",\"21\",\"12\",\"11\",\"13\",\"33\",\"32\",\"21\",\"22\",\"11\",\"32\",\"31\",\"13\",\"11\",\"12\",\"12\",\"31\",\"11\",\"21\",\"22\",\"11\",\"12\",\"NaN\",\"12\",\"21\",\"NaN\",\"11\",\"23\",\"21\",\"NaN\",\"12\",\"31\",\"11\",\"21\",\"12\",\"11\",\"42\",\"11\",\"11\",\"12\",\"21\",\"13\",\"12\",\"21\",\"33\",\"11\",\"13\",\"11\",\"21\",\"13\",\"13\",\"12\",\"11\",\"13\",\"11\",\"12\",\"13\",\"12\",\"32\",\"12\",\"13\",\"11\",\"21\",\"11\",\"11\",\"32\",\"13\",\"12\",\"11\",\"11\",\"11\",\"11\",\"11\",\"11\",\"11\",\"11\",\"13\",\"21\",\"11\",\"NaN\",\"21\",\"11\",\"11\",\"21\",\"22\",\"21\",\"12\",\"11\",\"11\",\"12\",\"23\",\"NaN\",\"11\",\"11\",\"32\",\"32\",\"13\",\"21\",\"31\",\"31\",\"21\",\"13\",\"11\",\"12\",\"11\",\"13\",\"21\",\"11\",\"11\",\"21\",\"12\",\"21\",\"32\",\"11\",\"13\",\"31\",\"21\",\"11\",\"21\",\"11\",\"11\",\"32\",\"11\",\"13\",\"11\",\"11\",\"NaN\",\"22\",\"13\",\"33\",\"NaN\",\"11\",\"21\",\"12\",\"22\",\"11\",\"11\",\"13\",\"11\",\"11\",\"33\",\"23\",\"21\",\"13\",\"11\",\"21\",\"11\",\"11\",\"12\",\"32\",\"11\",\"21\",\"21\",\"12\",\"12\",\"12\",\"32\",\"21\",\"11\",\"12\",\"11\",\"21\",\"21\",\"41\",\"12\",\"13\",\"NaN\",\"13\",\"11\",\"23\",\"32\",\"21\",\"11\",\"11\",\"NaN\",\"12\",\"11\",\"32\",\"11\",\"22\",\"13\",\"11\",\"21\",\"NaN\",\"NaN\",\"NaN\",\"11\",\"11\",\"13\",\"12\",\"11\",\"13\",\"41\",\"11\",\"11\",\"13\",\"31\",\"11\",\"31\",\"12\",\"11\",\"11\",\"11\",\"21\",\"11\",\"33\",\"11\",\"11\",\"12\",\"12\",\"11\",\"11\",\"13\",\"11\",\"11\",\"11\",\"21\",\"11\",\"11\",\"21\",\"21\",\"11\",\"12\",\"21\",\"12\",\"21\",\"21\",\"12\",\"12\",\"11\",\"12\",\"21\",\"11\",\"23\",\"32\",\"21\",\"21\",\"12\",\"11\",\"32\",\"22\",\"32\",\"12\",\"11\",\"13\",\"33\",\"11\",\"21\",\"22\",\"13\",\"21\",\"12\",\"21\",\"13\",\"11\",\"11\",\"33\",\"11\",\"11\",\"12\",\"21\",\"21\",\"21\",\"12\",\"11\",\"21\",\"32\",\"11\",\"12\",\"32\",\"21\",\"41\",\"13\",\"21\",\"21\",\"11\",\"32\",\"11\",\"21\",\"21\",\"11\",\"13\",\"11\",\"NaN\",\"13\",\"11\",\"11\",\"11\",\"13\",\"32\",\"11\",\"21\",\"21\",\"23\",\"13\",\"21\",\"13\",\"11\",\"12\",\"12\",\"11\",\"11\",\"11\",\"11\",\"12\",\"11\",\"12\",\"12\",\"13\",\"11\",\"21\",\"11\",\"12\",\"12\",\"31\",\"11\",\"11\",\"11\",\"12\",\"11\",\"11\",\"11\",\"12\",\"21\",\"11\",\"11\",\"32\",\"21\",\"11\",\"21\",\"32\",\"12\",\"13\",\"11\",\"11\",\"21\",\"12\",\"21\",\"11\",\"32\",\"12\",\"11\",\"11\",\"13\",\"11\",\"21\",\"11\",\"11\",\"23\",\"32\",\"11\",\"23\",\"12\",\"11\",\"12\",\"11\",\"21\"],\"MEDIAN_HH_INC\":[\"56906.03\",\"62817.43\",\"80999.86\",\"82793.69\",\"56137.53\",\"80999.86\",\"NaN\",\"61824.2\",\"69074.33\",\"77652.59\",\"79524.13\",\"82187.36\",\"43401.54\",\"52472.51\",\"57605.1\",\"72190.32\",\"60340.43\",\"55475.64\",\"85677.46\",\"69474.52\",\"76971.15\",\"51576.54\",\"53622.93\",\"58397.57\",\"78085.65\",\"59313.76\",\"NaN\",\"80672.5\",\"70375.31\",\"62086.89\",\"76621.08\",\"72190.32\",\"71857.86\",\"NaN\",\"NaN\",\"57501.19\",\"59005.4\",\"NaN\",\"65686.13\",\"70891.42\",\"93458.99\",\"NaN\",\"62877.37\",\"68730.21\",\"62518.63\",\"48389.27\",\"81580.49\",\"57504.74\",\"80999.86\",\"49392.3\",\"58259.31\",\"53129.58\",\"63066.25\",\"58051.44\",\"67194.13\",\"58397.57\",\"76787.41\",\"83293.65\",\"64055.44\",\"62889.32\",\"65044.99\",\"70763.05\",\"59935.86\",\"69989\",\"46465.5\",\"64708.31\",\"80275.59\",\"71211.32\",\"72891.36\",\"77426.3\",\"NaN\",\"57353.47\",\"80999.86\",\"63891.1\",\"53049.11\",\"54119.41\",\"77653.15\",\"57579.55\",\"60752.93\",\"80999.86\",\"55764.27\",\"73818.06\",\"64334.8\",\"NaN\",\"64334.8\",\"70678.19\",\"74533.27\",\"79834.73\",\"49538.77\",\"76546.63\",\"NaN\",\"60534.36\",\"NaN\",\"58452.18\",\"75289.41\",\"63627.14\",\"65208.79\",\"76939.14\",\"61970.64\",\"72896.84\",\"62761.71\",\"76598.6\",\"80999.86\",\"41652.24\",\"59308.27\",\"43401.54\",\"83197.29\",\"80999.86\",\"62772.56\",\"57782.89\",\"70833.22\",\"53799.09\",\"NaN\",\"69749.7\",\"58397.57\",\"NaN\",\"58178.62\",\"73437.32\",\"65921.14\",\"74257.05\",\"55699.66\",\"NaN\",\"59952.94\",\"67048.19\",\"49538.77\",\"61269.08\",\"NaN\",\"NaN\",\"48927.68\",\"54749.32\",\"59479.84\",\"72244.37\",\"85423.56\",\"65921.14\",\"77145.9\",\"NaN\",\"60191.67\",\"71185.17\",\"44968.88\",\"53295.09\",\"62889.32\",\"81539.46\",\"60078.99\",\"54908.38\",\"69737.68\",\"67198.25\",\"74851.88\",\"21538.84\",\"54641.42\",\"76214.79\",\"60626.38\",\"65208.79\",\"76055.22\",\"62876.89\",\"76598.6\",\"62394.85\",\"56952.77\",\"55979.92\",\"66893.88\",\"64429.18\",\"52472.51\",\"67479.79\",\"63797.48\",\"69141.32\",\"57656.36\",\"64068.51\",\"78614.96\",\"49520.51\",\"51307.51\",\"51580.09\",\"85221.28\",\"59042.66\",\"62401.61\",\"63710\",\"70070.97\",\"74533.27\",\"65686.13\",\"77601.85\",\"58259.31\",\"63710\",\"76692.58\",\"76787.41\",\"66650.68\",\"77601.85\",\"NaN\",\"76363.81\",\"67375.29\",\"73950.46\",\"69397.52\",\"52093.19\",\"72140.18\",\"53241.64\",\"78252\",\"62401.61\",\"74355.43\",\"24604.32\",\"56097.18\",\"79027.35\",\"78424.73\",\"89519.38\",\"64318.95\",\"74573.19\",\"21682.98\",\"55390.45\",\"81327.65\",\"67848.44\",\"71270.22\",\"59042.66\",\"55118.47\",\"49260.35\",\"68874.27\",\"44610.73\",\"NaN\",\"66650.68\",\"NaN\",\"73036.4\",\"69752.4\",\"54642.52\",\"66454.08\",\"53374.26\",\"65686.13\",\"65921.14\",\"63900.24\",\"61757.88\",\"78085.65\",\"NaN\",\"80864.95\",\"NaN\",\"63735.93\",\"63798.29\",\"93458.99\",\"NaN\",\"69074.33\",\"58784.16\",\"NaN\",\"74848.68\",\"69749.7\",\"73036.4\",\"NaN\",\"69141.32\",\"75892.84\",\"55118.47\",\"69305.79\",\"53982.7\",\"64586.36\",\"62889.32\",\"NaN\",\"66565.04\",\"82187.36\",\"60914.47\",\"80470.71\",\"52472.51\",\"60334.44\",\"80275.59\",\"69989\",\"68457.57\",\"69752.4\",\"51671.91\",\"63749.73\",\"69095.17\",\"53474.77\",\"61569.63\",\"78345.46\",\"78814.8\",\"82669.68\",\"59715.43\",\"61757.88\",\"72891.36\",\"72419.11\",\"68699.32\",\"54757.84\",\"49718.16\",\"68556.46\",\"77607.85\",\"86369.03\",\"58397.57\",\"73541.41\",\"68302.51\",\"72827.06\",\"76062.13\",\"42974.58\",\"57483.6\",\"66464.45\",\"67164.94\",\"72284.1\",\"62817.43\",\"68472.8\",\"NaN\",\"51919.71\",\"NaN\",\"81126.67\",\"70459.21\",\"70632.13\",\"68624.95\",\"42103.85\",\"57123.16\",\"NaN\",\"80999.86\",\"76055.22\",\"48129.81\",\"NaN\",\"60312.67\",\"NaN\",\"71588.69\",\"57712.44\",\"52799.06\",\"54201.1\",\"NaN\",\"80999.86\",\"NaN\",\"81648.78\",\"NaN\",\"62262.3\",\"63424.91\",\"NaN\",\"53295.09\",\"51671.91\",\"62876.89\",\"NaN\",\"73627.32\",\"63560.54\",\"76598.6\",\"76205.23\",\"66736.53\",\"76279.78\",\"48169.64\",\"NaN\",\"63108.93\",\"60914.47\",\"56679.53\",\"60312.67\",\"69074.33\",\"61970.64\",\"44236.75\",\"58865.35\",\"60312.67\",\"63961.81\",\"62876.89\",\"62401.61\",\"50573.68\",\"72221.8\",\"77495.51\",\"83893.95\",\"78252\",\"66484.66\",\"60312.67\",\"57541.98\",\"66452.23\",\"67848.44\",\"48705.91\",\"NaN\",\"NaN\",\"81539.46\",\"NaN\",\"55237.91\",\"71124\",\"69739.2\",\"69749.7\",\"72284.1\",\"60626.38\",\"62086.89\",\"60658.11\",\"58823.6\",\"78631.93\",\"62475.08\",\"60312.67\",\"59789.49\",\"76055.22\",\"NaN\",\"NaN\",\"82187.36\",\"62889.32\",\"61970.64\",\"43867.23\",\"73036.4\",\"49718.16\",\"71185.17\",\"70785.55\",\"NaN\",\"48389.27\",\"NaN\",\"51580.09\",\"69803.28\",\"63900.24\",\"55815.84\",\"82669.68\",\"55118.47\",\"56952.77\",\"65616.22\",\"67198.25\",\"63381.69\",\"71641.68\",\"69074.33\",\"64760.95\",\"81811.63\",\"87986.1\",\"64722.83\",\"55390.45\",\"63381.69\",\"69074.33\",\"80563.66\",\"66048.2\",\"81539.46\",\"62401.61\",\"63749.73\",\"76546.63\",\"81539.46\",\"75021.24\",\"65762.02\",\"63070.86\",\"60450.28\",\"68463.25\",\"77278.04\",\"NaN\",\"68443.5\",\"NaN\",\"54749.32\",\"77278.04\",\"67698\",\"NaN\",\"68050.29\",\"80999.86\",\"67194.13\",\"73199.66\",\"60078.99\",\"65208.79\",\"58065.5\",\"NaN\",\"61912.62\",\"67698\",\"75712.57\",\"58110.89\",\"NaN\",\"78631.93\",\"NaN\",\"82106.43\",\"76971.15\",\"63413.11\",\"59563.35\",\"66680.2\",\"95275.15\",\"68303.77\",\"55831.54\",\"69074.33\",\"57928.41\",\"61267.04\",\"NaN\",\"59287.73\",\"73324.38\",\"69873.4\",\"71872.75\",\"86752.57\",\"NaN\",\"68743.09\",\"50387.75\",\"NaN\",\"NaN\",\"74533.27\",\"58178.62\",\"53799.09\",\"21538.84\",\"65469.83\",\"66043.01\",\"NaN\",\"69752.4\",\"68050.29\",\"63170.67\",\"81652.61\",\"73783.82\",\"77607.85\",\"61912.62\",\"70678.19\",\"NaN\",\"NaN\",\"NaN\",\"72190.32\",\"NaN\",\"NaN\",\"50723.81\",\"78085.65\",\"81811.63\",\"67479.79\",\"55916.29\",\"66876.51\",\"56117.97\",\"60274.33\",\"70368.62\",\"58715.65\",\"70649.66\",\"60332.73\",\"49392.3\",\"56197.77\",\"NaN\",\"76971.15\",\"45641.51\",\"NaN\",\"82106.43\",\"69474.52\",\"NaN\",\"69873.4\",\"69752.4\",\"62817.43\",\"71641.68\",\"55368.03\",\"79940.44\",\"95275.15\",\"56398.61\",\"62475.08\",\"66924.87\",\"78750.43\",\"78252\",\"19719.59\",\"56679.53\",\"80999.86\",\"62761.71\",\"90010.73\",\"47475.29\",\"45854.37\",\"64180.75\",\"70070.97\",\"67082.29\",\"85677.46\",\"76621.08\",\"44602.47\",\"90091.77\",\"63949.26\",\"81327.65\",\"58397.57\",\"49705.55\",\"43867.23\",\"68382.02\",\"75690.27\",\"60626.38\",\"61867.44\",\"56061.18\",\"58823.6\",\"68064.96\",\"80999.86\",\"64551.11\",\"73191.4\",\"66484.66\",\"63424.91\",\"77278.04\",\"71955.13\",\"71646.27\",\"40365.08\",\"83140.68\",\"60658.11\",\"71225.06\",\"NaN\",\"87986.1\",\"65234.5\",\"64914.81\",\"63891.1\",\"86369.03\",\"62562.6\",\"82472.56\",\"NaN\",\"46738.12\",\"62039.21\",\"NaN\",\"62401.61\",\"59479.84\",\"79812.86\",\"72621.06\",\"61757.88\",\"76787.41\",\"66924.87\",\"NaN\",\"57782.89\",\"61269.08\",\"76279.78\",\"NaN\",\"80470.71\",\"69597.25\",\"76787.41\",\"70785.55\",\"82669.68\",\"57562.14\",\"64029.38\",\"90010.73\",\"62876.89\",\"76621.08\",\"81811.63\",\"74655.83\",\"64551.11\",\"77933.64\",\"NaN\",\"76879.55\",\"72190.32\",\"59625.44\",\"71955.13\",\"NaN\",\"60120.16\",\"68443.5\",\"93581.09\",\"77145.9\",\"59985.62\",\"71641.68\",\"64715.84\",\"83140.68\",\"54716.68\",\"57705.44\",\"61824.2\",\"81657.17\",\"64334.8\",\"51940.24\",\"59593.97\",\"58784.16\",\"63433.53\",\"65746.56\",\"75345.96\",\"74581.14\",\"82669.68\",\"62475.08\",\"70833.22\",\"69752.4\",\"65208.79\",\"68302.51\",\"63208.96\",\"74581.97\",\"66314.89\",\"69752.4\",\"62086.89\",\"NaN\",\"67194.13\",\"57656.36\",\"64334.8\",\"54125.14\",\"69739.2\",\"74533.27\",\"68443.5\",\"NaN\",\"53503.12\",\"87964.15\",\"76698.12\",\"71786.79\",\"83552.93\",\"75913.18\",\"71934.52\",\"67375.29\",\"57493.05\",\"63453.08\",\"71225.06\",\"77652.59\",\"69363.5\"],\"PFTFAC\":[\"0.4613\",\"0.8101\",\"0.6667\",\"0.6399\",\"1\",\"0.6654\",\"0.0645\",\"0.5696\",\"0.7766\",\"0.1658\",\"0.9453\",\"0.4805\",\"0.6814\",\"1\",\"0.8318\",\"0.7421\",\"0.7657\",\"0.3891\",\"0.5139\",\"0.9366\",\"0.4708\",\"0.3212\",\"0.7249\",\"0.7689\",\"0.8146\",\"0.8259\",\"NaN\",\"0.4167\",\"0.6779\",\"NaN\",\"0.866\",\"0.7421\",\"1\",\"0.1429\",\"0.1176\",\"0.6716\",\"0.8553\",\"0.6434\",\"0.4779\",\"0.8369\",\"1\",\"NaN\",\"0.078\",\"1\",\"0.9892\",\"0.675\",\"0.7989\",\"0.9063\",\"0.6667\",\"0.3942\",\"1\",\"0.2486\",\"0.699\",\"0.251\",\"0.874\",\"0.7689\",\"0.5931\",\"0.6235\",\"0.4546\",\"0.5546\",\"1\",\"1\",\"0.7733\",\"0.9848\",\"0.8598\",\"0.7625\",\"0.9853\",\"0.8321\",\"0.7498\",\"0.9865\",\"NaN\",\"0.748\",\"0.6654\",\"0.9934\",\"0.8206\",\"0.6938\",\"1\",\"0.8333\",\"0.8692\",\"0.6667\",\"0.2583\",\"0.6901\",\"0.1355\",\"0.13\",\"0.1355\",\"0.1893\",\"0.5443\",\"0.7969\",\"0.7043\",\"0.5873\",\"NaN\",\"0.955\",\"NaN\",\"0.7559\",\"0.6617\",\"1\",\"0.6625\",\"0.5247\",\"0.9655\",\"0.6973\",\"0.2291\",\"0.49\",\"0.6667\",\"0.3654\",\"0.7147\",\"0.6814\",\"0.4086\",\"0.6667\",\"0.8179\",\"0.4857\",\"0.2341\",\"0.6793\",\"0.1873\",\"0.4338\",\"0.7689\",\"0.3417\",\"0.2348\",\"1\",\"0.6453\",\"0.7694\",\"0.6812\",\"NaN\",\"0.7254\",\"0.5267\",\"0.7043\",\"0.8388\",\"0.6293\",\"NaN\",\"0.6283\",\"0.5307\",\"0.5743\",\"0.29\",\"0.4351\",\"0.6453\",\"0.8243\",\"0.13\",\"0.8652\",\"0.8233\",\"0.317\",\"0.5432\",\"0.5546\",\"0.9748\",\"0.9759\",\"0.699\",\"0.9762\",\"0.6676\",\"0.8838\",\"1\",\"0.6452\",\"0.5417\",\"0.7046\",\"0.6625\",\"0.5096\",\"0.3899\",\"0.49\",\"0.6258\",\"0.7286\",\"0.6205\",\"0.7667\",\"0.9573\",\"1\",\"0.4535\",\"0.9481\",\"0.6268\",\"0.2616\",\"0.5506\",\"0.5871\",\"0.8186\",\"1\",\"0.8\",\"0.6805\",\"0.598\",\"0.3928\",\"0.7935\",\"0.9581\",\"0.5443\",\"0.4779\",\"0.6663\",\"1\",\"0.7935\",\"0.4923\",\"0.5931\",\"0.5429\",\"0.6663\",\"NaN\",\"0.6989\",\"0.6845\",\"0.4042\",\"0.3981\",\"0.7037\",\"0.8807\",\"NaN\",\"0.7395\",\"0.3928\",\"1\",\"1\",\"1\",\"0.8962\",\"0.7927\",\"0.6098\",\"0.8776\",\"0.8323\",\"1\",\"0.3118\",\"0.6874\",\"0.5726\",\"0.3697\",\"0.598\",\"NaN\",\"0.9286\",\"0.8215\",\"0.9954\",\"0.0826\",\"0.5429\",\"NaN\",\"0.4861\",\"0.7899\",\"1\",\"0.8094\",\"0.8396\",\"0.4779\",\"0.6453\",\"0.7976\",\"0.8054\",\"0.8146\",\"NaN\",\"0.3284\",\"NaN\",\"1\",\"0.7262\",\"1\",\"0.0374\",\"0.7766\",\"0.3846\",\"NaN\",\"1\",\"0.4338\",\"0.4861\",\"NaN\",\"0.6268\",\"0.5578\",\"NaN\",\"0.3026\",\"0.5124\",\"0.9237\",\"0.5546\",\"0.0909\",\"0.183\",\"0.4805\",\"0.8553\",\"0.5256\",\"1\",\"1\",\"0.9853\",\"0.9848\",\"0.3011\",\"0.7899\",\"0.6568\",\"0.6885\",\"0.6835\",\"0.7885\",\"1\",\"0.2689\",\"0.5373\",\"0.5485\",\"0.481\",\"0.8054\",\"0.7498\",\"0.4508\",\"0.5696\",\"0.9846\",\"0.8453\",\"0.6367\",\"0.984\",\"0.4226\",\"0.7689\",\"0.267\",\"0.8323\",\"0.4642\",\"0.2621\",\"0.6729\",\"0.7611\",\"1\",\"0.959\",\"0.8434\",\"0.8101\",\"0.5019\",\"0.2647\",\"0.6146\",\"NaN\",\"0.9313\",\"1\",\"0.3532\",\"0.9595\",\"0.7683\",\"0.635\",\"0.15\",\"0.6667\",\"0.5096\",\"1\",\"0.191\",\"0.771\",\"0.1873\",\"0.8089\",\"0.7444\",\"0.7881\",\"0.2264\",\"0.15\",\"0.6667\",\"0.0909\",\"1\",\"NaN\",\"NaN\",\"0.1276\",\"NaN\",\"0.5432\",\"0.6568\",\"0.3899\",\"NaN\",\"0.7807\",\"0.7567\",\"0.49\",\"0.6279\",\"0.6747\",\"0.8397\",\"0.8293\",\"0.6434\",\"0.2745\",\"0.8553\",\"0.2132\",\"0.7619\",\"0.7766\",\"0.9655\",\"0.7685\",\"NaN\",\"0.771\",\"0.5526\",\"0.3899\",\"0.3928\",\"0.6968\",\"0.6226\",\"0.4988\",\"0.6477\",\"0.7395\",\"0.7199\",\"0.771\",\"0.6022\",\"0.7903\",\"0.5726\",\"0.7806\",\"0.0374\",\"0.0407\",\"0.9748\",\"0.0374\",\"0.8769\",\"0.7906\",\"0.9812\",\"0.4338\",\"0.8434\",\"0.7046\",\"NaN\",\"0.7574\",\"0.6754\",\"0.5547\",\"0.0687\",\"0.7619\",\"0.5423\",\"0.5096\",\"NaN\",\"NaN\",\"0.4805\",\"0.5546\",\"0.9655\",\"0.742\",\"0.4861\",\"0.8453\",\"0.8233\",\"0.6996\",\"NaN\",\"0.675\",\"NaN\",\"0.8\",\"0.6278\",\"0.7976\",\"0.895\",\"0.5485\",\"NaN\",\"0.7286\",\"0.3452\",\"0.6676\",\"0.8226\",\"0.9041\",\"0.7766\",\"0.2163\",\"0.828\",\"0.3532\",\"0.5689\",\"0.3118\",\"0.6317\",\"0.7766\",\"1\",\"0.7235\",\"0.9748\",\"0.3928\",\"0.6885\",\"0.5873\",\"0.9748\",\"0.659\",\"0.707\",\"NaN\",\"0.9859\",\"0.6219\",\"0.7456\",\"0.0406\",\"0.6531\",\"NaN\",\"0.5307\",\"0.7456\",\"0.8978\",\"NaN\",\"0.9508\",\"0.6654\",\"0.874\",\"0.5135\",\"0.9759\",\"0.6625\",\"0.336\",\"0.1322\",\"0.5609\",\"0.8978\",\"0.7496\",\"0.981\",\"0.4345\",\"0.5547\",\"0.1176\",\"0.999\",\"0.4708\",\"0.6341\",\"0.7942\",\"0.7766\",\"0.5166\",\"0.8852\",\"0.9623\",\"0.7766\",\"0.7454\",\"0.7725\",\"0.3333\",\"0.8551\",\"0.2344\",\"0.768\",\"0.2535\",\"0.4394\",\"1\",\"0.3333\",\"0.6473\",\"NaN\",\"NaN\",\"0.5443\",\"0.2348\",\"0.6793\",\"1\",\"0.3514\",\"0.4954\",\"NaN\",\"0.7562\",\"0.9508\",\"0.7246\",\"0.9521\",\"0.8632\",\"0.984\",\"0.5609\",\"0.1893\",\"NaN\",\"NaN\",\"NaN\",\"0.7421\",\"0.0263\",\"NaN\",\"0.9655\",\"0.8146\",\"0.828\",\"0.4535\",\"0.5024\",\"0.5675\",\"0.7469\",\"0.4537\",\"0.4091\",\"1\",\"1\",\"0.9663\",\"0.3942\",\"0.1922\",\"NaN\",\"0.4708\",\"0.7046\",\"0.7407\",\"0.999\",\"0.9366\",\"0.6545\",\"0.768\",\"0.7899\",\"0.8101\",\"0.9041\",\"0.9643\",\"1\",\"0.5166\",\"0.6364\",\"0.0687\",\"0.0548\",\"0.4603\",\"0.7395\",\"0.2075\",\"0.2132\",\"0.6667\",\"0.2291\",\"0.7799\",\"0.5231\",\"0.98\",\"0.8771\",\"0.9581\",\"0.357\",\"0.5139\",\"0.866\",\"1\",\"0.6688\",\"0.639\",\"0.6874\",\"0.7689\",\"0.6535\",\"0.742\",\"0.825\",\"0.6654\",\"0.7046\",\"0.5577\",\"0.9791\",\"0.6754\",\"0.4729\",\"0.6667\",\"0.7593\",\"0.0502\",\"0.7199\",\"0.1276\",\"0.7456\",\"0.7169\",\"0.7707\",\"1\",\"0.7021\",\"0.7574\",\"0.9056\",\"NaN\",\"0.3532\",\"0.9236\",\"0.7104\",\"0.9934\",\"0.4226\",\"0.51\",\"0.4199\",\"NaN\",\"0.813\",\"0.7651\",\"1\",\"0.3928\",\"0.5743\",\"0.4046\",\"0.4884\",\"0.8054\",\"0.5931\",\"0.0548\",\"0.223\",\"0.4857\",\"0.8388\",\"0.8397\",\"NaN\",\"0.5256\",\"0.476\",\"0.5931\",\"0.6996\",\"0.4436\",\"0.9846\",\"0.7619\",\"0.7799\",\"0.3899\",\"0.866\",\"0.828\",\"0.6992\",\"0.7593\",\"0.8955\",\"NaN\",\"0.8649\",\"0.7421\",\"1\",\"0.7169\",\"1\",\"0.8692\",\"0.6531\",\"0.6376\",\"0.8243\",\"0.6573\",\"0.9041\",\"1\",\"0.7021\",\"0.7537\",\"1\",\"0.5696\",\"0.5639\",\"0.1355\",\"0.668\",\"0.6829\",\"0.3846\",\"0.3359\",\"1\",\"0.7381\",\"0.7924\",\"0.5634\",\"0.0687\",\"0.2341\",\"0.646\",\"0.6625\",\"0.8323\",\"0.9894\",\"0.481\",\"0.6655\",\"0.7899\",\"NaN\",\"0.2727\",\"0.874\",\"0.2616\",\"0.1355\",\"0.8619\",\"0.9812\",\"0.5443\",\"0.6531\",\"NaN\",\"0.906\",\"0.2793\",\"0.2906\",\"0.519\",\"0.2259\",\"0.5\",\"1\",\"0.6845\",\"0.3659\",\"0.4653\",\"0.9056\",\"0.1658\",\"1\"],\"REGION\":[\"5\",\"3\",\"1\",\"1\",\"4\",\"1\",\"5\",\"2\",\"6\",\"1\",\"5\",\"2\",\"5\",\"5\",\"4\",\"5\",\"5\",\"5\",\"2\",\"7\",\"2\",\"2\",\"6\",\"5\",\"8\",\"3\",\"NaN\",\"3\",\"4\",\"6\",\"8\",\"5\",\"7\",\"2\",\"2\",\"5\",\"5\",\"6\",\"8\",\"4\",\"1\",\"8\",\"6\",\"4\",\"5\",\"5\",\"5\",\"5\",\"1\",\"2\",\"2\",\"2\",\"5\",\"4\",\"6\",\"5\",\"8\",\"1\",\"8\",\"8\",\"5\",\"1\",\"4\",\"3\",\"5\",\"6\",\"8\",\"8\",\"6\",\"1\",\"NaN\",\"5\",\"1\",\"3\",\"4\",\"6\",\"2\",\"6\",\"5\",\"1\",\"5\",\"7\",\"4\",\"8\",\"4\",\"4\",\"2\",\"1\",\"6\",\"1\",\"NaN\",\"7\",\"1\",\"2\",\"2\",\"3\",\"3\",\"4\",\"3\",\"8\",\"4\",\"3\",\"1\",\"2\",\"8\",\"5\",\"2\",\"1\",\"5\",\"3\",\"4\",\"4\",\"3\",\"2\",\"5\",\"5\",\"5\",\"8\",\"3\",\"1\",\"5\",\"NaN\",\"3\",\"5\",\"6\",\"4\",\"5\",\"8\",\"4\",\"8\",\"3\",\"2\",\"2\",\"3\",\"3\",\"8\",\"2\",\"3\",\"5\",\"8\",\"8\",\"2\",\"4\",\"1\",\"4\",\"3\",\"2\",\"9\",\"4\",\"1\",\"3\",\"3\",\"3\",\"5\",\"3\",\"5\",\"8\",\"5\",\"5\",\"6\",\"5\",\"3\",\"5\",\"3\",\"2\",\"4\",\"8\",\"5\",\"3\",\"3\",\"1\",\"5\",\"5\",\"8\",\"8\",\"2\",\"8\",\"8\",\"2\",\"8\",\"2\",\"8\",\"2\",\"8\",\"NaN\",\"1\",\"5\",\"8\",\"2\",\"4\",\"3\",\"1\",\"2\",\"5\",\"2\",\"9\",\"2\",\"1\",\"1\",\"2\",\"4\",\"3\",\"9\",\"2\",\"7\",\"8\",\"4\",\"5\",\"4\",\"5\",\"6\",\"6\",\"5\",\"2\",\"NaN\",\"8\",\"8\",\"5\",\"5\",\"5\",\"8\",\"3\",\"6\",\"5\",\"8\",\"NaN\",\"2\",\"5\",\"2\",\"6\",\"1\",\"6\",\"6\",\"3\",\"8\",\"2\",\"2\",\"8\",\"NaN\",\"3\",\"2\",\"4\",\"1\",\"8\",\"5\",\"8\",\"4\",\"2\",\"2\",\"5\",\"2\",\"5\",\"2\",\"8\",\"3\",\"2\",\"8\",\"2\",\"3\",\"2\",\"6\",\"1\",\"1\",\"2\",\"2\",\"6\",\"5\",\"6\",\"1\",\"4\",\"5\",\"5\",\"3\",\"5\",\"2\",\"5\",\"1\",\"8\",\"8\",\"2\",\"6\",\"5\",\"4\",\"5\",\"6\",\"3\",\"3\",\"3\",\"5\",\"NaN\",\"1\",\"3\",\"3\",\"3\",\"5\",\"4\",\"5\",\"1\",\"3\",\"5\",\"5\",\"8\",\"3\",\"5\",\"6\",\"2\",\"2\",\"5\",\"1\",\"4\",\"8\",\"NaN\",\"4\",\"4\",\"NaN\",\"8\",\"2\",\"5\",\"NaN\",\"6\",\"2\",\"3\",\"2\",\"5\",\"5\",\"6\",\"6\",\"8\",\"5\",\"3\",\"8\",\"6\",\"3\",\"7\",\"7\",\"8\",\"2\",\"5\",\"5\",\"7\",\"5\",\"8\",\"1\",\"2\",\"4\",\"8\",\"4\",\"3\",\"8\",\"5\",\"6\",\"8\",\"2\",\"6\",\"6\",\"5\",\"6\",\"2\",\"6\",\"3\",\"6\",\"5\",\"5\",\"8\",\"4\",\"8\",\"6\",\"3\",\"NaN\",\"8\",\"2\",\"8\",\"3\",\"6\",\"8\",\"5\",\"3\",\"8\",\"5\",\"5\",\"NaN\",\"3\",\"5\",\"6\",\"2\",\"2\",\"4\",\"8\",\"8\",\"3\",\"2\",\"6\",\"6\",\"8\",\"3\",\"1\",\"3\",\"2\",\"2\",\"6\",\"2\",\"3\",\"2\",\"5\",\"3\",\"1\",\"2\",\"3\",\"5\",\"6\",\"4\",\"1\",\"3\",\"3\",\"4\",\"NaN\",\"8\",\"3\",\"3\",\"NaN\",\"8\",\"1\",\"6\",\"2\",\"4\",\"3\",\"1\",\"4\",\"3\",\"3\",\"3\",\"5\",\"8\",\"8\",\"2\",\"2\",\"2\",\"3\",\"3\",\"2\",\"5\",\"8\",\"4\",\"6\",\"5\",\"5\",\"2\",\"5\",\"1\",\"3\",\"8\",\"2\",\"2\",\"7\",\"5\",\"NaN\",\"3\",\"2\",\"5\",\"4\",\"9\",\"2\",\"4\",\"NaN\",\"8\",\"8\",\"8\",\"2\",\"8\",\"5\",\"3\",\"4\",\"NaN\",\"NaN\",\"NaN\",\"5\",\"5\",\"3\",\"5\",\"8\",\"3\",\"3\",\"5\",\"6\",\"4\",\"4\",\"5\",\"3\",\"7\",\"6\",\"2\",\"2\",\"5\",\"2\",\"6\",\"8\",\"2\",\"7\",\"5\",\"3\",\"8\",\"3\",\"6\",\"5\",\"2\",\"5\",\"5\",\"4\",\"2\",\"8\",\"2\",\"9\",\"3\",\"1\",\"4\",\"2\",\"6\",\"5\",\"5\",\"8\",\"8\",\"2\",\"8\",\"5\",\"2\",\"2\",\"7\",\"5\",\"5\",\"6\",\"5\",\"3\",\"3\",\"8\",\"7\",\"5\",\"8\",\"1\",\"3\",\"2\",\"4\",\"4\",\"3\",\"3\",\"8\",\"6\",\"1\",\"5\",\"5\",\"4\",\"1\",\"8\",\"7\",\"3\",\"2\",\"2\",\"8\",\"5\",\"5\",\"7\",\"2\",\"5\",\"3\",\"3\",\"8\",\"5\",\"8\",\"2\",\"8\",\"3\",\"4\",\"5\",\"NaN\",\"2\",\"5\",\"8\",\"8\",\"2\",\"6\",\"5\",\"2\",\"5\",\"8\",\"3\",\"2\",\"3\",\"5\",\"5\",\"1\",\"5\",\"5\",\"3\",\"1\",\"5\",\"4\",\"8\",\"3\",\"6\",\"6\",\"3\",\"1\",\"5\",\"5\",\"2\",\"2\",\"4\",\"5\",\"6\",\"3\",\"8\",\"2\",\"1\",\"1\",\"2\",\"4\",\"4\",\"8\",\"3\",\"8\",\"3\",\"1\",\"4\",\"8\",\"6\",\"2\",\"6\",\"2\",\"4\",\"7\",\"6\",\"2\",\"4\",\"3\",\"8\",\"2\",\"8\",\"4\",\"2\",\"1\",\"5\",\"5\",\"4\",\"6\",\"5\",\"1\",\"5\"],\"SAT_AVG_ALL\":[\"1120\",\"NaN\",\"1253\",\"1461\",\"1056\",\"1253\",\"NaN\",\"1107\",\"1222\",\"1228\",\"1427\",\"1456\",\"1018\",\"1105\",\"NaN\",\"1160\",\"1149\",\"NaN\",\"1380\",\"1236\",\"1512\",\"NaN\",\"1184\",\"1256\",\"1316\",\"1124\",\"NaN\",\"1113\",\"1278\",\"NaN\",\"1292\",\"1160\",\"1016\",\"NaN\",\"NaN\",\"984\",\"1289\",\"1222\",\"1030\",\"1250\",\"NaN\",\"NaN\",\"NaN\",\"1117\",\"1261\",\"1135\",\"1212\",\"1242\",\"1253\",\"1150\",\"955\",\"NaN\",\"1159\",\"1130\",\"1291\",\"1256\",\"1445\",\"1294\",\"1027\",\"1111\",\"1079\",\"1085\",\"1313\",\"1025\",\"1230\",\"1198\",\"1497\",\"NaN\",\"1163\",\"1545\",\"NaN\",\"1076\",\"1253\",\"1098\",\"1149\",\"1249\",\"1354\",\"980\",\"1303\",\"1253\",\"NaN\",\"1197\",\"NaN\",\"NaN\",\"NaN\",\"1146\",\"1281\",\"1488\",\"1120\",\"1240\",\"NaN\",\"1201\",\"NaN\",\"1301\",\"1284\",\"1148\",\"1359\",\"1269\",\"1097\",\"1423\",\"1074\",\"NaN\",\"1253\",\"1045\",\"1057\",\"1018\",\"NaN\",\"1253\",\"1139\",\"1111\",\"1148\",\"1135\",\"NaN\",\"1181\",\"1256\",\"NaN\",\"1079\",\"1288\",\"1120\",\"1289\",\"NaN\",\"NaN\",\"1156\",\"1031\",\"1120\",\"1219\",\"1173\",\"NaN\",\"1059\",\"1063\",\"1131\",\"1172\",\"1101\",\"1120\",\"1434\",\"NaN\",\"NaN\",\"1365\",\"1141\",\"1019\",\"1111\",\"1513\",\"1152\",\"1156\",\"1104\",\"1158\",\"1415\",\"NaN\",\"1132\",\"1131\",\"1145\",\"1359\",\"1261\",\"1196\",\"NaN\",\"1143\",\"991\",\"1019\",\"1398\",\"NaN\",\"1105\",\"961\",\"1093\",\"1107\",\"NaN\",\"1179\",\"NaN\",\"1012\",\"1083\",\"NaN\",\"1398\",\"1227\",\"1133\",\"1123\",\"1113\",\"1281\",\"1030\",\"1448\",\"955\",\"1123\",\"1122\",\"1445\",\"NaN\",\"1448\",\"NaN\",\"1160\",\"NaN\",\"1147\",\"1115\",\"1145\",\"1224\",\"NaN\",\"1492\",\"1133\",\"1129\",\"NaN\",\"NaN\",\"1492\",\"1302\",\"NaN\",\"1279\",\"1520\",\"NaN\",\"1240\",\"1281\",\"1282\",\"NaN\",\"1227\",\"NaN\",\"NaN\",\"1220\",\"1085\",\"NaN\",\"NaN\",\"NaN\",\"1124\",\"1309\",\"NaN\",\"1021\",\"1207\",\"1030\",\"1120\",\"1075\",\"1222\",\"1316\",\"NaN\",\"1182\",\"NaN\",\"1171\",\"1131\",\"NaN\",\"NaN\",\"1222\",\"NaN\",\"NaN\",\"1154\",\"1181\",\"1124\",\"NaN\",\"1107\",\"1287\",\"NaN\",\"1054\",\"NaN\",\"1337\",\"1111\",\"NaN\",\"1163\",\"1456\",\"1289\",\"1131\",\"1105\",\"1042\",\"1497\",\"1025\",\"1108\",\"1309\",\"1007\",\"1084\",\"1219\",\"1043\",\"994\",\"NaN\",\"1089\",\"1257\",\"1044\",\"1222\",\"1163\",\"1086\",\"1204\",\"1080\",\"NaN\",\"1102\",\"1293\",\"1253\",\"1256\",\"NaN\",\"NaN\",\"1047\",\"991\",\"1020\",\"1169\",\"1181\",\"1279\",\"1367\",\"NaN\",\"1198\",\"NaN\",\"1186\",\"NaN\",\"NaN\",\"1131\",\"1123\",\"1309\",\"1150\",\"NaN\",\"NaN\",\"1253\",\"1261\",\"929\",\"NaN\",\"1204\",\"NaN\",\"1157\",\"1033\",\"1050\",\"1098\",\"NaN\",\"1253\",\"NaN\",\"1163\",\"NaN\",\"NaN\",\"NaN\",\"NaN\",\"1019\",\"1007\",\"1196\",\"NaN\",\"1307\",\"1068\",\"NaN\",\"1326\",\"1129\",\"1514\",\"NaN\",\"1222\",\"NaN\",\"1289\",\"NaN\",\"1204\",\"1222\",\"1097\",\"1199\",\"NaN\",\"1204\",\"NaN\",\"1196\",\"1133\",\"1150\",\"1172\",\"1054\",\"1429\",\"1492\",\"1244\",\"1204\",\"NaN\",\"1022\",\"1282\",\"1186\",\"NaN\",\"1138\",\"1513\",\"NaN\",\"1209\",\"1365\",\"1059\",\"1181\",\"1367\",\"1145\",\"NaN\",\"1100\",\"1133\",\"1321\",\"NaN\",\"1204\",\"1045\",\"1261\",\"NaN\",\"NaN\",\"1456\",\"1111\",\"1097\",\"1050\",\"1124\",\"NaN\",\"1365\",\"1246\",\"NaN\",\"1135\",\"NaN\",\"NaN\",\"1428\",\"1075\",\"1020\",\"1257\",\"NaN\",\"991\",\"1148\",\"1158\",\"1202\",\"1145\",\"1222\",\"NaN\",\"1508\",\"1190\",\"1269\",\"1240\",\"1202\",\"1222\",\"1051\",\"1115\",\"1513\",\"1133\",\"1084\",\"1240\",\"1513\",\"NaN\",\"1190\",\"NaN\",\"1124\",\"NaN\",\"1338\",\"NaN\",\"1276\",\"NaN\",\"1063\",\"1338\",\"1037\",\"NaN\",\"1172\",\"1253\",\"1291\",\"1096\",\"1152\",\"1359\",\"1050\",\"NaN\",\"1127\",\"1037\",\"1095\",\"1185\",\"NaN\",\"1321\",\"NaN\",\"1419\",\"1512\",\"1120\",\"1170\",\"1210\",\"1227\",\"NaN\",\"1170\",\"1222\",\"1252\",\"1210\",\"NaN\",\"1239\",\"1128\",\"1443\",\"1138\",\"1265\",\"1202\",\"NaN\",\"1162\",\"NaN\",\"NaN\",\"1281\",\"1079\",\"1135\",\"NaN\",\"NaN\",\"1135\",\"NaN\",\"1309\",\"1172\",\"1062\",\"1507\",\"1439\",\"1293\",\"1127\",\"1146\",\"NaN\",\"NaN\",\"NaN\",\"1160\",\"NaN\",\"NaN\",\"1084\",\"1316\",\"1508\",\"961\",\"1065\",\"1157\",\"1169\",\"1136\",\"1250\",\"1137\",\"1185\",\"NaN\",\"1150\",\"987\",\"NaN\",\"1512\",\"1064\",\"NaN\",\"1419\",\"1236\",\"1172\",\"1443\",\"1309\",\"NaN\",\"1145\",\"NaN\",\"1214\",\"1227\",\"1032\",\"NaN\",\"NaN\",\"NaN\",\"1492\",\"NaN\",\"NaN\",\"1253\",\"1074\",\"1390\",\"1046\",\"1019\",\"1336\",\"1113\",\"1120\",\"1380\",\"1292\",\"944\",\"1407\",\"1250\",\"1281\",\"1256\",\"1071\",\"1050\",\"1207\",\"1263\",\"1145\",\"1092\",\"1202\",\"1133\",\"1143\",\"1253\",\"1170\",\"NaN\",\"1244\",\"NaN\",\"1338\",\"1145\",\"1155\",\"1062\",\"1420\",\"1100\",\"1345\",\"NaN\",\"1190\",\"NaN\",\"1324\",\"1098\",\"1253\",\"NaN\",\"1237\",\"NaN\",\"1219\",\"NaN\",\"1202\",\"1133\",\"1131\",\"1142\",\"1240\",\"1222\",\"1445\",\"NaN\",\"NaN\",\"1111\",\"1219\",\"1514\",\"NaN\",\"1131\",\"1142\",\"1445\",\"1246\",\"1257\",\"1050\",\"1057\",\"1390\",\"1196\",\"1292\",\"1508\",\"1130\",\"1170\",\"1465\",\"NaN\",\"1520\",\"1160\",\"1121\",\"1145\",\"NaN\",\"1353\",\"1276\",\"1366\",\"1434\",\"NaN\",\"1145\",\"1131\",\"1420\",\"962\",\"NaN\",\"1107\",\"1320\",\"NaN\",\"1136\",\"1085\",\"NaN\",\"1074\",\"955\",\"1517\",\"NaN\",\"1257\",\"NaN\",\"1148\",\"1309\",\"1359\",\"NaN\",\"NaN\",\"1027\",\"1105\",\"1309\",\"NaN\",\"NaN\",\"1291\",\"NaN\",\"NaN\",\"1125\",\"1059\",\"1281\",\"1276\",\"NaN\",\"1053\",\"1155\",\"NaN\",\"1124\",\"1151\",\"1053\",\"1182\",\"NaN\",\"1135\",\"1120\",\"1345\",\"1228\",\"NaN\"],\"STABBR\":[\"NC\",\"IN\",\"CT\",\"MA\",\"IA\",\"CT\",\"SC\",\"NY\",\"AZ\",\"MA\",\"VA\",\"DC\",\"MS\",\"TN\",\"NE\",\"GA\",\"TN\",\"KY\",\"DC\",\"UT\",\"NY\",\"DC\",\"TX\",\"FL\",\"CA\",\"IL\",\"NaN\",\"IL\",\"IA\",\"NM\",\"CA\",\"GA\",\"CO\",\"NJ\",\"MD\",\"NC\",\"AL\",\"AZ\",\"CA\",\"KS\",\"CT\",\"NV\",\"AZ\",\"MO\",\"FL\",\"AL\",\"VA\",\"LA\",\"CT\",\"NY\",\"NJ\",\"NY\",\"FL\",\"MO\",\"TX\",\"FL\",\"CA\",\"RI\",\"CA\",\"OR\",\"NC\",\"VT\",\"MO\",\"MI\",\"MS\",\"AZ\",\"CA\",\"CA\",\"TX\",\"MA\",\"NaN\",\"GA\",\"CT\",\"IN\",\"SD\",\"OK\",\"NY\",\"TX\",\"TN\",\"CT\",\"SC\",\"CO\",\"MN\",\"CA\",\"MN\",\"MO\",\"PA\",\"NH\",\"NM\",\"MA\",\"NaN\",\"UT\",\"MA\",\"PA\",\"NY\",\"IN\",\"OH\",\"MN\",\"OH\",\"CA\",\"MO\",\"IL\",\"CT\",\"NY\",\"HI\",\"MS\",\"NY\",\"CT\",\"GA\",\"OH\",\"MN\",\"SD\",\"IN\",\"NY\",\"FL\",\"AL\",\"FL\",\"CA\",\"WI\",\"VT\",\"FL\",\"NaN\",\"IL\",\"GA\",\"NM\",\"IA\",\"GA\",\"NV\",\"ND\",\"OR\",\"OH\",\"NY\",\"NJ\",\"WI\",\"MI\",\"CA\",\"NY\",\"WI\",\"KY\",\"CA\",\"OR\",\"MD\",\"KS\",\"ME\",\"KS\",\"MI\",\"NY\",\"PR\",\"MN\",\"MA\",\"OH\",\"OH\",\"IL\",\"FL\",\"IL\",\"FL\",\"WA\",\"GA\",\"NC\",\"TX\",\"TN\",\"IL\",\"VA\",\"MI\",\"NY\",\"MO\",\"CA\",\"NC\",\"OH\",\"MI\",\"MA\",\"KY\",\"VA\",\"WA\",\"NV\",\"PA\",\"CA\",\"CA\",\"NJ\",\"WA\",\"NJ\",\"CA\",\"PA\",\"CA\",\"NaN\",\"MA\",\"VA\",\"CA\",\"PA\",\"SD\",\"MI\",\"ME\",\"PA\",\"VA\",\"PA\",\"PR\",\"PA\",\"RI\",\"MA\",\"NJ\",\"MO\",\"IL\",\"PR\",\"NY\",\"CO\",\"WA\",\"MN\",\"KY\",\"IA\",\"LA\",\"TX\",\"OK\",\"FL\",\"PA\",\"NaN\",\"CA\",\"WA\",\"FL\",\"GA\",\"MS\",\"CA\",\"WI\",\"TX\",\"AR\",\"CA\",\"NaN\",\"NY\",\"NC\",\"NY\",\"TX\",\"CT\",\"AZ\",\"AZ\",\"WI\",\"NV\",\"NY\",\"NY\",\"CA\",\"NaN\",\"MI\",\"NJ\",\"NE\",\"MA\",\"CA\",\"SC\",\"OR\",\"MO\",\"PA\",\"DC\",\"FL\",\"MD\",\"TN\",\"PA\",\"CA\",\"MI\",\"PA\",\"WA\",\"PA\",\"OH\",\"NY\",\"TX\",\"RI\",\"NH\",\"NY\",\"NJ\",\"TX\",\"AR\",\"TX\",\"MA\",\"MO\",\"NC\",\"AR\",\"IL\",\"VA\",\"NY\",\"FL\",\"NH\",\"CA\",\"CA\",\"NJ\",\"NM\",\"WV\",\"MO\",\"GA\",\"TX\",\"IN\",\"OH\",\"OH\",\"AL\",\"NaN\",\"RI\",\"MI\",\"IL\",\"IN\",\"KY\",\"NE\",\"GA\",\"CT\",\"IL\",\"SC\",\"WV\",\"OR\",\"IN\",\"GA\",\"TX\",\"PA\",\"PA\",\"GA\",\"CT\",\"MO\",\"CA\",\"NaN\",\"MN\",\"NE\",\"NaN\",\"CA\",\"PA\",\"FL\",\"NaN\",\"TX\",\"PA\",\"IL\",\"NY\",\"SC\",\"TN\",\"OK\",\"AZ\",\"OR\",\"FL\",\"MI\",\"OR\",\"AZ\",\"OH\",\"MT\",\"CO\",\"OR\",\"NY\",\"FL\",\"VA\",\"MT\",\"VA\",\"CA\",\"MA\",\"PA\",\"MO\",\"OR\",\"KS\",\"IL\",\"WA\",\"AR\",\"AZ\",\"WA\",\"MD\",\"AZ\",\"OK\",\"FL\",\"TX\",\"NY\",\"TX\",\"OH\",\"NM\",\"NC\",\"TN\",\"CA\",\"MN\",\"OR\",\"TX\",\"IL\",\"NaN\",\"NV\",\"DC\",\"OR\",\"OH\",\"NM\",\"CA\",\"AR\",\"WI\",\"WA\",\"GA\",\"AL\",\"NaN\",\"MI\",\"LA\",\"TX\",\"PA\",\"NJ\",\"IA\",\"WA\",\"OR\",\"MI\",\"PA\",\"TX\",\"AZ\",\"CA\",\"IL\",\"CT\",\"OH\",\"NY\",\"PA\",\"AZ\",\"NJ\",\"MI\",\"MD\",\"VA\",\"OH\",\"MA\",\"MD\",\"IL\",\"NC\",\"TX\",\"NE\",\"MA\",\"IL\",\"IL\",\"NE\",\"NaN\",\"OR\",\"IL\",\"IL\",\"NaN\",\"NV\",\"CT\",\"TX\",\"NJ\",\"KS\",\"OH\",\"ME\",\"NE\",\"MI\",\"IL\",\"IL\",\"FL\",\"CA\",\"CA\",\"MD\",\"NY\",\"NY\",\"WI\",\"OH\",\"DC\",\"VA\",\"CA\",\"ND\",\"AZ\",\"AL\",\"NC\",\"PA\",\"KY\",\"MA\",\"OH\",\"WA\",\"NJ\",\"PA\",\"CO\",\"KY\",\"NaN\",\"MI\",\"PA\",\"FL\",\"SD\",\"PR\",\"NY\",\"NE\",\"NaN\",\"WA\",\"NV\",\"WA\",\"PA\",\"CA\",\"VA\",\"MI\",\"MO\",\"NaN\",\"NaN\",\"NaN\",\"GA\",\"NC\",\"MI\",\"AL\",\"CA\",\"IL\",\"IL\",\"KY\",\"TX\",\"IA\",\"IA\",\"TN\",\"OH\",\"UT\",\"TX\",\"NY\",\"NY\",\"FL\",\"NY\",\"OK\",\"CA\",\"NY\",\"UT\",\"GA\",\"OH\",\"WA\",\"IN\",\"TX\",\"TN\",\"PA\",\"VA\",\"NC\",\"MN\",\"DE\",\"CA\",\"PA\",\"PR\",\"MI\",\"CT\",\"MO\",\"MD\",\"TX\",\"LA\",\"NC\",\"NV\",\"CA\",\"DC\",\"CA\",\"LA\",\"PA\",\"NY\",\"CO\",\"FL\",\"TN\",\"NM\",\"GA\",\"OH\",\"OH\",\"CA\",\"WY\",\"TN\",\"CA\",\"CT\",\"WI\",\"MD\",\"MO\",\"NE\",\"IL\",\"IL\",\"HI\",\"OK\",\"MA\",\"NC\",\"GA\",\"MO\",\"CT\",\"CA\",\"UT\",\"IN\",\"NY\",\"NY\",\"CA\",\"AR\",\"LA\",\"UT\",\"PA\",\"VA\",\"OH\",\"IL\",\"CA\",\"AR\",\"CA\",\"DE\",\"CA\",\"OH\",\"IA\",\"TN\",\"NaN\",\"MD\",\"NC\",\"CA\",\"WA\",\"NJ\",\"TX\",\"VA\",\"MD\",\"FL\",\"CA\",\"IL\",\"PA\",\"WI\",\"GA\",\"AR\",\"MA\",\"GA\",\"TN\",\"IL\",\"MA\",\"FL\",\"NE\",\"CA\",\"MI\",\"AZ\",\"TX\",\"WI\",\"MA\",\"NC\",\"MS\",\"NY\",\"DC\",\"MN\",\"LA\",\"TX\",\"WI\",\"OR\",\"DC\",\"CT\",\"MA\",\"NJ\",\"MN\",\"MN\",\"WA\",\"OH\",\"CA\",\"MI\",\"CT\",\"MN\",\"WA\",\"NM\",\"NJ\",\"TX\",\"NY\",\"MN\",\"ID\",\"TX\",\"PA\",\"NE\",\"MI\",\"CA\",\"NY\",\"CA\",\"MN\",\"MD\",\"NH\",\"FL\",\"VA\",\"SD\",\"OK\",\"GA\",\"MA\",\"FL\"],\"TUITIONFEE_IN\":[\"32500\",\"9896\",\"13688\",\"56382\",\"29240\",\"15730\",\"13380\",\"8412\",\"10822\",\"40850\",\"17653\",\"54104\",\"8051\",\"8159\",\"NaN\",\"9112\",\"8858\",\"12870\",\"55230\",\"9222\",\"59430\",\"5888\",\"8292\",\"6410\",\"13700\",\"14704\",\"NaN\",\"37055\",\"41396\",\"NaN\",\"14402\",\"9112\",\"7666\",\"13380\",\"13380\",\"6464\",\"11276\",\"10317\",\"7310\",\"11148\",\"48350\",\"9552\",\"17050\",\"17600\",\"6368\",\"8760\",\"12016\",\"11950\",\"13688\",\"7240\",\"12052\",\"26188\",\"4831\",\"24110\",\"11870\",\"6410\",\"56225\",\"50528\",\"6893\",\"9105\",\"33166\",\"37080\",\"9440\",\"12508\",\"8650\",\"12467\",\"51354\",\"14600\",\"10852\",\"51832\",\"NaN\",\"6410\",\"15730\",\"29688\",\"8764\",\"NaN\",\"52687\",\"10533\",\"13006\",\"13698\",\"17014\",\"11707\",\"14579\",\"17865\",\"14579\",\"28470\",\"53244\",\"55453\",\"7633\",\"15180\",\"NaN\",\"8138\",\"NaN\",\"19080\",\"51853\",\"24768\",\"10726\",\"42736\",\"9254\",\"13226\",\"27124\",\"39975\",\"13648\",\"7210\",\"7720\",\"8051\",\"39600\",\"13698\",\"6356\",\"10457\",\"35110\",\"9061\",\"14343\",\"41760\",\"6410\",\"5535\",\"23020\",\"52724\",\"9588\",\"18276\",\"20208\",\"NaN\",\"12132\",\"29050\",\"7633\",\"8988\",\"6347\",\"9552\",\"7626\",\"9615\",\"10312\",\"36890\",\"42860\",\"9588\",\"15262\",\"17865\",\"30857\",\"10555\",\"23000\",\"6587\",\"9105\",\"53740\",\"8270\",\"11170\",\"29736\",\"12484\",\"53880\",\"5820\",\"8496\",\"38566\",\"10293\",\"10726\",\"44048\",\"30900\",\"39975\",\"6118\",\"7323\",\"6134\",\"8987\",\"NaN\",\"8159\",\"12196\",\"10560\",\"12483\",\"19042\",\"9792\",\"NaN\",\"3418\",\"8967\",\"NaN\",\"55395\",\"11656\",\"22584\",\"11584\",\"7985\",\"53244\",\"7310\",\"14184\",\"12052\",\"11584\",\"13697\",\"56225\",\"16970\",\"14184\",\"NaN\",\"36804\",\"11210\",\"38880\",\"45948\",\"9276\",\"14460\",\"14343\",\"55584\",\"22584\",\"27350\",\"5820\",\"37611\",\"55466\",\"15887\",\"39800\",\"7749\",\"58230\",\"5820\",\"7182\",\"12532\",\"43210\",\"22275\",\"11656\",\"14343\",\"NaN\",\"8913\",\"7335\",\"13380\",\"16970\",\"NaN\",\"6886\",\"11207\",\"14650\",\"6288\",\"8660\",\"7310\",\"9588\",\"8296\",\"19845\",\"13700\",\"NaN\",\"38740\",\"NaN\",\"34310\",\"8049\",\"48350\",\"9552\",\"10822\",\"28302\",\"9552\",\"45280\",\"41760\",\"6886\",\"NaN\",\"12483\",\"17338\",\"14343\",\"25598\",\"7309\",\"15374\",\"9105\",\"17395\",\"40651\",\"54104\",\"5656\",\"9940\",\"8159\",\"34900\",\"51354\",\"12508\",\"32947\",\"11207\",\"11108\",\"11105\",\"8651\",\"8373\",\"8929\",\"32140\",\"38812\",\"14974\",\"31484\",\"19845\",\"10852\",\"10429\",\"37590\",\"32000\",\"NaN\",\"32078\",\"13620\",\"45700\",\"6410\",\"37914\",\"NaN\",\"7713\",\"12348\",\"6326\",\"8856\",\"27900\",\"36894\",\"10610\",\"9896\",\"38530\",\"NaN\",\"8396\",\"NaN\",\"40150\",\"29290\",\"29832\",\"9992\",\"9070\",\"33800\",\"17545\",\"13688\",\"44048\",\"11060\",\"6880\",\"11166\",\"14343\",\"37130\",\"9233\",\"10574\",\"31450\",\"17545\",\"13688\",\"17395\",\"42692\",\"NaN\",\"NaN\",\"7827\",\"NaN\",\"6587\",\"11108\",\"30900\",\"NaN\",\"45542\",\"12718\",\"39975\",\"9625\",\"12516\",\"49816\",\"6226\",\"10317\",\"38250\",\"5656\",\"18414\",\"10158\",\"10822\",\"9254\",\"7412\",\"11960\",\"11166\",\"NaN\",\"30900\",\"22584\",\"7244\",\"14493\",\"7260\",\"55464\",\"55584\",\"9972\",\"11166\",\"8312\",\"11803\",\"43210\",\"8752\",\"9552\",\"15600\",\"53740\",\"9552\",\"9019\",\"50226\",\"7796\",\"41760\",\"10610\",\"10293\",\"NaN\",\"7331\",\"9317\",\"48522\",\"12120\",\"10158\",\"19582\",\"44048\",\"NaN\",\"9552\",\"54104\",\"9105\",\"9254\",\"6686\",\"6886\",\"NaN\",\"10555\",\"44610\",\"NaN\",\"8760\",\"NaN\",\"NaN\",\"54820\",\"8296\",\"10878\",\"14974\",\"14343\",\"7323\",\"36020\",\"12484\",\"18454\",\"28870\",\"10822\",\"13320\",\"54568\",\"47960\",\"11000\",\"7182\",\"15198\",\"10822\",\"34715\",\"12960\",\"53740\",\"22584\",\"11105\",\"15180\",\"53740\",\"NaN\",\"6853\",\"NaN\",\"32220\",\"14167\",\"15094\",\"17509\",\"39916\",\"NaN\",\"9615\",\"15094\",\"12951\",\"NaN\",\"7599\",\"15730\",\"11870\",\"13739\",\"8270\",\"10726\",\"8918\",\"11370\",\"13097\",\"12951\",\"14617\",\"6556\",\"NaN\",\"48522\",\"13380\",\"51828\",\"59430\",\"7878\",\"12192\",\"26756\",\"12462\",\"NaN\",\"9414\",\"10822\",\"10780\",\"7364\",\"17689\",\"12245\",\"27975\",\"49042\",\"31540\",\"16551\",\"13988\",\"31790\",\"10512\",\"NaN\",\"NaN\",\"53244\",\"23020\",\"9061\",\"5820\",\"7290\",\"7790\",\"NaN\",\"11261\",\"7599\",\"8072\",\"55465\",\"NaN\",\"13620\",\"13097\",\"28470\",\"NaN\",\"NaN\",\"NaN\",\"9112\",\"18085\",\"NaN\",\"8404\",\"13700\",\"54568\",\"12196\",\"24500\",\"10496\",\"8938\",\"39144\",\"34310\",\"36040\",\"34000\",\"NaN\",\"7240\",\"29500\",\"NaN\",\"59430\",\"6650\",\"14738\",\"51828\",\"9222\",\"8604\",\"49042\",\"11207\",\"9896\",\"28870\",\"NaN\",\"44974\",\"12462\",\"6612\",\"12120\",\"11210\",\"6983\",\"55584\",\"6221\",\"18414\",\"13698\",\"27124\",\"10595\",\"6260\",\"9122\",\"9101\",\"7985\",\"43050\",\"55230\",\"14402\",\"7435\",\"53308\",\"10099\",\"12532\",\"6410\",\"24860\",\"6686\",\"9346\",\"42900\",\"10293\",\"7608\",\"5400\",\"9317\",\"7353\",\"13648\",\"8820\",\"7416\",\"9972\",\"7827\",\"15094\",\"13764\",\"11970\",\"6810\",\"53948\",\"7331\",\"11830\",\"14343\",\"47960\",\"NaN\",\"5620\",\"29688\",\"45700\",\"NaN\",\"48066\",\"13380\",\"9645\",\"6670\",\"13988\",\"22584\",\"10312\",\"32450\",\"48164\",\"19845\",\"56225\",\"11210\",\"NaN\",\"10457\",\"8988\",\"49816\",\"NaN\",\"9940\",\"34684\",\"56225\",\"44610\",\"14835\",\"8748\",\"18380\",\"10595\",\"30900\",\"14402\",\"54568\",\"10412\",\"8820\",\"12424\",\"13380\",\"50420\",\"9112\",\"25598\",\"13764\",\"12120\",\"6381\",\"39916\",\"51711\",\"15262\",\"11564\",\"28870\",\"29450\",\"53948\",\"5904\",\"25300\",\"8412\",\"48459\",\"14579\",\"8771\",\"28990\",\"28302\",\"31158\",\"17038\",\"53430\",\"52404\",\"14409\",\"12120\",\"35110\",\"11138\",\"10726\",\"NaN\",\"27124\",\"10954\",\"8184\",\"11207\",\"NaN\",\"17619\",\"11870\",\"19042\",\"14579\",\"7864\",\"7796\",\"53244\",\"39916\",\"NaN\",\"32458\",\"31490\",\"NaN\",\"39554\",\"43260\",\"14212\",\"29208\",\"11210\",\"18280\",\"27728\",\"11830\",\"40850\",\"49760\"],\"TUITIONFEE_OUT\":[\"32500\",\"26468\",\"36056\",\"56382\",\"29240\",\"38098\",\"13380\",\"18192\",\"28336\",\"40850\",\"49032\",\"54104\",\"19279\",\"23399\",\"NaN\",\"23971\",\"27098\",\"12870\",\"55230\",\"29215\",\"59430\",\"12416\",\"21282\",\"17324\",\"42692\",\"29160\",\"NaN\",\"37055\",\"41396\",\"NaN\",\"43394\",\"23971\",\"20847\",\"13380\",\"13380\",\"19171\",\"30524\",\"18629\",\"19190\",\"27358\",\"48350\",\"9552\",\"17050\",\"17600\",\"22467\",\"16536\",\"28416\",\"28627\",\"36056\",\"14910\",\"21574\",\"26188\",\"17276\",\"24110\",\"37495\",\"17324\",\"56225\",\"50528\",\"18773\",\"27437\",\"33166\",\"37080\",\"26461\",\"12508\",\"23250\",\"36366\",\"51354\",\"14600\",\"20812\",\"51832\",\"NaN\",\"17196\",\"38098\",\"29688\",\"12128\",\"NaN\",\"52687\",\"24843\",\"31426\",\"36066\",\"17014\",\"29608\",\"14579\",\"17865\",\"14579\",\"28470\",\"53244\",\"55453\",\"22586\",\"32827\",\"NaN\",\"22316\",\"NaN\",\"32052\",\"51853\",\"24768\",\"30742\",\"42736\",\"18398\",\"42218\",\"27124\",\"39975\",\"36016\",\"14880\",\"20680\",\"19279\",\"39600\",\"36066\",\"17142\",\"14824\",\"35110\",\"12425\",\"14343\",\"41760\",\"17324\",\"5535\",\"23020\",\"52724\",\"20867\",\"42516\",\"20208\",\"NaN\",\"12132\",\"29050\",\"22586\",\"23392\",\"17329\",\"9552\",\"17166\",\"25545\",\"19014\",\"36890\",\"42860\",\"20867\",\"49350\",\"17865\",\"30857\",\"36805\",\"23000\",\"18467\",\"27437\",\"53740\",\"17452\",\"30970\",\"29736\",\"17762\",\"53880\",\"5820\",\"15906\",\"38566\",\"19653\",\"30742\",\"44048\",\"30900\",\"39975\",\"25162\",\"24444\",\"16920\",\"35170\",\"NaN\",\"23399\",\"21586\",\"29460\",\"15373\",\"19042\",\"26040\",\"NaN\",\"7418\",\"9327\",\"NaN\",\"55395\",\"27278\",\"22584\",\"25820\",\"23132\",\"53244\",\"19190\",\"43176\",\"21574\",\"25820\",\"22339\",\"56225\",\"29066\",\"43176\",\"NaN\",\"36804\",\"23292\",\"38880\",\"45948\",\"12249\",\"39766\",\"14343\",\"55584\",\"22584\",\"27350\",\"5820\",\"37611\",\"55466\",\"34570\",\"39800\",\"14601\",\"58230\",\"5820\",\"14852\",\"37286\",\"43210\",\"22275\",\"27278\",\"14343\",\"NaN\",\"21273\",\"14235\",\"13380\",\"29066\",\"NaN\",\"18766\",\"36588\",\"14650\",\"17074\",\"24614\",\"19190\",\"20867\",\"18256\",\"19845\",\"42692\",\"NaN\",\"38740\",\"NaN\",\"34310\",\"19538\",\"48350\",\"9552\",\"28336\",\"28302\",\"9552\",\"45280\",\"41760\",\"18766\",\"NaN\",\"15373\",\"32750\",\"14343\",\"25598\",\"19189\",\"37128\",\"27437\",\"17395\",\"40651\",\"54104\",\"18786\",\"23208\",\"23399\",\"34900\",\"51354\",\"12508\",\"32947\",\"36588\",\"15726\",\"19093\",\"18431\",\"18333\",\"21692\",\"32140\",\"38812\",\"31282\",\"31484\",\"19845\",\"20812\",\"16509\",\"37590\",\"32000\",\"NaN\",\"32078\",\"31908\",\"45700\",\"17324\",\"37914\",\"NaN\",\"19593\",\"19383\",\"8247\",\"24950\",\"27900\",\"36894\",\"37580\",\"26468\",\"38530\",\"NaN\",\"16292\",\"NaN\",\"40150\",\"29290\",\"29832\",\"28794\",\"13546\",\"33800\",\"17545\",\"36056\",\"44048\",\"21750\",\"6880\",\"30141\",\"14343\",\"37130\",\"11183\",\"14622\",\"31450\",\"17545\",\"36056\",\"17395\",\"42692\",\"NaN\",\"NaN\",\"7827\",\"NaN\",\"18467\",\"15726\",\"30900\",\"NaN\",\"45542\",\"20760\",\"39975\",\"27295\",\"34988\",\"49816\",\"13586\",\"18629\",\"38250\",\"18786\",\"18414\",\"29403\",\"28336\",\"18398\",\"22575\",\"11960\",\"30141\",\"NaN\",\"30900\",\"22584\",\"24959\",\"35834\",\"19140\",\"55464\",\"55584\",\"27042\",\"30141\",\"18560\",\"14023\",\"43210\",\"15275\",\"9552\",\"15600\",\"53740\",\"9552\",\"24539\",\"50226\",\"17756\",\"41760\",\"37580\",\"19653\",\"NaN\",\"22490\",\"21029\",\"48522\",\"12120\",\"29403\",\"19582\",\"44048\",\"NaN\",\"9552\",\"54104\",\"27437\",\"18398\",\"21770\",\"18766\",\"NaN\",\"36805\",\"44610\",\"NaN\",\"16536\",\"NaN\",\"NaN\",\"54820\",\"18256\",\"20702\",\"31282\",\"14343\",\"24444\",\"36020\",\"17762\",\"34858\",\"28870\",\"28336\",\"13320\",\"54568\",\"47960\",\"27334\",\"14852\",\"24450\",\"28336\",\"34715\",\"24120\",\"53740\",\"22584\",\"19093\",\"32827\",\"53740\",\"NaN\",\"20287\",\"NaN\",\"32220\",\"33966\",\"31664\",\"17509\",\"39916\",\"NaN\",\"25545\",\"31664\",\"12951\",\"NaN\",\"22236\",\"38098\",\"37495\",\"20866\",\"17452\",\"30742\",\"21294\",\"11370\",\"27991\",\"12951\",\"14617\",\"18954\",\"NaN\",\"48522\",\"13380\",\"51828\",\"59430\",\"15728\",\"21656\",\"26756\",\"35922\",\"NaN\",\"13393\",\"28336\",\"29230\",\"22171\",\"17689\",\"29099\",\"27975\",\"49042\",\"31540\",\"28266\",\"13988\",\"31790\",\"26280\",\"NaN\",\"NaN\",\"53244\",\"23020\",\"12425\",\"5820\",\"14960\",\"20764\",\"NaN\",\"36642\",\"22236\",\"23053\",\"55465\",\"NaN\",\"31908\",\"27991\",\"28470\",\"NaN\",\"NaN\",\"NaN\",\"23971\",\"18085\",\"NaN\",\"17812\",\"42692\",\"54568\",\"21586\",\"24500\",\"26533\",\"19480\",\"39144\",\"34310\",\"36040\",\"34000\",\"NaN\",\"14910\",\"29500\",\"NaN\",\"59430\",\"14720\",\"14738\",\"51828\",\"29215\",\"23156\",\"49042\",\"36588\",\"26468\",\"28870\",\"NaN\",\"44974\",\"35922\",\"19822\",\"12120\",\"11210\",\"18863\",\"55584\",\"6221\",\"18414\",\"36066\",\"27124\",\"35216\",\"7100\",\"16472\",\"28444\",\"23132\",\"43050\",\"55230\",\"43394\",\"16458\",\"53308\",\"27769\",\"37286\",\"17324\",\"24860\",\"21770\",\"28060\",\"42900\",\"19653\",\"19488\",\"17490\",\"21029\",\"19233\",\"36016\",\"17095\",\"12336\",\"27042\",\"7827\",\"31664\",\"26980\",\"34002\",\"16020\",\"53948\",\"22490\",\"30404\",\"14343\",\"47960\",\"NaN\",\"5620\",\"29688\",\"45700\",\"NaN\",\"48066\",\"13380\",\"18558\",\"6670\",\"13988\",\"22584\",\"19014\",\"32450\",\"48164\",\"19845\",\"56225\",\"11210\",\"NaN\",\"14824\",\"23392\",\"49816\",\"NaN\",\"23208\",\"34684\",\"56225\",\"44610\",\"30613\",\"21198\",\"18380\",\"35216\",\"30900\",\"43394\",\"54568\",\"22236\",\"17095\",\"33020\",\"13380\",\"50420\",\"23971\",\"25598\",\"26980\",\"12120\",\"28659\",\"39916\",\"51711\",\"49350\",\"25828\",\"28870\",\"29450\",\"53948\",\"16151\",\"25300\",\"18192\",\"48459\",\"14579\",\"13607\",\"28990\",\"28302\",\"31158\",\"17038\",\"53430\",\"52404\",\"30717\",\"12120\",\"35110\",\"36519\",\"30742\",\"NaN\",\"27124\",\"23464\",\"16235\",\"36588\",\"NaN\",\"17619\",\"37495\",\"19042\",\"14579\",\"25500\",\"17756\",\"53244\",\"39916\",\"NaN\",\"32458\",\"31490\",\"NaN\",\"39554\",\"43260\",\"23176\",\"29208\",\"23292\",\"18280\",\"27728\",\"30404\",\"40850\",\"49760\"],\"UGDS\":[\"4199\",\"15529\",\"840\",\"5597\",\"1125\",\"18830\",\"2243\",\"7015\",\"42529\",\"1790\",\"16405\",\"7089\",\"5305\",\"9064\",\"844\",\"26489\",\"18001\",\"2618\",\"12161\",\"23396\",\"8216\",\"3656\",\"6732\",\"31321\",\"29722\",\"9447\",\"NaN\",\"2799\",\"2952\",\"84\",\"30698\",\"26489\",\"18809\",\"849\",\"2557\",\"5913\",\"24147\",\"29636\",\"28439\",\"19135\",\"4103\",\"275\",\"53209\",\"6458\",\"58392\",\"6394\",\"19679\",\"23468\",\"840\",\"13954\",\"6121\",\"2315\",\"23265\",\"889\",\"53194\",\"31321\",\"19548\",\"4079\",\"34911\",\"18541\",\"2721\",\"425\",\"6785\",\"15325\",\"18010\",\"33509\",\"7083\",\"289\",\"31375\",\"4550\",\"NaN\",\"8404\",\"18830\",\"4487\",\"9314\",\"759\",\"9392\",\"8524\",\"22653\",\"1858\",\"675\",\"24210\",\"9799\",\"1965\",\"9799\",\"3609\",\"15557\",\"4312\",\"17321\",\"13385\",\"NaN\",\"21658\",\"NaN\",\"19127\",\"14759\",\"1353\",\"45769\",\"6344\",\"10140\",\"31568\",\"1818\",\"14280\",\"542\",\"11559\",\"2681\",\"5305\",\"5405\",\"1858\",\"22239\",\"11603\",\"1409\",\"6228\",\"1255\",\"11907\",\"31321\",\"15159\",\"8484\",\"7026\",\"21027\",\"10612\",\"17813\",\"NaN\",\"10786\",\"1688\",\"17321\",\"29248\",\"31511\",\"275\",\"1006\",\"4048\",\"21793\",\"3592\",\"3830\",\"21027\",\"30079\",\"1965\",\"1438\",\"30360\",\"2408\",\"21732\",\"18541\",\"5567\",\"11148\",\"8861\",\"1160\",\"21589\",\"6590\",\"12734\",\"4572\",\"5012\",\"14893\",\"45769\",\"11727\",\"4856\",\"14280\",\"13639\",\"10379\",\"6266\",\"18946\",\"753\",\"9064\",\"3225\",\"19194\",\"17519\",\"5870\",\"7136\",\"NaN\",\"5960\",\"10030\",\"NaN\",\"3627\",\"14488\",\"45370\",\"25675\",\"24707\",\"15557\",\"28439\",\"30845\",\"6121\",\"25675\",\"15755\",\"19548\",\"28965\",\"30845\",\"NaN\",\"2746\",\"7880\",\"5545\",\"3201\",\"2051\",\"39208\",\"373\",\"10764\",\"45370\",\"1285\",\"9331\",\"1059\",\"6752\",\"23202\",\"1530\",\"4906\",\"6600\",\"8794\",\"16205\",\"29753\",\"5237\",\"2760\",\"14488\",\"360\",\"28\",\"37291\",\"4242\",\"1699\",\"28965\",\"NaN\",\"34637\",\"30905\",\"222\",\"10448\",\"17784\",\"28439\",\"21027\",\"18498\",\"3953\",\"29722\",\"NaN\",\"5307\",\"35\",\"2728\",\"27380\",\"4103\",\"70241\",\"42529\",\"1204\",\"275\",\"8439\",\"11907\",\"34637\",\"NaN\",\"17519\",\"7820\",\"276\",\"658\",\"9142\",\"19564\",\"18541\",\"92\",\"3495\",\"7089\",\"32072\",\"19623\",\"9064\",\"2176\",\"7083\",\"15325\",\"1844\",\"30905\",\"5063\",\"13729\",\"5490\",\"8623\",\"6480\",\"1376\",\"3005\",\"35656\",\"5312\",\"3953\",\"31375\",\"5110\",\"1579\",\"2010\",\"601\",\"1463\",\"27730\",\"6616\",\"31321\",\"1684\",\"NaN\",\"14871\",\"11679\",\"3347\",\"20499\",\"2958\",\"4765\",\"40329\",\"15529\",\"4955\",\"NaN\",\"10035\",\"NaN\",\"1996\",\"927\",\"2377\",\"33495\",\"6253\",\"1002\",\"838\",\"840\",\"11727\",\"2415\",\"36036\",\"24787\",\"1255\",\"11363\",\"5372\",\"3498\",\"3170\",\"838\",\"840\",\"92\",\"3054\",\"NaN\",\"218\",\"6377\",\"NaN\",\"21732\",\"5063\",\"4856\",\"NaN\",\"14159\",\"5343\",\"14280\",\"17407\",\"2882\",\"6840\",\"1910\",\"29636\",\"448\",\"32072\",\"4782\",\"946\",\"42529\",\"10140\",\"1585\",\"22243\",\"24787\",\"NaN\",\"4856\",\"45370\",\"8173\",\"22497\",\"25799\",\"9639\",\"10764\",\"22030\",\"24787\",\"4767\",\"4631\",\"5237\",\"8906\",\"70241\",\"663\",\"5567\",\"70241\",\"20323\",\"10873\",\"9336\",\"11907\",\"40329\",\"14893\",\"84\",\"16238\",\"15563\",\"6557\",\"6910\",\"946\",\"1651\",\"11727\",\"NaN\",\"275\",\"7089\",\"18541\",\"10140\",\"11139\",\"34637\",\"601\",\"30360\",\"4674\",\"130\",\"6394\",\"NaN\",\"NaN\",\"7920\",\"18498\",\"3020\",\"35656\",\"636\",\"10379\",\"2669\",\"21589\",\"40108\",\"2931\",\"42529\",\"7097\",\"8451\",\"7371\",\"25973\",\"16205\",\"4162\",\"42529\",\"1625\",\"16157\",\"5567\",\"45370\",\"13729\",\"13385\",\"5567\",\"NaN\",\"23939\",\"NaN\",\"1268\",\"12229\",\"32974\",\"12743\",\"4405\",\"NaN\",\"4048\",\"32974\",\"6754\",\"NaN\",\"17513\",\"18830\",\"53194\",\"8569\",\"11148\",\"45769\",\"5281\",\"490\",\"17114\",\"6754\",\"12761\",\"41777\",\"NaN\",\"6557\",\"2557\",\"26339\",\"8216\",\"6576\",\"22072\",\"6166\",\"25508\",\"NaN\",\"11182\",\"42529\",\"32177\",\"17265\",\"199\",\"21746\",\"2108\",\"5131\",\"922\",\"6886\",\"8102\",\"409\",\"13959\",\"NaN\",\"46\",\"15557\",\"8484\",\"6228\",\"12734\",\"11815\",\"12230\",\"NaN\",\"4530\",\"17513\",\"10529\",\"6483\",\"5\",\"27730\",\"17114\",\"3609\",\"NaN\",\"NaN\",\"NaN\",\"26489\",\"68\",\"47\",\"4529\",\"29722\",\"8451\",\"3225\",\"955\",\"34024\",\"9391\",\"1377\",\"6620\",\"985\",\"1946\",\"1520\",\"13954\",\"1490\",\"222\",\"8216\",\"6332\",\"147\",\"26339\",\"23396\",\"5146\",\"5131\",\"30905\",\"15529\",\"2931\",\"NaN\",\"4814\",\"25508\",\"10299\",\"6910\",\"8377\",\"12728\",\"10764\",\"396\",\"4782\",\"1858\",\"1818\",\"30184\",\"3558\",\"5612\",\"23708\",\"24707\",\"5098\",\"12161\",\"30698\",\"4110\",\"6819\",\"21404\",\"29753\",\"31321\",\"1358\",\"11139\",\"5834\",\"8508\",\"14893\",\"16317\",\"9854\",\"15563\",\"24841\",\"542\",\"10485\",\"44071\",\"22030\",\"6377\",\"32974\",\"20435\",\"12609\",\"2725\",\"17238\",\"16238\",\"29474\",\"232\",\"7371\",\"1052\",\"31441\",\"4487\",\"6616\",\"NaN\",\"6661\",\"292\",\"8192\",\"88921\",\"8102\",\"45370\",\"21793\",\"4217\",\"3665\",\"3953\",\"19548\",\"8377\",\"NaN\",\"11603\",\"29248\",\"6840\",\"NaN\",\"19623\",\"1695\",\"19548\",\"4674\",\"5618\",\"8201\",\"4161\",\"30184\",\"4856\",\"30698\",\"8451\",\"14249\",\"10485\",\"15201\",\"292\",\"7582\",\"26489\",\"2189\",\"20435\",\"1042\",\"34564\",\"4405\",\"5504\",\"30079\",\"26647\",\"2931\",\"3272\",\"17238\",\"4610\",\"2220\",\"7015\",\"7485\",\"9799\",\"5909\",\"1719\",\"1204\",\"1468\",\"1112\",\"5963\",\"2496\",\"8761\",\"6910\",\"1409\",\"5363\",\"45769\",\"NaN\",\"2035\",\"7890\",\"11675\",\"30905\",\"84\",\"334\",\"53194\",\"5870\",\"9799\",\"7528\",\"9336\",\"15557\",\"4405\",\"47\",\"2888\",\"3409\",\"61\",\"3238\",\"1542\",\"3416\",\"8422\",\"7880\",\"1268\",\"3159\",\"29474\",\"1790\",\"2571\"],\"deg_level\":[\"grad\",\"grad\",\"grad\",\"grad\",\"grad\",\"grad\",\"grad\",\"grad\",\"grad\",\"grad\",\"grad\",\"grad\",\"grad\",\"grad\",\"grad\",\"grad\",\"grad\",\"grad\",\"grad\",\"grad\",\"grad\",\"grad\",\"grad\",\"grad\",\"grad\",\"grad\",\"grad\",\"grad\",\"grad\",\"grad\",\"grad\",\"grad\",\"grad\",\"grad\",\"grad\",\"grad\",\"grad\",\"grad\",\"grad\",\"grad\",\"grad\",\"grad\",\"grad\",\"grad\",\"grad\",\"grad\",\"grad\",\"grad\",\"grad\",\"grad\",\"grad\",\"grad\",\"grad\",\"grad\",\"grad\",\"grad\",\"grad\",\"grad\",\"grad\",\"grad\",\"grad\",\"grad\",\"grad\",\"grad\",\"grad\",\"grad\",\"grad\",\"grad\",\"grad\",\"grad\",\"grad\",\"grad\",\"grad\",\"grad\",\"grad\",\"grad\",\"grad\",\"grad\",\"grad\",\"grad\",\"grad\",\"grad\",\"grad\",\"grad\",\"grad\",\"grad\",\"grad\",\"grad\",\"grad\",\"grad\",\"grad\",\"grad\",\"grad\",\"grad\",\"grad\",\"grad\",\"grad\",\"grad\",\"grad\",\"grad\",\"grad\",\"grad\",\"grad\",\"grad\",\"grad\",\"grad\",\"grad\",\"grad\",\"grad\",\"grad\",\"grad\",\"grad\",\"grad\",\"grad\",\"grad\",\"grad\",\"grad\",\"grad\",\"grad\",\"grad\",\"grad\",\"grad\",\"grad\",\"grad\",\"grad\",\"grad\",\"grad\",\"grad\",\"grad\",\"grad\",\"grad\",\"grad\",\"grad\",\"grad\",\"grad\",\"grad\",\"grad\",\"grad\",\"grad\",\"grad\",\"grad\",\"grad\",\"grad\",\"grad\",\"grad\",\"grad\",\"grad\",\"grad\",\"grad\",\"grad\",\"grad\",\"grad\",\"grad\",\"grad\",\"grad\",\"grad\",\"grad\",\"grad\",\"grad\",\"grad\",\"grad\",\"grad\",\"grad\",\"grad\",\"grad\",\"grad\",\"grad\",\"grad\",\"grad\",\"grad\",\"grad\",\"grad\",\"grad\",\"grad\",\"grad\",\"grad\",\"grad\",\"grad\",\"grad\",\"grad\",\"grad\",\"grad\",\"grad\",\"grad\",\"grad\",\"grad\",\"grad\",\"grad\",\"grad\",\"grad\",\"grad\",\"grad\",\"grad\",\"grad\",\"grad\",\"grad\",\"grad\",\"grad\",\"grad\",\"grad\",\"grad\",\"grad\",\"grad\",\"grad\",\"grad\",\"grad\",\"grad\",\"grad\",\"grad\",\"grad\",\"grad\",\"grad\",\"grad\",\"grad\",\"grad\",\"grad\",\"grad\",\"grad\",\"grad\",\"grad\",\"grad\",\"grad\",\"grad\",\"grad\",\"grad\",\"grad\",\"grad\",\"grad\",\"grad\",\"grad\",\"grad\",\"grad\",\"grad\",\"grad\",\"grad\",\"grad\",\"grad\",\"grad\",\"grad\",\"grad\",\"grad\",\"grad\",\"grad\",\"grad\",\"grad\",\"grad\",\"grad\",\"grad\",\"grad\",\"grad\",\"grad\",\"grad\",\"grad\",\"grad\",\"grad\",\"grad\",\"grad\",\"grad\",\"grad\",\"grad\",\"grad\",\"grad\",\"grad\",\"grad\",\"grad\",\"grad\",\"grad\",\"grad\",\"grad\",\"grad\",\"grad\",\"grad\",\"grad\",\"grad\",\"grad\",\"grad\",\"grad\",\"grad\",\"grad\",\"grad\",\"grad\",\"grad\",\"grad\",\"grad\",\"grad\",\"grad\",\"grad\",\"grad\",\"grad\",\"grad\",\"grad\",\"grad\",\"grad\",\"grad\",\"grad\",\"grad\",\"grad\",\"grad\",\"grad\",\"grad\",\"grad\",\"grad\",\"grad\",\"grad\",\"grad\",\"grad\",\"grad\",\"grad\",\"grad\",\"grad\",\"grad\",\"grad\",\"grad\",\"grad\",\"grad\",\"grad\",\"grad\",\"grad\",\"grad\",\"grad\",\"grad\",\"grad\",\"grad\",\"grad\",\"grad\",\"grad\",\"grad\",\"grad\",\"grad\",\"grad\",\"grad\",\"grad\",\"grad\",\"grad\",\"grad\",\"grad\",\"grad\",\"grad\",\"grad\",\"grad\",\"grad\",\"grad\",\"grad\",\"grad\",\"grad\",\"grad\",\"grad\",\"grad\",\"grad\",\"grad\",\"grad\",\"grad\",\"grad\",\"grad\",\"grad\",\"grad\",\"grad\",\"grad\",\"grad\",\"grad\",\"grad\",\"grad\",\"grad\",\"grad\",\"grad\",\"grad\",\"grad\",\"grad\",\"grad\",\"grad\",\"grad\",\"grad\",\"grad\",\"grad\",\"grad\",\"grad\",\"grad\",\"grad\",\"grad\",\"grad\",\"grad\",\"grad\",\"grad\",\"grad\",\"grad\",\"grad\",\"grad\",\"grad\",\"grad\",\"grad\",\"grad\",\"grad\",\"grad\",\"grad\",\"grad\",\"grad\",\"grad\",\"grad\",\"grad\",\"grad\",\"grad\",\"grad\",\"grad\",\"grad\",\"grad\",\"grad\",\"grad\",\"grad\",\"grad\",\"grad\",\"grad\",\"grad\",\"grad\",\"grad\",\"grad\",\"grad\",\"grad\",\"grad\",\"grad\",\"grad\",\"grad\",\"grad\",\"grad\",\"grad\",\"grad\",\"grad\",\"grad\",\"grad\",\"grad\",\"grad\",\"grad\",\"grad\",\"grad\",\"grad\",\"grad\",\"grad\",\"grad\",\"grad\",\"grad\",\"grad\",\"grad\",\"grad\",\"grad\",\"grad\",\"grad\",\"grad\",\"grad\",\"grad\",\"grad\",\"grad\",\"grad\",\"grad\",\"grad\",\"grad\",\"grad\",\"grad\",\"grad\",\"grad\",\"grad\",\"grad\",\"grad\",\"grad\",\"grad\",\"grad\",\"grad\",\"grad\",\"grad\",\"grad\",\"grad\",\"grad\",\"grad\",\"grad\",\"grad\",\"grad\",\"grad\",\"grad\",\"grad\",\"grad\",\"grad\",\"grad\",\"grad\",\"grad\",\"grad\",\"grad\",\"grad\",\"grad\",\"grad\",\"grad\",\"grad\",\"grad\",\"grad\",\"grad\",\"grad\",\"grad\",\"grad\",\"grad\",\"grad\",\"grad\",\"grad\",\"grad\",\"grad\",\"grad\",\"grad\",\"grad\",\"grad\",\"grad\",\"grad\",\"grad\",\"grad\",\"grad\",\"grad\",\"grad\",\"grad\",\"grad\",\"grad\",\"grad\",\"grad\",\"grad\",\"grad\",\"grad\",\"grad\",\"grad\",\"grad\",\"grad\",\"grad\",\"grad\",\"grad\",\"grad\",\"grad\",\"grad\",\"grad\",\"grad\",\"grad\",\"grad\",\"grad\",\"grad\",\"grad\",\"grad\",\"grad\",\"grad\",\"grad\",\"grad\",\"grad\",\"grad\",\"grad\",\"grad\",\"grad\",\"grad\",\"grad\",\"grad\",\"grad\",\"grad\",\"grad\",\"grad\",\"grad\",\"grad\",\"grad\",\"grad\",\"grad\",\"grad\",\"grad\",\"grad\",\"grad\",\"grad\",\"grad\",\"grad\",\"grad\",\"grad\",\"grad\",\"grad\",\"grad\",\"grad\",\"grad\",\"grad\",\"grad\",\"grad\",\"grad\",\"grad\",\"grad\",\"grad\",\"grad\",\"grad\",\"grad\",\"grad\",\"grad\",\"grad\",\"grad\",\"grad\",\"grad\",\"grad\",\"grad\",\"grad\",\"grad\",\"grad\",\"grad\",\"grad\",\"grad\",\"grad\",\"grad\",\"grad\",\"grad\",\"grad\",\"grad\",\"grad\",\"grad\",\"grad\",\"grad\",\"grad\",\"grad\",\"grad\",\"grad\",\"grad\",\"grad\",\"grad\",\"grad\",\"grad\",\"grad\",\"grad\",\"grad\",\"grad\",\"grad\",\"grad\",\"grad\",\"grad\",\"grad\",\"grad\",\"grad\",\"grad\",\"grad\",\"grad\",\"grad\",\"grad\",\"grad\",\"grad\",\"grad\",\"grad\",\"grad\",\"grad\",\"grad\",\"grad\",\"grad\",\"grad\",\"grad\",\"grad\",\"grad\",\"grad\"],\"index\":[31062,12994,53576,19602,14181,6484,57266,30240,936,19437,46709,7339,23005,40897,25029,9955,41426,16276,7264,45187,27544,7201,44313,9022,3270,12727,53098,11436,14127,51965,3242,9986,6013,56530,52973,31953,251,59590,3050,15176,6558,60096,1246,23635,7613,428,45940,16582,53569,27797,26137,29568,7822,24465,43899,9035,5173,39647,3003,36055,32417,45381,23964,20214,23214,1165,49966,2338,43057,19090,61694,10499,6425,13352,40792,35264,28331,43278,41694,53738,50481,5766,52266,59118,52315,23709,36844,25454,27031,18868,56456,45050,18178,38748,30650,13129,34286,22587,34927,3335,23747,11296,53597,28076,10574,22977,28837,53714,9908,33384,22526,40849,60829,29795,9055,56190,8901,3715,49238,45495,8504,4580,12826,9519,27000,14409,60421,60082,32742,36168,33713,29264,26388,49209,20630,59116,29537,49142,15664,2625,36031,17607,15486,17213,15348,20352,29407,49937,22256,19568,34778,34371,12038,8713,11313,53250,47024,9620,31771,43843,40895,11478,46258,21373,28872,23974,3524,32138,35025,20549,18453,15943,46017,47470,25296,36856,3037,3104,26142,47439,26043,5253,39209,3120,61243,19662,46296,2101,39459,40625,20740,17095,38471,46001,37195,49613,36650,39564,18960,25918,24038,11200,49866,27975,5567,47082,21594,15937,14313,53357,42673,35511,55700,39138,52773,2688,47622,9172,10538,23073,3085,49234,43374,1859,3308,17700,27224,58816,29736,44445,6561,59771,985,48090,60087,29358,29822,2758,51080,21394,26302,24997,18618,2359,40027,36037,59261,39250,7343,8081,18012,40909,36328,49952,20170,36961,47544,36543,32978,30369,42792,39688,25718,28515,26538,42717,1879,43044,19690,24131,31462,1557,11239,46537,28479,9084,25478,3799,50922,26185,26915,48072,24431,10253,44120,12981,34962,34572,624,4568,39833,20052,12562,50002,16051,24784,59191,53549,12005,40468,55822,35833,60816,10371,42948,36974,38800,59192,53510,59250,2247,21948,21940,24692,17687,2630,36571,8723,56030,42125,38994,11306,30176,39981,41891,35174,59585,35955,8140,20075,54228,1043,34897,24531,5803,35823,27309,8741,46044,24625,46662,4810,18314,38499,23873,35815,15444,11385,47060,1792,59776,60687,17592,59756,35279,8618,44666,29801,44119,34770,51982,31931,41332,4168,5333,54231,43589,12024,56863,60081,7328,36033,34883,27129,2761,1554,49121,47300,59989,430,35756,20554,17008,43401,37542,26541,51020,47004,35678,20406,38209,42294,943,4361,12307,6778,33244,27980,38109,1000,25830,19988,17552,45993,33032,18872,17561,11504,31814,44392,24750,19002,11642,59227,24758,17692,36155,11645,12909,55283,25383,6433,43975,26699,15505,34398,17306,55433,21255,12883,12233,8020,3882,4157,52967,29216,27593,48872,34472,7417,45811,3776,32690,971,124,30928,59351,15856,18842,33131,47156,26760,58523,6065,16356,52913,58028,36796,8880,40832,49915,27828,24929,28681,51479,25335,46915,36624,4264,46543,21238,23712,17698,50965,11779,9936,59303,60044,224,3272,12369,11484,16245,44026,14763,14848,40944,33914,45307,44718,27815,28863,59946,27614,35213,56744,29116,45224,58893,33125,47493,12993,42272,41578,38873,45847,31720,5345,7091,2777,38474,49482,20082,53678,23744,17791,44412,16904,32014,25311,4057,7251,3222,16487,39337,30052,5598,9008,41839,27136,9851,33449,34797,2522,49417,41308,2463,53633,48842,17683,23815,24677,11615,11546,10608,35158,18415,31940,10034,60899,6769,4107,44909,13367,28472,29095,4859,57203,16620,53167,58468,46020,33739,11960,4465,1880,5265,7064,51093,33358,14402,41921,53936,18046,32193,5201,47316,26449,42366,45622,17777,8745,3181,12331,39393,48846,9790,57202,18796,9988,41819,11535,18144,8276,24772,4998,20649,1322,42268,48239,18346,32440,22872,30210,7144,52287,16718,42456,48097,35625,7209,6954,19453,26575,5314,22518,51446,34399,3798,21161,6875,21894,47529,51968,59295,43902,28895,52278,10877,44658,36781,24775,60038,3899,28918,2182,22636,18111,25624,9206,46294,40802,35451,10085,19444,8865],\"pred\":{\"__ndarray__\":\"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\",\"dtype\":\"float64\",\"order\":\"little\",\"shape\":[646]},\"truth\":[44508,47260,106249,49883,52107,60262,46603,52607,55286,37208,52107,90856,34801,49058,47846,51273,67101,42682,78612,84653,58092,63005,44170,71015,55964,46087,109986,84653,57318,44865,125015,95739,42212,56911,41087,53984,41844,54192,38337,53537,150874,56498,42682,40608,56234,39369,116083,36560,60262,39729,71015,63997,45175,39801,86867,35060,67660,47118,36848,43798,84653,41937,76460,61516,88527,49392,150874,65610,45249,165236,44933,55964,49652,37748,117014,68422,56415,54109,121650,115339,37478,63005,74063,69338,50300,69596,76460,61728,65424,69338,47846,53358,35420,50856,88195,29685,50856,53697,36852,96775,36848,56157,89144,56867,38289,53984,51829,59124,31305,45128,58221,70456,50320,75204,38289,56234,53775,72899,48225,51482,43957,54974,56931,52941,48265,66541,113759,46380,53775,47260,71957,103746,70456,78343,63749,50995,59124,47260,39009,101964,45566,125015,52107,43798,83177,44468,73164,37208,53775,83388,57204,44971,57643,48823,76460,45500,75130,51106,49520,103746,44021,75270,58673,44323,63005,46087,28598,43674,110241,41937,51106,74953,36437,123178,59124,76460,52584,81498,58479,38289,54566,73823,65557,142470,44189,90412,43575,60234,60320,76460,49840,101792,50465,40843,39369,27978,32569,61020,48432,60161,47260,74576,25194,59350,45584,105418,54578,73446,50320,61516,30409,39585,46603,69338,42682,62012,74367,26224,47846,117309,90412,39832,50856,58221,90983,91211,56641,36598,44508,32925,68363,51517,59417,66045,44595,74200,41937,66541,35925,56579,55964,50930,57318,54359,38000,26353,58714,63997,64493,74576,82440,41937,48823,81702,95739,33993,50856,52107,45980,62508,57318,48864,38721,70176,52107,49436,32925,70456,47260,43519,28816,129122,114892,91211,75518,73949,91744,56523,66941,73635,62409,57318,75204,42682,90412,50515,66915,48823,38289,55348,62260,72899,40017,54996,61516,57072,58714,53358,38289,52107,51638,78719,81997,46087,38289,41007,42682,54696,49652,66592,108092,71854,174398,78343,63898,76460,46087,38048,56498,35471,43087,42682,56931,45696,50856,71351,50856,32029,45852,56484,47260,74576,77213,52733,30771,42682,49937,104935,56028,37208,44987,80124,25194,69338,89564,42682,52542,44971,46589,41021,46380,41565,70140,57318,35060,24421,67164,46478,76460,44930,51488,37424,43426,77487,50606,42682,42682,39648,42682,51517,74576,41937,38829,67660,71015,97604,57189,60452,51488,43519,42682,51482,53775,63005,97385,112970,58673,54331,42235,62691,120549,67324,67420,73949,87754,98506,115262,33993,100455,48725,59124,76460,57390,35416,59871,67660,97071,119687,52941,105465,48935,42682,134287,50995,39009,93076,47650,65905,36848,41250,66461,80124,61020,65797,32391,104749,55594,57072,45767,52107,50231,62579,75518,51690,71255,85391,70776,44933,57318,97959,61516,46254,43240,57318,53108,42961,66592,58274,44595,82440,39049,58568,69338,18154,37568,71854,36598,78971,48432,97071,30228,61888,89859,52491,63997,79284,55151,71575,40485,72928,51482,123527,70705,44635,42682,91744,58714,51488,36992,48432,71938,64493,59124,55512,55151,50105,33281,109763,43240,127062,29685,41565,36931,170426,100404,66250,58092,56676,115542,85860,62012,75204,50856,97426,67473,44468,44021,69338,52941,78785,120549,25551,63318,49652,38721,63402,56931,48139,81702,84653,63501,42682,104749,31839,48432,41565,48823,87604,39677,62343,66045,76460,65053,37208,49683,41937,61218,53358,46999,83768,81210,44356,53839,74576,67101,37208,32569,64121,45021,39909,84653,146893,64174,62260,66592,51035,122038,41087,39369,50539,43426,47729,41565,55964,76460,68618,94408,85538,70253,43626,47455,111620,64144,43798,86867,44170,63546,77119,45030,42682,58673,54988,77715,71015,86129,113187,101406,43857,65454,51829,41844,42682,67812,68477,55338,104192,41193,40461,41338,96738,58479,88195,44942,45696,38906,40652,42682,27476,40140,53642,52107,111017,46620,46886,56415,188108,67164,42123,117076,42682,49214,25658,106421,43842,59350,35060,51773,93816,53131,40485,47260,104661,46996,83388,58673,54035,43087,46478,43575,59253,41007,48432,44189,48265,42185,62806],\"tuition\":[21434,15020,8182,31485,18693,21588,25906,15837,11644,28568,20281,30169,13492,13018,0,14519,12712,37276,33734,14364,22637,16482,14193,9838,14604,16843,0,21304,29046,0,14729,14519,16204,24538,23932,13285,23696,14094,9722,18571,39676,14777,21197,18264,12733,16962,21281,15428,8182,3000,12841,26266,9768,21098,18944,9838,30453,38990,8243,13856,19036,19972,14205,15394,16830,14553,12265,25481,13609,18278,0,14278,21588,20261,19503,0,36301,12685,19142,11948,22629,19800,7290,25983,7290,25045,33631,31449,14329,18882,0,13150,0,28758,34472,20260,17704,28904,15530,14171,20708,28410,8748,2910,15125,13492,36170,11948,15795,15124,19888,18075,0,25792,9838,9910,19545,40251,17661,18980,30767,0,13532,22083,14329,15140,17688,14777,11737,9707,17807,21203,28387,17661,16010,25983,20706,18219,17953,6452,13856,30701,14876,16388,20496,18019,36159,7676,16944,30469,16374,17704,34024,25816,28410,13745,12150,12194,13918,0,13018,17050,15680,19119,13774,10880,0,12339,11595,0,37688,16692,27883,15768,10551,33631,9722,14846,12841,15768,25529,30453,23536,14846,0,29941,17707,25451,31305,17244,18984,0,25033,27883,31337,7349,23892,31685,21396,26359,12119,26160,7178,2796,21510,33545,16819,16692,0,0,16161,12115,0,23536,0,8234,12001,20894,16234,13857,9722,17661,13666,19563,14604,0,29004,0,27299,13849,39676,15123,11644,17022,14777,29883,25792,8234,0,19119,18696,15409,24149,5687,18252,13856,24172,25743,30169,10744,18186,13018,27362,12265,15394,23529,12001,19068,18456,19403,12967,10523,25490,28754,20623,23441,19563,13609,18131,21973,19815,0,16403,20964,32435,9838,27674,0,12872,18547,10325,12539,22206,20828,16505,15020,31305,0,14871,0,31816,24514,22702,12527,12759,24555,26800,8182,34024,21467,9718,19969,0,42355,10764,16604,19174,26800,8182,24172,27220,0,0,12055,0,6452,19068,25816,0,32601,21822,28410,14893,17837,20253,13770,14094,28399,10744,17670,17162,11644,15530,13886,15658,19969,0,25816,27883,15353,21313,15033,33562,25033,18480,19969,13683,13851,33545,14723,15123,21425,30701,15123,14878,30841,9727,25792,16505,16374,0,12158,13048,39898,21276,17162,25240,34024,0,14777,30169,13856,15530,7867,8234,0,18219,34947,0,16962,0,0,35132,13666,19965,20623,17733,12150,29119,18019,30996,26203,11644,0,24840,39307,22682,2796,23152,11644,22967,15677,30701,27883,18456,18882,30701,0,16943,0,20331,13369,17302,27656,29994,0,9707,17302,15970,0,14122,21588,18944,20399,14876,17704,12180,0,14226,15970,23140,8311,0,39898,23932,42397,22637,14487,22453,39792,20321,0,16062,11644,22232,14018,32486,18523,32289,32938,26932,27026,22892,26812,12776,0,0,33631,19545,18075,7676,6217,13511,0,9244,14122,15175,32674,0,20964,14226,25045,0,0,0,14519,0,0,12680,14604,24840,17050,23596,12410,16244,23187,35861,19793,22793,0,3000,11352,0,22637,9463,0,42397,14364,13438,32938,12001,15020,26203,0,33742,20321,10046,21276,15282,11435,25033,9656,17670,11948,20708,18457,9632,16579,16404,10551,24750,33734,14729,18915,40134,17090,21510,9838,16936,7867,20189,31187,16374,14453,13379,13048,12842,8748,15673,13672,18480,12055,17302,13301,15286,10000,30729,12158,13971,0,39307,0,13181,20261,32435,0,32782,0,9839,0,22892,27883,17807,18531,25973,19563,30453,15282,0,15124,15140,20253,0,18186,21270,30453,34947,13293,12875,18403,18457,25816,14729,24840,22101,15673,14927,0,15561,14519,18350,13301,0,8057,29994,37399,16010,14326,26203,23889,30729,11802,18460,15837,34617,7290,10541,20659,17022,19870,15157,18770,28193,12888,21276,19888,10149,17704,0,20989,19291,16035,12001,0,19750,18944,13774,7290,14502,9727,33631,29994,0,20706,28977,0,19131,22302,18192,30579,17707,20989,21557,13971,28568,27537]},\"selected\":{\"id\":\"2239\"},\"selection_policy\":{\"id\":\"2238\"}},\"id\":\"2227\",\"type\":\"ColumnDataSource\"},{\"attributes\":{},\"id\":\"2205\",\"type\":\"BasicTicker\"},{\"attributes\":{},\"id\":\"2217\",\"type\":\"HelpTool\"},{\"attributes\":{},\"id\":\"2196\",\"type\":\"DataRange1d\"},{\"attributes\":{\"index\":184,\"label\":{\"value\":\"Foreign\"},\"renderers\":[{\"id\":\"2231\"}]},\"id\":\"2242\",\"type\":\"LegendItem\"},{\"attributes\":{},\"id\":\"2213\",\"type\":\"WheelZoomTool\"},{\"attributes\":{},\"id\":\"2216\",\"type\":\"ResetTool\"},{\"attributes\":{\"axis\":{\"id\":\"2204\"},\"ticker\":null},\"id\":\"2207\",\"type\":\"Grid\"},{\"attributes\":{\"index\":6,\"label\":{\"value\":\"Private, for-profit\"},\"renderers\":[{\"id\":\"2231\"}]},\"id\":\"2243\",\"type\":\"LegendItem\"},{\"attributes\":{\"axis\":{\"id\":\"2208\"},\"dimension\":1,\"ticker\":null},\"id\":\"2211\",\"type\":\"Grid\"},{\"attributes\":{\"bottom_units\":\"screen\",\"fill_alpha\":0.5,\"fill_color\":\"lightgrey\",\"left_units\":\"screen\",\"level\":\"overlay\",\"line_alpha\":1.0,\"line_color\":\"black\",\"line_dash\":[4,4],\"line_width\":2,\"right_units\":\"screen\",\"top_units\":\"screen\"},\"id\":\"2218\",\"type\":\"BoxAnnotation\"},{\"attributes\":{\"data_source\":{\"id\":\"2227\"},\"glyph\":{\"id\":\"2229\"},\"hover_glyph\":null,\"muted_glyph\":null,\"nonselection_glyph\":{\"id\":\"2230\"},\"selection_glyph\":null,\"view\":{\"id\":\"2232\"}},\"id\":\"2231\",\"type\":\"GlyphRenderer\"},{\"attributes\":{\"items\":[{\"id\":\"2242\"},{\"id\":\"2243\"},{\"id\":\"2244\"},{\"id\":\"2245\"}]},\"id\":\"2241\",\"type\":\"Legend\"},{\"attributes\":{\"index\":1,\"label\":{\"value\":\"Public\"},\"renderers\":[{\"id\":\"2231\"}]},\"id\":\"2245\",\"type\":\"LegendItem\"},{\"attributes\":{\"overlay\":{\"id\":\"2218\"}},\"id\":\"2214\",\"type\":\"BoxZoomTool\"},{\"attributes\":{},\"id\":\"2239\",\"type\":\"Selection\"},{\"attributes\":{\"axis_label\":\"True\",\"formatter\":{\"id\":\"2246\"},\"ticker\":{\"id\":\"2209\"}},\"id\":\"2208\",\"type\":\"LinearAxis\"},{\"attributes\":{},\"id\":\"2212\",\"type\":\"PanTool\"},{\"attributes\":{\"fill_color\":{\"field\":\"CONTROL\",\"transform\":{\"id\":\"2226\"}},\"line_color\":{\"value\":\"#1f77b4\"},\"size\":{\"units\":\"screen\",\"value\":5},\"x\":{\"field\":\"pred\"},\"y\":{\"field\":\"truth\"}},\"id\":\"2229\",\"type\":\"Circle\"},{\"attributes\":{},\"id\":\"2215\",\"type\":\"SaveTool\"},{\"attributes\":{},\"id\":\"2238\",\"type\":\"UnionRenderers\"},{\"attributes\":{\"axis_label\":\"Predicted\",\"formatter\":{\"id\":\"2248\"},\"ticker\":{\"id\":\"2205\"}},\"id\":\"2204\",\"type\":\"LinearAxis\"},{\"attributes\":{\"text\":\"Predicted Earnings\"},\"id\":\"2194\",\"type\":\"Title\"},{\"attributes\":{\"source\":{\"id\":\"2227\"}},\"id\":\"2232\",\"type\":\"CDSView\"},{\"attributes\":{\"active_drag\":\"auto\",\"active_inspect\":\"auto\",\"active_multi\":null,\"active_scroll\":\"auto\",\"active_tap\":\"auto\",\"tools\":[{\"id\":\"2212\"},{\"id\":\"2213\"},{\"id\":\"2214\"},{\"id\":\"2215\"},{\"id\":\"2216\"},{\"id\":\"2217\"}]},\"id\":\"2219\",\"type\":\"Toolbar\"},{\"attributes\":{\"factors\":[\"Private, nonprofit\",\"Public\",\"Private, for-profit\",\"Foreign\"],\"palette\":[\"#3288bd\",\"#99d594\",\"#e6f598\",\"#fee08b\",\"#fc8d59\",\"#d53e4f\"]},\"id\":\"2226\",\"type\":\"CategoricalColorMapper\"},{\"attributes\":{},\"id\":\"2198\",\"type\":\"DataRange1d\"},{\"attributes\":{\"format\":\"0.0\"},\"id\":\"2248\",\"type\":\"NumeralTickFormatter\"},{\"attributes\":{\"format\":\"0.0\"},\"id\":\"2246\",\"type\":\"NumeralTickFormatter\"},{\"attributes\":{\"fill_alpha\":{\"value\":0.1},\"fill_color\":{\"field\":\"CONTROL\",\"transform\":{\"id\":\"2226\"}},\"line_alpha\":{\"value\":0.1},\"line_color\":{\"value\":\"#1f77b4\"},\"size\":{\"units\":\"screen\",\"value\":5},\"x\":{\"field\":\"pred\"},\"y\":{\"field\":\"truth\"}},\"id\":\"2230\",\"type\":\"Circle\"}],\"root_ids\":[\"2193\"]},\"title\":\"Bokeh Application\",\"version\":\"2.2.3\"}};\n",
       "  var render_items = [{\"docid\":\"808a2f54-d839-4c6a-b169-7866045b1f19\",\"root_ids\":[\"2193\"],\"roots\":{\"2193\":\"998c755c-343b-4386-82f8-94bb99408c22\"}}];\n",
       "  root.Bokeh.embed.embed_items_notebook(docs_json, render_items);\n",
       "\n",
       "  }\n",
       "  if (root.Bokeh !== undefined) {\n",
       "    embed_document(root);\n",
       "  } else {\n",
       "    var attempts = 0;\n",
       "    var timer = setInterval(function(root) {\n",
       "      if (root.Bokeh !== undefined) {\n",
       "        clearInterval(timer);\n",
       "        embed_document(root);\n",
       "      } else {\n",
       "        attempts++;\n",
       "        if (attempts > 100) {\n",
       "          clearInterval(timer);\n",
       "          console.log(\"Bokeh: ERROR: Unable to run BokehJS code because BokehJS library is missing\");\n",
       "        }\n",
       "      }\n",
       "    }, 10, root)\n",
       "  }\n",
       "})(window);"
      ],
      "application/vnd.bokehjs_exec.v0+json": ""
     },
     "metadata": {
      "application/vnd.bokehjs_exec.v0+json": {
       "id": "2193"
      }
     },
     "output_type": "display_data"
    }
   ],
   "source": [
    "plot_earn(dt1, gv)"
   ]
  },
  {
   "cell_type": "code",
   "execution_count": null,
   "id": "surprising-phenomenon",
   "metadata": {},
   "outputs": [],
   "source": []
  }
 ],
 "metadata": {
  "kernelspec": {
   "display_name": "saturn (Python 3)",
   "language": "python",
   "name": "python3"
  },
  "language_info": {
   "codemirror_mode": {
    "name": "ipython",
    "version": 3
   },
   "file_extension": ".py",
   "mimetype": "text/x-python",
   "name": "python",
   "nbconvert_exporter": "python",
   "pygments_lexer": "ipython3",
   "version": "3.7.10"
  }
 },
 "nbformat": 4,
 "nbformat_minor": 5
}
