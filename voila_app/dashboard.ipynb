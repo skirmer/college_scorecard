{
 "cells": [
  {
   "cell_type": "code",
   "execution_count": 1,
   "id": "dff85714",
   "metadata": {
    "execution": {
     "iopub.execute_input": "2021-05-20T21:28:35.708869Z",
     "iopub.status.busy": "2021-05-20T21:28:35.708673Z",
     "iopub.status.idle": "2021-05-20T21:28:36.985804Z",
     "shell.execute_reply": "2021-05-20T21:28:36.985248Z",
     "shell.execute_reply.started": "2021-05-20T21:28:35.708818Z"
    }
   },
   "outputs": [],
   "source": [
    "import ipywidgets as widgets\n",
    "import pandas as pd\n",
    "import random\n",
    "import itertools\n",
    "from matplotlib import colors\n",
    "\n",
    "import os\n",
    "import pandas as pd\n",
    "import numpy as np\n",
    "from IPython.core.display import display, HTML\n",
    "\n",
    "import matplotlib.pyplot as plt\n",
    "import json\n",
    "import datetime\n",
    "import re\n",
    "\n",
    "import plotly.graph_objects as go\n",
    "from sklearn.preprocessing import OneHotEncoder\n",
    "from sklearn import linear_model\n",
    "\n",
    "import crosswalks\n",
    "import s3fs\n"
   ]
  },
  {
   "cell_type": "code",
   "execution_count": 2,
   "id": "06564eb7",
   "metadata": {
    "execution": {
     "iopub.execute_input": "2021-05-20T21:28:36.986923Z",
     "iopub.status.busy": "2021-05-20T21:28:36.986753Z",
     "iopub.status.idle": "2021-05-20T21:28:37.005293Z",
     "shell.execute_reply": "2021-05-20T21:28:37.004835Z",
     "shell.execute_reply.started": "2021-05-20T21:28:36.986901Z"
    }
   },
   "outputs": [],
   "source": [
    "from sklearn.model_selection import train_test_split\n",
    "from sklearn.experimental import enable_iterative_imputer\n",
    "from sklearn.impute import SimpleImputer, IterativeImputer\n",
    "from sklearn.preprocessing import KBinsDiscretizer\n",
    "from sklearn.pipeline import Pipeline\n",
    "from sklearn.compose import ColumnTransformer\n",
    "\n",
    "def split_data(df):\n",
    "    \n",
    "    X = df[['SAT_AVG_ALL','CREDDESC', 'CIPDESC_new',\n",
    "            'CONTROL', 'REGION', 'tuition', 'LOCALE', 'ADM_RATE_ALL']]\n",
    "    y = df[['EARN_MDN_HI_2YR']]\n",
    "    \n",
    "    return [X, y]\n",
    "\n",
    "def trainmodel(X, y):\n",
    "    enc = OneHotEncoder(handle_unknown='ignore', sparse = False)\n",
    "    imp = IterativeImputer(max_iter=10, random_state=0, initial_strategy='mean', add_indicator = True)\n",
    "    est = KBinsDiscretizer(n_bins=3, encode='ordinal', strategy='quantile')\n",
    "\n",
    "    X_train, X_test, y_train, y_test = train_test_split(X, y, test_size=0.15, random_state=42)\n",
    "\n",
    "    ct = ColumnTransformer(\n",
    "        [('onehot', enc, ['CONTROL','CREDDESC', 'CIPDESC_new','REGION', 'LOCALE']),\n",
    "        ('impute', imp, ['SAT_AVG_ALL', 'ADM_RATE_ALL'])], \n",
    "        remainder='passthrough' \n",
    "    )\n",
    "\n",
    "    pipe = Pipeline(steps=[('coltrans', ct), ('linear', linear_model.LinearRegression())])\n",
    "    pipe = pipe.fit(X_train, y_train) \n",
    "    \n",
    "    return(pipe, pipe.score(X_test,y_test))"
   ]
  },
  {
   "cell_type": "code",
   "execution_count": 4,
   "id": "d02250b4",
   "metadata": {
    "execution": {
     "iopub.execute_input": "2021-05-20T21:28:37.006439Z",
     "iopub.status.busy": "2021-05-20T21:28:37.006279Z",
     "iopub.status.idle": "2021-05-20T21:28:39.144586Z",
     "shell.execute_reply": "2021-05-20T21:28:39.144039Z",
     "shell.execute_reply.started": "2021-05-20T21:28:37.006419Z"
    }
   },
   "outputs": [],
   "source": [
    "# Load data to get feature values\n",
    "s3 = s3fs.S3FileSystem(anon=True)\n",
    "s3fpath = 's3://saturn-public-data/college-scorecard/cleaned_merged.csv'\n",
    "\n",
    "major = pd.read_csv(\n",
    "    s3fpath,\n",
    "#     storage_options={'anon': True},\n",
    "    dtype = 'object',\n",
    "    na_values = ['PrivacySuppressed']\n",
    ")\n",
    "\n",
    "creds = sorted(list(major['CREDDESC'].unique()))\n",
    "cips = sorted(list(major['CIPDESC_new'].unique()))"
   ]
  },
  {
   "cell_type": "code",
   "execution_count": 6,
   "id": "8b6cdc56",
   "metadata": {
    "execution": {
     "iopub.execute_input": "2021-05-20T21:28:39.145759Z",
     "iopub.status.busy": "2021-05-20T21:28:39.145585Z",
     "iopub.status.idle": "2021-05-20T21:28:39.148938Z",
     "shell.execute_reply": "2021-05-20T21:28:39.148497Z",
     "shell.execute_reply.started": "2021-05-20T21:28:39.145737Z"
    }
   },
   "outputs": [],
   "source": [
    "reg = crosswalks.reg\n",
    "coltype = crosswalks.coltype\n",
    "locs = crosswalks.locs\n",
    "cipcats = crosswalks.cipcats"
   ]
  },
  {
   "cell_type": "code",
   "execution_count": 7,
   "id": "cfeecd79",
   "metadata": {
    "execution": {
     "iopub.execute_input": "2021-05-20T21:28:39.163135Z",
     "iopub.status.busy": "2021-05-20T21:28:39.162960Z",
     "iopub.status.idle": "2021-05-20T21:28:41.137901Z",
     "shell.execute_reply": "2021-05-20T21:28:41.137291Z",
     "shell.execute_reply.started": "2021-05-20T21:28:39.163093Z"
    }
   },
   "outputs": [],
   "source": [
    "X, y = split_data(major)\n",
    "modobj, modscore = trainmodel(X, y)"
   ]
  },
  {
   "cell_type": "code",
   "execution_count": 8,
   "id": "02e57bc3",
   "metadata": {
    "execution": {
     "iopub.execute_input": "2021-05-20T21:28:41.138970Z",
     "iopub.status.busy": "2021-05-20T21:28:41.138793Z",
     "iopub.status.idle": "2021-05-20T21:28:41.225825Z",
     "shell.execute_reply": "2021-05-20T21:28:41.225320Z",
     "shell.execute_reply.started": "2021-05-20T21:28:41.138948Z"
    }
   },
   "outputs": [],
   "source": [
    "sat_widget = widgets.IntSlider(\n",
    "    value=800,\n",
    "    min=0,\n",
    "    max=1600,\n",
    "    step=1,\n",
    "    description='Admitted Avg SAT Score:',\n",
    "    disabled=False,\n",
    "    style = {'description_width': 'initial'},\n",
    "    layout=widgets.Layout(width='80%')\n",
    ")\n",
    "\n",
    "tuit_widget = widgets.IntSlider(\n",
    "    value=15000,\n",
    "    min=min(round(major['tuition'].astype(float), 0)),\n",
    "    max=max(round(major['tuition'].astype(float), 0)),\n",
    "    step=1,\n",
    "    description='Cost of attendance, USD:',\n",
    "    disabled=False,\n",
    "    style = {'description_width': 'initial'},\n",
    "    layout=widgets.Layout(width='80%')\n",
    ")\n",
    "\n",
    "adm_widget = widgets.FloatSlider(\n",
    "    value=.3,\n",
    "    min=min(major['ADM_RATE_ALL'].astype(float)),\n",
    "    max=max(major['ADM_RATE_ALL'].astype(float)),\n",
    "    step=.01,\n",
    "    description='Admission Rate:',\n",
    "    disabled=False,\n",
    "    style = {'description_width': 'initial'},\n",
    "    layout=widgets.Layout(width='80%')\n",
    ")\n",
    "\n",
    "coltype_widget = widgets.Dropdown(\n",
    "    options= coltype,\n",
    "    value='Public',\n",
    "    description='College Type:',\n",
    "    disabled=False,\n",
    "    style = {'description_width': 'initial'},\n",
    "    layout=widgets.Layout(width='80%')\n",
    ")\n",
    "\n",
    "credential_widget = widgets.Dropdown(\n",
    "    options=creds,\n",
    "    value=\"Associate's Degree\",\n",
    "    description='Credential:',\n",
    "    disabled=False,\n",
    "    style = {'description_width': 'initial'},\n",
    "    layout=widgets.Layout(width='80%')\n",
    "\n",
    ")\n",
    "\n",
    "cippick_widget = widgets.Dropdown(\n",
    "    options=cips,\n",
    "    value='Accounting and Related Services.',\n",
    "    description='Major:',\n",
    "    disabled=False,\n",
    "    style = {'description_width': 'initial'},\n",
    "    layout=widgets.Layout(width='80%')\n",
    "\n",
    ")\n",
    "\n",
    "region_widget = widgets.Dropdown(\n",
    "    options=reg,\n",
    "    value='8',\n",
    "    description='Region:',\n",
    "    disabled=False,\n",
    "    style = {'description_width': 'initial'},\n",
    "    layout=widgets.Layout(width='80%')\n",
    "\n",
    ")\n",
    "\n",
    "locale_widget = widgets.Dropdown(\n",
    "    options=locs,\n",
    "    value='11',\n",
    "    description='Locale:',\n",
    "    disabled=False,\n",
    "    style = {'description_width': 'initial'},\n",
    "    layout=widgets.Layout(width='80%')\n",
    "\n",
    ")"
   ]
  },
  {
   "cell_type": "code",
   "execution_count": 35,
   "id": "43932a93",
   "metadata": {},
   "outputs": [],
   "source": [
    "def plotly_hist(df=major, prediction=1, degreetype='All', majorfield = \"All Fields\"):\n",
    "\n",
    "    plot_series1 = df[df.CREDDESC == degreetype]['EARN_MDN_HI_2YR'].astype(int)\n",
    "    plot_series2 = df[(df.CIPDESC_new == majorfield) & (df.CREDDESC == degreetype)]['EARN_MDN_HI_2YR'].astype(int)\n",
    "               \n",
    "    fig = go.Figure()\n",
    "    fig.add_trace(go.Histogram(x=plot_series1, name = \"All Fields\",histnorm='percent', xbins=dict(size = 1000)))\n",
    "    fig.add_trace(go.Histogram(x=plot_series2, name = majorfield, histnorm='percent', xbins=dict(size = 1000)))\n",
    "    \n",
    "    fig.update_layout(\n",
    "        barmode='overlay',\n",
    "        title_text=f'Median Earnings, {degreetype}', # title of plot\n",
    "        xaxis_title_text='USD ($)', # xaxis label\n",
    "        yaxis_title_text='Percent of Total', # yaxis label\n",
    "        bargap=0.2, # gap between bars of adjacent location coordinates\n",
    "        bargroupgap=0.1, # gap between bars of the same location coordinates\n",
    "        template = \"plotly_white\",\n",
    "        font=dict(\n",
    "            family=\"Helvetica\",\n",
    "            size=12\n",
    "        ),\n",
    "        legend=dict(yanchor = 'top', y=1, \n",
    "                    xanchor = 'right', x = 1)\n",
    "    )\n",
    "    fig.add_vline(x=prediction, line_dash=\"dash\", annotation_text=f\"Predicted: ${round(prediction, 2):,}\")\n",
    "\n",
    "    fig.update_traces(opacity=0.55)\n",
    "    return fig\n",
    "    "
   ]
  },
  {
   "cell_type": "code",
   "execution_count": 37,
   "id": "05190a07",
   "metadata": {
    "execution": {
     "iopub.execute_input": "2021-05-20T21:29:03.484272Z",
     "iopub.status.busy": "2021-05-20T21:29:03.484002Z",
     "iopub.status.idle": "2021-05-20T21:29:03.499089Z",
     "shell.execute_reply": "2021-05-20T21:29:03.498332Z",
     "shell.execute_reply.started": "2021-05-20T21:29:03.484243Z"
    }
   },
   "outputs": [],
   "source": [
    "def results(sat, cred, cip, col, reg, tuit, loc, adm, modscore=modscore):\n",
    "    newdf = pd.DataFrame([[sat, cred, cip, col, reg, tuit, loc, adm]], \n",
    "        columns = ['SAT_AVG_ALL','CREDDESC', 'CIPDESC_new','CONTROL', 'REGION', 'tuition', 'LOCALE', 'ADM_RATE_ALL'])\n",
    "\n",
    "    [[prediction]] = modobj.predict(newdf)\n",
    "    pred_final = prediction if prediction > 0 else np.nan\n",
    "\n",
    "    pred_html = f\"\"\" <h4>Your Selections:</h4>\n",
    "        <ul style=\"line-height: 1.5\">\n",
    "            <li>Locale: {loc}</li>\n",
    "            <li>Region: {reg}</li>\n",
    "            <li>Major Field: {cip}</li>\n",
    "            <li>Credential: {cred}</li>\n",
    "            <li>College Type: {col}</li>\n",
    "            <li>Avg SAT Score: {sat}</li>\n",
    "            <li>Cost: ${round(tuit, 0):,}</li>\n",
    "            <li>Admit Rate: {adm}</li>\n",
    "        </ul>\n",
    "        <BR>\n",
    "        \"\"\"\n",
    "    \n",
    "    display(HTML(pred_html))\n",
    "        \n",
    "def results2(sat, cred, cip, col, reg, tuit, loc, adm, modscore=modscore):\n",
    "    newdf = pd.DataFrame([[sat, cred, cip, col, reg, tuit, loc, adm]], \n",
    "        columns = ['SAT_AVG_ALL','CREDDESC', 'CIPDESC_new','CONTROL', 'REGION', 'tuition', 'LOCALE', 'ADM_RATE_ALL'])\n",
    "\n",
    "    [[prediction]] = modobj.predict(newdf)\n",
    "    pred_final = prediction if prediction > 0 else np.nan\n",
    "\n",
    "    pred_html = f\"\"\"  \n",
    "      <hr>\n",
    "      <h2> Model Predicts... </h2>\n",
    "Two years after graduating, median earnings should be roughly <b> ${round(pred_final, 2):,} </b>per year.\n",
    "\n",
    "    \"\"\"\n",
    "    \n",
    "    display(HTML(pred_html))\n",
    "    p3 = plotly_hist(df=major, degreetype=cred, prediction=pred_final, majorfield=cip)\n",
    "    display(go.FigureWidget(p3))\n",
    "\n",
    "out = widgets.interactive_output(results, {\n",
    "    'loc':locale_widget,\n",
    "    'reg':region_widget,\n",
    "    'cip':cippick_widget,\n",
    "    'cred':credential_widget,\n",
    "    'col':coltype_widget,\n",
    "    'sat':sat_widget,\n",
    "    'tuit':tuit_widget,\n",
    "    'adm':adm_widget})\n",
    "\n",
    "out2 = widgets.interactive_output(results2, {\n",
    "    'loc':locale_widget,\n",
    "    'reg':region_widget,\n",
    "    'cip':cippick_widget,\n",
    "    'cred':credential_widget,\n",
    "    'col':coltype_widget,\n",
    "    'sat':sat_widget,\n",
    "    'tuit':tuit_widget,\n",
    "    'adm':adm_widget})\n"
   ]
  },
  {
   "cell_type": "code",
   "execution_count": 38,
   "id": "7409fd7b",
   "metadata": {
    "execution": {
     "iopub.status.busy": "2021-05-20T21:28:41.422209Z",
     "iopub.status.idle": "2021-05-20T21:28:41.422436Z"
    }
   },
   "outputs": [],
   "source": [
    "\n",
    "title_html = f\"\"\"\n",
    "<h2>Predict Earnings by College Choices</h2>\n",
    "In this model, several characteristics are used to predict median earnings two years after degree completion.\n",
    "\n",
    "<ul style=\"line-height: 1.5\">\n",
    "    <li>Geographic location of college</li>\n",
    "    <li>Type of college (public/private/for-profit, size)</li>\n",
    "    <li>Major field of study (CIP code)</li>\n",
    "    <li>Credential (Bachelor, Master, etc)</li>\n",
    "    <li>Admission rate</li>\n",
    "    <li>Average SAT score for admitted students (proxy for college prestige)</li>\n",
    "</ul>\n",
    "\n",
    "Using these features, a linear regression is able to very closely predict the median earnings for a graduate. Try it and see!\n",
    "<BR><BR>\n",
    "Model's R^2 value: {round(modscore, 3)}\n",
    "<BR>\n",
    "<hr>\n",
    "<h2> Enter your choices... </h2>\n",
    "        \"\"\""
   ]
  },
  {
   "cell_type": "code",
   "execution_count": 39,
   "id": "0c44f0a5",
   "metadata": {},
   "outputs": [],
   "source": [
    "from ipywidgets import Button, GridBox, Layout, ButtonStyle\n",
    "\n",
    "vb = widgets.VBox()\n",
    "vb.children = [locale_widget,\n",
    "    region_widget,\n",
    "    cippick_widget,\n",
    "    credential_widget,\n",
    "    coltype_widget,\n",
    "    sat_widget,\n",
    "    tuit_widget,\n",
    "    adm_widget]\n",
    "\n",
    "vb2 = widgets.VBox()\n",
    "vb2.children = [out]\n",
    "\n",
    "vb3 = widgets.HBox(layout=Layout(width='auto', grid_area='vb3'))\n",
    "vb3.children = [out2]"
   ]
  },
  {
   "cell_type": "code",
   "execution_count": 40,
   "id": "1e3cd593",
   "metadata": {},
   "outputs": [],
   "source": [
    "gb = widgets.GridBox()\n",
    "gb.children = [vb, vb2, vb3]\n",
    "gb.layout.width='80%'\n",
    "gb.layout.grid_template_rows='auto auto'\n",
    "gb.layout.grid_template_columns='50% 50%'\n",
    "gb.layout.grid_template_areas='''\"vb vb2\"\n",
    "                                \"vb3 vb3\"'''"
   ]
  },
  {
   "cell_type": "code",
   "execution_count": 41,
   "id": "f6e49292",
   "metadata": {
    "execution": {
     "iopub.execute_input": "2021-05-20T21:08:57.620579Z",
     "iopub.status.busy": "2021-05-20T21:08:57.620349Z",
     "iopub.status.idle": "2021-05-20T21:08:57.635786Z",
     "shell.execute_reply": "2021-05-20T21:08:57.635289Z",
     "shell.execute_reply.started": "2021-05-20T21:08:57.620555Z"
    }
   },
   "outputs": [],
   "source": [
    "appcont = [widgets.HTML(title_html, \n",
    "                        layout=widgets.Layout(margin='0 0 3em 0', max_width='1000px')),\n",
    "           gb]"
   ]
  },
  {
   "cell_type": "code",
   "execution_count": 42,
   "id": "6f04bdb7",
   "metadata": {
    "execution": {
     "iopub.execute_input": "2021-05-20T20:43:41.089448Z",
     "iopub.status.busy": "2021-05-20T20:43:41.089202Z",
     "iopub.status.idle": "2021-05-20T20:43:41.096372Z",
     "shell.execute_reply": "2021-05-20T20:43:41.095668Z",
     "shell.execute_reply.started": "2021-05-20T20:43:41.089421Z"
    }
   },
   "outputs": [],
   "source": [
    "app = widgets.VBox(appcont)"
   ]
  },
  {
   "cell_type": "code",
   "execution_count": 43,
   "id": "92bc6312",
   "metadata": {
    "execution": {
     "iopub.execute_input": "2021-05-20T20:43:41.603560Z",
     "iopub.status.busy": "2021-05-20T20:43:41.603336Z",
     "iopub.status.idle": "2021-05-20T20:43:41.614528Z",
     "shell.execute_reply": "2021-05-20T20:43:41.613831Z",
     "shell.execute_reply.started": "2021-05-20T20:43:41.603526Z"
    }
   },
   "outputs": [
    {
     "data": {
      "application/vnd.jupyter.widget-view+json": {
       "model_id": "8468abf6305e4f79954118e2771e3207",
       "version_major": 2,
       "version_minor": 0
      },
      "text/plain": [
       "VBox(children=(HTML(value='\\n<h2>Predict Earnings by College Choices</h2>\\nIn this model, several characterist…"
      ]
     },
     "metadata": {},
     "output_type": "display_data"
    }
   ],
   "source": [
    "display(app)"
   ]
  },
  {
   "cell_type": "code",
   "execution_count": null,
   "id": "66f4d023",
   "metadata": {},
   "outputs": [],
   "source": []
  }
 ],
 "metadata": {
  "kernelspec": {
   "display_name": "Python 3",
   "language": "python",
   "name": "python3"
  },
  "language_info": {
   "codemirror_mode": {
    "name": "ipython",
    "version": 3
   },
   "file_extension": ".py",
   "mimetype": "text/x-python",
   "name": "python",
   "nbconvert_exporter": "python",
   "pygments_lexer": "ipython3",
   "version": "3.8.9"
  }
 },
 "nbformat": 4,
 "nbformat_minor": 5
}
